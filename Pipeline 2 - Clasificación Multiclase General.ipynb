{
  "nbformat": 4,
  "nbformat_minor": 0,
  "metadata": {
    "colab": {
      "name": "Proyecto3-NLP- Solorzano.ipynb",
      "provenance": [],
      "collapsed_sections": [
        "seD9DMM3wBC_",
        "9guPK7FxjQSw",
        "WcZR4JiRLK4l",
        "ZTM1CkrakCec",
        "gcZC5gOeF_Zp",
        "eIL8VZxY5q1E",
        "BlrDTvJHGDJJ",
        "GzswxapOGGfL",
        "g4IvdsYx7yL6",
        "N-JQncuG8W7S",
        "SrWXUe5mZ8Ki",
        "nDlyZPAcksxX",
        "w-TDYTLKX1Jc",
        "rYRbttY5kCYX",
        "Uj75KzUpaoYd",
        "PemvZk1U2ovy",
        "vx-3Jdl121En",
        "V3k3ejWN2ixE",
        "TLmEk0wi2srZ",
        "w9yKV9wM2vbr",
        "k649M8knkCLV",
        "LEKgYQTRyBGQ",
        "aVVMB_tSY04o",
        "axkZncfOZlmq",
        "JFCAPvbAZpCK",
        "97l1VGHQZsTz",
        "ymmkNw8tbBSn",
        "ILZALtZ2by6s",
        "RdnMPkKJcGYr"
      ],
      "toc_visible": true
    },
    "kernelspec": {
      "display_name": "Python 3",
      "language": "python",
      "name": "python3"
    },
    "language_info": {
      "codemirror_mode": {
        "name": "ipython",
        "version": 3
      },
      "file_extension": ".py",
      "mimetype": "text/x-python",
      "name": "python",
      "nbconvert_exporter": "python",
      "pygments_lexer": "ipython3",
      "version": "3.8.5"
    }
  },
  "cells": [
    {
      "cell_type": "markdown",
      "metadata": {
        "id": "qwWQbsrZ1_W0"
      },
      "source": [
        "# **Amazon stars reviews prediction - NLP**"
      ]
    },
    {
      "cell_type": "markdown",
      "metadata": {
        "id": "G9TftoAw2PsA"
      },
      "source": [
        "![image.png](data:image/png;base64,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)"
      ]
    },
    {
      "cell_type": "markdown",
      "metadata": {
        "id": "seD9DMM3wBC_"
      },
      "source": [
        "# Data Intake"
      ]
    },
    {
      "cell_type": "code",
      "metadata": {
        "id": "NXGtRLctCgNz"
      },
      "source": [
        "!python -m spacy download es_core_news_sm\n",
        "#Reiniciar kernel una vez instalada esta librería"
      ],
      "execution_count": null,
      "outputs": []
    },
    {
      "cell_type": "code",
      "metadata": {
        "colab": {
          "base_uri": "https://localhost:8080/"
        },
        "id": "sJUWiKD5idEN",
        "outputId": "9215f0ed-e759-4f26-bd55-a725ad05364c"
      },
      "source": [
        "import itertools\n",
        "import nltk\n",
        "import numpy as np\n",
        "import pandas as pd\n",
        "import warnings\n",
        "warnings.filterwarnings('ignore')\n",
        "\n",
        "nltk.download('punkt')\n",
        "\n",
        "import matplotlib.pyplot as plt\n",
        "import seaborn as sns\n",
        "sns.set()\n"
      ],
      "execution_count": 1,
      "outputs": [
        {
          "output_type": "stream",
          "text": [
            "[nltk_data] Downloading package punkt to /root/nltk_data...\n",
            "[nltk_data]   Unzipping tokenizers/punkt.zip.\n"
          ],
          "name": "stdout"
        }
      ]
    },
    {
      "cell_type": "code",
      "metadata": {
        "colab": {
          "base_uri": "https://localhost:8080/"
        },
        "id": "1vEwNlC2ikia",
        "outputId": "5926afe7-f4fc-4dbb-8db4-c9281389267f"
      },
      "source": [
        "from google.colab import drive\n",
        "drive.mount('/content/drive')"
      ],
      "execution_count": 2,
      "outputs": [
        {
          "output_type": "stream",
          "text": [
            "Mounted at /content/drive\n"
          ],
          "name": "stdout"
        }
      ]
    },
    {
      "cell_type": "code",
      "metadata": {
        "id": "rHjOjaWui3kF"
      },
      "source": [
        "data = pd.read_json('/content/drive/MyDrive/NLP PROJECT/dataset_es_train.json',lines= True)"
      ],
      "execution_count": 33,
      "outputs": []
    },
    {
      "cell_type": "code",
      "metadata": {
        "id": "_wm-gPz8idEN"
      },
      "source": [
        "#data= pd.read_json('C://Users//nacho//repositorios//Acamica//data//dataset_es_train.json',lines= True)"
      ],
      "execution_count": null,
      "outputs": []
    },
    {
      "cell_type": "code",
      "metadata": {
        "id": "2pTmV0WdidEO"
      },
      "source": [
        "print(data.shape)\n",
        "data.head()"
      ],
      "execution_count": null,
      "outputs": []
    },
    {
      "cell_type": "markdown",
      "metadata": {
        "id": "splyZa3GwnWX"
      },
      "source": [
        "### **Objetivo:**\n",
        "\n",
        "Implementar un modelo que, dada la crítica de un producto, asigne la cantidad de estrellas correspondiente."
      ]
    },
    {
      "cell_type": "markdown",
      "metadata": {
        "id": "9guPK7FxjQSw"
      },
      "source": [
        "# **1- EDA**"
      ]
    },
    {
      "cell_type": "markdown",
      "metadata": {
        "id": "j42rnsnDoP1H"
      },
      "source": [
        "### **Data Understanding**"
      ]
    },
    {
      "cell_type": "code",
      "metadata": {
        "colab": {
          "base_uri": "https://localhost:8080/"
        },
        "id": "6EP0DCqila7v",
        "outputId": "10312aa6-cb49-4ce5-d13c-969267df080f"
      },
      "source": [
        "print('Columns ' , data.columns)\n",
        "print('Sahpe ', data.shape)\n",
        "print('Data Types:  ',data.dtypes)"
      ],
      "execution_count": null,
      "outputs": [
        {
          "output_type": "stream",
          "text": [
            "Columns  Index(['review_id', 'product_id', 'reviewer_id', 'stars', 'review_body',\n",
            "       'review_title', 'language', 'product_category'],\n",
            "      dtype='object')\n",
            "Sahpe  (200000, 8)\n",
            "Data Types:   review_id           object\n",
            "product_id          object\n",
            "reviewer_id         object\n",
            "stars                int64\n",
            "review_body         object\n",
            "review_title        object\n",
            "language            object\n",
            "product_category    object\n",
            "dtype: object\n"
          ],
          "name": "stdout"
        }
      ]
    },
    {
      "cell_type": "code",
      "metadata": {
        "colab": {
          "base_uri": "https://localhost:8080/"
        },
        "id": "NBK8CnC6pNbL",
        "outputId": "9fffc0cf-d3bb-45ba-e906-4c1c072ca1b9"
      },
      "source": [
        "data.describe(include='all')"
      ],
      "execution_count": null,
      "outputs": [
        {
          "output_type": "execute_result",
          "data": {
            "text/html": [
              "<div>\n",
              "<style scoped>\n",
              "    .dataframe tbody tr th:only-of-type {\n",
              "        vertical-align: middle;\n",
              "    }\n",
              "\n",
              "    .dataframe tbody tr th {\n",
              "        vertical-align: top;\n",
              "    }\n",
              "\n",
              "    .dataframe thead th {\n",
              "        text-align: right;\n",
              "    }\n",
              "</style>\n",
              "<table border=\"1\" class=\"dataframe\">\n",
              "  <thead>\n",
              "    <tr style=\"text-align: right;\">\n",
              "      <th></th>\n",
              "      <th>review_id</th>\n",
              "      <th>product_id</th>\n",
              "      <th>reviewer_id</th>\n",
              "      <th>stars</th>\n",
              "      <th>review_body</th>\n",
              "      <th>review_title</th>\n",
              "      <th>language</th>\n",
              "      <th>product_category</th>\n",
              "    </tr>\n",
              "  </thead>\n",
              "  <tbody>\n",
              "    <tr>\n",
              "      <th>count</th>\n",
              "      <td>200000</td>\n",
              "      <td>200000</td>\n",
              "      <td>200000</td>\n",
              "      <td>200000.000000</td>\n",
              "      <td>200000</td>\n",
              "      <td>200000</td>\n",
              "      <td>200000</td>\n",
              "      <td>200000</td>\n",
              "    </tr>\n",
              "    <tr>\n",
              "      <th>unique</th>\n",
              "      <td>200000</td>\n",
              "      <td>150938</td>\n",
              "      <td>179076</td>\n",
              "      <td>NaN</td>\n",
              "      <td>198264</td>\n",
              "      <td>112114</td>\n",
              "      <td>1</td>\n",
              "      <td>30</td>\n",
              "    </tr>\n",
              "    <tr>\n",
              "      <th>top</th>\n",
              "      <td>es_0558711</td>\n",
              "      <td>product_es_0261843</td>\n",
              "      <td>reviewer_es_0437514</td>\n",
              "      <td>NaN</td>\n",
              "      <td>Buena relación calidad precio</td>\n",
              "      <td>Bien</td>\n",
              "      <td>es</td>\n",
              "      <td>home</td>\n",
              "    </tr>\n",
              "    <tr>\n",
              "      <th>freq</th>\n",
              "      <td>1</td>\n",
              "      <td>8</td>\n",
              "      <td>7</td>\n",
              "      <td>NaN</td>\n",
              "      <td>106</td>\n",
              "      <td>1952</td>\n",
              "      <td>200000</td>\n",
              "      <td>26962</td>\n",
              "    </tr>\n",
              "    <tr>\n",
              "      <th>mean</th>\n",
              "      <td>NaN</td>\n",
              "      <td>NaN</td>\n",
              "      <td>NaN</td>\n",
              "      <td>3.000000</td>\n",
              "      <td>NaN</td>\n",
              "      <td>NaN</td>\n",
              "      <td>NaN</td>\n",
              "      <td>NaN</td>\n",
              "    </tr>\n",
              "    <tr>\n",
              "      <th>std</th>\n",
              "      <td>NaN</td>\n",
              "      <td>NaN</td>\n",
              "      <td>NaN</td>\n",
              "      <td>1.414217</td>\n",
              "      <td>NaN</td>\n",
              "      <td>NaN</td>\n",
              "      <td>NaN</td>\n",
              "      <td>NaN</td>\n",
              "    </tr>\n",
              "    <tr>\n",
              "      <th>min</th>\n",
              "      <td>NaN</td>\n",
              "      <td>NaN</td>\n",
              "      <td>NaN</td>\n",
              "      <td>1.000000</td>\n",
              "      <td>NaN</td>\n",
              "      <td>NaN</td>\n",
              "      <td>NaN</td>\n",
              "      <td>NaN</td>\n",
              "    </tr>\n",
              "    <tr>\n",
              "      <th>25%</th>\n",
              "      <td>NaN</td>\n",
              "      <td>NaN</td>\n",
              "      <td>NaN</td>\n",
              "      <td>2.000000</td>\n",
              "      <td>NaN</td>\n",
              "      <td>NaN</td>\n",
              "      <td>NaN</td>\n",
              "      <td>NaN</td>\n",
              "    </tr>\n",
              "    <tr>\n",
              "      <th>50%</th>\n",
              "      <td>NaN</td>\n",
              "      <td>NaN</td>\n",
              "      <td>NaN</td>\n",
              "      <td>3.000000</td>\n",
              "      <td>NaN</td>\n",
              "      <td>NaN</td>\n",
              "      <td>NaN</td>\n",
              "      <td>NaN</td>\n",
              "    </tr>\n",
              "    <tr>\n",
              "      <th>75%</th>\n",
              "      <td>NaN</td>\n",
              "      <td>NaN</td>\n",
              "      <td>NaN</td>\n",
              "      <td>4.000000</td>\n",
              "      <td>NaN</td>\n",
              "      <td>NaN</td>\n",
              "      <td>NaN</td>\n",
              "      <td>NaN</td>\n",
              "    </tr>\n",
              "    <tr>\n",
              "      <th>max</th>\n",
              "      <td>NaN</td>\n",
              "      <td>NaN</td>\n",
              "      <td>NaN</td>\n",
              "      <td>5.000000</td>\n",
              "      <td>NaN</td>\n",
              "      <td>NaN</td>\n",
              "      <td>NaN</td>\n",
              "      <td>NaN</td>\n",
              "    </tr>\n",
              "  </tbody>\n",
              "</table>\n",
              "</div>"
            ],
            "text/plain": [
              "         review_id          product_id  ... language  product_category\n",
              "count       200000              200000  ...   200000            200000\n",
              "unique      200000              150938  ...        1                30\n",
              "top     es_0558711  product_es_0261843  ...       es              home\n",
              "freq             1                   8  ...   200000             26962\n",
              "mean           NaN                 NaN  ...      NaN               NaN\n",
              "std            NaN                 NaN  ...      NaN               NaN\n",
              "min            NaN                 NaN  ...      NaN               NaN\n",
              "25%            NaN                 NaN  ...      NaN               NaN\n",
              "50%            NaN                 NaN  ...      NaN               NaN\n",
              "75%            NaN                 NaN  ...      NaN               NaN\n",
              "max            NaN                 NaN  ...      NaN               NaN\n",
              "\n",
              "[11 rows x 8 columns]"
            ]
          },
          "metadata": {
            "tags": []
          },
          "execution_count": 7
        }
      ]
    },
    {
      "cell_type": "markdown",
      "metadata": {
        "id": "nLh7r-CbowV9"
      },
      "source": [
        "**Review_id :** son 200.000 instancias diferentes, por lo que podríamos eliminarla. Habría que investigar si la notación utilizada tiene alguna temporalidad."
      ]
    },
    {
      "cell_type": "code",
      "metadata": {
        "colab": {
          "base_uri": "https://localhost:8080/"
        },
        "id": "DNWGawTSogbx",
        "outputId": "e373156e-414d-4508-bc0d-7da4ca6b0888"
      },
      "source": [
        "#Review_id\n",
        "data.review_id.nunique()"
      ],
      "execution_count": null,
      "outputs": [
        {
          "output_type": "execute_result",
          "data": {
            "text/plain": [
              "200000"
            ]
          },
          "metadata": {
            "tags": []
          },
          "execution_count": 8
        }
      ]
    },
    {
      "cell_type": "markdown",
      "metadata": {
        "id": "BW7h2xyvpsQB"
      },
      "source": [
        "**Product_id:** Tenemos 150.938 instancias diferentes."
      ]
    },
    {
      "cell_type": "code",
      "metadata": {
        "colab": {
          "base_uri": "https://localhost:8080/"
        },
        "id": "_G1VUTfMogZO",
        "outputId": "bdddfbb8-136c-4d86-ee6e-23b1fe676a28"
      },
      "source": [
        "#Product_id\n",
        "data.product_id.nunique()"
      ],
      "execution_count": null,
      "outputs": [
        {
          "output_type": "execute_result",
          "data": {
            "text/plain": [
              "150938"
            ]
          },
          "metadata": {
            "tags": []
          },
          "execution_count": 9
        }
      ]
    },
    {
      "cell_type": "code",
      "metadata": {
        "id": "WViFZ8J5ogWl"
      },
      "source": [
        "frecuencia = data.product_id.value_counts().to_frame('f')\n",
        "frecuencia['f']= frecuencia['f'].astype(int)\n",
        "frecuencia=frecuencia.value_counts().to_frame('q')\n",
        "frecuencia['q']= np.log10(frecuencia['q'])\n",
        "frecuencia = frecuencia.reset_index()\n",
        "frecuencia"
      ],
      "execution_count": null,
      "outputs": []
    },
    {
      "cell_type": "code",
      "metadata": {
        "colab": {
          "base_uri": "https://localhost:8080/"
        },
        "id": "C3JaUcsUwQ7y",
        "outputId": "db1694d4-0994-4e7c-b35a-4d8ecd1e3cad"
      },
      "source": [
        "sns.catplot( x=frecuencia.f, y=frecuencia.q, data=frecuencia, palette='rocket',kind='bar')\n",
        "plt.title('Productos con más de una reseña',fontsize=15)\n",
        "plt.xlabel('Cantidad de reseñas')\n",
        "plt.ylabel('Log(X)')"
      ],
      "execution_count": null,
      "outputs": [
        {
          "output_type": "execute_result",
          "data": {
            "text/plain": [
              "Text(17.175000000000004, 0.5, 'Log(X)')"
            ]
          },
          "metadata": {
            "tags": []
          },
          "execution_count": 11
        },
        {
          "output_type": "display_data",
          "data": {
            "image/png": "[encoded data removed]",
            "text/plain": [
              "<Figure size 360x360 with 1 Axes>"
            ]
          },
          "metadata": {
            "tags": [],
            "needs_background": "light"
          }
        }
      ]
    },
    {
      "cell_type": "markdown",
      "metadata": {
        "id": "wZe6CpWfuRIM"
      },
      "source": [
        "**Reviewer_id :** al igual que en product_id tenemos muchas instancias de un solo comentario ( 179.076) pero también tenemos gente que ha opinado hasta 7 veces"
      ]
    },
    {
      "cell_type": "code",
      "metadata": {
        "id": "17bgcK_wogPZ"
      },
      "source": [
        "data.reviewer_id.nunique()"
      ],
      "execution_count": null,
      "outputs": []
    },
    {
      "cell_type": "markdown",
      "metadata": {
        "id": "Qi7VlkVjzK6C"
      },
      "source": [
        "**Stars:** El target de nuestro modelo. Está perfectamente balanceado-"
      ]
    },
    {
      "cell_type": "code",
      "metadata": {
        "colab": {
          "base_uri": "https://localhost:8080/"
        },
        "id": "LTTpRy92BpBw",
        "outputId": "98bd6596-94bc-46d1-ab87-79356261f2c9"
      },
      "source": [
        "g=sns.catplot(data.stars.value_counts().index,\n",
        "              data.groupby('stars').review_id.agg('count'),\n",
        "              data=data,kind='bar',palette = 'rocket',\n",
        "              height=5, aspect=18/8.27)\n",
        "\n",
        "ax = g.facet_axis(0,0)\n",
        "for p in ax.patches:\n",
        "    ax.text(p.get_x() + 0.3, \n",
        "            p.get_height() * 1, \n",
        "            \"{:.0f}\".format(p.get_height()), \n",
        "            color='black', rotation='horizontal', size='large')\n",
        "plt.title('Cantidad de Reviews según puntuación',fontsize=15)\n",
        "plt.ylabel('Cantidad de reviews')\n",
        "plt.xlabel('Estrellas')"
      ],
      "execution_count": null,
      "outputs": [
        {
          "output_type": "stream",
          "text": [
            "/usr/local/lib/python3.7/dist-packages/seaborn/_decorators.py:43: FutureWarning: Pass the following variables as keyword args: x, y. From version 0.12, the only valid positional argument will be `data`, and passing other arguments without an explicit keyword will result in an error or misinterpretation.\n",
            "  FutureWarning\n"
          ],
          "name": "stderr"
        },
        {
          "output_type": "execute_result",
          "data": {
            "text/plain": [
              "Text(0.5, 6.799999999999979, 'Estrellas')"
            ]
          },
          "metadata": {
            "tags": []
          },
          "execution_count": 13
        },
        {
          "output_type": "display_data",
          "data": {
            "image/png": "[encoded data removed]",
            "text/plain": [
              "<Figure size 783.555x360 with 1 Axes>"
            ]
          },
          "metadata": {
            "tags": [],
            "needs_background": "light"
          }
        }
      ]
    },
    {
      "cell_type": "code",
      "metadata": {
        "colab": {
          "base_uri": "https://localhost:8080/"
        },
        "id": "JdwLVe3YbOI5",
        "outputId": "26e48aaa-debf-4766-f6d6-8d6f37958ac8"
      },
      "source": [
        "data.stars.isna().sum()"
      ],
      "execution_count": null,
      "outputs": [
        {
          "output_type": "execute_result",
          "data": {
            "text/plain": [
              "0"
            ]
          },
          "metadata": {
            "tags": []
          },
          "execution_count": 14
        }
      ]
    },
    {
      "cell_type": "markdown",
      "metadata": {
        "id": "gjU1VyDjbSyU"
      },
      "source": [
        "No hay faltantes en nuestro target"
      ]
    },
    {
      "cell_type": "markdown",
      "metadata": {
        "id": "8tvm1hSBzd33"
      },
      "source": [
        "**Product_category**"
      ]
    },
    {
      "cell_type": "code",
      "metadata": {
        "colab": {
          "base_uri": "https://localhost:8080/"
        },
        "id": "P8vzbCBnHf13",
        "outputId": "f04f1967-b997-47ed-a766-57e6173288fa"
      },
      "source": [
        "plt.figure(figsize = (15,8))\n",
        "plt.subplot(1,2,1)\n",
        "sns.barplot(x =data.product_category.value_counts().iloc[:8].index,\n",
        "                   y=  data.product_category.value_counts().iloc[:8],\n",
        "                   data = data,palette = 'rocket', edgecolor ='black')\n",
        "plt.xticks(rotation=45)\n",
        "\n",
        "plt.subplot(1,2,2)\n",
        "sns.barplot(x =data.product_category.value_counts().iloc[-8:].index,\n",
        "                   y=  data.product_category.value_counts().iloc[-8:],\n",
        "                   data = data,palette = 'rocket', edgecolor ='black')\n",
        "plt.xticks(rotation=45)\n",
        "\n",
        "plt.tight_layout()\n",
        "plt.show()"
      ],
      "execution_count": null,
      "outputs": [
        {
          "output_type": "display_data",
          "data": {
            "image/png": "[encoded data removed]",
            "text/plain": [
              "<Figure size 1080x576 with 2 Axes>"
            ]
          },
          "metadata": {
            "tags": [],
            "needs_background": "light"
          }
        }
      ]
    },
    {
      "cell_type": "code",
      "metadata": {
        "colab": {
          "base_uri": "https://localhost:8080/"
        },
        "id": "Y24JIcw82x7J",
        "outputId": "aa5a2d46-44ab-436e-dcdf-598c6af2c11d"
      },
      "source": [
        "#plt.figure(figsize=(14,8))\n",
        "data_stars_pct = (data.groupby(['product_category','stars'])['stars'].count()/data.groupby(['product_category'])['stars'].count())\n",
        "data_stars_pct.unstack().plot.bar(stacked=True, figsize=(18, 8), title = 'Puntajes según categoría', edgecolor='black',linewidth=3);\n",
        "\n"
      ],
      "execution_count": null,
      "outputs": [
        {
          "output_type": "display_data",
          "data": {
            "image/png": "[encoded data removed]",
            "text/plain": [
              "<Figure size 1296x576 with 1 Axes>"
            ]
          },
          "metadata": {
            "tags": [],
            "needs_background": "light"
          }
        }
      ]
    },
    {
      "cell_type": "markdown",
      "metadata": {
        "id": "onWZ2Xvg0wLK"
      },
      "source": [
        "Target muy balanceado a lo largo de las clases"
      ]
    },
    {
      "cell_type": "markdown",
      "metadata": {
        "id": "rWVXvx8PqZ3F"
      },
      "source": [
        "### **Exploración del dataset**"
      ]
    },
    {
      "cell_type": "code",
      "metadata": {
        "colab": {
          "base_uri": "https://localhost:8080/"
        },
        "id": "oe9gmpQnlNu5",
        "outputId": "6dbd7812-3193-4b2b-9777-9caa01410a6e"
      },
      "source": [
        "#Observar comentarios aleatoriamente \n",
        "index_random = np.random.randint(0,high = data.shape[0])\n",
        "comentario = data.iloc[index_random].review_body\n",
        "estrella =  data.iloc[index_random].stars\n",
        "titulo = data.iloc[index_random].review_title\n",
        "categoria = data.iloc[index_random].product_category\n",
        "print(index_random)\n",
        "print(estrella)\n",
        "print(categoria)\n",
        "print(titulo)\n",
        "print(comentario)"
      ],
      "execution_count": null,
      "outputs": [
        {
          "output_type": "stream",
          "text": [
            "54218\n",
            "2\n",
            "beauty\n",
            "No es lo que esperaba\n",
            "El producto no funciona demasiado bien en difusores de aire frio. Apenas desprende olor. No es lo que esperaba .\n"
          ],
          "name": "stdout"
        }
      ]
    },
    {
      "cell_type": "markdown",
      "metadata": {
        "id": "QPHjEXB8Gi5j"
      },
      "source": [
        "## Basic Feature Extraction"
      ]
    },
    {
      "cell_type": "markdown",
      "metadata": {
        "id": "lYOkl7p0MkPM"
      },
      "source": [
        "Primero, analicemos cuantas palabras hay en cada comentario, y veamos cual es el promedio de palabras por estrella. Puede que sea un buen feature para el modelo."
      ]
    },
    {
      "cell_type": "code",
      "metadata": {
        "id": "HsnGsCxaHAEL"
      },
      "source": [
        "df1= pd.concat([data.review_body,data.stars],axis=1)"
      ],
      "execution_count": null,
      "outputs": []
    },
    {
      "cell_type": "code",
      "metadata": {
        "colab": {
          "base_uri": "https://localhost:8080/",
          "height": 204
        },
        "id": "wppZAJlfGtO6",
        "outputId": "bf336e74-8547-490f-8aac-ae8f43123377"
      },
      "source": [
        "df1['word_count'] = df1['review_body'].apply(lambda x: len(str(x).split(\" \")))\n",
        "df1.head()"
      ],
      "execution_count": null,
      "outputs": [
        {
          "output_type": "execute_result",
          "data": {
            "text/html": [
              "<div>\n",
              "<style scoped>\n",
              "    .dataframe tbody tr th:only-of-type {\n",
              "        vertical-align: middle;\n",
              "    }\n",
              "\n",
              "    .dataframe tbody tr th {\n",
              "        vertical-align: top;\n",
              "    }\n",
              "\n",
              "    .dataframe thead th {\n",
              "        text-align: right;\n",
              "    }\n",
              "</style>\n",
              "<table border=\"1\" class=\"dataframe\">\n",
              "  <thead>\n",
              "    <tr style=\"text-align: right;\">\n",
              "      <th></th>\n",
              "      <th>review_body</th>\n",
              "      <th>stars</th>\n",
              "      <th>word_count</th>\n",
              "    </tr>\n",
              "  </thead>\n",
              "  <tbody>\n",
              "    <tr>\n",
              "      <th>0</th>\n",
              "      <td>Nada bueno se me fue ka pantalla en menos de 8...</td>\n",
              "      <td>1</td>\n",
              "      <td>19</td>\n",
              "    </tr>\n",
              "    <tr>\n",
              "      <th>1</th>\n",
              "      <td>Horrible, nos tuvimos que comprar otro porque ...</td>\n",
              "      <td>1</td>\n",
              "      <td>23</td>\n",
              "    </tr>\n",
              "    <tr>\n",
              "      <th>2</th>\n",
              "      <td>Te obligan a comprar dos unidades y te llega s...</td>\n",
              "      <td>1</td>\n",
              "      <td>22</td>\n",
              "    </tr>\n",
              "    <tr>\n",
              "      <th>3</th>\n",
              "      <td>No entro en descalificar al vendedor, solo pue...</td>\n",
              "      <td>1</td>\n",
              "      <td>60</td>\n",
              "    </tr>\n",
              "    <tr>\n",
              "      <th>4</th>\n",
              "      <td>Llega tarde y co la talla equivocada</td>\n",
              "      <td>1</td>\n",
              "      <td>7</td>\n",
              "    </tr>\n",
              "  </tbody>\n",
              "</table>\n",
              "</div>"
            ],
            "text/plain": [
              "                                         review_body  stars  word_count\n",
              "0  Nada bueno se me fue ka pantalla en menos de 8...      1          19\n",
              "1  Horrible, nos tuvimos que comprar otro porque ...      1          23\n",
              "2  Te obligan a comprar dos unidades y te llega s...      1          22\n",
              "3  No entro en descalificar al vendedor, solo pue...      1          60\n",
              "4               Llega tarde y co la talla equivocada      1           7"
            ]
          },
          "metadata": {
            "tags": []
          },
          "execution_count": 24
        }
      ]
    },
    {
      "cell_type": "code",
      "metadata": {
        "colab": {
          "base_uri": "https://localhost:8080/"
        },
        "id": "y4ZyPfZCGsnT",
        "outputId": "147cbfe3-fa1a-40a0-f018-3db030d4acfc"
      },
      "source": [
        "print('Promdio de Palabras para comentarios con 1 estrella = ',df1.loc[df1.stars == 1].word_count.mean())\n",
        "print('Promdio de Palabras para comentarios con 2 estrella = ',df1.loc[df1.stars == 2].word_count.mean())\n",
        "print('Promdio de Palabras para comentarios con 3 estrella = ',df1.loc[df1.stars == 3].word_count.mean())\n",
        "print('Promdio de Palabras para comentarios con 4 estrella = ',df1.loc[df1.stars == 4].word_count.mean())\n",
        "print('Promdio de Palabras para comentarios con 5 estrella = ',df1.loc[df1.stars == 5].word_count.mean())"
      ],
      "execution_count": null,
      "outputs": [
        {
          "output_type": "stream",
          "text": [
            "Promdio de Palabras para comentarios con 1 estrella =  28.470575\n",
            "Promdio de Palabras para comentarios con 2 estrella =  31.293075\n",
            "Promdio de Palabras para comentarios con 3 estrella =  28.8229\n",
            "Promdio de Palabras para comentarios con 4 estrella =  25.878525\n",
            "Promdio de Palabras para comentarios con 5 estrella =  24.533275\n"
          ],
          "name": "stdout"
        }
      ]
    },
    {
      "cell_type": "code",
      "metadata": {
        "colab": {
          "base_uri": "https://localhost:8080/",
          "height": 626
        },
        "id": "yTbMnAM7WyIw",
        "outputId": "8b445ceb-bb53-4248-b223-9b060abcd26d"
      },
      "source": [
        "fig,axes = plt.subplots(3,2,figsize=(14,10))\n",
        "axes = axes.flatten()\n",
        "\n",
        "data_1_star = df1[df1['stars']==1]\n",
        "sns.histplot(ax = axes[0], data= data_1_star, x ='word_count', color= 'tomato', bins = 50, kde=True)\n",
        "axes[0].set_title('Reviews con 1 Estrella')\n",
        "\n",
        "data_2_star = df1[df1['stars']==2]\n",
        "sns.histplot(ax = axes[1], data= data_2_star, x ='word_count', color= 'orange', bins = 50, kde=True)\n",
        "axes[1].set_title('Reviews con 2 Estrellas')\n",
        "\n",
        "data_3_star = df1[df1['stars']==3]\n",
        "sns.histplot(ax = axes[2], data= data_3_star, x ='word_count', color= 'blue', bins = 50, kde=True)\n",
        "axes[2].set_title('Reviews con 3 Estrellas')\n",
        "\n",
        "data_4_star = df1[df1['stars']==4]\n",
        "sns.histplot(ax = axes[3], data= data_4_star, x ='word_count', color= 'c', bins = 50, kde=True)\n",
        "axes[3].set_title('Reviews con 4 Estrellas')\n",
        "\n",
        "data_5_star = df1[df1['stars']==5]\n",
        "sns.histplot(ax = axes[4], data=data_5_star, x='word_count', color= 'green', bins = 50, kde=True)\n",
        "axes[4].set_title('Reviews con 5 Estrellas')\n",
        "\n",
        "# Se eliminan los axes vacios\n",
        "for i in [5]:\n",
        "    fig.delaxes(axes[i])\n",
        "    \n",
        "fig.suptitle('Número de Palabras por Review')\n",
        "plt.tight_layout()\n",
        "plt.show()"
      ],
      "execution_count": null,
      "outputs": [
        {
          "output_type": "display_data",
          "data": {
            "image/png": "[encoded data removed]",
            "text/plain": [
              "<Figure size 1008x720 with 5 Axes>"
            ]
          },
          "metadata": {
            "tags": []
          }
        }
      ]
    },
    {
      "cell_type": "markdown",
      "metadata": {
        "id": "sO_RpV5o1CJY"
      },
      "source": [
        "De momento no hay gran margen de análisis para la cantidad de palabraspor comentario. Se muestran las distribuciones y son todas muy semejantes"
      ]
    },
    {
      "cell_type": "markdown",
      "metadata": {
        "id": "WcZR4JiRLK4l"
      },
      "source": [
        "## **Filtración y análisis de frecuencias**"
      ]
    },
    {
      "cell_type": "markdown",
      "metadata": {
        "id": "IgYCnpafMMGp"
      },
      "source": [
        "### 1- Dataset con los comentarios positivos ( de 4 y 5 estrellas)"
      ]
    },
    {
      "cell_type": "code",
      "metadata": {
        "id": "fCkU5vI0gPl4"
      },
      "source": [
        "#Saco palabras que no aportan un gran valor semánitico\n",
        "filtrar = ['es','el','muy','la','los','lo','me','si','no','se']"
      ],
      "execution_count": null,
      "outputs": []
    },
    {
      "cell_type": "code",
      "metadata": {
        "id": "baNcEJtsLfpC"
      },
      "source": [
        "positivo = data[data.stars > 3]\n",
        "positivo.shape"
      ],
      "execution_count": null,
      "outputs": []
    },
    {
      "cell_type": "code",
      "metadata": {
        "id": "1UWCN6-3MjaR"
      },
      "source": [
        "resenas = []\n",
        "for i in range(positivo.shape[0]):\n",
        "  comentario = positivo.iloc[i].review_body\n",
        "  comentario = clean_text_round1(comentario)\n",
        "  comentario = nltk.tokenize.RegexpTokenizer(\"[\\w]+\").tokenize(comentario)\n",
        "  comentario = [word for word in comentario if word not in stopwords]\n",
        "  comentario = [word for word in comentario if word not in filtrar]\n",
        "\n",
        "  resenas.append(comentario)"
      ],
      "execution_count": null,
      "outputs": []
    },
    {
      "cell_type": "code",
      "metadata": {
        "id": "esEGLTIOMjXJ"
      },
      "source": [
        "resenas = list(itertools.chain(*resenas))\n",
        "resenas[0:10]"
      ],
      "execution_count": null,
      "outputs": []
    },
    {
      "cell_type": "code",
      "metadata": {
        "id": "R6I0l3coMjUQ"
      },
      "source": [
        "freq_positivo = nltk.FreqDist(resenas)\n",
        "freq_positivo"
      ],
      "execution_count": null,
      "outputs": []
    },
    {
      "cell_type": "code",
      "metadata": {
        "id": "YTuYMZELPYbU"
      },
      "source": [
        "palabras_positivas = pd.DataFrame(list(freq_positivo.items()),columns=['Palabra','Frecuencia'])\n",
        "palabras_positivas.sort_values('Frecuencia',ascending=False, inplace = True)\n",
        "palabras_positivas.reset_index(drop = True, inplace=True)\n",
        "palabras_positivas.head()"
      ],
      "execution_count": null,
      "outputs": []
    },
    {
      "cell_type": "code",
      "metadata": {
        "colab": {
          "base_uri": "https://localhost:8080/",
          "height": 523
        },
        "id": "PTfYH0oPQN0n",
        "outputId": "60bbb3f8-a99f-458e-da07-b0e7ba597882"
      },
      "source": [
        "plt.figure(figsize = (10,8))\n",
        "plot = sns.barplot(y  = palabras_positivas.iloc[:15].Palabra, \n",
        "                   x = palabras_positivas.iloc[:15].Frecuencia ,\n",
        "                   color = 'limegreen', edgecolor ='black' )\n",
        "for item in plot.get_yticklabels():\n",
        "    item.set_rotation(0)\n",
        "plt.title('Frecuencia de palabras en comentarios positivos',fontsize = 20)\n",
        "plt.show()"
      ],
      "execution_count": null,
      "outputs": [
        {
          "output_type": "display_data",
          "data": {
            "image/png": "[encoded data removed]",
            "text/plain": [
              "<Figure size 720x576 with 1 Axes>"
            ]
          },
          "metadata": {
            "tags": []
          }
        }
      ]
    },
    {
      "cell_type": "markdown",
      "metadata": {
        "id": "rcyNsmcEMVWg"
      },
      "source": [
        "### 2- Dataset con los comentarios neutros( 3 estrellas)"
      ]
    },
    {
      "cell_type": "code",
      "metadata": {
        "id": "Ut8vShNeLgHN"
      },
      "source": [
        "neutro = data[data.stars ==3]\n",
        "neutro.shape  "
      ],
      "execution_count": null,
      "outputs": []
    },
    {
      "cell_type": "code",
      "metadata": {
        "id": "RaJ_K_-HQ7RX"
      },
      "source": [
        "resenas = []\n",
        "for i in range(neutro.shape[0]):\n",
        "  comentario = neutro.iloc[i].review_body\n",
        "  comentario = clean_text_round1(comentario)\n",
        "  comentario = nltk.tokenize.RegexpTokenizer(\"[\\w]+\").tokenize(comentario)\n",
        "  comentario = [word for word in comentario if word not in stopwords]\n",
        "  comentario = [word for word in comentario if word not in filtrar]\n",
        "  resenas.append(comentario)"
      ],
      "execution_count": null,
      "outputs": []
    },
    {
      "cell_type": "code",
      "metadata": {
        "id": "H0lACAnuQ7Ot"
      },
      "source": [
        "resenas = list(itertools.chain(*resenas))\n",
        "resenas[0:10]"
      ],
      "execution_count": null,
      "outputs": []
    },
    {
      "cell_type": "code",
      "metadata": {
        "id": "WlzILER2Q7LX"
      },
      "source": [
        "freq_neutro = nltk.FreqDist(resenas)\n",
        "freq_neutro"
      ],
      "execution_count": null,
      "outputs": []
    },
    {
      "cell_type": "code",
      "metadata": {
        "id": "W85r9cypQ7Ir"
      },
      "source": [
        "palabras_neutras = pd.DataFrame(list(freq_neutro.items()),columns=['Palabra','Frecuencia'])\n",
        "palabras_neutras.sort_values('Frecuencia',ascending=False, inplace = True)\n",
        "palabras_neutras.reset_index(drop = True, inplace=True)\n",
        "palabras_neutras.head()"
      ],
      "execution_count": null,
      "outputs": []
    },
    {
      "cell_type": "code",
      "metadata": {
        "colab": {
          "base_uri": "https://localhost:8080/",
          "height": 523
        },
        "id": "-T1vjkLiRSho",
        "outputId": "48427836-39eb-4826-e568-f348720ec7e9"
      },
      "source": [
        "\n",
        "plt.figure(figsize = (10,8))\n",
        "plot = sns.barplot(y  = palabras_neutras.iloc[:15].Palabra,\n",
        "                   x = palabras_neutras.iloc[:15].Frecuencia ,\n",
        "                   color = 'lightyellow', edgecolor ='black' )\n",
        "for item in plot.get_xticklabels():\n",
        "    item.set_rotation(0)\n",
        "plt.title('Frecuencia de palabras en comentarios neutros', fontsize=20)\n",
        "plt.show()\n"
      ],
      "execution_count": null,
      "outputs": [
        {
          "output_type": "display_data",
          "data": {
            "image/png": "[encoded data removed]",
            "text/plain": [
              "<Figure size 720x576 with 1 Axes>"
            ]
          },
          "metadata": {
            "tags": []
          }
        }
      ]
    },
    {
      "cell_type": "markdown",
      "metadata": {
        "id": "UPYIJTW-McmU"
      },
      "source": [
        "### 3- Dataset con los comentarios negativos( 1 y 2 estrellas)"
      ]
    },
    {
      "cell_type": "code",
      "metadata": {
        "id": "DwyZsmlvLgD1"
      },
      "source": [
        "negativo = data[data.stars < 3]\n",
        "negativo.shape"
      ],
      "execution_count": null,
      "outputs": []
    },
    {
      "cell_type": "code",
      "metadata": {
        "id": "eiax09DbS9T1"
      },
      "source": [
        "resenas = []\n",
        "for i in range(negativo.shape[0]):\n",
        "  comentario = negativo.iloc[i].review_body\n",
        "  comentario = clean_text_round1(comentario)\n",
        "  comentario = nltk.tokenize.RegexpTokenizer(\"[\\w]+\").tokenize(comentario)\n",
        "  comentario = [word for word in comentario if word not in stopwords]\n",
        "  comentario = [word for word in comentario if word not in filtrar]\n",
        "  resenas.append(comentario)"
      ],
      "execution_count": null,
      "outputs": []
    },
    {
      "cell_type": "code",
      "metadata": {
        "id": "2azYtc1MS9Qg"
      },
      "source": [
        "resenas = list(itertools.chain(*resenas))\n",
        "resenas[0:10]"
      ],
      "execution_count": null,
      "outputs": []
    },
    {
      "cell_type": "code",
      "metadata": {
        "id": "LMsiJTWAS9OV"
      },
      "source": [
        "freq_negativo = nltk.FreqDist(resenas)\n",
        "freq_negativo"
      ],
      "execution_count": null,
      "outputs": []
    },
    {
      "cell_type": "code",
      "metadata": {
        "id": "wxU7BubLS9Lx"
      },
      "source": [
        "palabras_negativas = pd.DataFrame(list(freq_negativo.items()),columns=['Palabra','Frecuencia'])\n",
        "palabras_negativas.sort_values('Frecuencia',ascending=False, inplace = True)\n",
        "palabras_negativas.reset_index(drop = True, inplace=True)\n",
        "palabras_negativas.head()"
      ],
      "execution_count": null,
      "outputs": []
    },
    {
      "cell_type": "code",
      "metadata": {
        "colab": {
          "base_uri": "https://localhost:8080/",
          "height": 523
        },
        "id": "uyPdKg8XS9H3",
        "outputId": "4604fdd2-5dd5-481d-c7e2-3288ba7237ef"
      },
      "source": [
        "plt.figure(figsize = (10,8))\n",
        "plot = sns.barplot(y  = palabras_negativas.iloc[:15].Palabra, \n",
        "                   x = palabras_negativas.iloc[:15].Frecuencia\n",
        "                   ,color='indianred', edgecolor ='black' )\n",
        "for item in plot.get_xticklabels():\n",
        "    item.set_rotation(0)\n",
        "plt.title('Frecuencia de palabras en comentarios negativos', fontsize=20)\n",
        "plt.show()"
      ],
      "execution_count": null,
      "outputs": [
        {
          "output_type": "display_data",
          "data": {
            "image/png": "[encoded data removed]",
            "text/plain": [
              "<Figure size 720x576 with 1 Axes>"
            ]
          },
          "metadata": {
            "tags": []
          }
        }
      ]
    },
    {
      "cell_type": "markdown",
      "metadata": {
        "id": "ZTM1CkrakCec"
      },
      "source": [
        "# **2 - Normalización**"
      ]
    },
    {
      "cell_type": "markdown",
      "metadata": {
        "id": "FaffYSydES62"
      },
      "source": [
        "##**Introducción**"
      ]
    },
    {
      "cell_type": "markdown",
      "metadata": {
        "id": "asJMGVxwEWPl"
      },
      "source": [
        "Para normalizar generaré 3 tipos de datos normalizados:\n",
        "\n",
        "1. Data normalizada a través de eliminación de RegEx, emoticones, emojis, stopwords y palabras menores de 3 letras.\n",
        "\n",
        "2. La Data del punto 1, pero le agregamos la técnica de Stemming de la nltk\n",
        "\n",
        "3. La Data del punto 1, pero le agregamos la técnica de Lemmatizacion de spaCy"
      ]
    },
    {
      "cell_type": "markdown",
      "metadata": {
        "id": "60-nF9ns-4Aw"
      },
      "source": [
        "## **Train, Test y Dev**"
      ]
    },
    {
      "cell_type": "code",
      "metadata": {
        "id": "iQsS4-Pl_-3L"
      },
      "source": [
        "import gc"
      ],
      "execution_count": null,
      "outputs": []
    },
    {
      "cell_type": "code",
      "metadata": {
        "colab": {
          "base_uri": "https://localhost:8080/"
        },
        "id": "GxGd4HfP_Aao",
        "outputId": "e8838fc2-04ec-4556-8266-1aeeb355571b"
      },
      "source": [
        "# Importamos dataset de desarrollo\n",
        "data_dev = pd.read_json('/content/drive/MyDrive/NLP PROJECT/dataset_es_dev.json', lines = True)\n",
        "print(\"- Cantidad de filas del set de \" + color.YELLOW + \"desarrollo\" + color.END + \":\", data_dev.shape[0])\n",
        "\n",
        "# Importamos dataset de entrenamiento\n",
        "data_train = pd.read_json('/content/drive/MyDrive/NLP PROJECT/dataset_es_train.json', lines = True)\n",
        "print(\"- Cantidad de filas del set de \" + color.CYAN + \"entrenamiento\" + color.END + \":\", data_train.shape[0])\n",
        "\n",
        "# Importamos dataset de prueba\n",
        "data_test = pd.read_json('/content/drive/MyDrive/NLP PROJECT/dataset_es_test.json', lines = True)\n",
        "print(\"- Cantidad de filas del set de \" + color.GREEN + \"prueba\" + color.END + \":\", data_test.shape[0])"
      ],
      "execution_count": null,
      "outputs": [
        {
          "output_type": "stream",
          "text": [
            "- Cantidad de filas del set de \u001b[93mdesarrollo\u001b[0m: 5000\n",
            "- Cantidad de filas del set de \u001b[96mentrenamiento\u001b[0m: 200000\n",
            "- Cantidad de filas del set de \u001b[92mprueba\u001b[0m: 5000\n"
          ],
          "name": "stdout"
        }
      ]
    },
    {
      "cell_type": "markdown",
      "metadata": {
        "id": "j_gBRkE1AKfj"
      },
      "source": [
        "Concatenamos todos los datasets"
      ]
    },
    {
      "cell_type": "code",
      "metadata": {
        "colab": {
          "base_uri": "https://localhost:8080/"
        },
        "id": "0A3flWv0_wnP",
        "outputId": "ca1c6666-9f8f-40b8-a068-788f46bbbfab"
      },
      "source": [
        "# Concatenamos todos\n",
        "data = pd.concat([data_dev,data_train,data_test])\n",
        "data = data.reset_index(drop=True)\n",
        "data.tail()"
      ],
      "execution_count": null,
      "outputs": [
        {
          "output_type": "execute_result",
          "data": {
            "text/html": [
              "<div>\n",
              "<style scoped>\n",
              "    .dataframe tbody tr th:only-of-type {\n",
              "        vertical-align: middle;\n",
              "    }\n",
              "\n",
              "    .dataframe tbody tr th {\n",
              "        vertical-align: top;\n",
              "    }\n",
              "\n",
              "    .dataframe thead th {\n",
              "        text-align: right;\n",
              "    }\n",
              "</style>\n",
              "<table border=\"1\" class=\"dataframe\">\n",
              "  <thead>\n",
              "    <tr style=\"text-align: right;\">\n",
              "      <th></th>\n",
              "      <th>review_id</th>\n",
              "      <th>product_id</th>\n",
              "      <th>reviewer_id</th>\n",
              "      <th>stars</th>\n",
              "      <th>review_body</th>\n",
              "      <th>review_title</th>\n",
              "      <th>language</th>\n",
              "      <th>product_category</th>\n",
              "    </tr>\n",
              "  </thead>\n",
              "  <tbody>\n",
              "    <tr>\n",
              "      <th>209995</th>\n",
              "      <td>es_0685611</td>\n",
              "      <td>product_es_0919143</td>\n",
              "      <td>reviewer_es_0461769</td>\n",
              "      <td>5</td>\n",
              "      <td>Para lo que cuesta es perfecto porque cumple s...</td>\n",
              "      <td>Perfectos para lo que sirven</td>\n",
              "      <td>es</td>\n",
              "      <td>wireless</td>\n",
              "    </tr>\n",
              "    <tr>\n",
              "      <th>209996</th>\n",
              "      <td>es_0638242</td>\n",
              "      <td>product_es_0636134</td>\n",
              "      <td>reviewer_es_0214562</td>\n",
              "      <td>5</td>\n",
              "      <td>Material muy flexible y cómodo, acorde a la de...</td>\n",
              "      <td>Buen vendedor, rápido y fiable.</td>\n",
              "      <td>es</td>\n",
              "      <td>wireless</td>\n",
              "    </tr>\n",
              "    <tr>\n",
              "      <th>209997</th>\n",
              "      <td>es_0760108</td>\n",
              "      <td>product_es_0078583</td>\n",
              "      <td>reviewer_es_0043609</td>\n",
              "      <td>5</td>\n",
              "      <td>Se ve bien el grabado</td>\n",
              "      <td>medallas con bonito grabado</td>\n",
              "      <td>es</td>\n",
              "      <td>home</td>\n",
              "    </tr>\n",
              "    <tr>\n",
              "      <th>209998</th>\n",
              "      <td>es_0070806</td>\n",
              "      <td>product_es_0359350</td>\n",
              "      <td>reviewer_es_0258717</td>\n",
              "      <td>5</td>\n",
              "      <td>lo compré para mi bici pero finalmente se lo h...</td>\n",
              "      <td>timbre</td>\n",
              "      <td>es</td>\n",
              "      <td>sports</td>\n",
              "    </tr>\n",
              "    <tr>\n",
              "      <th>209999</th>\n",
              "      <td>es_0794544</td>\n",
              "      <td>product_es_0130307</td>\n",
              "      <td>reviewer_es_0651938</td>\n",
              "      <td>5</td>\n",
              "      <td>Pues este tipo de cascos si que son inalambric...</td>\n",
              "      <td>Auriculares sin cables de verdad</td>\n",
              "      <td>es</td>\n",
              "      <td>electronics</td>\n",
              "    </tr>\n",
              "  </tbody>\n",
              "</table>\n",
              "</div>"
            ],
            "text/plain": [
              "         review_id          product_id  ... language  product_category\n",
              "209995  es_0685611  product_es_0919143  ...       es          wireless\n",
              "209996  es_0638242  product_es_0636134  ...       es          wireless\n",
              "209997  es_0760108  product_es_0078583  ...       es              home\n",
              "209998  es_0070806  product_es_0359350  ...       es            sports\n",
              "209999  es_0794544  product_es_0130307  ...       es       electronics\n",
              "\n",
              "[5 rows x 8 columns]"
            ]
          },
          "metadata": {
            "tags": []
          },
          "execution_count": 7
        }
      ]
    },
    {
      "cell_type": "code",
      "metadata": {
        "colab": {
          "base_uri": "https://localhost:8080/"
        },
        "id": "Kh15MXEw_8cf",
        "outputId": "27c495da-3d12-48c5-bbec-1f780ab0de8f"
      },
      "source": [
        "# Liberamos espacio de memoria\n",
        "del(data_dev)\n",
        "del(data_train)\n",
        "del(data_test)\n",
        "gc.collect()"
      ],
      "execution_count": null,
      "outputs": [
        {
          "output_type": "execute_result",
          "data": {
            "text/plain": [
              "64"
            ]
          },
          "metadata": {
            "tags": []
          },
          "execution_count": 8
        }
      ]
    },
    {
      "cell_type": "markdown",
      "metadata": {
        "id": "nbBEW7VGFTcQ"
      },
      "source": [
        "##**Funciones**\n"
      ]
    },
    {
      "cell_type": "markdown",
      "metadata": {
        "id": "gcZC5gOeF_Zp"
      },
      "source": [
        "### **1- Función de limpieza de RegEx**"
      ]
    },
    {
      "cell_type": "code",
      "metadata": {
        "id": "fLirZZBUALKh"
      },
      "source": [
        "import re\n",
        "import string\n",
        "\n",
        "def clean_text_round1(text):\n",
        "   text = text.lower()\n",
        "   text = re.sub('\\[.*?¿\\]\\%', ' ', text)\n",
        "   text = re.sub('[%s]' % re.escape(string.punctuation), ' ', text)\n",
        "   text = re.sub('\\w*\\d\\w*', '', text)\n",
        "   text = re.sub('[‘’“”…«»]', '', text)\n",
        "   text = re.sub('\\n', ' ', text)\n",
        "   \n",
        "   return text"
      ],
      "execution_count": null,
      "outputs": []
    },
    {
      "cell_type": "markdown",
      "metadata": {
        "id": "eIL8VZxY5q1E"
      },
      "source": [
        "### **2- Eliminación de tildes.**"
      ]
    },
    {
      "cell_type": "code",
      "metadata": {
        "id": "Pncrog4S43Fo"
      },
      "source": [
        "def basic_text_cleanup(text):\n",
        "    \"\"\"\n",
        "    Convert to lowercase, remove punctuation, remove digits\n",
        "    \"\"\"\n",
        "    text = text.lower() #lower case\n",
        "    text = re.sub(\"[^\\w|\\s]\", \" \",text) #replace non word and non space characters by a space\n",
        "    text = re.sub(\"\\s+\", \" \",text) #remove extra spaces\n",
        "    text = re.sub(\"á\", \"a\",text) #saco acentos\n",
        "    text = re.sub(\"é\", \"e\",text) #saco acentos\n",
        "    text = re.sub(\"í\", \"i\",text) #saco acentos\n",
        "    text = re.sub(\"ó\", \"o\",text) #saco acentos\n",
        "    text = re.sub(\"ú\", \"u\",text) #saco acentos\n",
        "    text = re.sub(\",\", \"\",text) #saco comas\n",
        "    #doc = nlp(text)#convert to a spacy object\n",
        "    #doc = [w.text for w in doc if not w.is_stop or w.text ==\"no\"] # remove stopwords but keep \"no\" for bigrams\n",
        "    #doc = [w for w in doc if (len(w)> 2 or w == \"no\")] #only words longer than 2 characters\n",
        "    #doc = [w for w in doc if (len(w)> 2 )] #only words longer than 2 characters\n",
        "    #doc = [w for w in doc if w != \"y\"] #remove \"y\"\n",
        "    #doc = \" \".join(doc)\n",
        "    return text\n"
      ],
      "execution_count": null,
      "outputs": []
    },
    {
      "cell_type": "code",
      "metadata": {
        "id": "1oxTR4Lx4_6X",
        "colab": {
          "base_uri": "https://localhost:8080/"
        },
        "outputId": "0de59865-3657-4f7f-ddd9-a0b1646e9652"
      },
      "source": [
        "'''#Como aplico lo de arriba? \n",
        "data[\"clean_text\"] = data[\"review_body\"].apply(lambda x:basic_text_cleanup(x) )\n",
        "'''"
      ],
      "execution_count": null,
      "outputs": [
        {
          "output_type": "execute_result",
          "data": {
            "application/vnd.google.colaboratory.intrinsic+json": {
              "type": "string"
            },
            "text/plain": [
              "'#Como aplico lo de arriba? \\ndata[\"clean_text\"] = data[\"review_body\"].apply(lambda x:basic_text_cleanup(x) )\\n'"
            ]
          },
          "metadata": {
            "tags": []
          },
          "execution_count": 11
        }
      ]
    },
    {
      "cell_type": "code",
      "metadata": {
        "colab": {
          "base_uri": "https://localhost:8080/"
        },
        "id": "sp_-xepN5pvJ",
        "outputId": "d632a031-8301-47d6-c467-403563560c88"
      },
      "source": [
        "'''from nltk.corpus import stopwords\n",
        "from nltk import word_tokenize, sent_tokenize\n",
        "\n",
        "STOP_WORDS = stopwords.words('spanish')\n",
        "\n",
        "def tokenize(x):\n",
        "    return [word for word in word_tokenize(x) if word not in STOP_WORDS and word.isalpha() and len(word)>1]\n",
        "\n",
        "df[\"token\"] = df[\"normal\"].apply(lambda x:tokenize(x))\n",
        "'''\n"
      ],
      "execution_count": null,
      "outputs": [
        {
          "output_type": "execute_result",
          "data": {
            "application/vnd.google.colaboratory.intrinsic+json": {
              "type": "string"
            },
            "text/plain": [
              "'from nltk.corpus import stopwords\\nfrom nltk import word_tokenize, sent_tokenize\\n\\nSTOP_WORDS = stopwords.words(\\'spanish\\')\\n\\ndef tokenize(x):\\n    return [word for word in word_tokenize(x) if word not in STOP_WORDS and word.isalpha() and len(word)>1]\\n\\ndf[\"token\"] = df[\"normal\"].apply(lambda x:tokenize(x))\\n'"
            ]
          },
          "metadata": {
            "tags": []
          },
          "execution_count": 12
        }
      ]
    },
    {
      "cell_type": "code",
      "metadata": {
        "id": "PaLdq5gb9pRy"
      },
      "source": [
        "import re\n",
        "from unicodedata import normalize\n",
        "def no_acentos(frase):\n",
        "    # -> NFD y eliminar diacríticos\n",
        "    frase_sin = re.sub(\n",
        "        r\"([^n\\u0300-\\u036f]|n(?!\\u0303(?![\\u0300-\\u036f])))[\\u0300-\\u036f]+\", r\"\\1\", \n",
        "        normalize( \"NFD\", frase), 0, re.I\n",
        "        )\n",
        "\n",
        "    # -> NFC\n",
        "    return normalize( 'NFC', frase_sin).lower()"
      ],
      "execution_count": null,
      "outputs": []
    },
    {
      "cell_type": "markdown",
      "metadata": {
        "id": "BlrDTvJHGDJJ"
      },
      "source": [
        "### **3- Función de limpieza de emojis**"
      ]
    },
    {
      "cell_type": "code",
      "metadata": {
        "id": "eMcmGgQhFYFA"
      },
      "source": [
        "#Eliminamos los emojis de los comentarios. Tale como 😜 , 😔 , etc.\n",
        "def remove_emoji(text):\n",
        "    emoji_pattern = re.compile(\"[\"\n",
        "                           u\"\\U0001F600-\\U0001F64F\"  # emoticons\n",
        "                           u\"\\U0001F300-\\U0001F5FF\"  # symbols & pictographs\n",
        "                           u\"\\U0001F680-\\U0001F6FF\"  # transport & map symbols\n",
        "                           u\"\\U0001F1E0-\\U0001F1FF\"  # flags \n",
        "                           u\"\\U00002702-\\U000027B0\"\n",
        "                           u\"\\U000024C2-\\U0001F251\"\n",
        "                           \"]+\", flags=re.UNICODE)\n",
        "    return emoji_pattern.sub(r'', text)"
      ],
      "execution_count": null,
      "outputs": []
    },
    {
      "cell_type": "markdown",
      "metadata": {
        "id": "GzswxapOGGfL"
      },
      "source": [
        "### **4- Función de limpieza de emoticones**"
      ]
    },
    {
      "cell_type": "code",
      "metadata": {
        "colab": {
          "base_uri": "https://localhost:8080/"
        },
        "id": "Km34-JsgF1YA",
        "outputId": "44d540c5-d543-4330-e126-d29d6e53a265"
      },
      "source": [
        "!pip install emot\n"
      ],
      "execution_count": null,
      "outputs": [
        {
          "output_type": "stream",
          "text": [
            "Requirement already satisfied: emot in /usr/local/lib/python3.7/dist-packages (2.1)\n"
          ],
          "name": "stdout"
        }
      ]
    },
    {
      "cell_type": "code",
      "metadata": {
        "id": "r7PkMszPFxgs"
      },
      "source": [
        "from emot.emo_unicode import UNICODE_EMO, EMOTICONS\n",
        "\n",
        "# Remover emoticones tales como :-) , :'( , etc\n",
        "def remove_emoticons(text):\n",
        "    emoticon_pattern = re.compile(u'(' + u'|'.join(k for k in EMOTICONS) + u')')\n",
        "    return emoticon_pattern.sub(r'', text)"
      ],
      "execution_count": null,
      "outputs": []
    },
    {
      "cell_type": "markdown",
      "metadata": {
        "id": "g4IvdsYx7yL6"
      },
      "source": [
        "### **5-StopWords modificadas**"
      ]
    },
    {
      "cell_type": "code",
      "metadata": {
        "colab": {
          "base_uri": "https://localhost:8080/"
        },
        "id": "AtuWRMLL70-1",
        "outputId": "425c989b-4d05-410a-9950-b467e5582d55"
      },
      "source": [
        "nltk.download('stopwords')\n",
        "stopwords = nltk.corpus.stopwords.words('spanish')"
      ],
      "execution_count": null,
      "outputs": [
        {
          "output_type": "stream",
          "text": [
            "[nltk_data] Downloading package stopwords to /root/nltk_data...\n",
            "[nltk_data]   Package stopwords is already up-to-date!\n"
          ],
          "name": "stdout"
        }
      ]
    },
    {
      "cell_type": "code",
      "metadata": {
        "id": "mhVz24Ss8Rtn"
      },
      "source": [
        "# Sacamos algunas palabras del set stopword que queremos conservar en las reviews:\n",
        "list_a_conservar=['no', 'tuvo', 'poco', 'nada', 'ni', 'mucho', 'muchos', 'contra']\n",
        "for mant_palabra in list_a_conservar:\n",
        "    stopwords.remove(mant_palabra)"
      ],
      "execution_count": null,
      "outputs": []
    },
    {
      "cell_type": "code",
      "metadata": {
        "id": "FDEgtR7f-QeZ"
      },
      "source": [
        "# Eliminamos tildes, dierecis, etc de las stopwords.\n",
        "stopwords = [no_acentos(word) for word in stopwords]"
      ],
      "execution_count": null,
      "outputs": []
    },
    {
      "cell_type": "code",
      "metadata": {
        "id": "Z7YPBp5Y_Ui5"
      },
      "source": [
        "def eliminar_stopwords(comentario):\n",
        "    # Eliminamos las palabras de menos de 3 letras\n",
        "    frase = nltk.word_tokenize(comentario)\n",
        "    frase_lista = [palabra for palabra in frase if (len(palabra)>2 or palabra in ['no','ni','si','ma'])]\n",
        "    \n",
        "    # Sacamos las Stopwords\n",
        "    frase_lista = [palabra for palabra in frase_lista if not palabra in stopwords ]\n",
        "    \n",
        "    # Por ultimo volvemos a unir la lista\n",
        "    frase = \" \".join(frase_lista)\n",
        "    return frase"
      ],
      "execution_count": null,
      "outputs": []
    },
    {
      "cell_type": "markdown",
      "metadata": {
        "id": "N-JQncuG8W7S"
      },
      "source": [
        "## **1- Data Cleaning**"
      ]
    },
    {
      "cell_type": "code",
      "metadata": {
        "colab": {
          "base_uri": "https://localhost:8080/"
        },
        "id": "0Rmu0J74-t-i",
        "outputId": "0d06747a-21d1-40b9-dc96-b3e6e1130bff"
      },
      "source": [
        "df = data.copy()\n",
        "df.head()"
      ],
      "execution_count": null,
      "outputs": [
        {
          "output_type": "execute_result",
          "data": {
            "text/html": [
              "<div>\n",
              "<style scoped>\n",
              "    .dataframe tbody tr th:only-of-type {\n",
              "        vertical-align: middle;\n",
              "    }\n",
              "\n",
              "    .dataframe tbody tr th {\n",
              "        vertical-align: top;\n",
              "    }\n",
              "\n",
              "    .dataframe thead th {\n",
              "        text-align: right;\n",
              "    }\n",
              "</style>\n",
              "<table border=\"1\" class=\"dataframe\">\n",
              "  <thead>\n",
              "    <tr style=\"text-align: right;\">\n",
              "      <th></th>\n",
              "      <th>review_id</th>\n",
              "      <th>product_id</th>\n",
              "      <th>reviewer_id</th>\n",
              "      <th>stars</th>\n",
              "      <th>review_body</th>\n",
              "      <th>review_title</th>\n",
              "      <th>language</th>\n",
              "      <th>product_category</th>\n",
              "    </tr>\n",
              "  </thead>\n",
              "  <tbody>\n",
              "    <tr>\n",
              "      <th>0</th>\n",
              "      <td>es_0417480</td>\n",
              "      <td>product_es_0873923</td>\n",
              "      <td>reviewer_es_0672978</td>\n",
              "      <td>1</td>\n",
              "      <td>Malisimo, muy grande demasiado aparatoso y mal...</td>\n",
              "      <td>Mala compra</td>\n",
              "      <td>es</td>\n",
              "      <td>wireless</td>\n",
              "    </tr>\n",
              "    <tr>\n",
              "      <th>1</th>\n",
              "      <td>es_0180432</td>\n",
              "      <td>product_es_0713146</td>\n",
              "      <td>reviewer_es_0100858</td>\n",
              "      <td>1</td>\n",
              "      <td>No he recibido el pedido no la devolución</td>\n",
              "      <td>No lo he recibido</td>\n",
              "      <td>es</td>\n",
              "      <td>apparel</td>\n",
              "    </tr>\n",
              "    <tr>\n",
              "      <th>2</th>\n",
              "      <td>es_0144850</td>\n",
              "      <td>product_es_0356874</td>\n",
              "      <td>reviewer_es_0486447</td>\n",
              "      <td>1</td>\n",
              "      <td>Tengo que buscar otro sistema, este no funcion...</td>\n",
              "      <td>Que no aprieta bien en el manillar</td>\n",
              "      <td>es</td>\n",
              "      <td>sports</td>\n",
              "    </tr>\n",
              "    <tr>\n",
              "      <th>3</th>\n",
              "      <td>es_0339629</td>\n",
              "      <td>product_es_0939832</td>\n",
              "      <td>reviewer_es_0894703</td>\n",
              "      <td>1</td>\n",
              "      <td>Utilicé las brocas de menor diámetro y se me d...</td>\n",
              "      <td>Brocas de mantequilla</td>\n",
              "      <td>es</td>\n",
              "      <td>home_improvement</td>\n",
              "    </tr>\n",
              "    <tr>\n",
              "      <th>4</th>\n",
              "      <td>es_0858362</td>\n",
              "      <td>product_es_0489066</td>\n",
              "      <td>reviewer_es_0887663</td>\n",
              "      <td>1</td>\n",
              "      <td>No me gusta su olor a viejo y aspecto malo</td>\n",
              "      <td>No me gusta</td>\n",
              "      <td>es</td>\n",
              "      <td>beauty</td>\n",
              "    </tr>\n",
              "  </tbody>\n",
              "</table>\n",
              "</div>"
            ],
            "text/plain": [
              "    review_id          product_id  ... language  product_category\n",
              "0  es_0417480  product_es_0873923  ...       es          wireless\n",
              "1  es_0180432  product_es_0713146  ...       es           apparel\n",
              "2  es_0144850  product_es_0356874  ...       es            sports\n",
              "3  es_0339629  product_es_0939832  ...       es  home_improvement\n",
              "4  es_0858362  product_es_0489066  ...       es            beauty\n",
              "\n",
              "[5 rows x 8 columns]"
            ]
          },
          "metadata": {
            "tags": []
          },
          "execution_count": 21
        }
      ]
    },
    {
      "cell_type": "code",
      "metadata": {
        "id": "dWyLMJOgUUsw"
      },
      "source": [
        "#Eliminamos las columnas que no vamos a usar en este proyecto.\n",
        "df = df.drop(['review_id','product_id','reviewer_id','language','product_category','review_title'],axis=1)"
      ],
      "execution_count": null,
      "outputs": []
    },
    {
      "cell_type": "code",
      "metadata": {
        "id": "W_WhpYDL-1cJ"
      },
      "source": [
        "#Limpiamos el texto según las funciones definidas anteriormente.\n",
        "df['review_body'] =  df['review_body'].apply(clean_text_round1)\n",
        "df['review_body'] =  df['review_body'].apply(remove_emoji)\n",
        "df['review_body'] =  df['review_body'].apply(remove_emoticons)\n",
        "df['review_body'] =  df['review_body'].apply(basic_text_cleanup)\n",
        "df['review_body'] =  df['review_body'].apply(eliminar_stopwords)"
      ],
      "execution_count": null,
      "outputs": []
    },
    {
      "cell_type": "code",
      "metadata": {
        "colab": {
          "base_uri": "https://localhost:8080/"
        },
        "id": "5jSG3m2j7D6v",
        "outputId": "13df738f-c496-4bc1-aee5-6ca71c88ddfc"
      },
      "source": [
        "df"
      ],
      "execution_count": null,
      "outputs": [
        {
          "output_type": "execute_result",
          "data": {
            "text/html": [
              "<div>\n",
              "<style scoped>\n",
              "    .dataframe tbody tr th:only-of-type {\n",
              "        vertical-align: middle;\n",
              "    }\n",
              "\n",
              "    .dataframe tbody tr th {\n",
              "        vertical-align: top;\n",
              "    }\n",
              "\n",
              "    .dataframe thead th {\n",
              "        text-align: right;\n",
              "    }\n",
              "</style>\n",
              "<table border=\"1\" class=\"dataframe\">\n",
              "  <thead>\n",
              "    <tr style=\"text-align: right;\">\n",
              "      <th></th>\n",
              "      <th>stars</th>\n",
              "      <th>review_body</th>\n",
              "    </tr>\n",
              "  </thead>\n",
              "  <tbody>\n",
              "    <tr>\n",
              "      <th>0</th>\n",
              "      <td>1</td>\n",
              "      <td>malisimo grande demasiado aparatoso mal protec...</td>\n",
              "    </tr>\n",
              "    <tr>\n",
              "      <th>1</th>\n",
              "      <td>1</td>\n",
              "      <td>no recibido pedido no devolucion</td>\n",
              "    </tr>\n",
              "    <tr>\n",
              "      <th>2</th>\n",
              "      <td>1</td>\n",
              "      <td>buscar sistema no funciona bien abrazadera lle...</td>\n",
              "    </tr>\n",
              "    <tr>\n",
              "      <th>3</th>\n",
              "      <td>1</td>\n",
              "      <td>utilice brocas menor diametro doblaron varias ...</td>\n",
              "    </tr>\n",
              "    <tr>\n",
              "      <th>4</th>\n",
              "      <td>1</td>\n",
              "      <td>no gusta olor viejo aspecto malo</td>\n",
              "    </tr>\n",
              "    <tr>\n",
              "      <th>...</th>\n",
              "      <td>...</td>\n",
              "      <td>...</td>\n",
              "    </tr>\n",
              "    <tr>\n",
              "      <th>209995</th>\n",
              "      <td>5</td>\n",
              "      <td>cuesta perfecto cumple funcion sobra ademas pe...</td>\n",
              "    </tr>\n",
              "    <tr>\n",
              "      <th>209996</th>\n",
              "      <td>5</td>\n",
              "      <td>material flexible comodo acorde descripcion</td>\n",
              "    </tr>\n",
              "    <tr>\n",
              "      <th>209997</th>\n",
              "      <td>5</td>\n",
              "      <td>bien grabado</td>\n",
              "    </tr>\n",
              "    <tr>\n",
              "      <th>209998</th>\n",
              "      <td>5</td>\n",
              "      <td>compre bici finalmente quedado xiaomi scooter ...</td>\n",
              "    </tr>\n",
              "    <tr>\n",
              "      <th>209999</th>\n",
              "      <td>5</td>\n",
              "      <td>pues tipo cascos inalambricos verdad no van at...</td>\n",
              "    </tr>\n",
              "  </tbody>\n",
              "</table>\n",
              "<p>210000 rows × 2 columns</p>\n",
              "</div>"
            ],
            "text/plain": [
              "        stars                                        review_body\n",
              "0           1  malisimo grande demasiado aparatoso mal protec...\n",
              "1           1                   no recibido pedido no devolucion\n",
              "2           1  buscar sistema no funciona bien abrazadera lle...\n",
              "3           1  utilice brocas menor diametro doblaron varias ...\n",
              "4           1                   no gusta olor viejo aspecto malo\n",
              "...       ...                                                ...\n",
              "209995      5  cuesta perfecto cumple funcion sobra ademas pe...\n",
              "209996      5        material flexible comodo acorde descripcion\n",
              "209997      5                                       bien grabado\n",
              "209998      5  compre bici finalmente quedado xiaomi scooter ...\n",
              "209999      5  pues tipo cascos inalambricos verdad no van at...\n",
              "\n",
              "[210000 rows x 2 columns]"
            ]
          },
          "metadata": {
            "tags": []
          },
          "execution_count": 24
        }
      ]
    },
    {
      "cell_type": "markdown",
      "metadata": {
        "id": "SrWXUe5mZ8Ki"
      },
      "source": [
        "## **2.1- Stemming**"
      ]
    },
    {
      "cell_type": "markdown",
      "metadata": {
        "id": "Dy7YbitvxI0D"
      },
      "source": [
        "Vamos a crear una base de datos con el proceso de normalización llamado Stemming. Voy a utilizar Snowball Stemmer de la librería NLTK ya que viene con la opción de español."
      ]
    },
    {
      "cell_type": "code",
      "metadata": {
        "colab": {
          "base_uri": "https://localhost:8080/",
          "height": 204
        },
        "id": "8audQbAn7I3w",
        "outputId": "f8d8221a-9d8a-4ab0-ec89-d67a0ed4689d"
      },
      "source": [
        "df_stemm = df.copy()\n",
        "df_stemm.head()"
      ],
      "execution_count": null,
      "outputs": [
        {
          "output_type": "execute_result",
          "data": {
            "text/html": [
              "<div>\n",
              "<style scoped>\n",
              "    .dataframe tbody tr th:only-of-type {\n",
              "        vertical-align: middle;\n",
              "    }\n",
              "\n",
              "    .dataframe tbody tr th {\n",
              "        vertical-align: top;\n",
              "    }\n",
              "\n",
              "    .dataframe thead th {\n",
              "        text-align: right;\n",
              "    }\n",
              "</style>\n",
              "<table border=\"1\" class=\"dataframe\">\n",
              "  <thead>\n",
              "    <tr style=\"text-align: right;\">\n",
              "      <th></th>\n",
              "      <th>stars</th>\n",
              "      <th>review_body</th>\n",
              "    </tr>\n",
              "  </thead>\n",
              "  <tbody>\n",
              "    <tr>\n",
              "      <th>0</th>\n",
              "      <td>1</td>\n",
              "      <td>malisimo grande demasiado aparatoso mal protec...</td>\n",
              "    </tr>\n",
              "    <tr>\n",
              "      <th>1</th>\n",
              "      <td>1</td>\n",
              "      <td>no recibido pedido no devolucion</td>\n",
              "    </tr>\n",
              "    <tr>\n",
              "      <th>2</th>\n",
              "      <td>1</td>\n",
              "      <td>buscar sistema no funciona bien abrazadera lle...</td>\n",
              "    </tr>\n",
              "    <tr>\n",
              "      <th>3</th>\n",
              "      <td>1</td>\n",
              "      <td>utilice brocas menor diametro doblaron varias ...</td>\n",
              "    </tr>\n",
              "    <tr>\n",
              "      <th>4</th>\n",
              "      <td>1</td>\n",
              "      <td>no gusta olor viejo aspecto malo</td>\n",
              "    </tr>\n",
              "  </tbody>\n",
              "</table>\n",
              "</div>"
            ],
            "text/plain": [
              "   stars                                        review_body\n",
              "0      1  malisimo grande demasiado aparatoso mal protec...\n",
              "1      1                   no recibido pedido no devolucion\n",
              "2      1  buscar sistema no funciona bien abrazadera lle...\n",
              "3      1  utilice brocas menor diametro doblaron varias ...\n",
              "4      1                   no gusta olor viejo aspecto malo"
            ]
          },
          "metadata": {
            "tags": []
          },
          "execution_count": 25
        }
      ]
    },
    {
      "cell_type": "code",
      "metadata": {
        "id": "x_1RbikYg4Ff"
      },
      "source": [
        "from nltk.stem import SnowballStemmer\n",
        "stemmer = SnowballStemmer('spanish')"
      ],
      "execution_count": null,
      "outputs": []
    },
    {
      "cell_type": "code",
      "metadata": {
        "id": "Ax9tXoS2g4C_"
      },
      "source": [
        "comentario_list=[]\n",
        "for comentario in df_stemm.review_body:\n",
        "    # Vamos a reemplzar los caracteres que no sean letras por espacios\n",
        "    comentario=re.sub(\"[^a-zA-Z]\",\" \",str(comentario))\n",
        "    # Pasamos todo a minúsculas\n",
        "    comentario=comentario.lower()\n",
        "    # Tokenizamos para separar las palabras del titular\n",
        "    comentario=nltk.word_tokenize(comentario)\n",
        "    # Eliminamos las palabras de menos de 3 letras\n",
        "    comentario= [palabra for palabra in comentario if len(palabra)>3]\n",
        "    # Sacamos las Stopwords\n",
        "    comentario = [palabra for palabra in comentario if not palabra in stopwords]\n",
        "    \n",
        "    ## Hasta acá Normalizamos, ahora a stemmizar\n",
        "    \n",
        "    # Aplicamos la funcion para buscar la raiz de las palabras\n",
        "    comentario=[stemmer.stem(palabra) for palabra in comentario]\n",
        "    # Por ultimo volvemos a unir el titular\n",
        "    comentario=\" \".join(comentario)\n",
        "    \n",
        "    # Vamos armando una lista con todos los comentarios\n",
        "    comentario_list.append(comentario)"
      ],
      "execution_count": null,
      "outputs": []
    },
    {
      "cell_type": "code",
      "metadata": {
        "colab": {
          "base_uri": "https://localhost:8080/",
          "height": 204
        },
        "id": "g6nk3alkxBhB",
        "outputId": "8a84a77c-eb75-473e-afe3-db4e62b09dcf"
      },
      "source": [
        "df_stemm[\"review_body\"] = comentario_list\n",
        "df_stemm.head()"
      ],
      "execution_count": null,
      "outputs": [
        {
          "output_type": "execute_result",
          "data": {
            "text/html": [
              "<div>\n",
              "<style scoped>\n",
              "    .dataframe tbody tr th:only-of-type {\n",
              "        vertical-align: middle;\n",
              "    }\n",
              "\n",
              "    .dataframe tbody tr th {\n",
              "        vertical-align: top;\n",
              "    }\n",
              "\n",
              "    .dataframe thead th {\n",
              "        text-align: right;\n",
              "    }\n",
              "</style>\n",
              "<table border=\"1\" class=\"dataframe\">\n",
              "  <thead>\n",
              "    <tr style=\"text-align: right;\">\n",
              "      <th></th>\n",
              "      <th>stars</th>\n",
              "      <th>review_body</th>\n",
              "    </tr>\n",
              "  </thead>\n",
              "  <tbody>\n",
              "    <tr>\n",
              "      <th>0</th>\n",
              "      <td>1</td>\n",
              "      <td>malisim grand demasi aparat protector pantall</td>\n",
              "    </tr>\n",
              "    <tr>\n",
              "      <th>1</th>\n",
              "      <td>1</td>\n",
              "      <td>recib ped devolucion</td>\n",
              "    </tr>\n",
              "    <tr>\n",
              "      <th>2</th>\n",
              "      <td>1</td>\n",
              "      <td>busc sistem funcion bien abrazader llev agarr ...</td>\n",
              "    </tr>\n",
              "    <tr>\n",
              "      <th>3</th>\n",
              "      <td>1</td>\n",
              "      <td>utilic broc menor diametr dobl vari mantequill...</td>\n",
              "    </tr>\n",
              "    <tr>\n",
              "      <th>4</th>\n",
              "      <td>1</td>\n",
              "      <td>gust olor viej aspect mal</td>\n",
              "    </tr>\n",
              "  </tbody>\n",
              "</table>\n",
              "</div>"
            ],
            "text/plain": [
              "   stars                                        review_body\n",
              "0      1      malisim grand demasi aparat protector pantall\n",
              "1      1                               recib ped devolucion\n",
              "2      1  busc sistem funcion bien abrazader llev agarr ...\n",
              "3      1  utilic broc menor diametr dobl vari mantequill...\n",
              "4      1                          gust olor viej aspect mal"
            ]
          },
          "metadata": {
            "tags": []
          },
          "execution_count": 28
        }
      ]
    },
    {
      "cell_type": "code",
      "metadata": {
        "colab": {
          "base_uri": "https://localhost:8080/",
          "height": 204
        },
        "id": "z1qRSxU4Ax8Y",
        "outputId": "33a9d8b0-5f39-46ca-c8d9-a71f53ed9227"
      },
      "source": [
        "df['review_body_stemm']= df_stemm[\"review_body\"]\n",
        "df.head()"
      ],
      "execution_count": null,
      "outputs": [
        {
          "output_type": "execute_result",
          "data": {
            "text/html": [
              "<div>\n",
              "<style scoped>\n",
              "    .dataframe tbody tr th:only-of-type {\n",
              "        vertical-align: middle;\n",
              "    }\n",
              "\n",
              "    .dataframe tbody tr th {\n",
              "        vertical-align: top;\n",
              "    }\n",
              "\n",
              "    .dataframe thead th {\n",
              "        text-align: right;\n",
              "    }\n",
              "</style>\n",
              "<table border=\"1\" class=\"dataframe\">\n",
              "  <thead>\n",
              "    <tr style=\"text-align: right;\">\n",
              "      <th></th>\n",
              "      <th>stars</th>\n",
              "      <th>review_body</th>\n",
              "      <th>review_body_stemm</th>\n",
              "    </tr>\n",
              "  </thead>\n",
              "  <tbody>\n",
              "    <tr>\n",
              "      <th>0</th>\n",
              "      <td>1</td>\n",
              "      <td>malisimo grande demasiado aparatoso mal protec...</td>\n",
              "      <td>malisim grand demasi aparat protector pantall</td>\n",
              "    </tr>\n",
              "    <tr>\n",
              "      <th>1</th>\n",
              "      <td>1</td>\n",
              "      <td>no recibido pedido no devolucion</td>\n",
              "      <td>recib ped devolucion</td>\n",
              "    </tr>\n",
              "    <tr>\n",
              "      <th>2</th>\n",
              "      <td>1</td>\n",
              "      <td>buscar sistema no funciona bien abrazadera lle...</td>\n",
              "      <td>busc sistem funcion bien abrazader llev agarr ...</td>\n",
              "    </tr>\n",
              "    <tr>\n",
              "      <th>3</th>\n",
              "      <td>1</td>\n",
              "      <td>utilice brocas menor diametro doblaron varias ...</td>\n",
              "      <td>utilic broc menor diametr dobl vari mantequill...</td>\n",
              "    </tr>\n",
              "    <tr>\n",
              "      <th>4</th>\n",
              "      <td>1</td>\n",
              "      <td>no gusta olor viejo aspecto malo</td>\n",
              "      <td>gust olor viej aspect mal</td>\n",
              "    </tr>\n",
              "  </tbody>\n",
              "</table>\n",
              "</div>"
            ],
            "text/plain": [
              "   stars  ...                                  review_body_stemm\n",
              "0      1  ...      malisim grand demasi aparat protector pantall\n",
              "1      1  ...                               recib ped devolucion\n",
              "2      1  ...  busc sistem funcion bien abrazader llev agarr ...\n",
              "3      1  ...  utilic broc menor diametr dobl vari mantequill...\n",
              "4      1  ...                          gust olor viej aspect mal\n",
              "\n",
              "[5 rows x 3 columns]"
            ]
          },
          "metadata": {
            "tags": []
          },
          "execution_count": 29
        }
      ]
    },
    {
      "cell_type": "markdown",
      "metadata": {
        "id": "nDlyZPAcksxX"
      },
      "source": [
        "## **2.2- Lemmatization**"
      ]
    },
    {
      "cell_type": "markdown",
      "metadata": {
        "id": "MiNTx2F5Alnl"
      },
      "source": [
        "Para la lematización voy a usar la librería spaCy."
      ]
    },
    {
      "cell_type": "code",
      "metadata": {
        "id": "YtYW4ocRCUa8"
      },
      "source": [
        "'''\n",
        "# Previamente\n",
        "## !python -m spacy download es_core_news_sm\n",
        "#Si bien ya lo hice antes, uno debe reiniciar el kernel cada vez que instala esta librería\n",
        "\n",
        "import spacy # https://spacy.io/usage/models\n",
        "nlp = spacy.load('es_core_news_sm')\n",
        "\n",
        "#Stop Words de es_core_news_sm\n",
        "from spacy.lang.es.stop_words import STOP_WORDS\n",
        "stopwords_spacy = list(STOP_WORDS)\n",
        "\n",
        "# Quitamos de las stopwords palabras como 'no', 'bueno', 'buena' que nos pueden ser últiles para predecir\n",
        "stopwords_spacy.remove('no') # En los comentarios negativos es muy repetida\n",
        "stopwords_spacy.remove('bueno')\n",
        "stopwords_spacy.remove('buena')\n",
        "stopwords_spacy.remove('tarde')\n",
        "stopwords_spacy.remove('temprano')\n",
        "stopwords_spacy.remove('día')\n",
        "stopwords_spacy.remove('días')\n",
        "stopwords_spacy.remove('dia')\n",
        "stopwords_spacy.remove('dias')\n",
        "stopwords_spacy.remove('grandes')\n",
        "stopwords_spacy.remove('general')\n",
        "'''"
      ],
      "execution_count": null,
      "outputs": []
    },
    {
      "cell_type": "code",
      "metadata": {
        "id": "uSacOyLXDRt0"
      },
      "source": [
        "'''\n",
        "#Constante de signos de puntuación\n",
        "import string\n",
        "puntua = string.punctuation + '¡¿...'\n",
        "excluded_pos = ['SCONJ','CCONJ','NUM','PUNCT','PRON','DET','ADP','AUX','X']\n",
        "'''"
      ],
      "execution_count": null,
      "outputs": []
    },
    {
      "cell_type": "code",
      "metadata": {
        "id": "BXqlGBAP-hW0"
      },
      "source": [
        "'''\n",
        "#Defino una función para lematizar\n",
        "def text_data_lemma(sentence):\n",
        "    doc = nlp(sentence)\n",
        "    \n",
        "    clean_tokens = []\n",
        "    for token in doc:\n",
        "        if (token.pos_ not in excluded_pos and str(token) not in stopwords_spacy and len(token.text)>2): \n",
        "            temp = token.lemma_.strip()\n",
        "            clean_tokens.append(temp.lower())\n",
        "    \n",
        "    return clean_tokens\n",
        "'''"
      ],
      "execution_count": null,
      "outputs": []
    },
    {
      "cell_type": "markdown",
      "metadata": {
        "id": "e1vg_iljBsbB"
      },
      "source": [
        "Una vez que está definida la función de lematizar, se la aplicamos al df, para crear una lista con cada uno de los comentarios lematizados.\n",
        "Es un proceso muy exigente a nivel computacional, por lo que cambiaremos el tipo de entorno de ejecución por una GPU."
      ]
    },
    {
      "cell_type": "markdown",
      "metadata": {
        "id": "thySFOezB3Gp"
      },
      "source": [
        "La siguiente celda está comentada para no volverse a ejecutar. La operación tuvo un tiempo de 3 horas y 38 minutos."
      ]
    },
    {
      "cell_type": "code",
      "metadata": {
        "colab": {
          "base_uri": "https://localhost:8080/"
        },
        "id": "KQcgJOOI-hUK",
        "outputId": "b60575af-1ba0-405e-9b54-ad444c37c7db"
      },
      "source": [
        "# Limpiamos todas las reviews con lemmatizer\n",
        "# %%time\n",
        "# reviews_lemma = []\n",
        "# for i in df.index:\n",
        "#     rev = text_data_lemma(df.review_body.iloc[i])\n",
        "#     reviews_lemma.append(\" \".join(rev))\n",
        "# reviews_lemma[:5]"
      ],
      "execution_count": null,
      "outputs": [
        {
          "output_type": "stream",
          "text": [
            "CPU times: user 3h 36min 14s, sys: 2min 37s, total: 3h 38min 51s\n",
            "Wall time: 3h 38min 20s\n"
          ],
          "name": "stdout"
        }
      ]
    },
    {
      "cell_type": "markdown",
      "metadata": {
        "id": "vpYerm3tCTT9"
      },
      "source": [
        "Se creó una lista. La transformo a un pandas DataFrame y la descargo para poder trabajar en el futuro."
      ]
    },
    {
      "cell_type": "code",
      "metadata": {
        "id": "Xwg678k5224D"
      },
      "source": [
        "#Creo DataFrame a partir de la lista\n",
        "# df_lemma = pd.DataFrame(reviews_lemma)"
      ],
      "execution_count": null,
      "outputs": []
    },
    {
      "cell_type": "code",
      "metadata": {
        "id": "jum8pQ1z3wi5"
      },
      "source": [
        "# Almaceno el DF en formato csv dentro de mi Drive\n",
        "#   df_lemma.to_csv('df_lemma.csv')\n",
        "#   !cp df_lemma.csv '/content/drive/MyDrive/NLP PROJECT/df_lemma.csv'"
      ],
      "execution_count": null,
      "outputs": []
    },
    {
      "cell_type": "code",
      "metadata": {
        "id": "xD-0h_dD5YGE"
      },
      "source": [
        "#Descargo desde Google Drive\n",
        "lemma = pd.read_csv('/content/drive/MyDrive/NLP PROJECT/df_lemma.csv')"
      ],
      "execution_count": null,
      "outputs": []
    },
    {
      "cell_type": "code",
      "metadata": {
        "id": "kReoLM3S67nY",
        "colab": {
          "base_uri": "https://localhost:8080/",
          "height": 204
        },
        "outputId": "c87c757e-d52b-4a4a-b82b-7078f7e137bc"
      },
      "source": [
        "#Asigno nueva columna al df con el que vamos a trabajar\n",
        "df['review_body_lemma']= lemma['0']\n",
        "df.tail()"
      ],
      "execution_count": null,
      "outputs": [
        {
          "output_type": "execute_result",
          "data": {
            "text/html": [
              "<div>\n",
              "<style scoped>\n",
              "    .dataframe tbody tr th:only-of-type {\n",
              "        vertical-align: middle;\n",
              "    }\n",
              "\n",
              "    .dataframe tbody tr th {\n",
              "        vertical-align: top;\n",
              "    }\n",
              "\n",
              "    .dataframe thead th {\n",
              "        text-align: right;\n",
              "    }\n",
              "</style>\n",
              "<table border=\"1\" class=\"dataframe\">\n",
              "  <thead>\n",
              "    <tr style=\"text-align: right;\">\n",
              "      <th></th>\n",
              "      <th>stars</th>\n",
              "      <th>review_body</th>\n",
              "      <th>review_body_stemm</th>\n",
              "      <th>review_body_lemma</th>\n",
              "    </tr>\n",
              "  </thead>\n",
              "  <tbody>\n",
              "    <tr>\n",
              "      <th>209995</th>\n",
              "      <td>5</td>\n",
              "      <td>cuesta perfecto cumple funcion sobra ademas pe...</td>\n",
              "      <td>cuest perfect cumpl funcion sobr adem pequ cam...</td>\n",
              "      <td>costar perfecto cumplir funcion sobrar pecar c...</td>\n",
              "    </tr>\n",
              "    <tr>\n",
              "      <th>209996</th>\n",
              "      <td>5</td>\n",
              "      <td>material flexible comodo acorde descripcion</td>\n",
              "      <td>material flexibl comod acord descripcion</td>\n",
              "      <td>material flexible acorde descripcion</td>\n",
              "    </tr>\n",
              "    <tr>\n",
              "      <th>209997</th>\n",
              "      <td>5</td>\n",
              "      <td>bien grabado</td>\n",
              "      <td>bien grab</td>\n",
              "      <td>grabar</td>\n",
              "    </tr>\n",
              "    <tr>\n",
              "      <th>209998</th>\n",
              "      <td>5</td>\n",
              "      <td>compre bici finalmente quedado xiaomi scooter ...</td>\n",
              "      <td>compr bici final qued xiaomi scoot pint model ...</td>\n",
              "      <td>comprar bici finalmente quedar xiaomi scooter ...</td>\n",
              "    </tr>\n",
              "    <tr>\n",
              "      <th>209999</th>\n",
              "      <td>5</td>\n",
              "      <td>pues tipo cascos inalambricos verdad no van at...</td>\n",
              "      <td>pues tip casc inalambr verd atad gom tipic per...</td>\n",
              "      <td>tipo casco inalambricos atar goma tipica perde...</td>\n",
              "    </tr>\n",
              "  </tbody>\n",
              "</table>\n",
              "</div>"
            ],
            "text/plain": [
              "        stars  ...                                  review_body_lemma\n",
              "209995      5  ...  costar perfecto cumplir funcion sobrar pecar c...\n",
              "209996      5  ...               material flexible acorde descripcion\n",
              "209997      5  ...                                             grabar\n",
              "209998      5  ...  comprar bici finalmente quedar xiaomi scooter ...\n",
              "209999      5  ...  tipo casco inalambricos atar goma tipica perde...\n",
              "\n",
              "[5 rows x 4 columns]"
            ]
          },
          "metadata": {
            "tags": []
          },
          "execution_count": 31
        }
      ]
    },
    {
      "cell_type": "markdown",
      "metadata": {
        "id": "NnJ_qbAXEmlb"
      },
      "source": [
        "<font color='red'>Opción alternativa para lematización:</font> Si bien, es un proceso muy intenso, se puede dividir este código en chunks o \"batchs\" para ejecutar la tarea de manera mas ordenada/controlada.\n",
        "\n",
        "De tal manera que el codigo vaya lematizando de X cantidad de comentarios, y una vez que termina esa tanda o batch de comentarios, almacena y continua con el segundo batch. \n",
        "\n",
        "Dejo el código de la ejecución en chunks. Faltaría agregarle algunas líneas para el almacenamiento del csv lematizado.\n",
        "\n",
        "A diferencia del proceso que yo hice, esta ejecución por batchs se basa en la lematización de la librería ConTexto(basada en Stanza) "
      ]
    },
    {
      "cell_type": "code",
      "metadata": {
        "id": "53ckeIpNFzta"
      },
      "source": [
        "'''\n",
        "#Parte 1\n",
        "# Crear lematizador de ConTexto\n",
        "!pip install contexto\n",
        "from contexto.lematizacion import LematizadorStanza\n",
        "from contexto.lematizacion import lematizar_texto\n",
        "import stanza\n",
        "'''"
      ],
      "execution_count": null,
      "outputs": []
    },
    {
      "cell_type": "code",
      "metadata": {
        "id": "x8NeQlFaFh6f"
      },
      "source": [
        "'''\n",
        "#Parte 2 \n",
        "#Leamtizador en chunks o batchs\n",
        "%%time\n",
        "s = 0 # desde donde empieza el chunk\n",
        "f = 500 # desde donde termina el chunk\n",
        "c = 1 # contador de vueltas del cíclo \n",
        "lista_lemma = []\n",
        "\n",
        "while c != 11 :  \n",
        "  chunk = prueba_1[s:f]\n",
        "  lematizador = LematizadorStanza('es')\n",
        "  # Se aplica la función de lematización sobre el chunk\n",
        "  chunk_lematizado = [lematizar_texto(i,lematizador=lematizador, limpiar = False) for i in chunk]\n",
        "  lista_lemma.append(chunk_lematizado)\n",
        "  print('Chunk Nº', c, ' lematizado!')\n",
        "  c = c+1 \n",
        "  s = s + 500 \n",
        "  f = f + 500\n",
        "  \n",
        "\n",
        "#Parte 2: Convertir a lista que contenga una review x Indice\n",
        "import itertools\n",
        "lista_lemma = list(itertools.chain(*lista_lemma))\n",
        "\n",
        "#Parte 3: Convertir a Serie y unir con stars\n",
        "prueba_1_lemma = pd.Series(lista_lemma)\n",
        "prueba_1_lemma\n",
        "'''"
      ],
      "execution_count": null,
      "outputs": []
    },
    {
      "cell_type": "markdown",
      "metadata": {
        "id": "h-6VRHePGi2n"
      },
      "source": [
        "Este lematizador en chunks está pensado para lematizar un df de 5.000 comentarios, en donde cada batch representa 500 transformaciones. Es decir, van a haber 10 batch (c=10) de 500 lematizaciones cada uno (s y f con un paso =500).\n",
        "\n",
        "Fácilmente ajustable, solamente cambiar los parametros `s` y `f` en función del tamaño de batch a lematizar (`Cambiar afuera y adentro del cíclo while`).\n",
        "\n",
        "Por otra parte cambiar el valor del cíclo `while` en función de la cantidad de batchs a lematizar (Ojo cambiar `while c != (Nº de batchs + 1) :`).\n",
        "\n",
        " Por ejemplo, queremos hacer 56 batchs. `while c!= 57 :` \n"
      ]
    },
    {
      "cell_type": "markdown",
      "metadata": {
        "id": "w-TDYTLKX1Jc"
      },
      "source": [
        "## **DF Normalizado.**"
      ]
    },
    {
      "cell_type": "markdown",
      "metadata": {
        "id": "EDanZU34YCpF"
      },
      "source": [
        "Ahora tenemos en el df 4 columnas:\n",
        "\n",
        "1.   `review_body` : corresponden a todos los comentarios normalizados en la etapa de Data Cleaning\n",
        "2.   `review_body_stemm`: corresponde a todos los comentarios normalizados con Data Cleaning y luego Stemizados.\n",
        "\n",
        "3. `review_body_lemma`: corresponde a todos los comentarios normalizados con Data Cleaning y luego Lematizados.\n",
        "\n",
        "4. `Stars`: va a ser el target de nuestro ML model\n",
        "\n"
      ]
    },
    {
      "cell_type": "markdown",
      "metadata": {
        "id": "ZaKSx5_AY92a"
      },
      "source": [
        "Guardamos la base de datos para poder utilizarla más adelante"
      ]
    },
    {
      "cell_type": "code",
      "metadata": {
        "id": "Pof0nRVZX0FJ"
      },
      "source": [
        "# Almaceno el DF en formato csv dentro de mi Drive\n",
        "#df.to_csv('df_normalizado.csv')\n",
        "#!cp df_normalizado.csv '/content/drive/MyDrive/NLP PROJECT/df_normalizado.csv'"
      ],
      "execution_count": null,
      "outputs": []
    },
    {
      "cell_type": "code",
      "metadata": {
        "colab": {
          "base_uri": "https://localhost:8080/",
          "height": 0
        },
        "id": "otKOhwxLDkrb",
        "outputId": "d9e04f51-0061-4b7f-8443-376ae5edc548"
      },
      "source": [
        "df = pd.read_csv('/content/drive/MyDrive/NLP PROJECT/df_normalizado.csv')\n",
        "df=df.drop('Unnamed: 0',axis=1)\n",
        "df"
      ],
      "execution_count": 3,
      "outputs": [
        {
          "output_type": "execute_result",
          "data": {
            "text/html": [
              "<div>\n",
              "<style scoped>\n",
              "    .dataframe tbody tr th:only-of-type {\n",
              "        vertical-align: middle;\n",
              "    }\n",
              "\n",
              "    .dataframe tbody tr th {\n",
              "        vertical-align: top;\n",
              "    }\n",
              "\n",
              "    .dataframe thead th {\n",
              "        text-align: right;\n",
              "    }\n",
              "</style>\n",
              "<table border=\"1\" class=\"dataframe\">\n",
              "  <thead>\n",
              "    <tr style=\"text-align: right;\">\n",
              "      <th></th>\n",
              "      <th>stars</th>\n",
              "      <th>review_body</th>\n",
              "      <th>review_body_stemm</th>\n",
              "      <th>review_body_lemma</th>\n",
              "    </tr>\n",
              "  </thead>\n",
              "  <tbody>\n",
              "    <tr>\n",
              "      <th>0</th>\n",
              "      <td>1</td>\n",
              "      <td>malisimo grande demasiado aparatoso mal protec...</td>\n",
              "      <td>malisim grand demasi aparat protector pantall</td>\n",
              "      <td>malisimo grande aparatoso protector pantalla</td>\n",
              "    </tr>\n",
              "    <tr>\n",
              "      <th>1</th>\n",
              "      <td>1</td>\n",
              "      <td>no recibido pedido no devolucion</td>\n",
              "      <td>recib ped devolucion</td>\n",
              "      <td>recibir pedir devolucion</td>\n",
              "    </tr>\n",
              "    <tr>\n",
              "      <th>2</th>\n",
              "      <td>1</td>\n",
              "      <td>buscar sistema no funciona bien abrazadera lle...</td>\n",
              "      <td>busc sistem funcion bien abrazader llev agarr ...</td>\n",
              "      <td>buscar sistema funcionar abrazadera agarrar ma...</td>\n",
              "    </tr>\n",
              "    <tr>\n",
              "      <th>3</th>\n",
              "      <td>1</td>\n",
              "      <td>utilice brocas menor diametro doblaron varias ...</td>\n",
              "      <td>utilic broc menor diametr dobl vari mantequill...</td>\n",
              "      <td>utilizar broca menor diametro doblar mantequil...</td>\n",
              "    </tr>\n",
              "    <tr>\n",
              "      <th>4</th>\n",
              "      <td>1</td>\n",
              "      <td>no gusta olor viejo aspecto malo</td>\n",
              "      <td>gust olor viej aspect mal</td>\n",
              "      <td>gustar olor viejo aspecto malo</td>\n",
              "    </tr>\n",
              "    <tr>\n",
              "      <th>...</th>\n",
              "      <td>...</td>\n",
              "      <td>...</td>\n",
              "      <td>...</td>\n",
              "      <td>...</td>\n",
              "    </tr>\n",
              "    <tr>\n",
              "      <th>209995</th>\n",
              "      <td>5</td>\n",
              "      <td>cuesta perfecto cumple funcion sobra ademas pe...</td>\n",
              "      <td>cuest perfect cumpl funcion sobr adem pequ cam...</td>\n",
              "      <td>costar perfecto cumplir funcion sobrar pecar c...</td>\n",
              "    </tr>\n",
              "    <tr>\n",
              "      <th>209996</th>\n",
              "      <td>5</td>\n",
              "      <td>material flexible comodo acorde descripcion</td>\n",
              "      <td>material flexibl comod acord descripcion</td>\n",
              "      <td>material flexible acorde descripcion</td>\n",
              "    </tr>\n",
              "    <tr>\n",
              "      <th>209997</th>\n",
              "      <td>5</td>\n",
              "      <td>bien grabado</td>\n",
              "      <td>bien grab</td>\n",
              "      <td>grabar</td>\n",
              "    </tr>\n",
              "    <tr>\n",
              "      <th>209998</th>\n",
              "      <td>5</td>\n",
              "      <td>compre bici finalmente quedado xiaomi scooter ...</td>\n",
              "      <td>compr bici final qued xiaomi scoot pint model ...</td>\n",
              "      <td>comprar bici finalmente quedar xiaomi scooter ...</td>\n",
              "    </tr>\n",
              "    <tr>\n",
              "      <th>209999</th>\n",
              "      <td>5</td>\n",
              "      <td>pues tipo cascos inalambricos verdad no van at...</td>\n",
              "      <td>pues tip casc inalambr verd atad gom tipic per...</td>\n",
              "      <td>tipo casco inalambricos atar goma tipica perde...</td>\n",
              "    </tr>\n",
              "  </tbody>\n",
              "</table>\n",
              "<p>210000 rows × 4 columns</p>\n",
              "</div>"
            ],
            "text/plain": [
              "        stars  ...                                  review_body_lemma\n",
              "0           1  ...       malisimo grande aparatoso protector pantalla\n",
              "1           1  ...                           recibir pedir devolucion\n",
              "2           1  ...  buscar sistema funcionar abrazadera agarrar ma...\n",
              "3           1  ...  utilizar broca menor diametro doblar mantequil...\n",
              "4           1  ...                     gustar olor viejo aspecto malo\n",
              "...       ...  ...                                                ...\n",
              "209995      5  ...  costar perfecto cumplir funcion sobrar pecar c...\n",
              "209996      5  ...               material flexible acorde descripcion\n",
              "209997      5  ...                                             grabar\n",
              "209998      5  ...  comprar bici finalmente quedar xiaomi scooter ...\n",
              "209999      5  ...  tipo casco inalambricos atar goma tipica perde...\n",
              "\n",
              "[210000 rows x 4 columns]"
            ]
          },
          "metadata": {
            "tags": []
          },
          "execution_count": 3
        }
      ]
    },
    {
      "cell_type": "markdown",
      "metadata": {
        "id": "f4DNb4TgNFM0"
      },
      "source": [
        "Eliminación de instancias faltantes\n"
      ]
    },
    {
      "cell_type": "code",
      "metadata": {
        "colab": {
          "base_uri": "https://localhost:8080/"
        },
        "id": "gIGkzSmQEd0n",
        "outputId": "42bbec92-0ddc-4db8-a644-d565a9eaf871"
      },
      "source": [
        "#Verificamos que no se hayan perdido datos en el proceso\n",
        "df.isna().sum().sum()"
      ],
      "execution_count": 4,
      "outputs": [
        {
          "output_type": "execute_result",
          "data": {
            "text/plain": [
              "170"
            ]
          },
          "metadata": {
            "tags": []
          },
          "execution_count": 4
        }
      ]
    },
    {
      "cell_type": "code",
      "metadata": {
        "id": "a5NEK11pFhF5"
      },
      "source": [
        "# Dado que se perdieron 170 datos en total, los eliminaremos\n",
        "df = df.dropna()"
      ],
      "execution_count": 5,
      "outputs": []
    },
    {
      "cell_type": "code",
      "metadata": {
        "colab": {
          "base_uri": "https://localhost:8080/"
        },
        "id": "P6SzsLseFlB9",
        "outputId": "4931c1d7-4015-4028-ea55-3f7bd87fea97"
      },
      "source": [
        "# Verificamos\n",
        "df.isna().sum().sum()"
      ],
      "execution_count": 6,
      "outputs": [
        {
          "output_type": "execute_result",
          "data": {
            "text/plain": [
              "0"
            ]
          },
          "metadata": {
            "tags": []
          },
          "execution_count": 6
        }
      ]
    },
    {
      "cell_type": "markdown",
      "metadata": {
        "id": "rYRbttY5kCYX"
      },
      "source": [
        "# **3 - Vectorización**"
      ]
    },
    {
      "cell_type": "markdown",
      "metadata": {
        "id": "zdGiUnxWa7bM"
      },
      "source": [
        "Vamos a comparar que tipo de vectorización hará más favorable el resultado. Vamos a probar 5 modelos diferentes de bag of words:\n",
        "\n",
        "\n",
        "1.   `Count Vectorizer`\n",
        "2.   `TF`\n",
        "3. `TF - IDF: Uni-grama`\n",
        "4. `TF - IDF: Uni-grama + Bi-grama`\n",
        "5. `TF - IDF: Bi-grama`\n",
        "\n",
        "Para la elección del método, vamos a utilizar en todos los casos, el mismo modelo de ML, un Linear SVC\n"
      ]
    },
    {
      "cell_type": "code",
      "metadata": {
        "id": "cgX5TMHWawzU"
      },
      "source": [
        "# TT split\n",
        "from sklearn.model_selection import train_test_split\n",
        "\n",
        "#Pipeline\n",
        "from sklearn.pipeline import Pipeline\n",
        "\n",
        "# Bag of Words\n",
        "from sklearn.feature_extraction.text import TfidfVectorizer\n",
        "from sklearn.feature_extraction.text import CountVectorizer\n",
        "\n",
        "# Modelos\n",
        "from sklearn.svm import LinearSVC\n",
        "from sklearn.ensemble import RandomForestClassifier\n",
        "from sklearn.naive_bayes import GaussianNB\n",
        "\n",
        "#Cross Validation\n",
        "from sklearn.model_selection import KFold\n",
        "from sklearn.model_selection import cross_val_score\n",
        "from sklearn.model_selection import cross_validate\n",
        "\n",
        "#Optimización hiperparámetros\n",
        "from sklearn.model_selection import RandomizedSearchCV\n",
        "from sklearn.model_selection import GridSearchCV\n",
        "\n",
        "\n",
        "# Métricas\n",
        "from sklearn.metrics import accuracy_score\n",
        "from sklearn.metrics import classification_report\n",
        "from sklearn.metrics import confusion_matrix"
      ],
      "execution_count": 18,
      "outputs": []
    },
    {
      "cell_type": "markdown",
      "metadata": {
        "id": "Uj75KzUpaoYd"
      },
      "source": [
        "## **Análisis del vectorizador**"
      ]
    },
    {
      "cell_type": "markdown",
      "metadata": {
        "id": "oe45tGaSchz-"
      },
      "source": [
        "Elección del input. ¿ Data Cleaning, Stemming o Lematization ?"
      ]
    },
    {
      "cell_type": "code",
      "metadata": {
        "id": "jm05tjbJkEmk"
      },
      "source": [
        "# Data Cleaning\n",
        "reviews = df['review_body'].values\n",
        "stars = df['stars'].values\n",
        "\n",
        "# Stemming\n",
        "#reviews = df['review_body_stemm'].values\n",
        "#stars = df['stars'].values\n",
        "\n",
        "#Lemmatization\n",
        "# reviews = list(df['review_body_lemma'].values)\n",
        "# stars = df['stars']"
      ],
      "execution_count": null,
      "outputs": []
    },
    {
      "cell_type": "code",
      "metadata": {
        "id": "cAr8kxjUkEj8"
      },
      "source": [
        "#Train Test Split\n",
        "X_train, X_test, ytrain, ytest = train_test_split(reviews,stars,test_size=0.3,\n",
        "                                                  random_state=42,stratify=stars)"
      ],
      "execution_count": null,
      "outputs": []
    },
    {
      "cell_type": "markdown",
      "metadata": {
        "id": "PemvZk1U2ovy"
      },
      "source": [
        "### **CountVectorizer**"
      ]
    },
    {
      "cell_type": "code",
      "metadata": {
        "colab": {
          "base_uri": "https://localhost:8080/"
        },
        "id": "3xwjxopPjZ9i",
        "outputId": "2de239ac-3d2a-4b33-80ac-7440ee43c257"
      },
      "source": [
        "# Se instancia el count vectorizer\n",
        "# Se instancia el clasificador SVC lineal\n",
        "# Se crea un pipeline para procesar lo anterior\n",
        "clf = Pipeline([('CVec', CountVectorizer()), ('svc_clf', LinearSVC())], verbose=3)\n",
        "\n",
        "# Se hace el ajuste sobre los datos de entrenamiento lematizados y sobre los datos de target de entrenamiento\n",
        "clf.fit(X_train, ytrain)"
      ],
      "execution_count": null,
      "outputs": [
        {
          "output_type": "stream",
          "text": [
            "[Pipeline] .............. (step 1 of 2) Processing CVec, total=   2.4s\n",
            "[Pipeline] ........... (step 2 of 2) Processing svc_clf, total= 4.0min\n"
          ],
          "name": "stdout"
        },
        {
          "output_type": "stream",
          "text": [
            "/usr/local/lib/python3.7/dist-packages/sklearn/svm/_base.py:947: ConvergenceWarning: Liblinear failed to converge, increase the number of iterations.\n",
            "  \"the number of iterations.\", ConvergenceWarning)\n"
          ],
          "name": "stderr"
        },
        {
          "output_type": "execute_result",
          "data": {
            "text/plain": [
              "Pipeline(memory=None,\n",
              "         steps=[('CVec',\n",
              "                 CountVectorizer(analyzer='word', binary=False,\n",
              "                                 decode_error='strict',\n",
              "                                 dtype=<class 'numpy.int64'>, encoding='utf-8',\n",
              "                                 input='content', lowercase=True, max_df=1.0,\n",
              "                                 max_features=None, min_df=1,\n",
              "                                 ngram_range=(1, 1), preprocessor=None,\n",
              "                                 stop_words=None, strip_accents=None,\n",
              "                                 token_pattern='(?u)\\\\b\\\\w\\\\w+\\\\b',\n",
              "                                 tokenizer=None, vocabulary=None)),\n",
              "                ('svc_clf',\n",
              "                 LinearSVC(C=1.0, class_weight=None, dual=True,\n",
              "                           fit_intercept=True, intercept_scaling=1,\n",
              "                           loss='squared_hinge', max_iter=1000,\n",
              "                           multi_class='ovr', penalty='l2', random_state=None,\n",
              "                           tol=0.0001, verbose=0))],\n",
              "         verbose=3)"
            ]
          },
          "metadata": {
            "tags": []
          },
          "execution_count": 44
        }
      ]
    },
    {
      "cell_type": "code",
      "metadata": {
        "id": "p2fl8wiDkEFB"
      },
      "source": [
        "y_pred = clf.predict(X_test)"
      ],
      "execution_count": null,
      "outputs": []
    },
    {
      "cell_type": "code",
      "metadata": {
        "colab": {
          "base_uri": "https://localhost:8080/"
        },
        "id": "JP763121jZ4d",
        "outputId": "950f47f9-916a-4083-c7f5-313e50921dda"
      },
      "source": [
        "print(classification_report(ytest, y_pred))"
      ],
      "execution_count": null,
      "outputs": [
        {
          "output_type": "stream",
          "text": [
            "              precision    recall  f1-score   support\n",
            "\n",
            "           1       0.57      0.65      0.61     12596\n",
            "           2       0.38      0.33      0.35     12595\n",
            "           3       0.35      0.30      0.32     12588\n",
            "           4       0.38      0.35      0.37     12587\n",
            "           5       0.54      0.64      0.58     12586\n",
            "\n",
            "    accuracy                           0.45     62952\n",
            "   macro avg       0.44      0.45      0.45     62952\n",
            "weighted avg       0.44      0.45      0.45     62952\n",
            "\n"
          ],
          "name": "stdout"
        }
      ]
    },
    {
      "cell_type": "markdown",
      "metadata": {
        "id": "vx-3Jdl121En"
      },
      "source": [
        "### **TFIDF: Bigrama**\n"
      ]
    },
    {
      "cell_type": "code",
      "metadata": {
        "colab": {
          "base_uri": "https://localhost:8080/"
        },
        "id": "Mp3TStv4z0oH",
        "outputId": "0f6bdad9-c588-4bcb-e13c-20be46582ff9"
      },
      "source": [
        "# Se instancia TFIDF tomando en cuenta bigramas\n",
        "# Se instancia el clasificador SVC lineal\n",
        "# Se crea un pipeline con lo anterior\n",
        "clf2 = Pipeline([('tfidf_ngram2', TfidfVectorizer(ngram_range=(2,2))), ('svc_clf2', LinearSVC())], verbose=3)\n",
        "\n",
        "# Se hace el ajuste sobre los datos de entrenamiento lematizados y sobre los datos de target de entrenamiento\n",
        "clf2.fit(X_train, ytrain)"
      ],
      "execution_count": null,
      "outputs": [
        {
          "output_type": "stream",
          "text": [
            "[Pipeline] ...... (step 1 of 2) Processing tfidf_ngram2, total=  11.1s\n",
            "[Pipeline] .......... (step 2 of 2) Processing svc_clf2, total=  18.2s\n"
          ],
          "name": "stdout"
        },
        {
          "output_type": "execute_result",
          "data": {
            "text/plain": [
              "Pipeline(memory=None,\n",
              "         steps=[('tfidf_ngram2',\n",
              "                 TfidfVectorizer(analyzer='word', binary=False,\n",
              "                                 decode_error='strict',\n",
              "                                 dtype=<class 'numpy.float64'>,\n",
              "                                 encoding='utf-8', input='content',\n",
              "                                 lowercase=True, max_df=1.0, max_features=None,\n",
              "                                 min_df=1, ngram_range=(2, 2), norm='l2',\n",
              "                                 preprocessor=None, smooth_idf=True,\n",
              "                                 stop_words=None, strip_accents=None,\n",
              "                                 sublinear_tf=False,\n",
              "                                 token_pattern='(?u)\\\\b\\\\w\\\\w+\\\\b',\n",
              "                                 tokenizer=None, use_idf=True,\n",
              "                                 vocabulary=None)),\n",
              "                ('svc_clf2',\n",
              "                 LinearSVC(C=1.0, class_weight=None, dual=True,\n",
              "                           fit_intercept=True, intercept_scaling=1,\n",
              "                           loss='squared_hinge', max_iter=1000,\n",
              "                           multi_class='ovr', penalty='l2', random_state=None,\n",
              "                           tol=0.0001, verbose=0))],\n",
              "         verbose=3)"
            ]
          },
          "metadata": {
            "tags": []
          },
          "execution_count": 47
        }
      ]
    },
    {
      "cell_type": "code",
      "metadata": {
        "id": "mcM8rjs8z0mC"
      },
      "source": [
        "y_pred = clf2.predict(X_test)"
      ],
      "execution_count": null,
      "outputs": []
    },
    {
      "cell_type": "code",
      "metadata": {
        "colab": {
          "base_uri": "https://localhost:8080/"
        },
        "id": "yMivEE34z0h8",
        "outputId": "7ffcba3a-1547-4324-e039-47bcf2422720"
      },
      "source": [
        "print(classification_report(ytest, y_pred))"
      ],
      "execution_count": null,
      "outputs": [
        {
          "output_type": "stream",
          "text": [
            "              precision    recall  f1-score   support\n",
            "\n",
            "           1       0.58      0.65      0.61     12596\n",
            "           2       0.39      0.37      0.38     12595\n",
            "           3       0.36      0.30      0.33     12588\n",
            "           4       0.39      0.37      0.38     12587\n",
            "           5       0.51      0.60      0.55     12586\n",
            "\n",
            "    accuracy                           0.46     62952\n",
            "   macro avg       0.45      0.46      0.45     62952\n",
            "weighted avg       0.45      0.46      0.45     62952\n",
            "\n"
          ],
          "name": "stdout"
        }
      ]
    },
    {
      "cell_type": "code",
      "metadata": {
        "id": "4hZjIB4hz0el"
      },
      "source": [
        ""
      ],
      "execution_count": null,
      "outputs": []
    },
    {
      "cell_type": "markdown",
      "metadata": {
        "id": "V3k3ejWN2ixE"
      },
      "source": [
        "### **TF-IDF: Unigrama**"
      ]
    },
    {
      "cell_type": "code",
      "metadata": {
        "colab": {
          "base_uri": "https://localhost:8080/"
        },
        "id": "OfqFCWFchvCY",
        "outputId": "d0a5b0fa-d770-4e16-9c44-1d508207533f"
      },
      "source": [
        "# Se instancia TF-IDF teniendo en cuenta unigramas \n",
        "# Se instancia el clasificador SVC lineal\n",
        "# Se crea un pipeline para procesar lo anterior\n",
        "clf = Pipeline([('tfidf', TfidfVectorizer()), ('svc_clf', LinearSVC())], verbose=3)\n",
        "\n",
        "# Se hace el ajuste sobre los datos de entrenamiento lematizados y sobre los datos de target de entrenamiento\n",
        "clf.fit(X_train, ytrain)"
      ],
      "execution_count": null,
      "outputs": [
        {
          "output_type": "stream",
          "text": [
            "[Pipeline] ............. (step 1 of 2) Processing tfidf, total=   2.6s\n",
            "[Pipeline] ........... (step 2 of 2) Processing svc_clf, total=  14.4s\n"
          ],
          "name": "stdout"
        },
        {
          "output_type": "execute_result",
          "data": {
            "text/plain": [
              "Pipeline(memory=None,\n",
              "         steps=[('tfidf',\n",
              "                 TfidfVectorizer(analyzer='word', binary=False,\n",
              "                                 decode_error='strict',\n",
              "                                 dtype=<class 'numpy.float64'>,\n",
              "                                 encoding='utf-8', input='content',\n",
              "                                 lowercase=True, max_df=1.0, max_features=None,\n",
              "                                 min_df=1, ngram_range=(1, 1), norm='l2',\n",
              "                                 preprocessor=None, smooth_idf=True,\n",
              "                                 stop_words=None, strip_accents=None,\n",
              "                                 sublinear_tf=False,\n",
              "                                 token_pattern='(?u)\\\\b\\\\w\\\\w+\\\\b',\n",
              "                                 tokenizer=None, use_idf=True,\n",
              "                                 vocabulary=None)),\n",
              "                ('svc_clf',\n",
              "                 LinearSVC(C=1.0, class_weight=None, dual=True,\n",
              "                           fit_intercept=True, intercept_scaling=1,\n",
              "                           loss='squared_hinge', max_iter=1000,\n",
              "                           multi_class='ovr', penalty='l2', random_state=None,\n",
              "                           tol=0.0001, verbose=0))],\n",
              "         verbose=3)"
            ]
          },
          "metadata": {
            "tags": []
          },
          "execution_count": 50
        }
      ]
    },
    {
      "cell_type": "code",
      "metadata": {
        "id": "p6LV-Hqyhu_i"
      },
      "source": [
        "y_pred = clf.predict(X_test)"
      ],
      "execution_count": null,
      "outputs": []
    },
    {
      "cell_type": "code",
      "metadata": {
        "colab": {
          "base_uri": "https://localhost:8080/"
        },
        "id": "baDHF-g4hu82",
        "outputId": "76b050df-8fbf-4e49-d975-9126e41b0248"
      },
      "source": [
        "print(classification_report(ytest, y_pred))"
      ],
      "execution_count": null,
      "outputs": [
        {
          "output_type": "stream",
          "text": [
            "              precision    recall  f1-score   support\n",
            "\n",
            "           1       0.58      0.67      0.63     12596\n",
            "           2       0.38      0.36      0.37     12595\n",
            "           3       0.36      0.31      0.33     12588\n",
            "           4       0.40      0.35      0.37     12587\n",
            "           5       0.55      0.66      0.60     12586\n",
            "\n",
            "    accuracy                           0.47     62952\n",
            "   macro avg       0.46      0.47      0.46     62952\n",
            "weighted avg       0.46      0.47      0.46     62952\n",
            "\n"
          ],
          "name": "stdout"
        }
      ]
    },
    {
      "cell_type": "markdown",
      "metadata": {
        "id": "TLmEk0wi2srZ"
      },
      "source": [
        "### **TF**"
      ]
    },
    {
      "cell_type": "code",
      "metadata": {
        "colab": {
          "base_uri": "https://localhost:8080/"
        },
        "id": "0O4A01czjZ1a",
        "outputId": "e9115346-bab8-4919-ee8b-5e9762be30a2"
      },
      "source": [
        "# Se instancia TF\n",
        "# Se instancia el clasificador SVC lineal\n",
        "# Se crea un pipeline para procesar lo anterior\n",
        "clf = Pipeline([('CVec', TfidfVectorizer(use_idf=False, norm='l2')), ('svc_clf', LinearSVC())], verbose=3)\n",
        "\n",
        "# Se hace el ajuste sobre los datos de entrenamiento lematizados y sobre los datos de target de entrenamiento\n",
        "clf.fit(X_train, ytrain)"
      ],
      "execution_count": null,
      "outputs": [
        {
          "output_type": "stream",
          "text": [
            "[Pipeline] .............. (step 1 of 2) Processing CVec, total=   2.5s\n",
            "[Pipeline] ........... (step 2 of 2) Processing svc_clf, total=  15.5s\n"
          ],
          "name": "stdout"
        },
        {
          "output_type": "execute_result",
          "data": {
            "text/plain": [
              "Pipeline(memory=None,\n",
              "         steps=[('CVec',\n",
              "                 TfidfVectorizer(analyzer='word', binary=False,\n",
              "                                 decode_error='strict',\n",
              "                                 dtype=<class 'numpy.float64'>,\n",
              "                                 encoding='utf-8', input='content',\n",
              "                                 lowercase=True, max_df=1.0, max_features=None,\n",
              "                                 min_df=1, ngram_range=(1, 1), norm='l2',\n",
              "                                 preprocessor=None, smooth_idf=True,\n",
              "                                 stop_words=None, strip_accents=None,\n",
              "                                 sublinear_tf=False,\n",
              "                                 token_pattern='(?u)\\\\b\\\\w\\\\w+\\\\b',\n",
              "                                 tokenizer=None, use_idf=False,\n",
              "                                 vocabulary=None)),\n",
              "                ('svc_clf',\n",
              "                 LinearSVC(C=1.0, class_weight=None, dual=True,\n",
              "                           fit_intercept=True, intercept_scaling=1,\n",
              "                           loss='squared_hinge', max_iter=1000,\n",
              "                           multi_class='ovr', penalty='l2', random_state=None,\n",
              "                           tol=0.0001, verbose=0))],\n",
              "         verbose=3)"
            ]
          },
          "metadata": {
            "tags": []
          },
          "execution_count": 59
        }
      ]
    },
    {
      "cell_type": "code",
      "metadata": {
        "id": "k5B8bupVyj2R"
      },
      "source": [
        "y_pred = clf.predict(X_test)"
      ],
      "execution_count": null,
      "outputs": []
    },
    {
      "cell_type": "code",
      "metadata": {
        "colab": {
          "base_uri": "https://localhost:8080/"
        },
        "id": "snjOQUYMyjwB",
        "outputId": "afc1ce2d-21d6-422a-afaf-074ed839b298"
      },
      "source": [
        "print(classification_report(ytest, y_pred))"
      ],
      "execution_count": null,
      "outputs": [
        {
          "output_type": "stream",
          "text": [
            "              precision    recall  f1-score   support\n",
            "\n",
            "           1       0.59      0.70      0.64     12596\n",
            "           2       0.40      0.36      0.38     12595\n",
            "           3       0.38      0.31      0.34     12588\n",
            "           4       0.42      0.36      0.39     12587\n",
            "           5       0.56      0.68      0.62     12586\n",
            "\n",
            "    accuracy                           0.48     62952\n",
            "   macro avg       0.47      0.48      0.47     62952\n",
            "weighted avg       0.47      0.48      0.47     62952\n",
            "\n"
          ],
          "name": "stdout"
        }
      ]
    },
    {
      "cell_type": "markdown",
      "metadata": {
        "id": "w9yKV9wM2vbr"
      },
      "source": [
        "### **TF - IDF: Unigrama y Bigrama**"
      ]
    },
    {
      "cell_type": "code",
      "metadata": {
        "colab": {
          "base_uri": "https://localhost:8080/"
        },
        "id": "7OHHHEkazDJu",
        "outputId": "e5fa6847-36df-4a29-d3af-cde9ab5276dc"
      },
      "source": [
        "# Se instancia TF-IDF tomando en cuenta unigramas y bigramas\n",
        "# Se instancia el clasificador SVC lineal\n",
        "# Se crea un pipeline para procesar lo anterior\n",
        "clf1 = Pipeline([('tfidf_ngram', TfidfVectorizer(ngram_range=(1,2))), ('svc_clf1', LinearSVC())], verbose=3)\n",
        "\n",
        "# Se hace el ajuste sobre los datos de entrenamiento lematizados y sobre los datos de target de entrenamiento\n",
        "clf1.fit(X_train, ytrain)"
      ],
      "execution_count": null,
      "outputs": [
        {
          "output_type": "stream",
          "text": [
            "[Pipeline] ....... (step 1 of 2) Processing tfidf_ngram, total=  12.6s\n",
            "[Pipeline] .......... (step 2 of 2) Processing svc_clf1, total=  18.5s\n"
          ],
          "name": "stdout"
        },
        {
          "output_type": "execute_result",
          "data": {
            "text/plain": [
              "Pipeline(memory=None,\n",
              "         steps=[('tfidf_ngram',\n",
              "                 TfidfVectorizer(analyzer='word', binary=False,\n",
              "                                 decode_error='strict',\n",
              "                                 dtype=<class 'numpy.float64'>,\n",
              "                                 encoding='utf-8', input='content',\n",
              "                                 lowercase=True, max_df=1.0, max_features=None,\n",
              "                                 min_df=1, ngram_range=(1, 2), norm='l2',\n",
              "                                 preprocessor=None, smooth_idf=True,\n",
              "                                 stop_words=None, strip_accents=None,\n",
              "                                 sublinear_tf=False,\n",
              "                                 token_pattern='(?u)\\\\b\\\\w\\\\w+\\\\b',\n",
              "                                 tokenizer=None, use_idf=True,\n",
              "                                 vocabulary=None)),\n",
              "                ('svc_clf1',\n",
              "                 LinearSVC(C=1.0, class_weight=None, dual=True,\n",
              "                           fit_intercept=True, intercept_scaling=1,\n",
              "                           loss='squared_hinge', max_iter=1000,\n",
              "                           multi_class='ovr', penalty='l2', random_state=None,\n",
              "                           tol=0.0001, verbose=0))],\n",
              "         verbose=3)"
            ]
          },
          "metadata": {
            "tags": []
          },
          "execution_count": 56
        }
      ]
    },
    {
      "cell_type": "code",
      "metadata": {
        "id": "zNU6yBmWzDGD"
      },
      "source": [
        "y_pred = clf1.predict(X_test)"
      ],
      "execution_count": null,
      "outputs": []
    },
    {
      "cell_type": "code",
      "metadata": {
        "colab": {
          "base_uri": "https://localhost:8080/"
        },
        "id": "XPGa1KsmzDDL",
        "outputId": "f73f4ddb-73f3-4363-fbb9-12f489f76ff4"
      },
      "source": [
        "print(classification_report(ytest, y_pred))"
      ],
      "execution_count": null,
      "outputs": [
        {
          "output_type": "stream",
          "text": [
            "              precision    recall  f1-score   support\n",
            "\n",
            "           1       0.61      0.69      0.65     12596\n",
            "           2       0.41      0.40      0.41     12595\n",
            "           3       0.39      0.34      0.36     12588\n",
            "           4       0.43      0.38      0.40     12587\n",
            "           5       0.57      0.67      0.62     12586\n",
            "\n",
            "    accuracy                           0.49     62952\n",
            "   macro avg       0.48      0.49      0.49     62952\n",
            "weighted avg       0.48      0.49      0.49     62952\n",
            "\n"
          ],
          "name": "stdout"
        }
      ]
    },
    {
      "cell_type": "markdown",
      "metadata": {
        "id": "g57KEA386Htb"
      },
      "source": [
        "## **Conclusión**"
      ]
    },
    {
      "cell_type": "markdown",
      "metadata": {
        "id": "z1QVTWC66KaV"
      },
      "source": [
        "Luego de probar los 3 Datasets diferentes en los 5 pipelines del vectorizador, concluímos que en todos los casos, el que mejor métricas tuvo fue el `TD-IDF de unigramas y bigramas`"
      ]
    },
    {
      "cell_type": "markdown",
      "metadata": {
        "id": "CHk8ZrkL8gPh"
      },
      "source": [
        "## **Vectorización**"
      ]
    },
    {
      "cell_type": "code",
      "metadata": {
        "id": "C-fJ6aIGXZWn"
      },
      "source": [
        "# Data Cleaning\n",
        "reviews_cl = df['review_body'].values\n",
        "stars_cl = df['stars'].values\n",
        "\n",
        "# Stemming\n",
        "reviews_st = df['review_body_stemm'].values\n",
        "stars_st = df['stars'].values\n",
        "\n",
        "#Lemmatization\n",
        "reviews_le = list(df['review_body_lemma'].values)\n",
        "stars_le = df['stars']"
      ],
      "execution_count": 8,
      "outputs": []
    },
    {
      "cell_type": "code",
      "metadata": {
        "id": "lO33zB8lXZOs"
      },
      "source": [
        "X_train_cl, X_test_cl, ytrain_cl, ytest_cl = train_test_split(reviews_cl,stars_cl,test_size=0.3,\n",
        "                                                  random_state=42,stratify=stars_cl)"
      ],
      "execution_count": 9,
      "outputs": []
    },
    {
      "cell_type": "code",
      "metadata": {
        "id": "btd-huooXZCK"
      },
      "source": [
        "X_train_st, X_test_st, ytrain_st, ytest_st = train_test_split(reviews_st,stars_st,test_size=0.3,\n",
        "                                                  random_state=42,stratify=stars_st)"
      ],
      "execution_count": 10,
      "outputs": []
    },
    {
      "cell_type": "code",
      "metadata": {
        "id": "5Qrc2G-NX4g4"
      },
      "source": [
        "X_train_le, X_test_le, ytrain_le, ytest_le = train_test_split(reviews_le,stars_le,test_size=0.3,\n",
        "                                                  random_state=42,stratify=stars_le)"
      ],
      "execution_count": 11,
      "outputs": []
    },
    {
      "cell_type": "code",
      "metadata": {
        "id": "oIOJ1HVO8lJ8"
      },
      "source": [
        "tfidf_cl = TfidfVectorizer(max_features = 1000, ngram_range=(1,2))\n",
        "tfidf_st = TfidfVectorizer(max_features = 1000, ngram_range=(1,2))\n",
        "tfidf_le = TfidfVectorizer(max_features = 1000, ngram_range=(1,2))"
      ],
      "execution_count": 12,
      "outputs": []
    },
    {
      "cell_type": "markdown",
      "metadata": {
        "id": "k649M8knkCLV"
      },
      "source": [
        "# **4 - Modelos**"
      ]
    },
    {
      "cell_type": "markdown",
      "metadata": {
        "id": "LEKgYQTRyBGQ"
      },
      "source": [
        "## Funciones de modelos\n"
      ]
    },
    {
      "cell_type": "code",
      "metadata": {
        "id": "0DmdXeziBgbU"
      },
      "source": [
        "#Función para plotear la matriz de confusión\n",
        "from sklearn.metrics import confusion_matrix\n",
        "import seaborn as sns\n",
        "\n",
        "def confusion(ytest,y_pred):\n",
        "    stars=['1','2','3','4','5']\n",
        "    cm=confusion_matrix(ytest,y_pred)\n",
        "    f,ax=plt.subplots(figsize=(10,10))\n",
        "    sns.heatmap(cm,annot=True,linewidth=.5,linecolor=\"r\",fmt=\".0f\",ax=ax)\n",
        "    plt.xlabel(\"y_pred\")\n",
        "    plt.ylabel(\"y_true\")\n",
        "    ax.set_xticklabels(stars)\n",
        "    ax.set_yticklabels(stars)\n",
        "    plt.show()\n",
        "\n",
        "    return"
      ],
      "execution_count": 13,
      "outputs": []
    },
    {
      "cell_type": "code",
      "metadata": {
        "id": "rAfwY4tQlJpS"
      },
      "source": [
        "def evaluar_modelo(model_fit, X_train, X_test, y_train, y_test):\n",
        "    print(model_fit)\n",
        "    acc_train = model_fit.score(X_train, y_train)\n",
        "    print(\"Accuracy en train: \", round(acc_train,4))\n",
        "    y_pred = model_fit.predict(X_test)\n",
        "    acc_test = accuracy_score(y_pred, y_test)\n",
        "    print(\"Accuracy en test: \", round(acc_test,4))\n",
        "\n",
        "    print(classification_report(y_test, y_pred))\n",
        "    confusion(y_test, y_pred)\n",
        "    return  acc_train, acc_test"
      ],
      "execution_count": 14,
      "outputs": []
    },
    {
      "cell_type": "markdown",
      "metadata": {
        "id": "aVVMB_tSY04o"
      },
      "source": [
        "## **Data Clean**"
      ]
    },
    {
      "cell_type": "code",
      "metadata": {
        "id": "eLIeE8QKY3TE"
      },
      "source": [
        "#Definimos el vectorizador para Data_Clean ('review_body')\n",
        "tfidf_cl = tfidf_cl.fit(X_train_cl)\n",
        "X_train_cl = tfidf_cl.transform(X_train_cl).toarray()\n",
        "X_test_cl = tfidf_cl.transform(X_test_cl).toarray()"
      ],
      "execution_count": 16,
      "outputs": []
    },
    {
      "cell_type": "markdown",
      "metadata": {
        "id": "axkZncfOZlmq"
      },
      "source": [
        "### **Naive Bayes - Benchmark**"
      ]
    },
    {
      "cell_type": "code",
      "metadata": {
        "colab": {
          "base_uri": "https://localhost:8080/"
        },
        "id": "eK9DvSXhZLwy",
        "outputId": "e5860137-9385-4e9f-ebc4-9ed4a2decc43"
      },
      "source": [
        "clf = GaussianNB()\n",
        "clf.fit(X_train_cl,ytrain_cl)\n",
        "evaluar_modelo(clf ,X_train_cl ,X_test_cl ,ytrain_cl ,ytest_cl)"
      ],
      "execution_count": null,
      "outputs": [
        {
          "output_type": "stream",
          "text": [
            "GaussianNB(priors=None, var_smoothing=1e-09)\n",
            "Accuracy en train:  0.4475\n",
            "Accuracy en test:  0.4386\n",
            "              precision    recall  f1-score   support\n",
            "\n",
            "           1       0.53      0.69      0.60     12596\n",
            "           2       0.39      0.29      0.33     12595\n",
            "           3       0.37      0.23      0.28     12588\n",
            "           4       0.37      0.23      0.29     12587\n",
            "           5       0.44      0.76      0.56     12586\n",
            "\n",
            "    accuracy                           0.44     62952\n",
            "   macro avg       0.42      0.44      0.41     62952\n",
            "weighted avg       0.42      0.44      0.41     62952\n",
            "\n"
          ],
          "name": "stdout"
        },
        {
          "output_type": "display_data",
          "data": {
            "image/png": "[encoded data removed]",
            "text/plain": [
              "<Figure size 720x720 with 2 Axes>"
            ]
          },
          "metadata": {
            "tags": [],
            "needs_background": "light"
          }
        },
        {
          "output_type": "execute_result",
          "data": {
            "text/plain": [
              "(0.44752393012268016, 0.4385881306392172)"
            ]
          },
          "metadata": {
            "tags": []
          },
          "execution_count": 39
        }
      ]
    },
    {
      "cell_type": "markdown",
      "metadata": {
        "id": "JFCAPvbAZpCK"
      },
      "source": [
        "### Linear SVC"
      ]
    },
    {
      "cell_type": "code",
      "metadata": {
        "colab": {
          "base_uri": "https://localhost:8080/"
        },
        "id": "PFT4bjRDZMV7",
        "outputId": "81e98e5c-51c5-4a84-dfb0-ef80e910677f"
      },
      "source": [
        "clf = LinearSVC(C = 20, max_iter= 500)\n",
        "clf.fit(X_train_cl,ytrain_cl)\n",
        "evaluar_modelo(clf ,X_train_cl ,X_test_cl ,ytrain_cl ,ytest_cl)"
      ],
      "execution_count": null,
      "outputs": [
        {
          "output_type": "stream",
          "text": [
            "/usr/local/lib/python3.7/dist-packages/sklearn/svm/_base.py:947: ConvergenceWarning: Liblinear failed to converge, increase the number of iterations.\n",
            "  \"the number of iterations.\", ConvergenceWarning)\n"
          ],
          "name": "stderr"
        },
        {
          "output_type": "stream",
          "text": [
            "LinearSVC(C=20, class_weight=None, dual=True, fit_intercept=True,\n",
            "          intercept_scaling=1, loss='squared_hinge', max_iter=500,\n",
            "          multi_class='ovr', penalty='l2', random_state=None, tol=0.0001,\n",
            "          verbose=0)\n",
            "Accuracy en train:  0.5063\n",
            "Accuracy en test:  0.4892\n",
            "              precision    recall  f1-score   support\n",
            "\n",
            "           1       0.57      0.73      0.64     12596\n",
            "           2       0.41      0.36      0.38     12595\n",
            "           3       0.41      0.30      0.35     12588\n",
            "           4       0.44      0.35      0.39     12587\n",
            "           5       0.54      0.71      0.61     12586\n",
            "\n",
            "    accuracy                           0.49     62952\n",
            "   macro avg       0.47      0.49      0.47     62952\n",
            "weighted avg       0.47      0.49      0.47     62952\n",
            "\n"
          ],
          "name": "stdout"
        },
        {
          "output_type": "display_data",
          "data": {
            "image/png": "[encoded data removed]",
            "text/plain": [
              "<Figure size 720x720 with 2 Axes>"
            ]
          },
          "metadata": {
            "tags": [],
            "needs_background": "light"
          }
        },
        {
          "output_type": "execute_result",
          "data": {
            "text/plain": [
              "(0.5063314407091214, 0.48915046384546956)"
            ]
          },
          "metadata": {
            "tags": []
          },
          "execution_count": 40
        }
      ]
    },
    {
      "cell_type": "markdown",
      "metadata": {
        "id": "97l1VGHQZsTz"
      },
      "source": [
        "### **Random Forest**"
      ]
    },
    {
      "cell_type": "code",
      "metadata": {
        "colab": {
          "base_uri": "https://localhost:8080/"
        },
        "id": "MM2AWE8oZsjg",
        "outputId": "eb5c00f1-49db-4f8c-9872-e739ded0ac2c"
      },
      "source": [
        "clf = RandomForestClassifier(max_depth= 14)\n",
        "clf.fit(X_train_cl,ytrain_cl)\n",
        "evaluar_modelo(clf ,X_train_cl ,X_test_cl ,ytrain_cl ,ytest_cl)"
      ],
      "execution_count": null,
      "outputs": [
        {
          "output_type": "stream",
          "text": [
            "RandomForestClassifier(bootstrap=True, ccp_alpha=0.0, class_weight=None,\n",
            "                       criterion='gini', max_depth=14, max_features='auto',\n",
            "                       max_leaf_nodes=None, max_samples=None,\n",
            "                       min_impurity_decrease=0.0, min_impurity_split=None,\n",
            "                       min_samples_leaf=1, min_samples_split=2,\n",
            "                       min_weight_fraction_leaf=0.0, n_estimators=100,\n",
            "                       n_jobs=None, oob_score=False, random_state=None,\n",
            "                       verbose=0, warm_start=False)\n",
            "Accuracy en train:  0.4581\n",
            "Accuracy en test:  0.4218\n",
            "              precision    recall  f1-score   support\n",
            "\n",
            "           1       0.55      0.65      0.59     12596\n",
            "           2       0.34      0.29      0.31     12595\n",
            "           3       0.38      0.19      0.25     12588\n",
            "           4       0.39      0.27      0.32     12587\n",
            "           5       0.40      0.71      0.51     12586\n",
            "\n",
            "    accuracy                           0.42     62952\n",
            "   macro avg       0.41      0.42      0.40     62952\n",
            "weighted avg       0.41      0.42      0.40     62952\n",
            "\n"
          ],
          "name": "stdout"
        },
        {
          "output_type": "display_data",
          "data": {
            "image/png": "[encoded data removed]",
            "text/plain": [
              "<Figure size 720x720 with 2 Axes>"
            ]
          },
          "metadata": {
            "tags": [],
            "needs_background": "light"
          }
        },
        {
          "output_type": "execute_result",
          "data": {
            "text/plain": [
              "(0.4581444113121741, 0.4218452154022112)"
            ]
          },
          "metadata": {
            "tags": []
          },
          "execution_count": 41
        }
      ]
    },
    {
      "cell_type": "code",
      "metadata": {
        "colab": {
          "base_uri": "https://localhost:8080/"
        },
        "id": "tbhkVJu4a3UK",
        "outputId": "9a832253-efa5-4afc-9f69-1e311679c3d8"
      },
      "source": [
        "print(classification_report(ytest_cl, y_pred))"
      ],
      "execution_count": null,
      "outputs": [
        {
          "output_type": "stream",
          "text": [
            "              precision    recall  f1-score   support\n",
            "\n",
            "           1       0.54      0.65      0.59     12596\n",
            "           2       0.35      0.27      0.30     12595\n",
            "           3       0.38      0.23      0.29     12588\n",
            "           4       0.40      0.28      0.33     12587\n",
            "           5       0.41      0.70      0.52     12586\n",
            "\n",
            "    accuracy                           0.43     62952\n",
            "   macro avg       0.42      0.43      0.41     62952\n",
            "weighted avg       0.42      0.43      0.41     62952\n",
            "\n"
          ],
          "name": "stdout"
        }
      ]
    },
    {
      "cell_type": "code",
      "metadata": {
        "id": "FqP_BlXQY31L"
      },
      "source": [
        ""
      ],
      "execution_count": null,
      "outputs": []
    },
    {
      "cell_type": "markdown",
      "metadata": {
        "id": "ymmkNw8tbBSn"
      },
      "source": [
        "## **Data Stemmatizada**"
      ]
    },
    {
      "cell_type": "code",
      "metadata": {
        "id": "DOIu4_ZhbEfh"
      },
      "source": [
        "#Definimos el vectorizador para Data_Stemmatizasa ('review_body_stemm')\n",
        "tfidf_st = tfidf_st.fit(X_train_st)\n",
        "X_train_st = tfidf_st.transform(X_train_st).toarray()\n",
        "X_test_st = tfidf_st.transform(X_test_st).toarray()"
      ],
      "execution_count": null,
      "outputs": []
    },
    {
      "cell_type": "markdown",
      "metadata": {
        "id": "lzTAuXbSbbHm"
      },
      "source": [
        "### **Naive Bayes - Benchmark**"
      ]
    },
    {
      "cell_type": "code",
      "metadata": {
        "colab": {
          "base_uri": "https://localhost:8080/"
        },
        "id": "nBbL3BmZbbHm",
        "outputId": "f215eca8-b8ad-4fc7-b0ba-25850dad52ca"
      },
      "source": [
        "clf = GaussianNB()\n",
        "clf.fit(X_train_st,ytrain_st)\n",
        "evaluar_modelo(clf ,X_train_st ,X_test_st ,ytrain_st ,ytest_st)"
      ],
      "execution_count": null,
      "outputs": [
        {
          "output_type": "stream",
          "text": [
            "GaussianNB(priors=None, var_smoothing=1e-09)\n",
            "Accuracy en train:  0.4308\n",
            "Accuracy en test:  0.4174\n",
            "              precision    recall  f1-score   support\n",
            "\n",
            "           1       0.49      0.69      0.57     12596\n",
            "           2       0.36      0.28      0.32     12595\n",
            "           3       0.33      0.20      0.25     12588\n",
            "           4       0.36      0.23      0.28     12587\n",
            "           5       0.44      0.69      0.53     12586\n",
            "\n",
            "    accuracy                           0.42     62952\n",
            "   macro avg       0.40      0.42      0.39     62952\n",
            "weighted avg       0.40      0.42      0.39     62952\n",
            "\n"
          ],
          "name": "stdout"
        },
        {
          "output_type": "display_data",
          "data": {
            "image/png": "[encoded data removed]",
            "text/plain": [
              "<Figure size 720x720 with 2 Axes>"
            ]
          },
          "metadata": {
            "tags": [],
            "needs_background": "light"
          }
        },
        {
          "output_type": "execute_result",
          "data": {
            "text/plain": [
              "(0.43083071225303976, 0.41738149701359767)"
            ]
          },
          "metadata": {
            "tags": []
          },
          "execution_count": 48
        }
      ]
    },
    {
      "cell_type": "markdown",
      "metadata": {
        "id": "vm6a2UnjbbHn"
      },
      "source": [
        "### **Linear SVC**"
      ]
    },
    {
      "cell_type": "code",
      "metadata": {
        "colab": {
          "base_uri": "https://localhost:8080/"
        },
        "id": "0JQrQmQUbbHn",
        "outputId": "9322aa5c-30f2-4edf-dbcf-6c75db166d1a"
      },
      "source": [
        "clf = LinearSVC(C = 20, max_iter= 500)\n",
        "clf.fit(X_train_st,ytrain_st)\n",
        "evaluar_modelo(clf ,X_train_st ,X_test_st ,ytrain_st ,ytest_st)"
      ],
      "execution_count": null,
      "outputs": [
        {
          "output_type": "stream",
          "text": [
            "LinearSVC(C=20, class_weight=None, dual=True, fit_intercept=True,\n",
            "          intercept_scaling=1, loss='squared_hinge', max_iter=500,\n",
            "          multi_class='ovr', penalty='l2', random_state=None, tol=0.0001,\n",
            "          verbose=0)\n",
            "Accuracy en train:  0.4935\n",
            "Accuracy en test:  0.4763\n",
            "              precision    recall  f1-score   support\n",
            "\n",
            "           1       0.56      0.72      0.63     12596\n",
            "           2       0.40      0.34      0.37     12595\n",
            "           3       0.39      0.30      0.34     12588\n",
            "           4       0.43      0.33      0.37     12587\n",
            "           5       0.53      0.69      0.60     12586\n",
            "\n",
            "    accuracy                           0.48     62952\n",
            "   macro avg       0.46      0.48      0.46     62952\n",
            "weighted avg       0.46      0.48      0.46     62952\n",
            "\n"
          ],
          "name": "stdout"
        },
        {
          "output_type": "display_data",
          "data": {
            "image/png": "[encoded data removed]",
            "text/plain": [
              "<Figure size 720x720 with 2 Axes>"
            ]
          },
          "metadata": {
            "tags": [],
            "needs_background": "light"
          }
        },
        {
          "output_type": "execute_result",
          "data": {
            "text/plain": [
              "(0.4935187832741037, 0.4763311729571737)"
            ]
          },
          "metadata": {
            "tags": []
          },
          "execution_count": 49
        }
      ]
    },
    {
      "cell_type": "markdown",
      "metadata": {
        "id": "ILZALtZ2by6s"
      },
      "source": [
        "### **Random Forest**"
      ]
    },
    {
      "cell_type": "code",
      "metadata": {
        "colab": {
          "base_uri": "https://localhost:8080/"
        },
        "id": "Vbh_dv6xbWoV",
        "outputId": "54a17cec-49ce-4866-f360-92f46deb5ac2"
      },
      "source": [
        "clf = RandomForestClassifier(max_depth= 14)\n",
        "clf.fit(X_train_st,ytrain_st)\n",
        "evaluar_modelo(clf ,X_train_st ,X_test_st ,ytrain_st ,ytest_st)"
      ],
      "execution_count": null,
      "outputs": [
        {
          "output_type": "stream",
          "text": [
            "RandomForestClassifier(bootstrap=True, ccp_alpha=0.0, class_weight=None,\n",
            "                       criterion='gini', max_depth=14, max_features='auto',\n",
            "                       max_leaf_nodes=None, max_samples=None,\n",
            "                       min_impurity_decrease=0.0, min_impurity_split=None,\n",
            "                       min_samples_leaf=1, min_samples_split=2,\n",
            "                       min_weight_fraction_leaf=0.0, n_estimators=100,\n",
            "                       n_jobs=None, oob_score=False, random_state=None,\n",
            "                       verbose=0, warm_start=False)\n",
            "Accuracy en train:  0.4639\n",
            "Accuracy en test:  0.424\n",
            "              precision    recall  f1-score   support\n",
            "\n",
            "           1       0.53      0.66      0.59     12596\n",
            "           2       0.30      0.35      0.32     12595\n",
            "           3       0.34      0.28      0.31     12588\n",
            "           4       0.42      0.24      0.31     12587\n",
            "           5       0.50      0.58      0.54     12586\n",
            "\n",
            "    accuracy                           0.42     62952\n",
            "   macro avg       0.42      0.42      0.41     62952\n",
            "weighted avg       0.42      0.42      0.41     62952\n",
            "\n"
          ],
          "name": "stdout"
        },
        {
          "output_type": "display_data",
          "data": {
            "image/png": "[encoded data removed]",
            "text/plain": [
              "<Figure size 720x720 with 2 Axes>"
            ]
          },
          "metadata": {
            "tags": [],
            "needs_background": "light"
          }
        },
        {
          "output_type": "execute_result",
          "data": {
            "text/plain": [
              "(0.4638563239519083, 0.4240373617994663)"
            ]
          },
          "metadata": {
            "tags": []
          },
          "execution_count": 50
        }
      ]
    },
    {
      "cell_type": "code",
      "metadata": {
        "colab": {
          "base_uri": "https://localhost:8080/"
        },
        "id": "MKl5Kp1Xb3Xr",
        "outputId": "94dbfe56-7a45-47b0-fd2f-ba8cc5280e4b"
      },
      "source": [
        "print(classification_report(ytest_st, y_pred))"
      ],
      "execution_count": null,
      "outputs": [
        {
          "output_type": "stream",
          "text": [
            "              precision    recall  f1-score   support\n",
            "\n",
            "           1       0.58      0.67      0.62     12596\n",
            "           2       0.36      0.34      0.35     12595\n",
            "           3       0.35      0.30      0.32     12588\n",
            "           4       0.39      0.35      0.37     12587\n",
            "           5       0.52      0.59      0.56     12586\n",
            "\n",
            "    accuracy                           0.45     62952\n",
            "   macro avg       0.44      0.45      0.44     62952\n",
            "weighted avg       0.44      0.45      0.44     62952\n",
            "\n"
          ],
          "name": "stdout"
        }
      ]
    },
    {
      "cell_type": "markdown",
      "metadata": {
        "id": "RdnMPkKJcGYr"
      },
      "source": [
        "## **Data Lemmatizada**"
      ]
    },
    {
      "cell_type": "code",
      "metadata": {
        "id": "26zKb5IqcJvX"
      },
      "source": [
        "#Definimos el vectorizador para Data_Stemmatizasa ('review_body_stemm')\n",
        "tfidf_le = tfidf_le.fit(X_train_le)\n",
        "X_train_le = tfidf_le.transform(X_train_le).toarray()\n",
        "X_test_le = tfidf_le.transform(X_test_le).toarray()"
      ],
      "execution_count": null,
      "outputs": []
    },
    {
      "cell_type": "markdown",
      "metadata": {
        "id": "bhfemXD_cQOU"
      },
      "source": [
        "### **Naive Bayes - Benchmark**"
      ]
    },
    {
      "cell_type": "code",
      "metadata": {
        "colab": {
          "base_uri": "https://localhost:8080/"
        },
        "id": "YovBhtifcQOV",
        "outputId": "ab76e46c-5703-4411-f9bb-38e81938c2b3"
      },
      "source": [
        "clf = GaussianNB()\n",
        "clf.fit(X_train_le,ytrain_le)\n",
        "evaluar_modelo(clf ,X_train_le ,X_test_le ,ytrain_le ,ytest_le)"
      ],
      "execution_count": null,
      "outputs": [
        {
          "output_type": "stream",
          "text": [
            "GaussianNB(priors=None, var_smoothing=1e-09)\n",
            "Accuracy en train:  0.4153\n",
            "Accuracy en test:  0.3977\n",
            "              precision    recall  f1-score   support\n",
            "\n",
            "           1       0.48      0.65      0.55     12596\n",
            "           2       0.35      0.26      0.29     12595\n",
            "           3       0.31      0.19      0.24     12588\n",
            "           4       0.34      0.20      0.25     12587\n",
            "           5       0.40      0.69      0.51     12586\n",
            "\n",
            "    accuracy                           0.40     62952\n",
            "   macro avg       0.38      0.40      0.37     62952\n",
            "weighted avg       0.38      0.40      0.37     62952\n",
            "\n"
          ],
          "name": "stdout"
        },
        {
          "output_type": "display_data",
          "data": {
            "image/png": "[encoded data removed]",
            "text/plain": [
              "<Figure size 720x720 with 2 Axes>"
            ]
          },
          "metadata": {
            "tags": [],
            "needs_background": "light"
          }
        },
        {
          "output_type": "execute_result",
          "data": {
            "text/plain": [
              "(0.4153288945168362, 0.3976680645571229)"
            ]
          },
          "metadata": {
            "tags": []
          },
          "execution_count": 53
        }
      ]
    },
    {
      "cell_type": "code",
      "metadata": {
        "colab": {
          "base_uri": "https://localhost:8080/"
        },
        "id": "l8z4vfKwcQOV",
        "outputId": "108d67d6-3892-495f-d3b8-c7dac39df381"
      },
      "source": [
        "print(classification_report(ytest_le, y_pred))"
      ],
      "execution_count": null,
      "outputs": [
        {
          "output_type": "stream",
          "text": [
            "              precision    recall  f1-score   support\n",
            "\n",
            "           1       0.48      0.65      0.55     12596\n",
            "           2       0.35      0.26      0.29     12595\n",
            "           3       0.31      0.19      0.24     12588\n",
            "           4       0.34      0.20      0.25     12587\n",
            "           5       0.40      0.69      0.51     12586\n",
            "\n",
            "    accuracy                           0.40     62952\n",
            "   macro avg       0.38      0.40      0.37     62952\n",
            "weighted avg       0.38      0.40      0.37     62952\n",
            "\n"
          ],
          "name": "stdout"
        }
      ]
    },
    {
      "cell_type": "markdown",
      "metadata": {
        "id": "06LopCGycQOW"
      },
      "source": [
        "### **Linear SVC**"
      ]
    },
    {
      "cell_type": "code",
      "metadata": {
        "colab": {
          "base_uri": "https://localhost:8080/"
        },
        "id": "U9cpTQo7cQOW",
        "outputId": "9f37922a-1e6e-4a61-800f-3428bb53a4af"
      },
      "source": [
        "clf = LinearSVC(C = 20, max_iter= 500)\n",
        "clf.fit(X_train_le,ytrain_le)\n",
        "evaluar_modelo(clf ,X_train_le ,X_test_le ,ytrain_le ,ytest_le)"
      ],
      "execution_count": null,
      "outputs": [
        {
          "output_type": "stream",
          "text": [
            "LinearSVC(C=20, class_weight=None, dual=True, fit_intercept=True,\n",
            "          intercept_scaling=1, loss='squared_hinge', max_iter=500,\n",
            "          multi_class='ovr', penalty='l2', random_state=None, tol=0.0001,\n",
            "          verbose=0)\n",
            "Accuracy en train:  0.4681\n",
            "Accuracy en test:  0.4487\n",
            "              precision    recall  f1-score   support\n",
            "\n",
            "           1       0.54      0.67      0.60     12596\n",
            "           2       0.37      0.34      0.35     12595\n",
            "           3       0.35      0.28      0.31     12588\n",
            "           4       0.40      0.29      0.34     12587\n",
            "           5       0.50      0.66      0.57     12586\n",
            "\n",
            "    accuracy                           0.45     62952\n",
            "   macro avg       0.43      0.45      0.43     62952\n",
            "weighted avg       0.43      0.45      0.43     62952\n",
            "\n"
          ],
          "name": "stdout"
        },
        {
          "output_type": "display_data",
          "data": {
            "image/png": "[encoded data removed]",
            "text/plain": [
              "<Figure size 720x720 with 2 Axes>"
            ]
          },
          "metadata": {
            "tags": [],
            "needs_background": "light"
          }
        },
        {
          "output_type": "execute_result",
          "data": {
            "text/plain": [
              "(0.4681113244284683, 0.44870695132799593)"
            ]
          },
          "metadata": {
            "tags": []
          },
          "execution_count": 54
        }
      ]
    },
    {
      "cell_type": "markdown",
      "metadata": {
        "id": "J76P_ruEcQOW"
      },
      "source": [
        "### **Random Forest**"
      ]
    },
    {
      "cell_type": "code",
      "metadata": {
        "id": "zqkAQYZ4cQOW"
      },
      "source": [
        "clf = RandomForestClassifier(n_estimators = 50, random_state=42,max_depth = 14)\n",
        "clf.fit(X_train_le,ytrain_le)\n",
        "evaluar_modelo(clf ,X_train_le ,X_test_le ,ytrain_le ,ytest_le)"
      ],
      "execution_count": null,
      "outputs": []
    },
    {
      "cell_type": "markdown",
      "metadata": {
        "id": "GxpKLb7DAWEE"
      },
      "source": [
        "## **Elección del Modelo y conjunto de Datos**"
      ]
    },
    {
      "cell_type": "markdown",
      "metadata": {
        "id": "n24Dkem12J5f"
      },
      "source": [
        "El mejor modelo es Linear SVC con Data clean"
      ]
    },
    {
      "cell_type": "code",
      "metadata": {
        "colab": {
          "base_uri": "https://localhost:8080/",
          "height": 934
        },
        "id": "Kcj_6RIQ2Ifn",
        "outputId": "a449dce3-c68b-4352-d161-4863e6baeafa"
      },
      "source": [
        "clf = LinearSVC(C = 20, max_iter= 500)\n",
        "clf.fit(X_train_cl,ytrain_cl)\n",
        "evaluar_modelo(clf ,X_train_cl ,X_test_cl ,ytrain_cl ,ytest_cl)"
      ],
      "execution_count": 17,
      "outputs": [
        {
          "output_type": "stream",
          "text": [
            "LinearSVC(C=20, class_weight=None, dual=True, fit_intercept=True,\n",
            "          intercept_scaling=1, loss='squared_hinge', max_iter=500,\n",
            "          multi_class='ovr', penalty='l2', random_state=None, tol=0.0001,\n",
            "          verbose=0)\n",
            "Accuracy en train:  0.5064\n",
            "Accuracy en test:  0.489\n",
            "              precision    recall  f1-score   support\n",
            "\n",
            "           1       0.57      0.73      0.64     12596\n",
            "           2       0.41      0.36      0.38     12595\n",
            "           3       0.41      0.30      0.35     12588\n",
            "           4       0.44      0.35      0.39     12587\n",
            "           5       0.54      0.71      0.61     12586\n",
            "\n",
            "    accuracy                           0.49     62952\n",
            "   macro avg       0.47      0.49      0.47     62952\n",
            "weighted avg       0.47      0.49      0.47     62952\n",
            "\n"
          ],
          "name": "stdout"
        },
        {
          "output_type": "display_data",
          "data": {
            "image/png": "[encoded data removed]",
            "text/plain": [
              "<Figure size 720x720 with 2 Axes>"
            ]
          },
          "metadata": {
            "tags": [],
            "needs_background": "light"
          }
        },
        {
          "output_type": "execute_result",
          "data": {
            "text/plain": [
              "(0.5063518647114088, 0.48899161265726265)"
            ]
          },
          "metadata": {
            "tags": []
          },
          "execution_count": 17
        }
      ]
    },
    {
      "cell_type": "markdown",
      "metadata": {
        "id": "DBfcW5wE2GXs"
      },
      "source": [
        "## **Optimización de Hiperparámetros**"
      ]
    },
    {
      "cell_type": "markdown",
      "metadata": {
        "id": "RICzjD1LBo8E"
      },
      "source": [
        "Ahora que tenemos definidos nuestro conjunto de datos normalizados a utilizar (`Data_clean - 'review_body'`) y el modelo (`Linear SVC`), voy a optimizar los hiperparámetros para maximizar el performance.\n",
        "\n",
        "Voy a ejecutar 4 optimizaciones:\n",
        "\n",
        "1. `Dos Grid Search`\n",
        "2. `Dos Randomized Search`\n"
      ]
    },
    {
      "cell_type": "markdown",
      "metadata": {
        "id": "42xubve22tEE"
      },
      "source": [
        "### **GridSearch**"
      ]
    },
    {
      "cell_type": "markdown",
      "metadata": {
        "id": "jlbP2W05oEkB"
      },
      "source": [
        "GridSearch 1"
      ]
    },
    {
      "cell_type": "code",
      "metadata": {
        "colab": {
          "base_uri": "https://localhost:8080/"
        },
        "id": "bXeG5piv2yNj",
        "outputId": "a5ff3243-e537-49c6-ff97-0422853fc257"
      },
      "source": [
        "#Grid Search 1\n",
        "param_grid = {'C':[0.01,0.1,1,1.1]}\n",
        "svcgs = LinearSVC()\n",
        "model = GridSearchCV(svcgs, param_grid=param_grid,cv=5)\n",
        "model.fit(X_train_cl,ytrain_cl)\n",
        "\n",
        "print(\"Mejores parametros: \"+str(model.best_params_))\n",
        "print(\"Mejor Score: \"+str(model.best_score_)+'\\n')"
      ],
      "execution_count": null,
      "outputs": [
        {
          "output_type": "stream",
          "text": [
            "Mejores parametros: {'C': 1.1}\n",
            "Mejor Score: 0.4895633207857365\n",
            "\n"
          ],
          "name": "stdout"
        }
      ]
    },
    {
      "cell_type": "code",
      "metadata": {
        "colab": {
          "base_uri": "https://localhost:8080/",
          "height": 0
        },
        "id": "vVnEngv8764h",
        "outputId": "897f4d96-6dde-442b-c66c-fe61f19cb1c5"
      },
      "source": [
        "#GridSearch\n",
        "clf = LinearSVC(C = 1.1, max_iter= 500)\n",
        "clf.fit(X_train_cl,ytrain_cl)\n",
        "evaluar_modelo(clf ,X_train_cl ,X_test_cl ,ytrain_cl ,ytest_cl)"
      ],
      "execution_count": 23,
      "outputs": [
        {
          "output_type": "stream",
          "text": [
            "LinearSVC(C=1.1, class_weight=None, dual=True, fit_intercept=True,\n",
            "          intercept_scaling=1, loss='squared_hinge', max_iter=500,\n",
            "          multi_class='ovr', penalty='l2', random_state=None, tol=0.0001,\n",
            "          verbose=0)\n",
            "Accuracy en train:  0.5063\n",
            "Accuracy en test:  0.4889\n",
            "              precision    recall  f1-score   support\n",
            "\n",
            "           1       0.57      0.73      0.64     12596\n",
            "           2       0.41      0.36      0.38     12595\n",
            "           3       0.41      0.30      0.35     12588\n",
            "           4       0.44      0.35      0.39     12587\n",
            "           5       0.54      0.71      0.61     12586\n",
            "\n",
            "    accuracy                           0.49     62952\n",
            "   macro avg       0.47      0.49      0.47     62952\n",
            "weighted avg       0.47      0.49      0.47     62952\n",
            "\n"
          ],
          "name": "stdout"
        },
        {
          "output_type": "display_data",
          "data": {
            "image/png": "[encoded data removed]",
            "text/plain": [
              "<Figure size 720x720 with 2 Axes>"
            ]
          },
          "metadata": {
            "tags": [],
            "needs_background": "light"
          }
        },
        {
          "output_type": "execute_result",
          "data": {
            "text/plain": [
              "(0.5062837847037839, 0.4889280721819799)"
            ]
          },
          "metadata": {
            "tags": []
          },
          "execution_count": 23
        }
      ]
    },
    {
      "cell_type": "code",
      "metadata": {
        "colab": {
          "base_uri": "https://localhost:8080/"
        },
        "id": "5OyW4Vbtnqoj",
        "outputId": "d9b93070-824e-43f9-a0d4-8b736e37cda3"
      },
      "source": [
        "#CrossVal para GS1 \n",
        "results = cross_validate(clf, X_train_cl, ytrain_cl, cv=5, return_train_score=True, scoring='accuracy', n_jobs=-1)\n",
        "print('Mean r2 test: ', np.mean(results['test_score']))"
      ],
      "execution_count": 24,
      "outputs": [
        {
          "output_type": "stream",
          "text": [
            "Mean r2 test:  0.4895633207857365\n"
          ],
          "name": "stdout"
        }
      ]
    },
    {
      "cell_type": "markdown",
      "metadata": {
        "id": "M8goCplkoALt"
      },
      "source": [
        "Grid Search 2"
      ]
    },
    {
      "cell_type": "code",
      "metadata": {
        "colab": {
          "base_uri": "https://localhost:8080/"
        },
        "id": "XiLe9I9o4UY_",
        "outputId": "32fd3019-ece0-4f65-d6f6-f081cc5df03c"
      },
      "source": [
        "#Grid Search 2\n",
        "param_grid = {'C':[1,1.5,2,2.5,3]}\n",
        "svcgs = LinearSVC()\n",
        "model = GridSearchCV(svcgs, param_grid=param_grid,cv=5)\n",
        "model.fit(X_train_cl,ytrain_cl)\n",
        "\n",
        "print(\"Mejores parametros: \"+str(model.best_params_))\n",
        "print(\"Mejor Score: \"+str(model.best_score_)+'\\n')"
      ],
      "execution_count": null,
      "outputs": [
        {
          "output_type": "stream",
          "text": [
            "Mejores parametros: {'C': 2.5}\n",
            "Mejor Score: 0.48957012952806717\n",
            "\n"
          ],
          "name": "stdout"
        }
      ]
    },
    {
      "cell_type": "code",
      "metadata": {
        "colab": {
          "base_uri": "https://localhost:8080/",
          "height": 0
        },
        "id": "cXLy-yQJns9W",
        "outputId": "b220faaa-a394-40e7-daec-16b8a1b1705d"
      },
      "source": [
        "#GridSearch\n",
        "clf = LinearSVC(C = 2.5, max_iter= 500)\n",
        "clf.fit(X_train_cl,ytrain_cl)\n",
        "evaluar_modelo(clf ,X_train_cl ,X_test_cl ,ytrain_cl ,ytest_cl)"
      ],
      "execution_count": 27,
      "outputs": [
        {
          "output_type": "stream",
          "text": [
            "LinearSVC(C=2.5, class_weight=None, dual=True, fit_intercept=True,\n",
            "          intercept_scaling=1, loss='squared_hinge', max_iter=500,\n",
            "          multi_class='ovr', penalty='l2', random_state=None, tol=0.0001,\n",
            "          verbose=0)\n",
            "Accuracy en train:  0.5063\n",
            "Accuracy en test:  0.4889\n",
            "              precision    recall  f1-score   support\n",
            "\n",
            "           1       0.57      0.73      0.64     12596\n",
            "           2       0.41      0.36      0.38     12595\n",
            "           3       0.41      0.30      0.35     12588\n",
            "           4       0.44      0.35      0.39     12587\n",
            "           5       0.54      0.71      0.61     12586\n",
            "\n",
            "    accuracy                           0.49     62952\n",
            "   macro avg       0.47      0.49      0.47     62952\n",
            "weighted avg       0.47      0.49      0.47     62952\n",
            "\n"
          ],
          "name": "stdout"
        },
        {
          "output_type": "display_data",
          "data": {
            "image/png": "[encoded data removed]",
            "text/plain": [
              "<Figure size 720x720 with 2 Axes>"
            ]
          },
          "metadata": {
            "tags": [],
            "needs_background": "light"
          }
        },
        {
          "output_type": "execute_result",
          "data": {
            "text/plain": [
              "(0.5062701687022589, 0.4889439573008006)"
            ]
          },
          "metadata": {
            "tags": []
          },
          "execution_count": 27
        }
      ]
    },
    {
      "cell_type": "code",
      "metadata": {
        "colab": {
          "base_uri": "https://localhost:8080/"
        },
        "id": "a-MmWgEmnso8",
        "outputId": "14d6dac9-6218-4914-8312-7c27b5665162"
      },
      "source": [
        "#CrossVal para RS1 \n",
        "results = cross_validate(clf, X_train_cl, ytrain_cl, cv=5, return_train_score=True, scoring='accuracy', n_jobs=-1)\n",
        "print('Mean r2 test: ', np.mean(results['test_score']))"
      ],
      "execution_count": 28,
      "outputs": [
        {
          "output_type": "stream",
          "text": [
            "Mean r2 test:  0.48956332148095544\n"
          ],
          "name": "stdout"
        }
      ]
    },
    {
      "cell_type": "markdown",
      "metadata": {
        "id": "vu-8TFkj2tbH"
      },
      "source": [
        "### RandomSearch"
      ]
    },
    {
      "cell_type": "code",
      "metadata": {
        "colab": {
          "base_uri": "https://localhost:8080/"
        },
        "id": "Y8wa4duK2yrF",
        "outputId": "4cd106e7-f70d-45bc-ab41-ca92cef78e61"
      },
      "source": [
        "#Randomized Search 1\n",
        "#fijamos seed = 0\n",
        "svc_o = LinearSVC(dual = False,\n",
        "                  random_state= 0)\n",
        "\n",
        "#Parámetros para  RandomizedSearchCV\n",
        "params = {  'penalty': ['l1', 'l2'],              #norma de regularizacion\n",
        "             'loss' : ['hinge', 'squared_hinge'], #tipo función de pérdida\n",
        "             'tol': [1e-3, 1e-4, 1e-5],           #tolerancia para el error\n",
        "             'C': [10, 20, 50],                   #parámetro clave del modelo SVC\n",
        "             'max_iter': [500, 1000]              #número máximo de iteraciones \n",
        "         }\n",
        "                 \n",
        "svc_rs = RandomizedSearchCV( estimator = svc_o, \n",
        "                             param_distributions = params, \n",
        "                             n_iter = 15, \n",
        "                             cv = 5,               #crossvalidation de 5-folds\n",
        "                             scoring = 'accuracy'\n",
        "                            )\n",
        "\n",
        "\n",
        "svc_rs.fit(X_train_cl,ytrain_cl)\n",
        "\n",
        "print('Los mejores parámetros son:', svc_rs.best_params_, '\\n')\n",
        "print('El mejor score es:', svc_rs.best_score_)"
      ],
      "execution_count": null,
      "outputs": [
        {
          "output_type": "stream",
          "text": [
            "Los mejores parámetros son: {'tol': 0.001, 'penalty': 'l2', 'max_iter': 500, 'loss': 'squared_hinge', 'C': 10} \n",
            "\n",
            "El mejor score es: 0.48949524216853674\n"
          ],
          "name": "stdout"
        }
      ]
    },
    {
      "cell_type": "code",
      "metadata": {
        "colab": {
          "base_uri": "https://localhost:8080/",
          "height": 0
        },
        "id": "_T74xDfk75SI",
        "outputId": "3d0c7327-7e18-45a9-d2d3-8f193f49796b"
      },
      "source": [
        "#RandomizedSearch\n",
        "clf = LinearSVC(tol = 0.001, penalty = 'l2', max_iter = 500, loss= 'squared_hinge', C = 10)\n",
        "clf.fit(X_train_cl,ytrain_cl)\n",
        "evaluar_modelo(clf ,X_train_cl ,X_test_cl ,ytrain_cl ,ytest_cl)"
      ],
      "execution_count": 19,
      "outputs": [
        {
          "output_type": "stream",
          "text": [
            "LinearSVC(C=10, class_weight=None, dual=True, fit_intercept=True,\n",
            "          intercept_scaling=1, loss='squared_hinge', max_iter=500,\n",
            "          multi_class='ovr', penalty='l2', random_state=None, tol=0.001,\n",
            "          verbose=0)\n",
            "Accuracy en train:  0.5064\n",
            "Accuracy en test:  0.4891\n",
            "              precision    recall  f1-score   support\n",
            "\n",
            "           1       0.57      0.73      0.64     12596\n",
            "           2       0.41      0.36      0.38     12595\n",
            "           3       0.41      0.30      0.35     12588\n",
            "           4       0.44      0.35      0.39     12587\n",
            "           5       0.54      0.71      0.61     12586\n",
            "\n",
            "    accuracy                           0.49     62952\n",
            "   macro avg       0.47      0.49      0.47     62952\n",
            "weighted avg       0.47      0.49      0.47     62952\n",
            "\n"
          ],
          "name": "stdout"
        },
        {
          "output_type": "display_data",
          "data": {
            "image/png": "[encoded data removed]",
            "text/plain": [
              "<Figure size 720x720 with 2 Axes>"
            ]
          },
          "metadata": {
            "tags": [],
            "needs_background": "light"
          }
        },
        {
          "output_type": "execute_result",
          "data": {
            "text/plain": [
              "(0.5063518647114088, 0.4891028084890075)"
            ]
          },
          "metadata": {
            "tags": []
          },
          "execution_count": 19
        }
      ]
    },
    {
      "cell_type": "code",
      "metadata": {
        "colab": {
          "base_uri": "https://localhost:8080/"
        },
        "id": "XRlhIxhNlN7y",
        "outputId": "201dab32-c237-4a28-c54d-57ea1e03d568"
      },
      "source": [
        "#CrossVal para RS1 \n",
        "results = cross_validate(clf, X_train_cl, ytrain_cl, cv=5, return_train_score=True, scoring='accuracy', n_jobs=-1)\n",
        "print('Mean r2 test: ', np.mean(results['test_score']))"
      ],
      "execution_count": 22,
      "outputs": [
        {
          "output_type": "stream",
          "text": [
            "Mean r2 test:  0.4894475858387549\n"
          ],
          "name": "stdout"
        }
      ]
    },
    {
      "cell_type": "code",
      "metadata": {
        "id": "a43qZm7q93UT"
      },
      "source": [
        "#Randomized Search 2\n",
        "#fijamos seed = 0\n",
        "svc_o = LinearSVC(dual = False,\n",
        "                  random_state= 0)\n",
        "\n",
        "#Parámetros para  RandomizedSearchCV\n",
        "params = {  'penalty': ['l1', 'l2'],              #norma de regularizacion\n",
        "             'loss' : ['hinge', 'squared_hinge'], #tipo función de pérdida\n",
        "             'fit_intercept': ['True','False'],   #Intercepción del modelo\n",
        "             'C': [10, 20, 50],                   #parámetro clave del modelo SVC\n",
        "             'multi_class': ['ovr', 'crammer_singer']     #Determina qué estratégia se usa para dividir las multiclases \n",
        "         }\n",
        "                 \n",
        "svc_rs = RandomizedSearchCV( estimator = svc_o, \n",
        "                             param_distributions = params, \n",
        "                             n_iter = 15, \n",
        "                             cv = 5,               #crossvalidation de 5-folds\n",
        "                             scoring = 'accuracy'\n",
        "                            )\n",
        "\n",
        "\n",
        "svc_rs.fit(X_train_cl,ytrain_cl)\n",
        "\n",
        "print('Los mejores parámetros son:', svc_rs.best_params_, '\\n')\n",
        "print('El mejor score es:', svc_rs.best_score_)"
      ],
      "execution_count": null,
      "outputs": []
    },
    {
      "cell_type": "markdown",
      "metadata": {
        "id": "HqTg2v_m8yIr"
      },
      "source": [
        "### **Modelo Final**"
      ]
    },
    {
      "cell_type": "markdown",
      "metadata": {
        "id": "4WYIk1QpwPDX"
      },
      "source": [
        "El modelo final es un Linear SVC, con el hiperparámetro de `C = 2.5`.\n"
      ]
    },
    {
      "cell_type": "code",
      "metadata": {
        "id": "7sZGmo4hAzM0",
        "colab": {
          "base_uri": "https://localhost:8080/",
          "height": 934
        },
        "outputId": "6f387ba7-ac26-4f31-ff83-d1c5a0aed1df"
      },
      "source": [
        "#GridSearch\n",
        "clf = LinearSVC(C = 2.5, max_iter= 500)\n",
        "clf.fit(X_train_cl,ytrain_cl)\n",
        "evaluar_modelo(clf ,X_train_cl ,X_test_cl ,ytrain_cl ,ytest_cl)"
      ],
      "execution_count": 30,
      "outputs": [
        {
          "output_type": "stream",
          "text": [
            "LinearSVC(C=2.5, class_weight=None, dual=True, fit_intercept=True,\n",
            "          intercept_scaling=1, loss='squared_hinge', max_iter=500,\n",
            "          multi_class='ovr', penalty='l2', random_state=None, tol=0.0001,\n",
            "          verbose=0)\n",
            "Accuracy en train:  0.5063\n",
            "Accuracy en test:  0.4889\n",
            "              precision    recall  f1-score   support\n",
            "\n",
            "           1       0.57      0.73      0.64     12596\n",
            "           2       0.41      0.36      0.38     12595\n",
            "           3       0.41      0.30      0.35     12588\n",
            "           4       0.44      0.35      0.39     12587\n",
            "           5       0.54      0.71      0.61     12586\n",
            "\n",
            "    accuracy                           0.49     62952\n",
            "   macro avg       0.47      0.49      0.47     62952\n",
            "weighted avg       0.47      0.49      0.47     62952\n",
            "\n"
          ],
          "name": "stdout"
        },
        {
          "output_type": "display_data",
          "data": {
            "image/png": "[encoded data removed]",
            "text/plain": [
              "<Figure size 720x720 with 2 Axes>"
            ]
          },
          "metadata": {
            "tags": [],
            "needs_background": "light"
          }
        },
        {
          "output_type": "execute_result",
          "data": {
            "text/plain": [
              "(0.5062633607014964, 0.4889439573008006)"
            ]
          },
          "metadata": {
            "tags": []
          },
          "execution_count": 30
        }
      ]
    },
    {
      "cell_type": "code",
      "metadata": {
        "id": "y__2E9KPBbbx",
        "colab": {
          "base_uri": "https://localhost:8080/"
        },
        "outputId": "b989c0ae-94c9-4d53-9d2b-5a5ae0142b32"
      },
      "source": [
        "results = cross_validate(clf, X_train_cl, ytrain_cl, cv=8, return_train_score=True, scoring='accuracy', n_jobs=-1)\n",
        "print('Mean r2 test: ', round(np.mean(results['test_score']),2))"
      ],
      "execution_count": 32,
      "outputs": [
        {
          "output_type": "stream",
          "text": [
            "Mean r2 test:  0.49\n"
          ],
          "name": "stdout"
        }
      ]
    },
    {
      "cell_type": "markdown",
      "metadata": {
        "id": "y8SYtRA8q1hh"
      },
      "source": [
        "Luego de hacer un cross-validation, podemos ver que el accuracy de 8 folds, será igual al 49%"
      ]
    },
    {
      "cell_type": "markdown",
      "metadata": {
        "id": "Bj1ZiA9wwsZh"
      },
      "source": [
        "## **5- Conclusiones**"
      ]
    },
    {
      "cell_type": "markdown",
      "metadata": {
        "id": "FAJaTlr1w2_K"
      },
      "source": [
        "Para terminar este trabajo, me gustaría tocar los siguientes puntos:\n",
        "\n",
        "En cuanto a a la `normalización` de nuestros datos, me sorprendió ver que las tecnicas de Stemming y Lemmatization no fueron capaces de generar mejores features para nuestro modelo, ya que la Data preprocesada simple, fue la que mejores métricas generó.\n",
        "\n",
        "Por otra parte, la `vectorización` de nuestros datos siento que puede ser mejor desde dos puntos:\n",
        "\n",
        "\n",
        "  1. Si tomamos únicamente comentarios sobre la misma 'product_category' quizás pueda generar en la vectorización un corpus más robusto, en donde si se le den importancia a las palabras clave de ese mundo. \n",
        "  \n",
        "  Me imagino como ejemplo, el hecho de que en el comentario diga -`hace mucho ruido`- puede significar dos cosas totalmente contrarias según la categoría de productos. En la categoría `electronics` puede ser un atributo muy **positivo** para un parlante. Mientras que para la categoría de `kitchen`, una licuadora que haga mucho ruido puede ser algo muy **negativo**.\n",
        "\n",
        "  2. Por otro lado, quizás probar con un metodo de vectorización más robusto como un word embbedding puede ser favorecedor para nuestro modelo.\n",
        "\n",
        "Por último, si bien el modelo fue bastante impreciso en la `clasificación  multiclase`, quizás si modificamos la problemática a un problema `binario`, la precisión podría mejorar rotundamente.\n"
      ]
    },
    {
      "cell_type": "markdown",
      "metadata": {
        "id": "1vNT1b2yz0c6"
      },
      "source": [
        "Para avanzar con este proyecto,tengo como objetivo probar nuevas técnicas de normalizado, afinar desde ese lado los datos. Por otro lado, probar ambos puntos mencionados en el apartado de vectorización, y finalmente, probar el problema, modelandolo como una cuestión binaria (positivo o negativo)."
      ]
    }
  ]
}