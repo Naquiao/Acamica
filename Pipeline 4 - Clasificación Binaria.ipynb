{
  "nbformat": 4,
  "nbformat_minor": 0,
  "metadata": {
    "colab": {
      "name": "Pipeline 4 - Clasificación Binaria.ipynb",
      "provenance": [],
      "toc_visible": true
    },
    "kernelspec": {
      "name": "python3",
      "display_name": "Python 3"
    },
    "language_info": {
      "name": "python"
    }
  },
  "cells": [
    {
      "cell_type": "markdown",
      "metadata": {
        "id": "qwWQbsrZ1_W0"
      },
      "source": [
        "# **Amazon stars reviews prediction - NLP**\n",
        "## **Clasificación Binaria**\n",
        "            \n",
        "            \n"
      ]
    },
    {
      "cell_type": "markdown",
      "metadata": {
        "id": "G9TftoAw2PsA"
      },
      "source": [
        "![image.png](data:image/png;base64,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)"
      ]
    },
    {
      "cell_type": "markdown",
      "metadata": {
        "id": "gP0dZfCOzgR0"
      },
      "source": [
        "Este proyecto tiene como fin, profundizar en las conclusiones dispuestas en mi proyecto [\"Amazon-Stars-Reviews-Project\"](https://github.com/Naquiao/Amazon-Stars-Reviews-Project).\n",
        "\n",
        "Dicho esto, cabe destacar que se utilizará el mismo [Dataset](https://drive.google.com/uc?export=download&id=11XnXB7Ubgf3t6gotXGlM4FCwPOMHhDLX) provisto por [The Multilingual Amazon Reviews Corpus](https://registry.opendata.aws/amazon-reviews-ml/).\n",
        "\n",
        "---\n",
        "\n"
      ]
    },
    {
      "cell_type": "markdown",
      "metadata": {
        "id": "_fskcX7O1EQ9"
      },
      "source": [
        "El objetivo de este proyecto es sustancialmente el mismo; crear un modelo qué, en base a la reseña de un producto, prediga cuantas estrellas tendrá el mismo. \n"
      ]
    },
    {
      "cell_type": "markdown",
      "metadata": {
        "id": "leI0iT8A1ybe"
      },
      "source": [
        "# **Resumen del proyecto anterior**"
      ]
    },
    {
      "cell_type": "markdown",
      "metadata": {
        "id": "RlPjOsrt2N3W"
      },
      "source": [
        "En el proyecto se utilizaron las bases de datos anteriormente mencionadas para crear el modelo. Se siguió un pipeline de trabajo que tiene la siguiente esquema:\n",
        "\n",
        "\n",
        "\n",
        "1.   `Normalización`\n",
        "2.   `Vectorización`\n",
        "3.   `Modelo`\n",
        "\n",
        "En la etapa de **Normalización**, se realizó la limpieza del dataset. Se utilizaron funciones de limpieza tales como: Eliminación de RegEx, eliminación de tildes, eliminación de emojis y emoticones, eliminación de Stopwords y palabras menores a 3 letras.\n",
        "\n",
        "Una vez aplicadas estas funciones,se obtuvieron los comentarios normalizados (o comentarios limpios). A partir de estos comentarios limpios se crearon dos features debido a tecnicas de normalización especiales :\n",
        "\n",
        "\n",
        "*   El primero fue la aplicación de SnowballStemmer de la librería NLTK, en donde se hizo el proceso de Stemming sobre los comentarios normalizados.\n",
        "*   El segundo, fue la Lematización de los comentarios normalizados a partir de la librería spaCy.\n",
        "\n",
        "En conclusión de esta etapa, se obtuvieron 3 columnas: \n",
        "\n",
        "\n",
        "**A.   Comentarios Normalizados**\n",
        "\n",
        "**B.   Comentarios Stematizados**\n",
        "\n",
        "**C.   Comentarios Lematizados**\n",
        "\n",
        "En la etapa 2, de **Vectorización**, se probaron 5 modelos diferentes de bag of words.\n",
        "\n",
        "1.   `Count Vectorizer`\n",
        "2.   `TF`\n",
        "3. `TF - IDF: Uni-grama`\n",
        "4. `TF - IDF: Uni-grama + Bi-grama`\n",
        "5. `TF - IDF: Bi-grama`\n",
        "\n",
        "Los mejores resultados se presentaron en TF - IDF de unigramas y bigramas, seguido del método TF (TF-IDF sin la penalización del IDF).\n",
        "\n",
        "En la última etapa se definió un modelo benchmark, un clasificador Naive Bayes Gaussiano. \n",
        "\n",
        "Se probaron otros dos modelos. Una máquina de soporte vectorial (Support Vector Machine) con un kernel linear (por ende, un LinearSVC de la librería scikit-learn) y un Random Forest. Se utilizaron los hiperparámetros por defecto en los 3 modelos. \n",
        "\n",
        "Se probaron los 3 tipos de comentarios para cada uno de los modelos. En donde las mejores métricas las tuvo el conjunto de datos normalizados ( a lo que llamamos en el proyecto Data-Clean o el nombre de la columna 'review_boddy'), el segundo lugar lo obtuvo los comentarios de la data stematizada.\n",
        "\n",
        "Por lo tanto, se eligió el mejor modelo, que fúe el SVM lineal con los comentarios normalizados.\n",
        "\n",
        "Se optimizaron los hiperparámetros del modelo mediante tecnica de Randomized Search y Grid Search. Y finalmente se hizo un cross-validation con 8 folds, en los cuales los resultados finales de nuestro modelo de clasificación multiclase fueron 49% del conjunto de test.\n",
        "\n",
        "Por lo tanto, resultado final:\n",
        "\n",
        "---\n",
        "\n",
        "\n",
        "\n",
        "\n",
        "**CLASIFICACIÓN MULTICLASE GENERAL:**\n",
        "\n",
        "<font color='BLUE'>**ACCURACY PARA TRAIN: 50%**</font>\n",
        "\n",
        "<font color='GREEN'>**ACCURACY PARA TEST: 49%**</font>\n",
        "\n",
        "\n",
        "\n",
        "---\n",
        "\n",
        "\n",
        "**CLASIFICACIÓN MULTICLASE DIRECCIONADA:**\n",
        "\n",
        "Para el dataset de **`'Beauty'`**:\n",
        "\n",
        "<font color='tomato'>**ACCURACY PARA TRAIN: 48,4%**</font>\n",
        "\n",
        "<font color='lawngreen'>**ACCURACY PARA TEST: 44,5%**</font>\n",
        "\n",
        "Para el dataset de **`'Kitchen'`**:\n",
        "\n",
        "<font color='tomato'>**ACCURACY PARA TRAIN: 52%**</font>\n",
        "\n",
        "<font color='lawngreen'>**ACCURACY PARA TEST: 44,9%**</font>\n",
        "\n",
        "\n",
        "\n",
        "\n",
        "\n",
        "\n",
        "\n"
      ]
    },
    {
      "cell_type": "markdown",
      "metadata": {
        "id": "AUuu5gGb-yvT"
      },
      "source": [
        "# **Planificación del proyecto**"
      ]
    },
    {
      "cell_type": "markdown",
      "metadata": {
        "id": "Xk2WWWBO1pte"
      },
      "source": [
        "Debido al bajo performance que tuvo el modelo anterior, me propuse mejorar las métricas. \n",
        "\n",
        "1.   **Clasificación Binaria**\n",
        "\n",
        "Mediante la transformación del problema de predicción de estrellas a predicción de comentario positivo o negativo. Lo que equivale a decir que vamos a transformar un problema de clasificación multiclase (1, 2, 3, 4 o 5 estrellas) a un problema de clasificación binario."
      ]
    },
    {
      "cell_type": "markdown",
      "metadata": {
        "id": "seD9DMM3wBC_"
      },
      "source": [
        "# **Clasificación Binaria**"
      ]
    },
    {
      "cell_type": "markdown",
      "metadata": {
        "id": "GEJ22tUgNL4L"
      },
      "source": [
        "## **Obtención de Datos**"
      ]
    },
    {
      "cell_type": "code",
      "metadata": {
        "id": "NXGtRLctCgNz",
        "colab": {
          "base_uri": "https://localhost:8080/"
        },
        "outputId": "8870bc52-bf54-4336-80e8-e06fe1e0828a"
      },
      "source": [
        "!python -m spacy download es_core_news_sm\n",
        "#Reiniciar kernel una vez instalada esta librería"
      ],
      "execution_count": null,
      "outputs": [
        {
          "output_type": "stream",
          "text": [
            "Collecting es_core_news_sm==2.2.5\n",
            "\u001b[?25l  Downloading https://github.com/explosion/spacy-models/releases/download/es_core_news_sm-2.2.5/es_core_news_sm-2.2.5.tar.gz (16.2MB)\n",
            "\u001b[K     |████████████████████████████████| 16.2MB 22.0MB/s \n",
            "\u001b[?25hRequirement already satisfied: spacy>=2.2.2 in /usr/local/lib/python3.7/dist-packages (from es_core_news_sm==2.2.5) (2.2.4)\n",
            "Requirement already satisfied: blis<0.5.0,>=0.4.0 in /usr/local/lib/python3.7/dist-packages (from spacy>=2.2.2->es_core_news_sm==2.2.5) (0.4.1)\n",
            "Requirement already satisfied: srsly<1.1.0,>=1.0.2 in /usr/local/lib/python3.7/dist-packages (from spacy>=2.2.2->es_core_news_sm==2.2.5) (1.0.5)\n",
            "Requirement already satisfied: murmurhash<1.1.0,>=0.28.0 in /usr/local/lib/python3.7/dist-packages (from spacy>=2.2.2->es_core_news_sm==2.2.5) (1.0.5)\n",
            "Requirement already satisfied: cymem<2.1.0,>=2.0.2 in /usr/local/lib/python3.7/dist-packages (from spacy>=2.2.2->es_core_news_sm==2.2.5) (2.0.5)\n",
            "Requirement already satisfied: setuptools in /usr/local/lib/python3.7/dist-packages (from spacy>=2.2.2->es_core_news_sm==2.2.5) (57.0.0)\n",
            "Requirement already satisfied: numpy>=1.15.0 in /usr/local/lib/python3.7/dist-packages (from spacy>=2.2.2->es_core_news_sm==2.2.5) (1.19.5)\n",
            "Requirement already satisfied: requests<3.0.0,>=2.13.0 in /usr/local/lib/python3.7/dist-packages (from spacy>=2.2.2->es_core_news_sm==2.2.5) (2.23.0)\n",
            "Requirement already satisfied: plac<1.2.0,>=0.9.6 in /usr/local/lib/python3.7/dist-packages (from spacy>=2.2.2->es_core_news_sm==2.2.5) (1.1.3)\n",
            "Requirement already satisfied: thinc==7.4.0 in /usr/local/lib/python3.7/dist-packages (from spacy>=2.2.2->es_core_news_sm==2.2.5) (7.4.0)\n",
            "Requirement already satisfied: wasabi<1.1.0,>=0.4.0 in /usr/local/lib/python3.7/dist-packages (from spacy>=2.2.2->es_core_news_sm==2.2.5) (0.8.2)\n",
            "Requirement already satisfied: catalogue<1.1.0,>=0.0.7 in /usr/local/lib/python3.7/dist-packages (from spacy>=2.2.2->es_core_news_sm==2.2.5) (1.0.0)\n",
            "Requirement already satisfied: tqdm<5.0.0,>=4.38.0 in /usr/local/lib/python3.7/dist-packages (from spacy>=2.2.2->es_core_news_sm==2.2.5) (4.41.1)\n",
            "Requirement already satisfied: preshed<3.1.0,>=3.0.2 in /usr/local/lib/python3.7/dist-packages (from spacy>=2.2.2->es_core_news_sm==2.2.5) (3.0.5)\n",
            "Requirement already satisfied: certifi>=2017.4.17 in /usr/local/lib/python3.7/dist-packages (from requests<3.0.0,>=2.13.0->spacy>=2.2.2->es_core_news_sm==2.2.5) (2020.12.5)\n",
            "Requirement already satisfied: urllib3!=1.25.0,!=1.25.1,<1.26,>=1.21.1 in /usr/local/lib/python3.7/dist-packages (from requests<3.0.0,>=2.13.0->spacy>=2.2.2->es_core_news_sm==2.2.5) (1.24.3)\n",
            "Requirement already satisfied: idna<3,>=2.5 in /usr/local/lib/python3.7/dist-packages (from requests<3.0.0,>=2.13.0->spacy>=2.2.2->es_core_news_sm==2.2.5) (2.10)\n",
            "Requirement already satisfied: chardet<4,>=3.0.2 in /usr/local/lib/python3.7/dist-packages (from requests<3.0.0,>=2.13.0->spacy>=2.2.2->es_core_news_sm==2.2.5) (3.0.4)\n",
            "Requirement already satisfied: importlib-metadata>=0.20; python_version < \"3.8\" in /usr/local/lib/python3.7/dist-packages (from catalogue<1.1.0,>=0.0.7->spacy>=2.2.2->es_core_news_sm==2.2.5) (4.0.1)\n",
            "Requirement already satisfied: typing-extensions>=3.6.4; python_version < \"3.8\" in /usr/local/lib/python3.7/dist-packages (from importlib-metadata>=0.20; python_version < \"3.8\"->catalogue<1.1.0,>=0.0.7->spacy>=2.2.2->es_core_news_sm==2.2.5) (3.7.4.3)\n",
            "Requirement already satisfied: zipp>=0.5 in /usr/local/lib/python3.7/dist-packages (from importlib-metadata>=0.20; python_version < \"3.8\"->catalogue<1.1.0,>=0.0.7->spacy>=2.2.2->es_core_news_sm==2.2.5) (3.4.1)\n",
            "Building wheels for collected packages: es-core-news-sm\n",
            "  Building wheel for es-core-news-sm (setup.py) ... \u001b[?25l\u001b[?25hdone\n",
            "  Created wheel for es-core-news-sm: filename=es_core_news_sm-2.2.5-cp37-none-any.whl size=16172935 sha256=51a1059179a4d61db7655ee750db0c5cd225a569e5e7dd23cba3f4182e140f47\n",
            "  Stored in directory: /tmp/pip-ephem-wheel-cache-nu326ufr/wheels/05/4f/66/9d0c806f86de08e8645d67996798c49e1512f9c3a250d74242\n",
            "Successfully built es-core-news-sm\n",
            "Installing collected packages: es-core-news-sm\n",
            "Successfully installed es-core-news-sm-2.2.5\n",
            "\u001b[38;5;2m✔ Download and installation successful\u001b[0m\n",
            "You can now load the model via spacy.load('es_core_news_sm')\n"
          ],
          "name": "stdout"
        }
      ]
    },
    {
      "cell_type": "code",
      "metadata": {
        "colab": {
          "base_uri": "https://localhost:8080/"
        },
        "id": "sJUWiKD5idEN",
        "outputId": "3efda490-62b9-49d2-bcf8-39a566ae463a"
      },
      "source": [
        "import itertools\n",
        "import nltk\n",
        "import numpy as np\n",
        "import pandas as pd\n",
        "import warnings\n",
        "warnings.filterwarnings('ignore')\n",
        "\n",
        "import gc\n",
        "\n",
        "nltk.download('punkt')\n",
        "\n",
        "import matplotlib.pyplot as plt\n",
        "import seaborn as sns\n",
        "sns.set()\n"
      ],
      "execution_count": null,
      "outputs": [
        {
          "output_type": "stream",
          "text": [
            "[nltk_data] Downloading package punkt to /root/nltk_data...\n",
            "[nltk_data]   Unzipping tokenizers/punkt.zip.\n"
          ],
          "name": "stdout"
        }
      ]
    },
    {
      "cell_type": "code",
      "metadata": {
        "colab": {
          "base_uri": "https://localhost:8080/"
        },
        "id": "1vEwNlC2ikia",
        "outputId": "47705147-8b48-43df-baf3-7ebb021d0303"
      },
      "source": [
        "from google.colab import drive\n",
        "drive.mount('/content/drive')"
      ],
      "execution_count": null,
      "outputs": [
        {
          "output_type": "stream",
          "text": [
            "Mounted at /content/drive\n"
          ],
          "name": "stdout"
        }
      ]
    },
    {
      "cell_type": "code",
      "metadata": {
        "id": "rHjOjaWui3kF",
        "colab": {
          "base_uri": "https://localhost:8080/"
        },
        "outputId": "d6c0ffb9-0588-4964-b4aa-5ced4ef2f9a1"
      },
      "source": [
        "# Importamos dataset de desarrollo\n",
        "data_dev = pd.read_json('/content/drive/MyDrive/NLP PROJECT/dataset_es_dev.json', lines = True)\n",
        "print(\"- Cantidad de filas del set de desarrollo:\", data_dev.shape[0])\n",
        "\n",
        "# Importamos dataset de entrenamiento\n",
        "data_train = pd.read_json('/content/drive/MyDrive/NLP PROJECT/dataset_es_train.json', lines = True)\n",
        "print(\"- Cantidad de filas del set de entrenamiento :\", data_train.shape[0])\n",
        "\n",
        "# Importamos dataset de prueba\n",
        "data_test = pd.read_json('/content/drive/MyDrive/NLP PROJECT/dataset_es_test.json', lines = True)\n",
        "print(\"- Cantidad de filas del set de prueba :\", data_test.shape[0])"
      ],
      "execution_count": null,
      "outputs": [
        {
          "output_type": "stream",
          "text": [
            "- Cantidad de filas del set de desarrollo: 5000\n",
            "- Cantidad de filas del set de entrenamiento : 200000\n",
            "- Cantidad de filas del set de prueba : 5000\n"
          ],
          "name": "stdout"
        }
      ]
    },
    {
      "cell_type": "code",
      "metadata": {
        "colab": {
          "base_uri": "https://localhost:8080/",
          "height": 536
        },
        "id": "tc5Nqus7Lkq8",
        "outputId": "68a1a290-1324-42ca-c9f7-0a040787815b"
      },
      "source": [
        "# Concatenamos todos\n",
        "data = pd.concat([data_dev,data_train,data_test])\n",
        "data = data.reset_index(drop=True)\n",
        "data.tail()"
      ],
      "execution_count": null,
      "outputs": [
        {
          "output_type": "execute_result",
          "data": {
            "text/html": [
              "<div>\n",
              "<style scoped>\n",
              "    .dataframe tbody tr th:only-of-type {\n",
              "        vertical-align: middle;\n",
              "    }\n",
              "\n",
              "    .dataframe tbody tr th {\n",
              "        vertical-align: top;\n",
              "    }\n",
              "\n",
              "    .dataframe thead th {\n",
              "        text-align: right;\n",
              "    }\n",
              "</style>\n",
              "<table border=\"1\" class=\"dataframe\">\n",
              "  <thead>\n",
              "    <tr style=\"text-align: right;\">\n",
              "      <th></th>\n",
              "      <th>review_id</th>\n",
              "      <th>product_id</th>\n",
              "      <th>reviewer_id</th>\n",
              "      <th>stars</th>\n",
              "      <th>review_body</th>\n",
              "      <th>review_title</th>\n",
              "      <th>language</th>\n",
              "      <th>product_category</th>\n",
              "    </tr>\n",
              "  </thead>\n",
              "  <tbody>\n",
              "    <tr>\n",
              "      <th>209995</th>\n",
              "      <td>es_0685611</td>\n",
              "      <td>product_es_0919143</td>\n",
              "      <td>reviewer_es_0461769</td>\n",
              "      <td>5</td>\n",
              "      <td>Para lo que cuesta es perfecto porque cumple s...</td>\n",
              "      <td>Perfectos para lo que sirven</td>\n",
              "      <td>es</td>\n",
              "      <td>wireless</td>\n",
              "    </tr>\n",
              "    <tr>\n",
              "      <th>209996</th>\n",
              "      <td>es_0638242</td>\n",
              "      <td>product_es_0636134</td>\n",
              "      <td>reviewer_es_0214562</td>\n",
              "      <td>5</td>\n",
              "      <td>Material muy flexible y cómodo, acorde a la de...</td>\n",
              "      <td>Buen vendedor, rápido y fiable.</td>\n",
              "      <td>es</td>\n",
              "      <td>wireless</td>\n",
              "    </tr>\n",
              "    <tr>\n",
              "      <th>209997</th>\n",
              "      <td>es_0760108</td>\n",
              "      <td>product_es_0078583</td>\n",
              "      <td>reviewer_es_0043609</td>\n",
              "      <td>5</td>\n",
              "      <td>Se ve bien el grabado</td>\n",
              "      <td>medallas con bonito grabado</td>\n",
              "      <td>es</td>\n",
              "      <td>home</td>\n",
              "    </tr>\n",
              "    <tr>\n",
              "      <th>209998</th>\n",
              "      <td>es_0070806</td>\n",
              "      <td>product_es_0359350</td>\n",
              "      <td>reviewer_es_0258717</td>\n",
              "      <td>5</td>\n",
              "      <td>lo compré para mi bici pero finalmente se lo h...</td>\n",
              "      <td>timbre</td>\n",
              "      <td>es</td>\n",
              "      <td>sports</td>\n",
              "    </tr>\n",
              "    <tr>\n",
              "      <th>209999</th>\n",
              "      <td>es_0794544</td>\n",
              "      <td>product_es_0130307</td>\n",
              "      <td>reviewer_es_0651938</td>\n",
              "      <td>5</td>\n",
              "      <td>Pues este tipo de cascos si que son inalambric...</td>\n",
              "      <td>Auriculares sin cables de verdad</td>\n",
              "      <td>es</td>\n",
              "      <td>electronics</td>\n",
              "    </tr>\n",
              "  </tbody>\n",
              "</table>\n",
              "</div>"
            ],
            "text/plain": [
              "         review_id          product_id  ... language  product_category\n",
              "209995  es_0685611  product_es_0919143  ...       es          wireless\n",
              "209996  es_0638242  product_es_0636134  ...       es          wireless\n",
              "209997  es_0760108  product_es_0078583  ...       es              home\n",
              "209998  es_0070806  product_es_0359350  ...       es            sports\n",
              "209999  es_0794544  product_es_0130307  ...       es       electronics\n",
              "\n",
              "[5 rows x 8 columns]"
            ]
          },
          "metadata": {
            "tags": []
          },
          "execution_count": 16
        }
      ]
    },
    {
      "cell_type": "code",
      "metadata": {
        "colab": {
          "base_uri": "https://localhost:8080/"
        },
        "id": "NkN_ncW5LpWD",
        "outputId": "e7599fd6-5d69-4a16-ce68-5f53093cc42f"
      },
      "source": [
        "# Liberamos espacio de memoria\n",
        "del(data_dev)\n",
        "del(data_train)\n",
        "del(data_test)\n",
        "gc.collect()"
      ],
      "execution_count": null,
      "outputs": [
        {
          "output_type": "execute_result",
          "data": {
            "text/plain": [
              "106"
            ]
          },
          "metadata": {
            "tags": []
          },
          "execution_count": 17
        }
      ]
    },
    {
      "cell_type": "code",
      "metadata": {
        "id": "2pTmV0WdidEO",
        "colab": {
          "base_uri": "https://localhost:8080/",
          "height": 537
        },
        "outputId": "df57c311-e646-440e-8824-4d0eb7c355a9"
      },
      "source": [
        "print(data.shape)\n",
        "data.head()"
      ],
      "execution_count": null,
      "outputs": [
        {
          "output_type": "stream",
          "text": [
            "(210000, 8)\n"
          ],
          "name": "stdout"
        },
        {
          "output_type": "execute_result",
          "data": {
            "text/html": [
              "<div>\n",
              "<style scoped>\n",
              "    .dataframe tbody tr th:only-of-type {\n",
              "        vertical-align: middle;\n",
              "    }\n",
              "\n",
              "    .dataframe tbody tr th {\n",
              "        vertical-align: top;\n",
              "    }\n",
              "\n",
              "    .dataframe thead th {\n",
              "        text-align: right;\n",
              "    }\n",
              "</style>\n",
              "<table border=\"1\" class=\"dataframe\">\n",
              "  <thead>\n",
              "    <tr style=\"text-align: right;\">\n",
              "      <th></th>\n",
              "      <th>review_id</th>\n",
              "      <th>product_id</th>\n",
              "      <th>reviewer_id</th>\n",
              "      <th>stars</th>\n",
              "      <th>review_body</th>\n",
              "      <th>review_title</th>\n",
              "      <th>language</th>\n",
              "      <th>product_category</th>\n",
              "    </tr>\n",
              "  </thead>\n",
              "  <tbody>\n",
              "    <tr>\n",
              "      <th>0</th>\n",
              "      <td>es_0417480</td>\n",
              "      <td>product_es_0873923</td>\n",
              "      <td>reviewer_es_0672978</td>\n",
              "      <td>1</td>\n",
              "      <td>Malisimo, muy grande demasiado aparatoso y mal...</td>\n",
              "      <td>Mala compra</td>\n",
              "      <td>es</td>\n",
              "      <td>wireless</td>\n",
              "    </tr>\n",
              "    <tr>\n",
              "      <th>1</th>\n",
              "      <td>es_0180432</td>\n",
              "      <td>product_es_0713146</td>\n",
              "      <td>reviewer_es_0100858</td>\n",
              "      <td>1</td>\n",
              "      <td>No he recibido el pedido no la devolución</td>\n",
              "      <td>No lo he recibido</td>\n",
              "      <td>es</td>\n",
              "      <td>apparel</td>\n",
              "    </tr>\n",
              "    <tr>\n",
              "      <th>2</th>\n",
              "      <td>es_0144850</td>\n",
              "      <td>product_es_0356874</td>\n",
              "      <td>reviewer_es_0486447</td>\n",
              "      <td>1</td>\n",
              "      <td>Tengo que buscar otro sistema, este no funcion...</td>\n",
              "      <td>Que no aprieta bien en el manillar</td>\n",
              "      <td>es</td>\n",
              "      <td>sports</td>\n",
              "    </tr>\n",
              "    <tr>\n",
              "      <th>3</th>\n",
              "      <td>es_0339629</td>\n",
              "      <td>product_es_0939832</td>\n",
              "      <td>reviewer_es_0894703</td>\n",
              "      <td>1</td>\n",
              "      <td>Utilicé las brocas de menor diámetro y se me d...</td>\n",
              "      <td>Brocas de mantequilla</td>\n",
              "      <td>es</td>\n",
              "      <td>home_improvement</td>\n",
              "    </tr>\n",
              "    <tr>\n",
              "      <th>4</th>\n",
              "      <td>es_0858362</td>\n",
              "      <td>product_es_0489066</td>\n",
              "      <td>reviewer_es_0887663</td>\n",
              "      <td>1</td>\n",
              "      <td>No me gusta su olor a viejo y aspecto malo</td>\n",
              "      <td>No me gusta</td>\n",
              "      <td>es</td>\n",
              "      <td>beauty</td>\n",
              "    </tr>\n",
              "  </tbody>\n",
              "</table>\n",
              "</div>"
            ],
            "text/plain": [
              "    review_id          product_id  ... language  product_category\n",
              "0  es_0417480  product_es_0873923  ...       es          wireless\n",
              "1  es_0180432  product_es_0713146  ...       es           apparel\n",
              "2  es_0144850  product_es_0356874  ...       es            sports\n",
              "3  es_0339629  product_es_0939832  ...       es  home_improvement\n",
              "4  es_0858362  product_es_0489066  ...       es            beauty\n",
              "\n",
              "[5 rows x 8 columns]"
            ]
          },
          "metadata": {
            "tags": []
          },
          "execution_count": 18
        }
      ]
    },
    {
      "cell_type": "markdown",
      "metadata": {
        "id": "guLlOpnANQIc"
      },
      "source": [
        "## **Data Preprocessing**"
      ]
    },
    {
      "cell_type": "code",
      "metadata": {
        "colab": {
          "base_uri": "https://localhost:8080/"
        },
        "id": "QE1rPPs_NUwi",
        "outputId": "872834b0-5a09-41af-f8cf-57be1fab71b7"
      },
      "source": [
        "data.stars.value_counts()"
      ],
      "execution_count": null,
      "outputs": [
        {
          "output_type": "execute_result",
          "data": {
            "text/plain": [
              "5    42000\n",
              "4    42000\n",
              "3    42000\n",
              "2    42000\n",
              "1    42000\n",
              "Name: stars, dtype: int64"
            ]
          },
          "metadata": {
            "tags": []
          },
          "execution_count": 19
        }
      ]
    },
    {
      "cell_type": "markdown",
      "metadata": {
        "id": "Wt4p-2K3NvoR"
      },
      "source": [
        "Tenemos 5 clases, correspondientes a las estrellas atribuídas. Dado que queremos convertirlo a un problema de clasificación binario, vamos a eliminar las instancias donde la cantidad de estrellas es = 3 ( con el objetivo de deshacernos de la ambigüedad)."
      ]
    },
    {
      "cell_type": "code",
      "metadata": {
        "id": "J_G5n6VVOwk1"
      },
      "source": [
        "data = data.drop(data[data['stars']==3].index)"
      ],
      "execution_count": null,
      "outputs": []
    },
    {
      "cell_type": "code",
      "metadata": {
        "colab": {
          "base_uri": "https://localhost:8080/"
        },
        "id": "h4Alo9wFNVIC",
        "outputId": "81e83fdc-20f5-4eea-c00c-684277d50414"
      },
      "source": [
        "data.stars.value_counts()"
      ],
      "execution_count": null,
      "outputs": [
        {
          "output_type": "execute_result",
          "data": {
            "text/plain": [
              "5    42000\n",
              "4    42000\n",
              "2    42000\n",
              "1    42000\n",
              "Name: stars, dtype: int64"
            ]
          },
          "metadata": {
            "tags": []
          },
          "execution_count": 22
        }
      ]
    },
    {
      "cell_type": "markdown",
      "metadata": {
        "id": "9JSmVLb7PcXU"
      },
      "source": [
        "Eliminadas las instancias de 3 estrellas, ahora vamos a convertir las instancias de 1 y 2 estrellas en '0' y las instancias de 4 y 5 estrellas en '1'."
      ]
    },
    {
      "cell_type": "code",
      "metadata": {
        "id": "Emg7FoVwOhI-"
      },
      "source": [
        "#Convierto a valores binarios\n",
        "data['stars'] = data['stars'].map(lambda x: 0 if(x==1 or x ==2) else 1)"
      ],
      "execution_count": null,
      "outputs": []
    },
    {
      "cell_type": "code",
      "metadata": {
        "colab": {
          "base_uri": "https://localhost:8080/"
        },
        "id": "Ln3lJn-HPbVu",
        "outputId": "91101aa5-2717-4e32-88bb-1ac4dabac697"
      },
      "source": [
        "data.stars.value_counts()"
      ],
      "execution_count": null,
      "outputs": [
        {
          "output_type": "execute_result",
          "data": {
            "text/plain": [
              "1    84000\n",
              "0    84000\n",
              "Name: stars, dtype: int64"
            ]
          },
          "metadata": {
            "tags": []
          },
          "execution_count": 24
        }
      ]
    },
    {
      "cell_type": "markdown",
      "metadata": {
        "id": "oD9FeiVcb2SG"
      },
      "source": [
        "Elimino los features que no voy a utilizar en el modelo"
      ]
    },
    {
      "cell_type": "code",
      "metadata": {
        "colab": {
          "base_uri": "https://localhost:8080/"
        },
        "id": "wHALlSfBb9yR",
        "outputId": "d678d7fa-126f-4d77-ca4d-a4ff0118cf77"
      },
      "source": [
        "data.columns"
      ],
      "execution_count": null,
      "outputs": [
        {
          "output_type": "execute_result",
          "data": {
            "text/plain": [
              "Index(['review_id', 'product_id', 'reviewer_id', 'stars', 'review_body',\n",
              "       'review_title', 'language', 'product_category'],\n",
              "      dtype='object')"
            ]
          },
          "metadata": {
            "tags": []
          },
          "execution_count": 26
        }
      ]
    },
    {
      "cell_type": "code",
      "metadata": {
        "id": "H-_I4zl4b0y7"
      },
      "source": [
        "data = data.drop(['review_id', 'product_id',\n",
        "                  'reviewer_id','review_title',\n",
        "                  'language', 'product_category'],axis=1)"
      ],
      "execution_count": null,
      "outputs": []
    },
    {
      "cell_type": "markdown",
      "metadata": {
        "id": "zvT6zcWDcQ7H"
      },
      "source": [
        "###**Funciones**\n"
      ]
    },
    {
      "cell_type": "markdown",
      "metadata": {
        "id": "gi1eJw9ccQ7K"
      },
      "source": [
        "**1- Función de limpieza de RegEx**"
      ]
    },
    {
      "cell_type": "code",
      "metadata": {
        "id": "LgrTPOtncQ7K"
      },
      "source": [
        "import re\n",
        "import string\n",
        "\n",
        "def clean_text_round1(text):\n",
        "   text = text.lower()\n",
        "   text = re.sub('\\[.*?¿\\]\\%', ' ', text)\n",
        "   text = re.sub('[%s]' % re.escape(string.punctuation), ' ', text)\n",
        "   text = re.sub('\\w*\\d\\w*', '', text)\n",
        "   text = re.sub('[‘’“”…«»]', '', text)\n",
        "   text = re.sub('\\n', ' ', text)\n",
        "   \n",
        "   return text"
      ],
      "execution_count": null,
      "outputs": []
    },
    {
      "cell_type": "markdown",
      "metadata": {
        "id": "DjVJnGsUcQ7K"
      },
      "source": [
        "**2- Eliminación de tildes.**"
      ]
    },
    {
      "cell_type": "code",
      "metadata": {
        "id": "K-2iRQWacQ7K"
      },
      "source": [
        "def basic_text_cleanup(text):\n",
        "    \"\"\"\n",
        "    Convert to lowercase, remove punctuation, remove digits\n",
        "    \"\"\"\n",
        "    text = text.lower() #lower case\n",
        "    text = re.sub(\"[^\\w|\\s]\", \" \",text) #replace non word and non space characters by a space\n",
        "    text = re.sub(\"\\s+\", \" \",text) #remove extra spaces\n",
        "    text = re.sub(\"á\", \"a\",text) #saco acentos\n",
        "    text = re.sub(\"é\", \"e\",text) #saco acentos\n",
        "    text = re.sub(\"í\", \"i\",text) #saco acentos\n",
        "    text = re.sub(\"ó\", \"o\",text) #saco acentos\n",
        "    text = re.sub(\"ú\", \"u\",text) #saco acentos\n",
        "    text = re.sub(\",\", \"\",text) #saco comas\n",
        "    #doc = nlp(text)#convert to a spacy object\n",
        "    #doc = [w.text for w in doc if not w.is_stop or w.text ==\"no\"] # remove stopwords but keep \"no\" for bigrams\n",
        "    #doc = [w for w in doc if (len(w)> 2 or w == \"no\")] #only words longer than 2 characters\n",
        "    #doc = [w for w in doc if (len(w)> 2 )] #only words longer than 2 characters\n",
        "    #doc = [w for w in doc if w != \"y\"] #remove \"y\"\n",
        "    #doc = \" \".join(doc)\n",
        "    return text\n"
      ],
      "execution_count": null,
      "outputs": []
    },
    {
      "cell_type": "code",
      "metadata": {
        "id": "5G9klnaWcj5X"
      },
      "source": [
        "import re\n",
        "from unicodedata import normalize\n",
        "def no_acentos(frase):\n",
        "    # -> NFD y eliminar diacríticos\n",
        "    frase_sin = re.sub(\n",
        "        r\"([^n\\u0300-\\u036f]|n(?!\\u0303(?![\\u0300-\\u036f])))[\\u0300-\\u036f]+\", r\"\\1\", \n",
        "        normalize( \"NFD\", frase), 0, re.I\n",
        "        )\n",
        "\n",
        "    # -> NFC\n",
        "    return normalize( 'NFC', frase_sin).lower()"
      ],
      "execution_count": null,
      "outputs": []
    },
    {
      "cell_type": "markdown",
      "metadata": {
        "id": "XsEkXUFAcQ7M"
      },
      "source": [
        "**3- Función de limpieza de emojis**"
      ]
    },
    {
      "cell_type": "code",
      "metadata": {
        "id": "6QkSOyokcQ7M"
      },
      "source": [
        "#Eliminamos los emojis de los comentarios. Tale como 😜 , 😔 , etc.\n",
        "def remove_emoji(text):\n",
        "    emoji_pattern = re.compile(\"[\"\n",
        "                           u\"\\U0001F600-\\U0001F64F\"  # emoticons\n",
        "                           u\"\\U0001F300-\\U0001F5FF\"  # symbols & pictographs\n",
        "                           u\"\\U0001F680-\\U0001F6FF\"  # transport & map symbols\n",
        "                           u\"\\U0001F1E0-\\U0001F1FF\"  # flags \n",
        "                           u\"\\U00002702-\\U000027B0\"\n",
        "                           u\"\\U000024C2-\\U0001F251\"\n",
        "                           \"]+\", flags=re.UNICODE)\n",
        "    return emoji_pattern.sub(r'', text)"
      ],
      "execution_count": null,
      "outputs": []
    },
    {
      "cell_type": "markdown",
      "metadata": {
        "id": "rw2qBBETcQ7M"
      },
      "source": [
        "**4- Función de limpieza de emoticones**"
      ]
    },
    {
      "cell_type": "code",
      "metadata": {
        "id": "IkJDfdCzcQ7M",
        "colab": {
          "base_uri": "https://localhost:8080/"
        },
        "outputId": "c8402605-6ce7-423d-d9b2-02079849c611"
      },
      "source": [
        "!pip install emot\n"
      ],
      "execution_count": null,
      "outputs": [
        {
          "output_type": "stream",
          "text": [
            "Collecting emot\n",
            "  Downloading https://files.pythonhosted.org/packages/49/07/20001ade19873de611b7b66a4d5e5aabbf190d65abea337d5deeaa2bc3de/emot-2.1-py3-none-any.whl\n",
            "Installing collected packages: emot\n",
            "Successfully installed emot-2.1\n"
          ],
          "name": "stdout"
        }
      ]
    },
    {
      "cell_type": "code",
      "metadata": {
        "id": "zFL3zzaOcQ7M"
      },
      "source": [
        "from emot.emo_unicode import UNICODE_EMO, EMOTICONS\n",
        "\n",
        "# Remover emoticones tales como :-) , :'( , etc\n",
        "def remove_emoticons(text):\n",
        "    emoticon_pattern = re.compile(u'(' + u'|'.join(k for k in EMOTICONS) + u')')\n",
        "    return emoticon_pattern.sub(r'', text)"
      ],
      "execution_count": null,
      "outputs": []
    },
    {
      "cell_type": "markdown",
      "metadata": {
        "id": "qwt-2tL4cQ7M"
      },
      "source": [
        "**5-StopWords modificadas**"
      ]
    },
    {
      "cell_type": "code",
      "metadata": {
        "colab": {
          "base_uri": "https://localhost:8080/"
        },
        "id": "2h4EQ46UcQ7N",
        "outputId": "5928a141-d2ec-4e4d-992c-67ae36fc160e"
      },
      "source": [
        "nltk.download('stopwords')\n",
        "stopwords = nltk.corpus.stopwords.words('spanish')"
      ],
      "execution_count": null,
      "outputs": [
        {
          "output_type": "stream",
          "text": [
            "[nltk_data] Downloading package stopwords to /root/nltk_data...\n",
            "[nltk_data]   Unzipping corpora/stopwords.zip.\n"
          ],
          "name": "stdout"
        }
      ]
    },
    {
      "cell_type": "code",
      "metadata": {
        "id": "MMXrHkkzcQ7N"
      },
      "source": [
        "# Sacamos algunas palabras del set stopword que queremos conservar en las reviews:\n",
        "list_a_conservar=['no', 'tuvo', 'poco', 'nada', 'ni', 'mucho', 'muchos', 'contra']\n",
        "for mant_palabra in list_a_conservar:\n",
        "    stopwords.remove(mant_palabra)"
      ],
      "execution_count": null,
      "outputs": []
    },
    {
      "cell_type": "code",
      "metadata": {
        "id": "pjDttRm0cQ7N"
      },
      "source": [
        "# Eliminamos tildes, dierecis, etc de las stopwords.\n",
        "stopwords = [no_acentos(word) for word in stopwords]"
      ],
      "execution_count": null,
      "outputs": []
    },
    {
      "cell_type": "code",
      "metadata": {
        "id": "GNck-xHWcQ7N"
      },
      "source": [
        "def eliminar_stopwords(comentario):\n",
        "    # Eliminamos las palabras de menos de 3 letras\n",
        "    frase = nltk.word_tokenize(comentario)\n",
        "    frase_lista = [palabra for palabra in frase if (len(palabra)>2 or palabra in ['no','ni','si','ma'])]\n",
        "    \n",
        "    # Sacamos las Stopwords\n",
        "    frase_lista = [palabra for palabra in frase_lista if not palabra in stopwords ]\n",
        "    \n",
        "    # Por ultimo volvemos a unir la lista\n",
        "    frase = \" \".join(frase_lista)\n",
        "    return frase"
      ],
      "execution_count": null,
      "outputs": []
    },
    {
      "cell_type": "markdown",
      "metadata": {
        "id": "9wz2-nfzcykY"
      },
      "source": [
        "## **Normalización**"
      ]
    },
    {
      "cell_type": "markdown",
      "metadata": {
        "id": "BGcD-TnrdNBd"
      },
      "source": [
        "### **1-Limpieza de texto**"
      ]
    },
    {
      "cell_type": "code",
      "metadata": {
        "id": "l5L1So-ic5F3"
      },
      "source": [
        "#Limpiamos el texto según las funciones definidas anteriormente.\n",
        "data['review_body'] =  data['review_body'].apply(clean_text_round1)\n",
        "data['review_body'] =  data['review_body'].apply(remove_emoji)\n",
        "data['review_body'] =  data['review_body'].apply(remove_emoticons)\n",
        "data['review_body'] =  data['review_body'].apply(basic_text_cleanup)\n",
        "data['review_body'] =  data['review_body'].apply(eliminar_stopwords)"
      ],
      "execution_count": null,
      "outputs": []
    },
    {
      "cell_type": "markdown",
      "metadata": {
        "id": "3uSl6xZ_dVkY"
      },
      "source": [
        "### **2- Stemming**"
      ]
    },
    {
      "cell_type": "code",
      "metadata": {
        "colab": {
          "base_uri": "https://localhost:8080/",
          "height": 205
        },
        "id": "Fz-G1FONdqhN",
        "outputId": "08339bd0-096d-4096-bdaf-a3a7f7730a3a"
      },
      "source": [
        "df_stemm = data.copy()\n",
        "df_stemm.head()"
      ],
      "execution_count": null,
      "outputs": [
        {
          "output_type": "execute_result",
          "data": {
            "text/html": [
              "<div>\n",
              "<style scoped>\n",
              "    .dataframe tbody tr th:only-of-type {\n",
              "        vertical-align: middle;\n",
              "    }\n",
              "\n",
              "    .dataframe tbody tr th {\n",
              "        vertical-align: top;\n",
              "    }\n",
              "\n",
              "    .dataframe thead th {\n",
              "        text-align: right;\n",
              "    }\n",
              "</style>\n",
              "<table border=\"1\" class=\"dataframe\">\n",
              "  <thead>\n",
              "    <tr style=\"text-align: right;\">\n",
              "      <th></th>\n",
              "      <th>stars</th>\n",
              "      <th>review_body</th>\n",
              "    </tr>\n",
              "  </thead>\n",
              "  <tbody>\n",
              "    <tr>\n",
              "      <th>0</th>\n",
              "      <td>0</td>\n",
              "      <td>malisimo grande demasiado aparatoso mal protec...</td>\n",
              "    </tr>\n",
              "    <tr>\n",
              "      <th>1</th>\n",
              "      <td>0</td>\n",
              "      <td>no recibido pedido no devolucion</td>\n",
              "    </tr>\n",
              "    <tr>\n",
              "      <th>2</th>\n",
              "      <td>0</td>\n",
              "      <td>buscar sistema no funciona bien abrazadera lle...</td>\n",
              "    </tr>\n",
              "    <tr>\n",
              "      <th>3</th>\n",
              "      <td>0</td>\n",
              "      <td>utilice brocas menor diametro doblaron varias ...</td>\n",
              "    </tr>\n",
              "    <tr>\n",
              "      <th>4</th>\n",
              "      <td>0</td>\n",
              "      <td>no gusta olor viejo aspecto malo</td>\n",
              "    </tr>\n",
              "  </tbody>\n",
              "</table>\n",
              "</div>"
            ],
            "text/plain": [
              "   stars                                        review_body\n",
              "0      0  malisimo grande demasiado aparatoso mal protec...\n",
              "1      0                   no recibido pedido no devolucion\n",
              "2      0  buscar sistema no funciona bien abrazadera lle...\n",
              "3      0  utilice brocas menor diametro doblaron varias ...\n",
              "4      0                   no gusta olor viejo aspecto malo"
            ]
          },
          "metadata": {
            "tags": []
          },
          "execution_count": 43
        }
      ]
    },
    {
      "cell_type": "code",
      "metadata": {
        "id": "AarHXg-3dgnx"
      },
      "source": [
        "from nltk.stem import SnowballStemmer\n",
        "stemmer = SnowballStemmer('spanish')"
      ],
      "execution_count": null,
      "outputs": []
    },
    {
      "cell_type": "code",
      "metadata": {
        "id": "6suWH4_ddgjW"
      },
      "source": [
        "comentario_list=[]\n",
        "for comentario in df_stemm.review_body:\n",
        "    # Vamos a reemplzar los caracteres que no sean letras por espacios\n",
        "    comentario=re.sub(\"[^a-zA-Z]\",\" \",str(comentario))\n",
        "    # Pasamos todo a minúsculas\n",
        "    comentario=comentario.lower()\n",
        "    # Tokenizamos para separar las palabras del titular\n",
        "    comentario=nltk.word_tokenize(comentario)\n",
        "    # Eliminamos las palabras de menos de 3 letras\n",
        "    comentario= [palabra for palabra in comentario if len(palabra)>3]\n",
        "    # Sacamos las Stopwords\n",
        "    comentario = [palabra for palabra in comentario if not palabra in stopwords]\n",
        "    \n",
        "    ## Hasta acá Normalizamos, ahora a stemmizar\n",
        "    \n",
        "    # Aplicamos la funcion para buscar la raiz de las palabras\n",
        "    comentario=[stemmer.stem(palabra) for palabra in comentario]\n",
        "    # Por ultimo volvemos a unir el titular\n",
        "    comentario=\" \".join(comentario)\n",
        "    \n",
        "    # Vamos armando una lista con todos los comentarios\n",
        "    comentario_list.append(comentario)"
      ],
      "execution_count": null,
      "outputs": []
    },
    {
      "cell_type": "code",
      "metadata": {
        "id": "8VnY9g5PdnQZ"
      },
      "source": [
        "df_stemm[\"review_body\"] = comentario_list"
      ],
      "execution_count": null,
      "outputs": []
    },
    {
      "cell_type": "code",
      "metadata": {
        "colab": {
          "base_uri": "https://localhost:8080/",
          "height": 205
        },
        "id": "oyjjAwrCdvo1",
        "outputId": "aaae16cf-78b1-4ba3-d8c4-a82d6ddc5f9d"
      },
      "source": [
        "data['review_body_stemm']= df_stemm[\"review_body\"]\n",
        "data.head()"
      ],
      "execution_count": null,
      "outputs": [
        {
          "output_type": "execute_result",
          "data": {
            "text/html": [
              "<div>\n",
              "<style scoped>\n",
              "    .dataframe tbody tr th:only-of-type {\n",
              "        vertical-align: middle;\n",
              "    }\n",
              "\n",
              "    .dataframe tbody tr th {\n",
              "        vertical-align: top;\n",
              "    }\n",
              "\n",
              "    .dataframe thead th {\n",
              "        text-align: right;\n",
              "    }\n",
              "</style>\n",
              "<table border=\"1\" class=\"dataframe\">\n",
              "  <thead>\n",
              "    <tr style=\"text-align: right;\">\n",
              "      <th></th>\n",
              "      <th>stars</th>\n",
              "      <th>review_body</th>\n",
              "      <th>review_body_stemm</th>\n",
              "    </tr>\n",
              "  </thead>\n",
              "  <tbody>\n",
              "    <tr>\n",
              "      <th>0</th>\n",
              "      <td>0</td>\n",
              "      <td>malisimo grande demasiado aparatoso mal protec...</td>\n",
              "      <td>malisim grand demasi aparat protector pantall</td>\n",
              "    </tr>\n",
              "    <tr>\n",
              "      <th>1</th>\n",
              "      <td>0</td>\n",
              "      <td>no recibido pedido no devolucion</td>\n",
              "      <td>recib ped devolucion</td>\n",
              "    </tr>\n",
              "    <tr>\n",
              "      <th>2</th>\n",
              "      <td>0</td>\n",
              "      <td>buscar sistema no funciona bien abrazadera lle...</td>\n",
              "      <td>busc sistem funcion bien abrazader llev agarr ...</td>\n",
              "    </tr>\n",
              "    <tr>\n",
              "      <th>3</th>\n",
              "      <td>0</td>\n",
              "      <td>utilice brocas menor diametro doblaron varias ...</td>\n",
              "      <td>utilic broc menor diametr dobl vari mantequill...</td>\n",
              "    </tr>\n",
              "    <tr>\n",
              "      <th>4</th>\n",
              "      <td>0</td>\n",
              "      <td>no gusta olor viejo aspecto malo</td>\n",
              "      <td>gust olor viej aspect mal</td>\n",
              "    </tr>\n",
              "  </tbody>\n",
              "</table>\n",
              "</div>"
            ],
            "text/plain": [
              "   stars  ...                                  review_body_stemm\n",
              "0      0  ...      malisim grand demasi aparat protector pantall\n",
              "1      0  ...                               recib ped devolucion\n",
              "2      0  ...  busc sistem funcion bien abrazader llev agarr ...\n",
              "3      0  ...  utilic broc menor diametr dobl vari mantequill...\n",
              "4      0  ...                          gust olor viej aspect mal\n",
              "\n",
              "[5 rows x 3 columns]"
            ]
          },
          "metadata": {
            "tags": []
          },
          "execution_count": 47
        }
      ]
    },
    {
      "cell_type": "markdown",
      "metadata": {
        "id": "tNukHOt7eRWI"
      },
      "source": [
        "### **3- Lemmatization**"
      ]
    },
    {
      "cell_type": "code",
      "metadata": {
        "id": "pgTys8RneV7K"
      },
      "source": [
        "# Previamente\n",
        "## !python -m spacy download es_core_news_sm\n",
        "#Si bien ya lo hice antes, uno debe reiniciar el kernel cada vez que instala esta librería\n",
        "\n",
        "import spacy # https://spacy.io/usage/models\n",
        "nlp = spacy.load('es_core_news_sm')\n",
        "\n",
        "#Stop Words de es_core_news_sm\n",
        "from spacy.lang.es.stop_words import STOP_WORDS\n",
        "stopwords_spacy = list(STOP_WORDS)\n",
        "\n",
        "# Quitamos de las stopwords palabras como 'no', 'bueno', 'buena' que nos pueden ser últiles para predecir\n",
        "stopwords_spacy.remove('no') # En los comentarios negativos es muy repetida\n",
        "stopwords_spacy.remove('bueno')\n",
        "stopwords_spacy.remove('buena')\n",
        "stopwords_spacy.remove('tarde')\n",
        "stopwords_spacy.remove('temprano')\n",
        "stopwords_spacy.remove('día')\n",
        "stopwords_spacy.remove('días')\n",
        "stopwords_spacy.remove('dia')\n",
        "stopwords_spacy.remove('dias')\n",
        "stopwords_spacy.remove('grandes')\n",
        "stopwords_spacy.remove('general')"
      ],
      "execution_count": null,
      "outputs": []
    },
    {
      "cell_type": "code",
      "metadata": {
        "id": "NcR-sVpxeo6g"
      },
      "source": [
        "'''\n",
        "#Constante de signos de puntuación\n",
        "import string\n",
        "puntua = string.punctuation + '¡¿...'\n",
        "excluded_pos = ['SCONJ','CCONJ','NUM','PUNCT','PRON','DET','ADP','AUX','X']\n",
        "'''"
      ],
      "execution_count": null,
      "outputs": []
    },
    {
      "cell_type": "code",
      "metadata": {
        "id": "Acs0DtNwex_m"
      },
      "source": [
        "'''\n",
        "#Defino una función para lematizar\n",
        "def text_data_lemma(sentence):\n",
        "    doc = nlp(sentence)\n",
        "    \n",
        "    clean_tokens = []\n",
        "    for token in doc:\n",
        "        if (token.pos_ not in excluded_pos and str(token) not in stopwords_spacy and len(token.text)>2): \n",
        "            temp = token.lemma_.strip()\n",
        "            clean_tokens.append(temp.lower())\n",
        "    \n",
        "    return clean_tokens\n",
        "'''"
      ],
      "execution_count": null,
      "outputs": []
    },
    {
      "cell_type": "markdown",
      "metadata": {
        "id": "RpM388cOex_m"
      },
      "source": [
        "Una vez que está definida la función de lematizar, se la aplicamos al df, para crear una lista con cada uno de los comentarios lematizados.\n",
        "Es un proceso muy exigente a nivel computacional, por lo que cambiaremos el tipo de entorno de ejecución por una GPU."
      ]
    },
    {
      "cell_type": "markdown",
      "metadata": {
        "id": "vYIELn8Iex_n"
      },
      "source": [
        "La siguiente celda está comentada para no volverse a ejecutar. La operación tuvo un tiempo de 3 horas y 38 minutos."
      ]
    },
    {
      "cell_type": "code",
      "metadata": {
        "colab": {
          "base_uri": "https://localhost:8080/"
        },
        "id": "fwhyhYn6ex_n",
        "outputId": "b60575af-1ba0-405e-9b54-ad444c37c7db"
      },
      "source": [
        "# Limpiamos todas las reviews con lemmatizer\n",
        "# %%time\n",
        "# reviews_lemma = []\n",
        "# for i in df.index:\n",
        "#     rev = text_data_lemma(df.review_body.iloc[i])\n",
        "#     reviews_lemma.append(\" \".join(rev))\n",
        "# reviews_lemma[:5]"
      ],
      "execution_count": null,
      "outputs": [
        {
          "output_type": "stream",
          "text": [
            "CPU times: user 3h 36min 14s, sys: 2min 37s, total: 3h 38min 51s\n",
            "Wall time: 3h 38min 20s\n"
          ],
          "name": "stdout"
        }
      ]
    },
    {
      "cell_type": "markdown",
      "metadata": {
        "id": "gDLMfWMKex_n"
      },
      "source": [
        "Se creó una lista. La transformo a un pandas DataFrame y la descargo para poder trabajar en el futuro."
      ]
    },
    {
      "cell_type": "code",
      "metadata": {
        "id": "pyIvixMLex_n"
      },
      "source": [
        "#Creo DataFrame a partir de la lista\n",
        "#df_lemma = pd.DataFrame(reviews_lemma)"
      ],
      "execution_count": null,
      "outputs": []
    },
    {
      "cell_type": "code",
      "metadata": {
        "id": "G31icoBuex_o"
      },
      "source": [
        "# Almaceno el DF en formato csv dentro de mi Drive\n",
        "#   df_lemma.to_csv('df_lemma.csv')\n",
        "#   !cp df_lemma.csv '/content/drive/MyDrive/NLP PROJECT/df_lemma.csv'"
      ],
      "execution_count": null,
      "outputs": []
    },
    {
      "cell_type": "code",
      "metadata": {
        "id": "jSaKtuWuex_o"
      },
      "source": [
        "#Descargo desde Google Drive\n",
        "lemma = pd.read_csv('/content/drive/MyDrive/NLP PROJECT/df_lemma.csv')"
      ],
      "execution_count": null,
      "outputs": []
    },
    {
      "cell_type": "code",
      "metadata": {
        "id": "dDyaKYrWex_o"
      },
      "source": [
        "#Asigno nueva columna al df con el que vamos a trabajar\n",
        "data['review_body_lemma']= lemma['0']\n",
        "data.tail()"
      ],
      "execution_count": null,
      "outputs": []
    },
    {
      "cell_type": "markdown",
      "metadata": {
        "id": "X4z1Z9Qdfgc-"
      },
      "source": [
        "### **DF Normalizado.**"
      ]
    },
    {
      "cell_type": "markdown",
      "metadata": {
        "id": "d19T9XGXfgc_"
      },
      "source": [
        "Ahora tenemos en el df 4 columnas:\n",
        "\n",
        "1.   `review_body` : corresponden a todos los comentarios normalizados en la etapa de Data Cleaning\n",
        "2.   `review_body_stemm`: corresponde a todos los comentarios normalizados con Data Cleaning y luego Stemizados.\n",
        "\n",
        "3. `review_body_lemma`: corresponde a todos los comentarios normalizados con Data Cleaning y luego Lematizados.\n",
        "\n",
        "4. `Stars`: va a ser el target de nuestro ML model\n",
        "\n"
      ]
    },
    {
      "cell_type": "markdown",
      "metadata": {
        "id": "H2qbwxQafgc_"
      },
      "source": [
        "Guardamos la base de datos para poder utilizarla más adelante"
      ]
    },
    {
      "cell_type": "code",
      "metadata": {
        "id": "kyTuZTGsfgc_"
      },
      "source": [
        "# Almaceno el DF en formato csv dentro de mi Drive\n",
        "data.to_csv('df_normalizado_binario.csv')\n",
        "!cp df_normalizado_binario.csv '/content/drive/MyDrive/NLP PROJECT/df_normalizado_binario.csv'"
      ],
      "execution_count": null,
      "outputs": []
    },
    {
      "cell_type": "code",
      "metadata": {
        "id": "5aFfV9Azfgc_"
      },
      "source": [
        "data = pd.read_csv('/content/drive/MyDrive/NLP PROJECT/df_normalizado_binario.csv')\n",
        "data=data.drop('Unnamed: 0',axis=1)\n",
        "data"
      ],
      "execution_count": null,
      "outputs": []
    },
    {
      "cell_type": "markdown",
      "metadata": {
        "id": "mDvT1dMsfgdA"
      },
      "source": [
        "Eliminación de instancias faltantes\n"
      ]
    },
    {
      "cell_type": "code",
      "metadata": {
        "colab": {
          "base_uri": "https://localhost:8080/"
        },
        "id": "lZ3mQCP0fgdA",
        "outputId": "fc7f83c5-c989-43dc-a784-1bdf374fa9f7"
      },
      "source": [
        "#Verificamos que no se hayan perdido datos en el proceso\n",
        "data.isna().sum().sum()"
      ],
      "execution_count": null,
      "outputs": [
        {
          "output_type": "execute_result",
          "data": {
            "text/plain": [
              "128"
            ]
          },
          "metadata": {
            "tags": []
          },
          "execution_count": 60
        }
      ]
    },
    {
      "cell_type": "code",
      "metadata": {
        "id": "fBHZpdyofgdA"
      },
      "source": [
        "# Dado que se perdieron 170 datos en total, los eliminaremos\n",
        "data = data.dropna()"
      ],
      "execution_count": null,
      "outputs": []
    },
    {
      "cell_type": "code",
      "metadata": {
        "colab": {
          "base_uri": "https://localhost:8080/"
        },
        "id": "tAi9ytYSfgdA",
        "outputId": "96129fa2-75fb-43fd-e464-f84588237a8d"
      },
      "source": [
        "# Verificamos\n",
        "data.isna().sum().sum()"
      ],
      "execution_count": null,
      "outputs": [
        {
          "output_type": "execute_result",
          "data": {
            "text/plain": [
              "0"
            ]
          },
          "metadata": {
            "tags": []
          },
          "execution_count": 63
        }
      ]
    },
    {
      "cell_type": "markdown",
      "metadata": {
        "id": "9Cu4dQZkgfuG"
      },
      "source": [
        "## **Vectorización**"
      ]
    },
    {
      "cell_type": "markdown",
      "metadata": {
        "id": "P4laeOZLgjBu"
      },
      "source": [
        "Siguiendo la línea del proyecto anterior, utilizaremos el modelo de vectorización TF-IDF con unigramas y bigramas"
      ]
    },
    {
      "cell_type": "code",
      "metadata": {
        "id": "RC2Mqqj3hktc"
      },
      "source": [
        "# TT split\n",
        "from sklearn.model_selection import train_test_split\n",
        "\n",
        "#Pipeline\n",
        "from sklearn.pipeline import Pipeline\n",
        "\n",
        "# Bag of Words\n",
        "from sklearn.feature_extraction.text import TfidfVectorizer\n",
        "from sklearn.feature_extraction.text import CountVectorizer\n",
        "\n",
        "# Modelos\n",
        "from sklearn.svm import LinearSVC\n",
        "from sklearn.ensemble import RandomForestClassifier\n",
        "from sklearn.naive_bayes import GaussianNB\n",
        "\n",
        "#Cross Validation\n",
        "from sklearn.model_selection import KFold\n",
        "from sklearn.model_selection import cross_val_score\n",
        "from sklearn.model_selection import cross_validate\n",
        "\n",
        "#Optimización hiperparámetros\n",
        "from sklearn.model_selection import RandomizedSearchCV\n",
        "from sklearn.model_selection import GridSearchCV\n",
        "\n",
        "\n",
        "# Métricas\n",
        "from sklearn.metrics import accuracy_score\n",
        "from sklearn.metrics import classification_report\n",
        "from sklearn.metrics import confusion_matrix"
      ],
      "execution_count": null,
      "outputs": []
    },
    {
      "cell_type": "code",
      "metadata": {
        "id": "FHogPFXqglzL"
      },
      "source": [
        "# Data Cleaning\n",
        "reviews_cl = data['review_body'].values\n",
        "stars_cl = data['stars'].values\n",
        "\n",
        "# Stemming\n",
        "reviews_st = data['review_body_stemm'].values\n",
        "stars_st = data['stars'].values\n",
        "\n",
        "#Lemmatization\n",
        "reviews_le = data['review_body_lemma'].values\n",
        "stars_le = data['stars'].values"
      ],
      "execution_count": null,
      "outputs": []
    },
    {
      "cell_type": "code",
      "metadata": {
        "id": "YvlhxYnwglzM"
      },
      "source": [
        "X_train_cl, X_test_cl, ytrain_cl, ytest_cl = train_test_split(reviews_cl,stars_cl,test_size=0.3,\n",
        "                                                  random_state=42,stratify=stars_cl)"
      ],
      "execution_count": null,
      "outputs": []
    },
    {
      "cell_type": "code",
      "metadata": {
        "id": "5HTsMUOKglzM"
      },
      "source": [
        "X_train_st, X_test_st, ytrain_st, ytest_st = train_test_split(reviews_st,stars_st,test_size=0.3,\n",
        "                                                  random_state=42,stratify=stars_st)"
      ],
      "execution_count": null,
      "outputs": []
    },
    {
      "cell_type": "code",
      "metadata": {
        "id": "xaZdQIxtglzM"
      },
      "source": [
        "X_train_le, X_test_le, ytrain_le, ytest_le = train_test_split(reviews_le,stars_le,test_size=0.3,\n",
        "                                                  random_state=42,stratify=stars_le)"
      ],
      "execution_count": null,
      "outputs": []
    },
    {
      "cell_type": "code",
      "metadata": {
        "id": "DXJ4iULsglzM"
      },
      "source": [
        "tfidf_cl = TfidfVectorizer(max_features = 1000, ngram_range=(1,2))\n",
        "tfidf_st = TfidfVectorizer(max_features = 1000, ngram_range=(1,2))\n",
        "tfidf_le = TfidfVectorizer(max_features = 1000, ngram_range=(1,2))"
      ],
      "execution_count": null,
      "outputs": []
    },
    {
      "cell_type": "markdown",
      "metadata": {
        "id": "uLuT7pO9h0hU"
      },
      "source": [
        "## **Modelo**"
      ]
    },
    {
      "cell_type": "markdown",
      "metadata": {
        "id": "V9PSzY9Nh5hy"
      },
      "source": [
        "### Funciones de Evaluación"
      ]
    },
    {
      "cell_type": "code",
      "metadata": {
        "id": "-m3A66SNh4F2"
      },
      "source": [
        "#Función para plotear la matriz de confusión\n",
        "from sklearn.metrics import confusion_matrix\n",
        "import seaborn as sns\n",
        "\n",
        "def confusion(ytest,y_pred):\n",
        "    stars=['Bueno','Malo']\n",
        "    cm=confusion_matrix(ytest,y_pred)\n",
        "    f,ax=plt.subplots(figsize=(5,5))\n",
        "    sns.heatmap(cm,annot=True,linewidth=.5,linecolor=\"r\",fmt=\".0f\",ax=ax)\n",
        "    plt.xlabel(\"Valor Predicho\")\n",
        "    plt.ylabel(\"Valor Verdadero\")\n",
        "    ax.set_xticklabels(stars)\n",
        "    ax.set_yticklabels(stars)\n",
        "    plt.show()\n",
        "\n",
        "    return"
      ],
      "execution_count": null,
      "outputs": []
    },
    {
      "cell_type": "code",
      "metadata": {
        "id": "lb5Hh9VMh4F2"
      },
      "source": [
        "def evaluar_modelo(model_fit, X_train, X_test, y_train, y_test):\n",
        "    print(model_fit)\n",
        "    acc_train = model_fit.score(X_train, y_train)\n",
        "    print(\"Accuracy en train: \", round(acc_train,4))\n",
        "    y_pred = model_fit.predict(X_test)\n",
        "    acc_test = accuracy_score(y_pred, y_test)\n",
        "    print(\"Accuracy en test: \", round(acc_test,4))\n",
        "\n",
        "    print(classification_report(y_test, y_pred))\n",
        "    confusion(y_test, y_pred)\n",
        "    return  acc_train, acc_test"
      ],
      "execution_count": null,
      "outputs": []
    },
    {
      "cell_type": "code",
      "metadata": {
        "id": "BWTH4mSFh3uN"
      },
      "source": [
        "def evaluar_modelo_simple(model_fit, X_train, X_test, y_train, y_test):\n",
        "    print(model_fit)\n",
        "    acc_train = model_fit.score(X_train, y_train)\n",
        "    print(\"Accuracy en train: \", round(acc_train,4))\n",
        "    y_pred = model_fit.predict(X_test)\n",
        "    acc_test = accuracy_score(y_pred, y_test)\n",
        "    print(\"Accuracy en test: \", round(acc_test,4))\n",
        "\n",
        "    print(classification_report(y_test, y_pred))\n",
        "    \n",
        "    return  acc_train, acc_test"
      ],
      "execution_count": null,
      "outputs": []
    },
    {
      "cell_type": "markdown",
      "metadata": {
        "id": "e5G_5nORiNS6"
      },
      "source": [
        "### **Modelo con Data Clean**"
      ]
    },
    {
      "cell_type": "code",
      "metadata": {
        "id": "IqRqIdzIiRTc"
      },
      "source": [
        "#Definimos el vectorizador para Data_Clean ('review_body')\n",
        "tfidf_cl = tfidf_cl.fit(X_train_cl)\n",
        "X_train_cl = tfidf_cl.transform(X_train_cl).toarray()\n",
        "X_test_cl = tfidf_cl.transform(X_test_cl).toarray()"
      ],
      "execution_count": null,
      "outputs": []
    },
    {
      "cell_type": "markdown",
      "metadata": {
        "id": "WHWVGBgniRTc"
      },
      "source": [
        "**Naive Bayes - Benchmark**"
      ]
    },
    {
      "cell_type": "code",
      "metadata": {
        "colab": {
          "base_uri": "https://localhost:8080/",
          "height": 575
        },
        "id": "qkuNHAqSiRTc",
        "outputId": "54a1c884-1814-43b4-a82a-ecd60eed875f"
      },
      "source": [
        "clf = GaussianNB()\n",
        "clf.fit(X_train_cl,ytrain_cl)\n",
        "evaluar_modelo(clf ,X_train_cl ,X_test_cl ,ytrain_cl ,ytest_cl)"
      ],
      "execution_count": null,
      "outputs": [
        {
          "output_type": "stream",
          "text": [
            "GaussianNB(priors=None, var_smoothing=1e-09)\n",
            "Accuracy en train:  0.8338\n",
            "Accuracy en test:  0.832\n",
            "              precision    recall  f1-score   support\n",
            "\n",
            "           0       0.85      0.80      0.83     25191\n",
            "           1       0.81      0.86      0.84     25173\n",
            "\n",
            "    accuracy                           0.83     50364\n",
            "   macro avg       0.83      0.83      0.83     50364\n",
            "weighted avg       0.83      0.83      0.83     50364\n",
            "\n"
          ],
          "name": "stdout"
        },
        {
          "output_type": "display_data",
          "data": {
            "image/png": "[encoded data removed]",
            "text/plain": [
              "<Figure size 360x360 with 2 Axes>"
            ]
          },
          "metadata": {
            "tags": []
          }
        },
        {
          "output_type": "execute_result",
          "data": {
            "text/plain": [
              "(0.8338325646305972, 0.8319831625764434)"
            ]
          },
          "metadata": {
            "tags": []
          },
          "execution_count": 109
        }
      ]
    },
    {
      "cell_type": "markdown",
      "metadata": {
        "id": "IPHBeo81iRTd"
      },
      "source": [
        "Linear SVC"
      ]
    },
    {
      "cell_type": "code",
      "metadata": {
        "colab": {
          "base_uri": "https://localhost:8080/",
          "height": 630
        },
        "id": "AOna0VgViRTd",
        "outputId": "760facde-3347-46c1-d1cd-387c503106a2"
      },
      "source": [
        "clf = LinearSVC(C = 20, max_iter= 500)\n",
        "clf.fit(X_train_cl,ytrain_cl)\n",
        "evaluar_modelo(clf ,X_train_cl ,X_test_cl ,ytrain_cl ,ytest_cl)"
      ],
      "execution_count": null,
      "outputs": [
        {
          "output_type": "stream",
          "text": [
            "LinearSVC(C=20, class_weight=None, dual=True, fit_intercept=True,\n",
            "          intercept_scaling=1, loss='squared_hinge', max_iter=500,\n",
            "          multi_class='ovr', penalty='l2', random_state=None, tol=0.0001,\n",
            "          verbose=0)\n",
            "Accuracy en train:  0.8815\n",
            "Accuracy en test:  0.8783\n",
            "              precision    recall  f1-score   support\n",
            "\n",
            "           0       0.88      0.88      0.88     25191\n",
            "           1       0.88      0.87      0.88     25173\n",
            "\n",
            "    accuracy                           0.88     50364\n",
            "   macro avg       0.88      0.88      0.88     50364\n",
            "weighted avg       0.88      0.88      0.88     50364\n",
            "\n"
          ],
          "name": "stdout"
        },
        {
          "output_type": "display_data",
          "data": {
            "image/png": "[encoded data removed]",
            "text/plain": [
              "<Figure size 360x360 with 2 Axes>"
            ]
          },
          "metadata": {
            "tags": []
          }
        },
        {
          "output_type": "execute_result",
          "data": {
            "text/plain": [
              "(0.8815460285582994, 0.8783456437137638)"
            ]
          },
          "metadata": {
            "tags": []
          },
          "execution_count": 110
        }
      ]
    },
    {
      "cell_type": "markdown",
      "metadata": {
        "id": "3WZeeo6MiRTd"
      },
      "source": [
        "**Random Forest**"
      ]
    },
    {
      "cell_type": "code",
      "metadata": {
        "colab": {
          "base_uri": "https://localhost:8080/",
          "height": 703
        },
        "id": "9SmXVp3_iRTd",
        "outputId": "fe1ff9c5-8f2e-4518-82a1-270839ae0076"
      },
      "source": [
        "clf = RandomForestClassifier(max_depth= 14)\n",
        "clf.fit(X_train_cl,ytrain_cl)\n",
        "evaluar_modelo(clf ,X_train_cl ,X_test_cl ,ytrain_cl ,ytest_cl)"
      ],
      "execution_count": null,
      "outputs": [
        {
          "output_type": "stream",
          "text": [
            "RandomForestClassifier(bootstrap=True, ccp_alpha=0.0, class_weight=None,\n",
            "                       criterion='gini', max_depth=14, max_features='auto',\n",
            "                       max_leaf_nodes=None, max_samples=None,\n",
            "                       min_impurity_decrease=0.0, min_impurity_split=None,\n",
            "                       min_samples_leaf=1, min_samples_split=2,\n",
            "                       min_weight_fraction_leaf=0.0, n_estimators=100,\n",
            "                       n_jobs=None, oob_score=False, random_state=None,\n",
            "                       verbose=0, warm_start=False)\n",
            "Accuracy en train:  0.8185\n",
            "Accuracy en test:  0.81\n",
            "              precision    recall  f1-score   support\n",
            "\n",
            "           0       0.82      0.79      0.81     25191\n",
            "           1       0.80      0.83      0.81     25173\n",
            "\n",
            "    accuracy                           0.81     50364\n",
            "   macro avg       0.81      0.81      0.81     50364\n",
            "weighted avg       0.81      0.81      0.81     50364\n",
            "\n"
          ],
          "name": "stdout"
        },
        {
          "output_type": "display_data",
          "data": {
            "image/png": "[encoded data removed]",
            "text/plain": [
              "<Figure size 360x360 with 2 Axes>"
            ]
          },
          "metadata": {
            "tags": []
          }
        },
        {
          "output_type": "execute_result",
          "data": {
            "text/plain": [
              "(0.8185067311128886, 0.8100031768723691)"
            ]
          },
          "metadata": {
            "tags": []
          },
          "execution_count": 111
        }
      ]
    },
    {
      "cell_type": "markdown",
      "metadata": {
        "id": "o2n4T3gWjcNV"
      },
      "source": [
        "### **Modelo con Data Stemmizada**"
      ]
    },
    {
      "cell_type": "code",
      "metadata": {
        "id": "q7UcW1hljbpb"
      },
      "source": [
        "#Definimos el vectorizador para Data_Stemmatizasa ('review_body_stemm')\n",
        "tfidf_st = tfidf_st.fit(X_train_st)\n",
        "X_train_st = tfidf_st.transform(X_train_st).toarray()\n",
        "X_test_st = tfidf_st.transform(X_test_st).toarray()"
      ],
      "execution_count": null,
      "outputs": []
    },
    {
      "cell_type": "markdown",
      "metadata": {
        "id": "rQ7v6y6Fjbpb"
      },
      "source": [
        "**Naive Bayes - Benchmark**"
      ]
    },
    {
      "cell_type": "code",
      "metadata": {
        "colab": {
          "base_uri": "https://localhost:8080/",
          "height": 575
        },
        "id": "oJp-aw24jbpc",
        "outputId": "bbd2be0e-b2f3-4c7a-8d71-1959b711788a"
      },
      "source": [
        "clf = GaussianNB()\n",
        "clf.fit(X_train_st,ytrain_st)\n",
        "evaluar_modelo(clf ,X_train_st ,X_test_st ,ytrain_st ,ytest_st)"
      ],
      "execution_count": null,
      "outputs": [
        {
          "output_type": "stream",
          "text": [
            "GaussianNB(priors=None, var_smoothing=1e-09)\n",
            "Accuracy en train:  0.8091\n",
            "Accuracy en test:  0.8064\n",
            "              precision    recall  f1-score   support\n",
            "\n",
            "           0       0.82      0.79      0.80     25191\n",
            "           1       0.79      0.83      0.81     25173\n",
            "\n",
            "    accuracy                           0.81     50364\n",
            "   macro avg       0.81      0.81      0.81     50364\n",
            "weighted avg       0.81      0.81      0.81     50364\n",
            "\n"
          ],
          "name": "stdout"
        },
        {
          "output_type": "display_data",
          "data": {
            "image/png": "[encoded data removed]",
            "text/plain": [
              "<Figure size 360x360 with 2 Axes>"
            ]
          },
          "metadata": {
            "tags": []
          }
        },
        {
          "output_type": "execute_result",
          "data": {
            "text/plain": [
              "(0.8090695576697244, 0.8064093400047653)"
            ]
          },
          "metadata": {
            "tags": []
          },
          "execution_count": 92
        }
      ]
    },
    {
      "cell_type": "markdown",
      "metadata": {
        "id": "bNJyCHzxjbpc"
      },
      "source": [
        "**Linear SVC**"
      ]
    },
    {
      "cell_type": "code",
      "metadata": {
        "colab": {
          "base_uri": "https://localhost:8080/",
          "height": 630
        },
        "id": "AKbUGzF7jbpd",
        "outputId": "da592ba7-6c61-4d21-f115-7548f995db76"
      },
      "source": [
        "clf = LinearSVC(C = 20, max_iter= 500)\n",
        "clf.fit(X_train_st,ytrain_st)\n",
        "evaluar_modelo(clf ,X_train_st ,X_test_st ,ytrain_st ,ytest_st)"
      ],
      "execution_count": null,
      "outputs": [
        {
          "output_type": "stream",
          "text": [
            "LinearSVC(C=20, class_weight=None, dual=True, fit_intercept=True,\n",
            "          intercept_scaling=1, loss='squared_hinge', max_iter=500,\n",
            "          multi_class='ovr', penalty='l2', random_state=None, tol=0.0001,\n",
            "          verbose=0)\n",
            "Accuracy en train:  0.8598\n",
            "Accuracy en test:  0.8562\n",
            "              precision    recall  f1-score   support\n",
            "\n",
            "           0       0.85      0.86      0.86     25191\n",
            "           1       0.86      0.85      0.86     25173\n",
            "\n",
            "    accuracy                           0.86     50364\n",
            "   macro avg       0.86      0.86      0.86     50364\n",
            "weighted avg       0.86      0.86      0.86     50364\n",
            "\n"
          ],
          "name": "stdout"
        },
        {
          "output_type": "display_data",
          "data": {
            "image/png": "[encoded data removed]",
            "text/plain": [
              "<Figure size 360x360 with 2 Axes>"
            ]
          },
          "metadata": {
            "tags": []
          }
        },
        {
          "output_type": "execute_result",
          "data": {
            "text/plain": [
              "(0.8597869190053951, 0.8561671034866174)"
            ]
          },
          "metadata": {
            "tags": []
          },
          "execution_count": 93
        }
      ]
    },
    {
      "cell_type": "markdown",
      "metadata": {
        "id": "vSTrcJUujbpd"
      },
      "source": [
        "**Random Forest**"
      ]
    },
    {
      "cell_type": "code",
      "metadata": {
        "colab": {
          "base_uri": "https://localhost:8080/",
          "height": 703
        },
        "id": "mweLiKp0jbpd",
        "outputId": "552f717c-043b-48b4-fcec-f6a53b28c2e3"
      },
      "source": [
        "clf = RandomForestClassifier(max_depth= 14)\n",
        "clf.fit(X_train_st,ytrain_st)\n",
        "evaluar_modelo(clf ,X_train_st ,X_test_st ,ytrain_st ,ytest_st)"
      ],
      "execution_count": null,
      "outputs": [
        {
          "output_type": "stream",
          "text": [
            "RandomForestClassifier(bootstrap=True, ccp_alpha=0.0, class_weight=None,\n",
            "                       criterion='gini', max_depth=14, max_features='auto',\n",
            "                       max_leaf_nodes=None, max_samples=None,\n",
            "                       min_impurity_decrease=0.0, min_impurity_split=None,\n",
            "                       min_samples_leaf=1, min_samples_split=2,\n",
            "                       min_weight_fraction_leaf=0.0, n_estimators=100,\n",
            "                       n_jobs=None, oob_score=False, random_state=None,\n",
            "                       verbose=0, warm_start=False)\n",
            "Accuracy en train:  0.8069\n",
            "Accuracy en test:  0.7981\n",
            "              precision    recall  f1-score   support\n",
            "\n",
            "           0       0.77      0.85      0.81     25191\n",
            "           1       0.83      0.75      0.79     25173\n",
            "\n",
            "    accuracy                           0.80     50364\n",
            "   macro avg       0.80      0.80      0.80     50364\n",
            "weighted avg       0.80      0.80      0.80     50364\n",
            "\n"
          ],
          "name": "stdout"
        },
        {
          "output_type": "display_data",
          "data": {
            "image/png": "[encoded data removed]",
            "text/plain": [
              "<Figure size 360x360 with 2 Axes>"
            ]
          },
          "metadata": {
            "tags": []
          }
        },
        {
          "output_type": "execute_result",
          "data": {
            "text/plain": [
              "(0.8069421515734295, 0.7981296163926614)"
            ]
          },
          "metadata": {
            "tags": []
          },
          "execution_count": 94
        }
      ]
    },
    {
      "cell_type": "markdown",
      "metadata": {
        "id": "SpVwOmftjmj1"
      },
      "source": [
        "### **Modelo con Data Lematizada**"
      ]
    },
    {
      "cell_type": "code",
      "metadata": {
        "id": "lTOXc-gWj15f"
      },
      "source": [
        "#Definimos el vectorizador para Data_Stemmatizasa ('review_body_stemm')\n",
        "tfidf_le = tfidf_le.fit(X_train_le)\n",
        "X_train_le = tfidf_le.transform(X_train_le).toarray()\n",
        "X_test_le = tfidf_le.transform(X_test_le).toarray()"
      ],
      "execution_count": null,
      "outputs": []
    },
    {
      "cell_type": "markdown",
      "metadata": {
        "id": "v6YXc7f_j15h"
      },
      "source": [
        "**Naive Bayes - Benchmark**"
      ]
    },
    {
      "cell_type": "code",
      "metadata": {
        "colab": {
          "base_uri": "https://localhost:8080/",
          "height": 575
        },
        "id": "c7LrHCrpj15i",
        "outputId": "2c0a4f5d-b0d0-41ce-c2d7-bf36c8f41087"
      },
      "source": [
        "clf = GaussianNB()\n",
        "clf.fit(X_train_le,ytrain_le)\n",
        "evaluar_modelo(clf ,X_train_le ,X_test_le ,ytrain_le ,ytest_le)"
      ],
      "execution_count": null,
      "outputs": [
        {
          "output_type": "stream",
          "text": [
            "GaussianNB(priors=None, var_smoothing=1e-09)\n",
            "Accuracy en train:  0.7904\n",
            "Accuracy en test:  0.7861\n",
            "              precision    recall  f1-score   support\n",
            "\n",
            "           0       0.81      0.75      0.78     25191\n",
            "           1       0.76      0.83      0.79     25173\n",
            "\n",
            "    accuracy                           0.79     50364\n",
            "   macro avg       0.79      0.79      0.79     50364\n",
            "weighted avg       0.79      0.79      0.79     50364\n",
            "\n"
          ],
          "name": "stdout"
        },
        {
          "output_type": "display_data",
          "data": {
            "image/png": "[encoded data removed]",
            "text/plain": [
              "<Figure size 360x360 with 2 Axes>"
            ]
          },
          "metadata": {
            "tags": []
          }
        },
        {
          "output_type": "execute_result",
          "data": {
            "text/plain": [
              "(0.7904079513930256, 0.786097212294496)"
            ]
          },
          "metadata": {
            "tags": []
          },
          "execution_count": 96
        }
      ]
    },
    {
      "cell_type": "markdown",
      "metadata": {
        "id": "sGW8K0gVj15i"
      },
      "source": [
        "**Linear SVC**"
      ]
    },
    {
      "cell_type": "code",
      "metadata": {
        "colab": {
          "base_uri": "https://localhost:8080/",
          "height": 630
        },
        "id": "FzN3G48Hj15j",
        "outputId": "9b8affe5-01ed-40c5-a1ef-0f0d23bbc83a"
      },
      "source": [
        "clf = LinearSVC(C = 20, max_iter= 500)\n",
        "clf.fit(X_train_le,ytrain_le)\n",
        "evaluar_modelo(clf ,X_train_le ,X_test_le ,ytrain_le ,ytest_le)"
      ],
      "execution_count": null,
      "outputs": [
        {
          "output_type": "stream",
          "text": [
            "LinearSVC(C=20, class_weight=None, dual=True, fit_intercept=True,\n",
            "          intercept_scaling=1, loss='squared_hinge', max_iter=500,\n",
            "          multi_class='ovr', penalty='l2', random_state=None, tol=0.0001,\n",
            "          verbose=0)\n",
            "Accuracy en train:  0.836\n",
            "Accuracy en test:  0.8311\n",
            "              precision    recall  f1-score   support\n",
            "\n",
            "           0       0.82      0.84      0.83     25191\n",
            "           1       0.84      0.82      0.83     25173\n",
            "\n",
            "    accuracy                           0.83     50364\n",
            "   macro avg       0.83      0.83      0.83     50364\n",
            "weighted avg       0.83      0.83      0.83     50364\n",
            "\n"
          ],
          "name": "stdout"
        },
        {
          "output_type": "display_data",
          "data": {
            "image/png": "[encoded data removed]",
            "text/plain": [
              "<Figure size 360x360 with 2 Axes>"
            ]
          },
          "metadata": {
            "tags": []
          }
        },
        {
          "output_type": "execute_result",
          "data": {
            "text/plain": [
              "(0.8359769899756625, 0.8310896672226193)"
            ]
          },
          "metadata": {
            "tags": []
          },
          "execution_count": 97
        }
      ]
    },
    {
      "cell_type": "markdown",
      "metadata": {
        "id": "pTf6vKsEj15j"
      },
      "source": [
        "**Random Forest**"
      ]
    },
    {
      "cell_type": "code",
      "metadata": {
        "colab": {
          "base_uri": "https://localhost:8080/",
          "height": 703
        },
        "id": "1tJbz9Q4j15j",
        "outputId": "defb1e13-5bbf-46e4-f3f4-1fade33f0ac2"
      },
      "source": [
        "clf = RandomForestClassifier(n_estimators = 100, random_state=42,max_depth = 14)\n",
        "clf.fit(X_train_le,ytrain_le)\n",
        "evaluar_modelo(clf ,X_train_le ,X_test_le ,ytrain_le ,ytest_le)"
      ],
      "execution_count": null,
      "outputs": [
        {
          "output_type": "stream",
          "text": [
            "RandomForestClassifier(bootstrap=True, ccp_alpha=0.0, class_weight=None,\n",
            "                       criterion='gini', max_depth=14, max_features='auto',\n",
            "                       max_leaf_nodes=None, max_samples=None,\n",
            "                       min_impurity_decrease=0.0, min_impurity_split=None,\n",
            "                       min_samples_leaf=1, min_samples_split=2,\n",
            "                       min_weight_fraction_leaf=0.0, n_estimators=100,\n",
            "                       n_jobs=None, oob_score=False, random_state=42, verbose=0,\n",
            "                       warm_start=False)\n",
            "Accuracy en train:  0.7753\n",
            "Accuracy en test:  0.7676\n",
            "              precision    recall  f1-score   support\n",
            "\n",
            "           0       0.72      0.88      0.79     25191\n",
            "           1       0.84      0.66      0.74     25173\n",
            "\n",
            "    accuracy                           0.77     50364\n",
            "   macro avg       0.78      0.77      0.76     50364\n",
            "weighted avg       0.78      0.77      0.76     50364\n",
            "\n"
          ],
          "name": "stdout"
        },
        {
          "output_type": "display_data",
          "data": {
            "image/png": "[encoded data removed]",
            "text/plain": [
              "<Figure size 360x360 with 2 Axes>"
            ]
          },
          "metadata": {
            "tags": []
          }
        },
        {
          "output_type": "execute_result",
          "data": {
            "text/plain": [
              "(0.7752778392361761, 0.7676117861964895)"
            ]
          },
          "metadata": {
            "tags": []
          },
          "execution_count": 98
        }
      ]
    },
    {
      "cell_type": "markdown",
      "metadata": {
        "id": "BzimEesrldAX"
      },
      "source": [
        "### **Elección de Datos y Modelos.**"
      ]
    },
    {
      "cell_type": "markdown",
      "metadata": {
        "id": "ttNJ46rYllI3"
      },
      "source": [
        "Al igual que en el proyecto anterior, el mejor performance se da utilizando la máquina de soporte vectorial con un kernel lineal, sobre la base de datos normalizada simple (Data Clean o 'review_body').\n",
        "\n",
        "Esta vez, con una mejora importante en todas sus métricas, ya que el accuracy del modelo previo a la optimización es de <font color='green'>**87,8%**</font> en el conjunto de test. \n"
      ]
    },
    {
      "cell_type": "markdown",
      "metadata": {
        "id": "2C6WnLDmmTNn"
      },
      "source": [
        "###**Optimización de hiperparámetros**"
      ]
    },
    {
      "cell_type": "markdown",
      "metadata": {
        "id": "aeE7UqOZokQb"
      },
      "source": [
        "**Grid Search 1**"
      ]
    },
    {
      "cell_type": "code",
      "metadata": {
        "colab": {
          "base_uri": "https://localhost:8080/"
        },
        "id": "s5bL4QUOnSdt",
        "outputId": "692c15f6-256d-4630-b26c-460cb8d1d6a3"
      },
      "source": [
        "#Grid Search 1\n",
        "param_grid = {'C':[0.01,0.1,1,1.1]}\n",
        "svcgs = LinearSVC()\n",
        "model = GridSearchCV(svcgs, param_grid=param_grid,cv=5)\n",
        "model.fit(X_train_cl,ytrain_cl)\n",
        "\n",
        "print(\"Mejores parametros: \"+str(model.best_params_))\n",
        "print(\"Mejor Score: \"+str(model.best_score_)+'\\n')"
      ],
      "execution_count": null,
      "outputs": [
        {
          "output_type": "stream",
          "text": [
            "Mejores parametros: {'C': 1}\n",
            "Mejor Score: 0.876967861683015\n",
            "\n"
          ],
          "name": "stdout"
        }
      ]
    },
    {
      "cell_type": "code",
      "metadata": {
        "colab": {
          "base_uri": "https://localhost:8080/"
        },
        "id": "9RZIwChiojy_",
        "outputId": "33eadd9b-7deb-4dc2-d5b3-48d7ffd2a615"
      },
      "source": [
        "#CrossVal para GS1 \n",
        "%%time\n",
        "results = cross_validate(clf, X_train_cl, ytrain_cl, cv=8, return_train_score=True, scoring='accuracy', n_jobs=-1)\n",
        "print('Accuracy promedio en test: ', round(np.mean(results['test_score']),4))"
      ],
      "execution_count": null,
      "outputs": [
        {
          "output_type": "stream",
          "text": [
            "Accuracy promedio en test:  0.8771\n",
            "CPU times: user 368 ms, sys: 399 ms, total: 767 ms\n",
            "Wall time: 11.1 s\n"
          ],
          "name": "stdout"
        }
      ]
    },
    {
      "cell_type": "markdown",
      "metadata": {
        "id": "VAob6lOfo1UP"
      },
      "source": [
        "**Grid Search 2**"
      ]
    },
    {
      "cell_type": "code",
      "metadata": {
        "colab": {
          "base_uri": "https://localhost:8080/"
        },
        "id": "GP9o46BFojrM",
        "outputId": "3472f00d-d4e5-43a3-bf2d-d8b5fabfb902"
      },
      "source": [
        "#Grid Search 2\n",
        "%%time\n",
        "param_grid = {'C':[0.1,1,2],\n",
        "              'penalty':['l1', 'l2'],\n",
        "              'tol': [1e-3, 1e-4, 1e-5]}\n",
        "svcgs = LinearSVC()\n",
        "model = GridSearchCV(svcgs, param_grid=param_grid,cv=5)\n",
        "model.fit(X_train_cl,ytrain_cl)\n",
        "\n",
        "print(\"Mejores parametros: \"+str(model.best_params_))\n",
        "print(\"Mejor Score: \"+str(model.best_score_)+'\\n')"
      ],
      "execution_count": null,
      "outputs": [
        {
          "output_type": "stream",
          "text": [
            "Mejores parametros: {'C': 1, 'penalty': 'l2', 'tol': 0.0001}\n",
            "Mejor Score: 0.876967861683015\n",
            "\n",
            "CPU times: user 1min 15s, sys: 5.47 s, total: 1min 20s\n",
            "Wall time: 1min 14s\n"
          ],
          "name": "stdout"
        }
      ]
    },
    {
      "cell_type": "code",
      "metadata": {
        "colab": {
          "base_uri": "https://localhost:8080/"
        },
        "id": "eDkS8-ANpzGZ",
        "outputId": "6f575e8a-162e-4559-c111-847a3a885d59"
      },
      "source": [
        "#CrossVal para GS2\n",
        "%%time\n",
        "results = cross_validate(clf, X_train_cl, ytrain_cl, cv=8, return_train_score=True, scoring='accuracy', n_jobs=-1)\n",
        "print('Accuracy promedio en test: ', round(np.mean(results['test_score']),4))"
      ],
      "execution_count": null,
      "outputs": [
        {
          "output_type": "stream",
          "text": [
            "Accuracy promedio en test:  0.8772\n",
            "CPU times: user 372 ms, sys: 420 ms, total: 792 ms\n",
            "Wall time: 11.3 s\n"
          ],
          "name": "stdout"
        }
      ]
    },
    {
      "cell_type": "markdown",
      "metadata": {
        "id": "NJaeoui8pmCD"
      },
      "source": [
        "**Randomized Search**"
      ]
    },
    {
      "cell_type": "code",
      "metadata": {
        "colab": {
          "base_uri": "https://localhost:8080/"
        },
        "id": "v0F7XkSjpqMx",
        "outputId": "5085fced-b38e-455b-d159-d61a46b09688"
      },
      "source": [
        "#Randomized Search \n",
        "#fijamos seed = 0\n",
        "svc_o = LinearSVC(dual = False,\n",
        "                  random_state= 0)\n",
        "\n",
        "#Parámetros para  RandomizedSearchCV\n",
        "params = {  'penalty': ['l1', 'l2'],              #norma de regularizacion\n",
        "             'loss' : ['hinge', 'squared_hinge'], #tipo función de pérdida\n",
        "             'fit_intercept': ['True','False'],           #tolerancia para el error\n",
        "             'C': [10, 20, 50],                   #parámetro clave del modelo SVC\n",
        "             'max_iter': [500, 1000]              #número máximo de iteraciones \n",
        "         }\n",
        "                 \n",
        "svc_rs = RandomizedSearchCV( estimator = svc_o, \n",
        "                             param_distributions = params, \n",
        "                             n_iter = 15, \n",
        "                             cv = 5,               #crossvalidation de 5-folds\n",
        "                             scoring = 'accuracy'\n",
        "                            )\n",
        "\n",
        "\n",
        "svc_rs.fit(X_train_cl,ytrain_cl)\n",
        "\n",
        "print('Los mejores parámetros son:', svc_rs.best_params_, '\\n')\n",
        "print('El mejor score es:', svc_rs.best_score_)"
      ],
      "execution_count": null,
      "outputs": [
        {
          "output_type": "stream",
          "text": [
            "Los mejores parámetros son: {'penalty': 'l2', 'max_iter': 1000, 'loss': 'squared_hinge', 'fit_intercept': 'False', 'C': 10} \n",
            "\n",
            "El mejor score es: 0.8769253113886102\n"
          ],
          "name": "stdout"
        }
      ]
    },
    {
      "cell_type": "code",
      "metadata": {
        "colab": {
          "base_uri": "https://localhost:8080/"
        },
        "id": "gEAVg07gqptZ",
        "outputId": "9023e404-090b-455b-f966-bb0aa177fe1c"
      },
      "source": [
        "#CrossVal para RS\n",
        "%%time \n",
        "results = cross_validate(clf, X_train_cl, ytrain_cl, cv=9, return_train_score=True, scoring='accuracy', n_jobs=-1)\n",
        "print('Accuracy promedio en test: ', round(np.mean(results['test_score']),4))"
      ],
      "execution_count": null,
      "outputs": [
        {
          "output_type": "stream",
          "text": [
            "Accuracy promedio en test:  0.8769\n",
            "CPU times: user 405 ms, sys: 416 ms, total: 821 ms\n",
            "Wall time: 13.3 s\n"
          ],
          "name": "stdout"
        }
      ]
    },
    {
      "cell_type": "markdown",
      "metadata": {
        "id": "r8hhAqa5sKUy"
      },
      "source": [
        "### **Modelo Final**"
      ]
    },
    {
      "cell_type": "markdown",
      "metadata": {
        "id": "DTh3hrmqsNfb"
      },
      "source": [
        "Dado que el mejor performance se alcanzó mediante los hiperparámetros obtenidos en el segundo Grid Search, definimos nuestro modelo final.\n",
        "\n",
        "Los hiperparámetros serán:\n",
        "\n",
        "     {'C': 1, 'penalty': 'l2', 'tol': 0.0001}"
      ]
    },
    {
      "cell_type": "code",
      "metadata": {
        "colab": {
          "base_uri": "https://localhost:8080/",
          "height": 630
        },
        "id": "amEny2wXsoSh",
        "outputId": "4d450d57-7b3a-4f40-daa0-45e27d9b4b7e"
      },
      "source": [
        "clf = LinearSVC(C = 1, max_iter= 500, penalty = 'l2', tol = 0.0001)\n",
        "clf.fit(X_train_cl,ytrain_cl)\n",
        "evaluar_modelo(clf ,X_train_cl ,X_test_cl ,ytrain_cl ,ytest_cl)"
      ],
      "execution_count": null,
      "outputs": [
        {
          "output_type": "stream",
          "text": [
            "LinearSVC(C=1, class_weight=None, dual=True, fit_intercept=True,\n",
            "          intercept_scaling=1, loss='squared_hinge', max_iter=500,\n",
            "          multi_class='ovr', penalty='l2', random_state=None, tol=0.0001,\n",
            "          verbose=0)\n",
            "Accuracy en train:  0.8814\n",
            "Accuracy en test:  0.8782\n",
            "              precision    recall  f1-score   support\n",
            "\n",
            "           0       0.88      0.88      0.88     25191\n",
            "           1       0.88      0.87      0.88     25173\n",
            "\n",
            "    accuracy                           0.88     50364\n",
            "   macro avg       0.88      0.88      0.88     50364\n",
            "weighted avg       0.88      0.88      0.88     50364\n",
            "\n"
          ],
          "name": "stdout"
        },
        {
          "output_type": "display_data",
          "data": {
            "image/png": "[encoded data removed]",
            "text/plain": [
              "<Figure size 360x360 with 2 Axes>"
            ]
          },
          "metadata": {
            "tags": []
          }
        },
        {
          "output_type": "execute_result",
          "data": {
            "text/plain": [
              "(0.8814183841925217, 0.8781868000953061)"
            ]
          },
          "metadata": {
            "tags": []
          },
          "execution_count": 130
        }
      ]
    },
    {
      "cell_type": "code",
      "metadata": {
        "colab": {
          "base_uri": "https://localhost:8080/"
        },
        "id": "HQ44QxuQs0c7",
        "outputId": "e2ec1b9f-6915-49a1-f8ac-c4ddc7deac77"
      },
      "source": [
        "#Cross Validation para 12 folds\n",
        "results = cross_validate(clf, X_train_cl, ytrain_cl, cv=12, return_train_score=True, scoring='accuracy', n_jobs=-1)\n",
        "print('Accuracy promedio en train =  ', round(np.mean(results['train_score']),4))\n",
        "print('Accuracy promedio en test =  ', round(np.mean(results['test_score']),4))"
      ],
      "execution_count": null,
      "outputs": [
        {
          "output_type": "stream",
          "text": [
            "Accuracy promedio en train =   0.8815\n",
            "Accuracy promedio en test =   0.8774\n"
          ],
          "name": "stdout"
        }
      ]
    },
    {
      "cell_type": "markdown",
      "metadata": {
        "id": "bPDIzD-btBF8"
      },
      "source": [
        "## **Conclusión**"
      ]
    },
    {
      "cell_type": "markdown",
      "metadata": {
        "id": "HasD9otctKz6"
      },
      "source": [
        "Finalmente, luego de convertir nuestro problema de clasificación multiclase, a un problema de clasificación binario, obtuve una mejora importante en el performance del modelo.\n",
        "\n",
        "El modelo final fue un modelo de clasificación basado en una máquina de soporte vectorial con un kernel lineal, cuyas métricas finales fueron:\n",
        "\n",
        "Accuracy en conjunto de Train : <font color='cyan'>**88,15%**</font> \n",
        "\n",
        "Accuracy en conjunto de Test:   <font color='magenta'>**87,74%**</font> \n",
        "\n",
        "Con una varianza menor al medio punto porcentual, manteniendo un performance altísimo, arriba del 85%."
      ]
    },
    {
      "cell_type": "code",
      "metadata": {
        "colab": {
          "base_uri": "https://localhost:8080/",
          "height": 506
        },
        "id": "lYtI5GjqvevA",
        "outputId": "67dfdcd5-fb13-41dc-85fc-16a12ba3cca3"
      },
      "source": [
        "plt.figure(figsize = (15,8))\n",
        "all_words = tfidf_cl.get_feature_names()\n",
        "for n_star in range(0,1):\n",
        "    \n",
        "    coeff = list(clf.coef_[n_star])\n",
        "    labels = list(all_words)\n",
        "\n",
        "    features = pd.DataFrame()\n",
        "    features['Features'] = labels\n",
        "    features['Importance'] = coeff\n",
        "    features = features.reset_index(drop=True)\n",
        "    features_sort = features.sort_values(by=['Importance'], ascending=True)\n",
        "    features_sort = features_sort.reset_index(drop=True)\n",
        "    \n",
        "    plt.subplot(1, 2, n_star+1)\n",
        "    data_plot = pd.concat([features_sort.head(10), features_sort.tail(10)])\n",
        "    data_plot.sort_values(by=['Importance'], ascending=True, inplace = True)\n",
        "    data_plot['positive'] = data_plot['Importance'] > 0\n",
        "    data_plot.set_index('Features', inplace = True)\n",
        "    data_plot.Importance.plot(kind='barh', \n",
        "                              color = data_plot.positive.map({True: 'green', False: 'red'}),\n",
        "                              fontsize=12)\n",
        "    \n",
        "    \n",
        "    \n",
        "    plt.title ('Importancia de los features ', fontsize=16)\n",
        "    plt.title ('Feature Importances para comentarios', fontsize=16)\n",
        "plt.show()"
      ],
      "execution_count": null,
      "outputs": [
        {
          "output_type": "display_data",
          "data": {
            "image/png": "[encoded data removed]",
            "text/plain": [
              "<Figure size 1080x576 with 1 Axes>"
            ]
          },
          "metadata": {
            "tags": []
          }
        }
      ]
    }
  ]
}