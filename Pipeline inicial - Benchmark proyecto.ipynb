{
  "nbformat": 4,
  "nbformat_minor": 0,
  "metadata": {
    "colab": {
      "name": "Proyecto-NLP- Solorzano.ipynb",
      "provenance": [],
      "collapsed_sections": []
    },
    "kernelspec": {
      "display_name": "Python 3",
      "language": "python",
      "name": "python3"
    },
    "language_info": {
      "codemirror_mode": {
        "name": "ipython",
        "version": 3
      },
      "file_extension": ".py",
      "mimetype": "text/x-python",
      "name": "python",
      "nbconvert_exporter": "python",
      "pygments_lexer": "ipython3",
      "version": "3.8.5"
    }
  },
  "cells": [
    {
      "cell_type": "markdown",
      "metadata": {
        "id": "seD9DMM3wBC_"
      },
      "source": [
        "# Data Intake"
      ]
    },
    {
      "cell_type": "code",
      "metadata": {
        "colab": {
          "base_uri": "https://localhost:8080/"
        },
        "id": "sJUWiKD5idEN",
        "outputId": "b6243a45-8342-4db8-ba04-dbc01634a269"
      },
      "source": [
        "import itertools\n",
        "import nltk\n",
        "import numpy as np\n",
        "import pandas as pd\n",
        "nltk.download('punkt')\n",
        "\n",
        "import matplotlib.pyplot as plt\n",
        "import seaborn as sns\n",
        "sns.set()\n"
      ],
      "execution_count": null,
      "outputs": [
        {
          "output_type": "stream",
          "text": [
            "[nltk_data] Downloading package punkt to /root/nltk_data...\n",
            "[nltk_data]   Package punkt is already up-to-date!\n"
          ],
          "name": "stderr"
        }
      ]
    },
    {
      "cell_type": "code",
      "metadata": {
        "colab": {
          "base_uri": "https://localhost:8080/"
        },
        "id": "1vEwNlC2ikia",
        "outputId": "e052972a-2e75-43c9-de76-e8446ae20ffc"
      },
      "source": [
        "from google.colab import drive\n",
        "drive.mount('/content/drive')"
      ],
      "execution_count": null,
      "outputs": [
        {
          "output_type": "stream",
          "text": [
            "Drive already mounted at /content/drive; to attempt to forcibly remount, call drive.mount(\"/content/drive\", force_remount=True).\n"
          ],
          "name": "stdout"
        }
      ]
    },
    {
      "cell_type": "code",
      "metadata": {
        "id": "rHjOjaWui3kF"
      },
      "source": [
        "data = pd.read_json('/content/drive/MyDrive/NLP PROJECT/dataset_es_train.json',lines= True)"
      ],
      "execution_count": null,
      "outputs": []
    },
    {
      "cell_type": "code",
      "metadata": {
        "id": "_wm-gPz8idEN"
      },
      "source": [
        "#data= pd.read_json('C://Users//nacho//repositorios//Acamica//data//dataset_es_train.json',lines= True)"
      ],
      "execution_count": null,
      "outputs": []
    },
    {
      "cell_type": "code",
      "metadata": {
        "colab": {
          "base_uri": "https://localhost:8080/",
          "height": 479
        },
        "id": "2pTmV0WdidEO",
        "outputId": "54e49fa8-5d0c-4bf6-efd7-babc8f9b1ad4"
      },
      "source": [
        "print(data.shape)\n",
        "data.head()"
      ],
      "execution_count": null,
      "outputs": [
        {
          "output_type": "stream",
          "text": [
            "(200000, 8)\n"
          ],
          "name": "stdout"
        },
        {
          "output_type": "execute_result",
          "data": {
            "text/html": [
              "<div>\n",
              "<style scoped>\n",
              "    .dataframe tbody tr th:only-of-type {\n",
              "        vertical-align: middle;\n",
              "    }\n",
              "\n",
              "    .dataframe tbody tr th {\n",
              "        vertical-align: top;\n",
              "    }\n",
              "\n",
              "    .dataframe thead th {\n",
              "        text-align: right;\n",
              "    }\n",
              "</style>\n",
              "<table border=\"1\" class=\"dataframe\">\n",
              "  <thead>\n",
              "    <tr style=\"text-align: right;\">\n",
              "      <th></th>\n",
              "      <th>review_id</th>\n",
              "      <th>product_id</th>\n",
              "      <th>reviewer_id</th>\n",
              "      <th>stars</th>\n",
              "      <th>review_body</th>\n",
              "      <th>review_title</th>\n",
              "      <th>language</th>\n",
              "      <th>product_category</th>\n",
              "    </tr>\n",
              "  </thead>\n",
              "  <tbody>\n",
              "    <tr>\n",
              "      <th>0</th>\n",
              "      <td>es_0491108</td>\n",
              "      <td>product_es_0296024</td>\n",
              "      <td>reviewer_es_0999081</td>\n",
              "      <td>1</td>\n",
              "      <td>Nada bueno se me fue ka pantalla en menos de 8...</td>\n",
              "      <td>television Nevir</td>\n",
              "      <td>es</td>\n",
              "      <td>electronics</td>\n",
              "    </tr>\n",
              "    <tr>\n",
              "      <th>1</th>\n",
              "      <td>es_0869872</td>\n",
              "      <td>product_es_0922286</td>\n",
              "      <td>reviewer_es_0216771</td>\n",
              "      <td>1</td>\n",
              "      <td>Horrible, nos tuvimos que comprar otro porque ...</td>\n",
              "      <td>Dinero tirado a la basura con esta compra</td>\n",
              "      <td>es</td>\n",
              "      <td>electronics</td>\n",
              "    </tr>\n",
              "    <tr>\n",
              "      <th>2</th>\n",
              "      <td>es_0811721</td>\n",
              "      <td>product_es_0474543</td>\n",
              "      <td>reviewer_es_0929213</td>\n",
              "      <td>1</td>\n",
              "      <td>Te obligan a comprar dos unidades y te llega s...</td>\n",
              "      <td>solo llega una unidad cuando te obligan a comp...</td>\n",
              "      <td>es</td>\n",
              "      <td>drugstore</td>\n",
              "    </tr>\n",
              "    <tr>\n",
              "      <th>3</th>\n",
              "      <td>es_0359921</td>\n",
              "      <td>product_es_0656090</td>\n",
              "      <td>reviewer_es_0224702</td>\n",
              "      <td>1</td>\n",
              "      <td>No entro en descalificar al vendedor, solo pue...</td>\n",
              "      <td>PRODUCTO NO RECIBIDO.</td>\n",
              "      <td>es</td>\n",
              "      <td>wireless</td>\n",
              "    </tr>\n",
              "    <tr>\n",
              "      <th>4</th>\n",
              "      <td>es_0068940</td>\n",
              "      <td>product_es_0662544</td>\n",
              "      <td>reviewer_es_0224827</td>\n",
              "      <td>1</td>\n",
              "      <td>Llega tarde y co la talla equivocada</td>\n",
              "      <td>Devuelto</td>\n",
              "      <td>es</td>\n",
              "      <td>shoes</td>\n",
              "    </tr>\n",
              "  </tbody>\n",
              "</table>\n",
              "</div>"
            ],
            "text/plain": [
              "    review_id          product_id  ... language  product_category\n",
              "0  es_0491108  product_es_0296024  ...       es       electronics\n",
              "1  es_0869872  product_es_0922286  ...       es       electronics\n",
              "2  es_0811721  product_es_0474543  ...       es         drugstore\n",
              "3  es_0359921  product_es_0656090  ...       es          wireless\n",
              "4  es_0068940  product_es_0662544  ...       es             shoes\n",
              "\n",
              "[5 rows x 8 columns]"
            ]
          },
          "metadata": {
            "tags": []
          },
          "execution_count": 5
        }
      ]
    },
    {
      "cell_type": "markdown",
      "metadata": {
        "id": "splyZa3GwnWX"
      },
      "source": [
        "### **Objetivo:**\n",
        "\n",
        "Implementar un modelo que, dada la crítica de un producto, asigne la cantidad de estrellas correspondiente."
      ]
    },
    {
      "cell_type": "markdown",
      "metadata": {
        "id": "9guPK7FxjQSw"
      },
      "source": [
        "# 1- EDA"
      ]
    },
    {
      "cell_type": "markdown",
      "metadata": {
        "id": "rD2tDw2V5BvB"
      },
      "source": [
        "### **Ideas**"
      ]
    },
    {
      "cell_type": "markdown",
      "metadata": {
        "id": "KoizAxEdToYy"
      },
      "source": [
        "**Real Drivers**:\n",
        "1. Tiempo\n",
        "2. Calidad\n",
        "3. Expectativas defraudas"
      ]
    },
    {
      "cell_type": "markdown",
      "metadata": {
        "id": "MrzGZ7BJnb3G"
      },
      "source": [
        "**BrainStorming:**\n",
        "\n",
        "1.   Algunos comentarios tienen algunas esperanzas futuras - Puntuan previamente a la puntuación real\n",
        "2.   Emojis\n",
        "3. Que hacer con jergas españolas (¿La pata de la cabra?)\n",
        "\n"
      ]
    },
    {
      "cell_type": "markdown",
      "metadata": {
        "id": "A1stKlQru5_H"
      },
      "source": [
        "**Averiguar:**\n",
        "\n",
        "1- Como es el proceso de opinión - ¿Lead time?"
      ]
    },
    {
      "cell_type": "markdown",
      "metadata": {
        "id": "R5Q-2aKtvuLx"
      },
      "source": [
        "![image.png](data:image/png;base64,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)"
      ]
    },
    {
      "cell_type": "markdown",
      "metadata": {
        "id": "e9X0u0M6v7n4"
      },
      "source": [
        "Funciones:\n",
        "\n"
      ]
    },
    {
      "cell_type": "markdown",
      "metadata": {
        "id": "dcf-AHfNv_8C"
      },
      "source": [
        "1- NPS\n",
        "\n",
        "2- Call center = Speech to text-> input de este modelo\n",
        "\n",
        "3- Brand/Social Media monitoring\n",
        "\n",
        "4- Market Research =  Recolección de insight a través del estudio de comentarios de clientes acerca de campañas para verificar que tal está funcionando en tiempo real. (Por ejemplo desd twitter) Tambien puede servir como un feedback (masivo) instantaneo del lanzamiento de un producto.\n",
        "\n",
        "5- Cuantificar opiniones en tiempo real: por ejemplo para automatizar operaciones de trading"
      ]
    },
    {
      "cell_type": "code",
      "metadata": {
        "id": "e6TJ7TSr02io"
      },
      "source": [
        ""
      ],
      "execution_count": null,
      "outputs": []
    },
    {
      "cell_type": "markdown",
      "metadata": {
        "id": "j42rnsnDoP1H"
      },
      "source": [
        "### **Data Understanding**"
      ]
    },
    {
      "cell_type": "code",
      "metadata": {
        "colab": {
          "base_uri": "https://localhost:8080/"
        },
        "id": "6EP0DCqila7v",
        "outputId": "a5bf025c-a19e-4e17-bcff-b47b38677403"
      },
      "source": [
        "print('Columns ' , data.columns)\n",
        "print('Sahpe ', data.shape)\n",
        "print('Data Types:  ',data.dtypes)"
      ],
      "execution_count": null,
      "outputs": [
        {
          "output_type": "stream",
          "text": [
            "Columns  Index(['review_id', 'product_id', 'reviewer_id', 'stars', 'review_body',\n",
            "       'review_title', 'language', 'product_category'],\n",
            "      dtype='object')\n",
            "Sahpe  (200000, 8)\n",
            "Data Types:   review_id           object\n",
            "product_id          object\n",
            "reviewer_id         object\n",
            "stars                int64\n",
            "review_body         object\n",
            "review_title        object\n",
            "language            object\n",
            "product_category    object\n",
            "dtype: object\n"
          ],
          "name": "stdout"
        }
      ]
    },
    {
      "cell_type": "code",
      "metadata": {
        "colab": {
          "base_uri": "https://localhost:8080/",
          "height": 461
        },
        "id": "NBK8CnC6pNbL",
        "outputId": "d3fa3531-ba6b-412a-871b-dd60336a565f"
      },
      "source": [
        "data.describe(include='all')"
      ],
      "execution_count": null,
      "outputs": [
        {
          "output_type": "execute_result",
          "data": {
            "text/html": [
              "<div>\n",
              "<style scoped>\n",
              "    .dataframe tbody tr th:only-of-type {\n",
              "        vertical-align: middle;\n",
              "    }\n",
              "\n",
              "    .dataframe tbody tr th {\n",
              "        vertical-align: top;\n",
              "    }\n",
              "\n",
              "    .dataframe thead th {\n",
              "        text-align: right;\n",
              "    }\n",
              "</style>\n",
              "<table border=\"1\" class=\"dataframe\">\n",
              "  <thead>\n",
              "    <tr style=\"text-align: right;\">\n",
              "      <th></th>\n",
              "      <th>review_id</th>\n",
              "      <th>product_id</th>\n",
              "      <th>reviewer_id</th>\n",
              "      <th>stars</th>\n",
              "      <th>review_body</th>\n",
              "      <th>review_title</th>\n",
              "      <th>language</th>\n",
              "      <th>product_category</th>\n",
              "    </tr>\n",
              "  </thead>\n",
              "  <tbody>\n",
              "    <tr>\n",
              "      <th>count</th>\n",
              "      <td>200000</td>\n",
              "      <td>200000</td>\n",
              "      <td>200000</td>\n",
              "      <td>200000.000000</td>\n",
              "      <td>200000</td>\n",
              "      <td>200000</td>\n",
              "      <td>200000</td>\n",
              "      <td>200000</td>\n",
              "    </tr>\n",
              "    <tr>\n",
              "      <th>unique</th>\n",
              "      <td>200000</td>\n",
              "      <td>150938</td>\n",
              "      <td>179076</td>\n",
              "      <td>NaN</td>\n",
              "      <td>198264</td>\n",
              "      <td>112114</td>\n",
              "      <td>1</td>\n",
              "      <td>30</td>\n",
              "    </tr>\n",
              "    <tr>\n",
              "      <th>top</th>\n",
              "      <td>es_0353251</td>\n",
              "      <td>product_es_0261843</td>\n",
              "      <td>reviewer_es_0437514</td>\n",
              "      <td>NaN</td>\n",
              "      <td>Buena relación calidad precio</td>\n",
              "      <td>Bien</td>\n",
              "      <td>es</td>\n",
              "      <td>home</td>\n",
              "    </tr>\n",
              "    <tr>\n",
              "      <th>freq</th>\n",
              "      <td>1</td>\n",
              "      <td>8</td>\n",
              "      <td>7</td>\n",
              "      <td>NaN</td>\n",
              "      <td>106</td>\n",
              "      <td>1952</td>\n",
              "      <td>200000</td>\n",
              "      <td>26962</td>\n",
              "    </tr>\n",
              "    <tr>\n",
              "      <th>mean</th>\n",
              "      <td>NaN</td>\n",
              "      <td>NaN</td>\n",
              "      <td>NaN</td>\n",
              "      <td>3.000000</td>\n",
              "      <td>NaN</td>\n",
              "      <td>NaN</td>\n",
              "      <td>NaN</td>\n",
              "      <td>NaN</td>\n",
              "    </tr>\n",
              "    <tr>\n",
              "      <th>std</th>\n",
              "      <td>NaN</td>\n",
              "      <td>NaN</td>\n",
              "      <td>NaN</td>\n",
              "      <td>1.414217</td>\n",
              "      <td>NaN</td>\n",
              "      <td>NaN</td>\n",
              "      <td>NaN</td>\n",
              "      <td>NaN</td>\n",
              "    </tr>\n",
              "    <tr>\n",
              "      <th>min</th>\n",
              "      <td>NaN</td>\n",
              "      <td>NaN</td>\n",
              "      <td>NaN</td>\n",
              "      <td>1.000000</td>\n",
              "      <td>NaN</td>\n",
              "      <td>NaN</td>\n",
              "      <td>NaN</td>\n",
              "      <td>NaN</td>\n",
              "    </tr>\n",
              "    <tr>\n",
              "      <th>25%</th>\n",
              "      <td>NaN</td>\n",
              "      <td>NaN</td>\n",
              "      <td>NaN</td>\n",
              "      <td>2.000000</td>\n",
              "      <td>NaN</td>\n",
              "      <td>NaN</td>\n",
              "      <td>NaN</td>\n",
              "      <td>NaN</td>\n",
              "    </tr>\n",
              "    <tr>\n",
              "      <th>50%</th>\n",
              "      <td>NaN</td>\n",
              "      <td>NaN</td>\n",
              "      <td>NaN</td>\n",
              "      <td>3.000000</td>\n",
              "      <td>NaN</td>\n",
              "      <td>NaN</td>\n",
              "      <td>NaN</td>\n",
              "      <td>NaN</td>\n",
              "    </tr>\n",
              "    <tr>\n",
              "      <th>75%</th>\n",
              "      <td>NaN</td>\n",
              "      <td>NaN</td>\n",
              "      <td>NaN</td>\n",
              "      <td>4.000000</td>\n",
              "      <td>NaN</td>\n",
              "      <td>NaN</td>\n",
              "      <td>NaN</td>\n",
              "      <td>NaN</td>\n",
              "    </tr>\n",
              "    <tr>\n",
              "      <th>max</th>\n",
              "      <td>NaN</td>\n",
              "      <td>NaN</td>\n",
              "      <td>NaN</td>\n",
              "      <td>5.000000</td>\n",
              "      <td>NaN</td>\n",
              "      <td>NaN</td>\n",
              "      <td>NaN</td>\n",
              "      <td>NaN</td>\n",
              "    </tr>\n",
              "  </tbody>\n",
              "</table>\n",
              "</div>"
            ],
            "text/plain": [
              "         review_id          product_id  ... language  product_category\n",
              "count       200000              200000  ...   200000            200000\n",
              "unique      200000              150938  ...        1                30\n",
              "top     es_0353251  product_es_0261843  ...       es              home\n",
              "freq             1                   8  ...   200000             26962\n",
              "mean           NaN                 NaN  ...      NaN               NaN\n",
              "std            NaN                 NaN  ...      NaN               NaN\n",
              "min            NaN                 NaN  ...      NaN               NaN\n",
              "25%            NaN                 NaN  ...      NaN               NaN\n",
              "50%            NaN                 NaN  ...      NaN               NaN\n",
              "75%            NaN                 NaN  ...      NaN               NaN\n",
              "max            NaN                 NaN  ...      NaN               NaN\n",
              "\n",
              "[11 rows x 8 columns]"
            ]
          },
          "metadata": {
            "tags": []
          },
          "execution_count": 7
        }
      ]
    },
    {
      "cell_type": "markdown",
      "metadata": {
        "id": "nLh7r-CbowV9"
      },
      "source": [
        "**1- Review_id :** son 200.000 instancias diferentes, por lo que podríamos eliminarla. Habría que investigar si la notación utilizada tiene alguna temporalidad."
      ]
    },
    {
      "cell_type": "code",
      "metadata": {
        "colab": {
          "base_uri": "https://localhost:8080/"
        },
        "id": "DNWGawTSogbx",
        "outputId": "cd92877b-8a8a-4362-9dc2-9210073ec412"
      },
      "source": [
        "#Review_id\n",
        "data.review_id.nunique()"
      ],
      "execution_count": null,
      "outputs": [
        {
          "output_type": "execute_result",
          "data": {
            "text/plain": [
              "200000"
            ]
          },
          "metadata": {
            "tags": []
          },
          "execution_count": 8
        }
      ]
    },
    {
      "cell_type": "markdown",
      "metadata": {
        "id": "BW7h2xyvpsQB"
      },
      "source": [
        "**2- Product_id:** Tenemos 150.938 instancias diferentes."
      ]
    },
    {
      "cell_type": "code",
      "metadata": {
        "colab": {
          "base_uri": "https://localhost:8080/"
        },
        "id": "_G1VUTfMogZO",
        "outputId": "3bc2bf9c-ab68-46c8-c343-b341fc48b2a6"
      },
      "source": [
        "#Product_id\n",
        "data.product_id.nunique()"
      ],
      "execution_count": null,
      "outputs": [
        {
          "output_type": "execute_result",
          "data": {
            "text/plain": [
              "150938"
            ]
          },
          "metadata": {
            "tags": []
          },
          "execution_count": 9
        }
      ]
    },
    {
      "cell_type": "code",
      "metadata": {
        "colab": {
          "base_uri": "https://localhost:8080/",
          "height": 297
        },
        "id": "WViFZ8J5ogWl",
        "outputId": "7bb86a76-5dcf-4e24-9056-019ba471b0a4"
      },
      "source": [
        "frecuencia = data.product_id.value_counts().to_frame('f')\n",
        "frecuencia['f']= frecuencia['f'].astype(int)\n",
        "frecuencia=frecuencia.value_counts().to_frame('q')\n",
        "frecuencia['q']= np.log10(frecuencia['q'])\n",
        "frecuencia = frecuencia.reset_index()\n",
        "frecuencia"
      ],
      "execution_count": null,
      "outputs": [
        {
          "output_type": "execute_result",
          "data": {
            "text/html": [
              "<div>\n",
              "<style scoped>\n",
              "    .dataframe tbody tr th:only-of-type {\n",
              "        vertical-align: middle;\n",
              "    }\n",
              "\n",
              "    .dataframe tbody tr th {\n",
              "        vertical-align: top;\n",
              "    }\n",
              "\n",
              "    .dataframe thead th {\n",
              "        text-align: right;\n",
              "    }\n",
              "</style>\n",
              "<table border=\"1\" class=\"dataframe\">\n",
              "  <thead>\n",
              "    <tr style=\"text-align: right;\">\n",
              "      <th></th>\n",
              "      <th>f</th>\n",
              "      <th>q</th>\n",
              "    </tr>\n",
              "  </thead>\n",
              "  <tbody>\n",
              "    <tr>\n",
              "      <th>0</th>\n",
              "      <td>1</td>\n",
              "      <td>5.052694</td>\n",
              "    </tr>\n",
              "    <tr>\n",
              "      <th>1</th>\n",
              "      <td>2</td>\n",
              "      <td>4.466274</td>\n",
              "    </tr>\n",
              "    <tr>\n",
              "      <th>2</th>\n",
              "      <td>3</td>\n",
              "      <td>3.841672</td>\n",
              "    </tr>\n",
              "    <tr>\n",
              "      <th>3</th>\n",
              "      <td>4</td>\n",
              "      <td>3.170555</td>\n",
              "    </tr>\n",
              "    <tr>\n",
              "      <th>4</th>\n",
              "      <td>5</td>\n",
              "      <td>2.484300</td>\n",
              "    </tr>\n",
              "    <tr>\n",
              "      <th>5</th>\n",
              "      <td>6</td>\n",
              "      <td>1.531479</td>\n",
              "    </tr>\n",
              "    <tr>\n",
              "      <th>6</th>\n",
              "      <td>7</td>\n",
              "      <td>1.079181</td>\n",
              "    </tr>\n",
              "    <tr>\n",
              "      <th>7</th>\n",
              "      <td>8</td>\n",
              "      <td>0.000000</td>\n",
              "    </tr>\n",
              "  </tbody>\n",
              "</table>\n",
              "</div>"
            ],
            "text/plain": [
              "   f         q\n",
              "0  1  5.052694\n",
              "1  2  4.466274\n",
              "2  3  3.841672\n",
              "3  4  3.170555\n",
              "4  5  2.484300\n",
              "5  6  1.531479\n",
              "6  7  1.079181\n",
              "7  8  0.000000"
            ]
          },
          "metadata": {
            "tags": []
          },
          "execution_count": 10
        }
      ]
    },
    {
      "cell_type": "code",
      "metadata": {
        "colab": {
          "base_uri": "https://localhost:8080/",
          "height": 421
        },
        "id": "C3JaUcsUwQ7y",
        "outputId": "5aee09d1-e936-4636-f340-e1bd96e0e92e"
      },
      "source": [
        "sns.catplot( x=frecuencia.f, y=frecuencia.q, data=frecuencia, palette='rocket',kind='bar')\n",
        "plt.title('Productos con más de una reseña',fontsize=15)\n",
        "plt.xlabel('Cantidad de reseñas')\n",
        "plt.ylabel('Log(X)')"
      ],
      "execution_count": null,
      "outputs": [
        {
          "output_type": "execute_result",
          "data": {
            "text/plain": [
              "Text(17.175000000000004, 0.5, 'Log(X)')"
            ]
          },
          "metadata": {
            "tags": []
          },
          "execution_count": 11
        },
        {
          "output_type": "display_data",
          "data": {
            "image/png": "[encoded data removed]",
            "text/plain": [
              "<Figure size 360x360 with 1 Axes>"
            ]
          },
          "metadata": {
            "tags": [],
            "needs_background": "light"
          }
        }
      ]
    },
    {
      "cell_type": "markdown",
      "metadata": {
        "id": "oBo6y0rCuLhW"
      },
      "source": [
        "pendiente = hacer gráfico de productos con mas de una review"
      ]
    },
    {
      "cell_type": "code",
      "metadata": {
        "colab": {
          "base_uri": "https://localhost:8080/"
        },
        "id": "NY1o8FJFqZSj",
        "outputId": "a8e0199d-a285-410e-fa1b-7c94354732ec"
      },
      "source": [
        "frecuencia.value_counts()"
      ],
      "execution_count": null,
      "outputs": [
        {
          "output_type": "execute_result",
          "data": {
            "text/plain": [
              "f  q       \n",
              "8  0.000000    1\n",
              "7  1.079181    1\n",
              "6  1.531479    1\n",
              "5  2.484300    1\n",
              "4  3.170555    1\n",
              "3  3.841672    1\n",
              "2  4.466274    1\n",
              "1  5.052694    1\n",
              "dtype: int64"
            ]
          },
          "metadata": {
            "tags": []
          },
          "execution_count": 12
        }
      ]
    },
    {
      "cell_type": "markdown",
      "metadata": {
        "id": "wZe6CpWfuRIM"
      },
      "source": [
        "**3- Reviewer_id :** al igual que en product_id tenemos muchas instancias de un solo comentario ( 179.076) pero también tenemos gente que ha opinado hasta 7 veces"
      ]
    },
    {
      "cell_type": "code",
      "metadata": {
        "colab": {
          "base_uri": "https://localhost:8080/"
        },
        "id": "17bgcK_wogPZ",
        "outputId": "3b0bc1b8-e793-4001-dddc-e88c5fe844cb"
      },
      "source": [
        "data.reviewer_id.nunique()"
      ],
      "execution_count": null,
      "outputs": [
        {
          "output_type": "execute_result",
          "data": {
            "text/plain": [
              "179076"
            ]
          },
          "metadata": {
            "tags": []
          },
          "execution_count": 13
        }
      ]
    },
    {
      "cell_type": "markdown",
      "metadata": {
        "id": "Qi7VlkVjzK6C"
      },
      "source": [
        "**4 - Stars:** El target de nuestro modelo. Está perfectamente balanceado-"
      ]
    },
    {
      "cell_type": "code",
      "metadata": {
        "colab": {
          "base_uri": "https://localhost:8080/",
          "height": 476
        },
        "id": "LTTpRy92BpBw",
        "outputId": "0a8688a8-ff52-46e4-defb-87cd3b0a54b0"
      },
      "source": [
        "g=sns.catplot(data.stars.value_counts().index,\n",
        "              data.groupby('stars').review_id.agg('count'),\n",
        "              data=data,kind='bar',palette = 'rocket',\n",
        "              height=5, aspect=18/8.27)\n",
        "\n",
        "ax = g.facet_axis(0,0)\n",
        "for p in ax.patches:\n",
        "    ax.text(p.get_x() + 0.3, \n",
        "            p.get_height() * 1, \n",
        "            \"{:.0f}\".format(p.get_height()), \n",
        "            color='black', rotation='horizontal', size='large')\n",
        "plt.title('Cantidad de Reviews según puntuación',fontsize=15)\n",
        "plt.ylabel('Cantidad de reviews')\n",
        "plt.xlabel('Estrellas')"
      ],
      "execution_count": null,
      "outputs": [
        {
          "output_type": "stream",
          "text": [
            "/usr/local/lib/python3.7/dist-packages/seaborn/_decorators.py:43: FutureWarning: Pass the following variables as keyword args: x, y. From version 0.12, the only valid positional argument will be `data`, and passing other arguments without an explicit keyword will result in an error or misinterpretation.\n",
            "  FutureWarning\n"
          ],
          "name": "stderr"
        },
        {
          "output_type": "execute_result",
          "data": {
            "text/plain": [
              "Text(0.5, 6.799999999999979, 'Estrellas')"
            ]
          },
          "metadata": {
            "tags": []
          },
          "execution_count": 14
        },
        {
          "output_type": "display_data",
          "data": {
            "image/png": "[encoded data removed]",
            "text/plain": [
              "<Figure size 783.555x360 with 1 Axes>"
            ]
          },
          "metadata": {
            "tags": [],
            "needs_background": "light"
          }
        }
      ]
    },
    {
      "cell_type": "code",
      "metadata": {
        "colab": {
          "base_uri": "https://localhost:8080/"
        },
        "id": "JdwLVe3YbOI5",
        "outputId": "cdabedab-93ff-4687-ed13-77dc3dd81a88"
      },
      "source": [
        "data.stars.isna().sum()"
      ],
      "execution_count": null,
      "outputs": [
        {
          "output_type": "execute_result",
          "data": {
            "text/plain": [
              "0"
            ]
          },
          "metadata": {
            "tags": []
          },
          "execution_count": 15
        }
      ]
    },
    {
      "cell_type": "markdown",
      "metadata": {
        "id": "gjU1VyDjbSyU"
      },
      "source": [
        "No hay faltantes en nuestro target"
      ]
    },
    {
      "cell_type": "markdown",
      "metadata": {
        "id": "0hNvOtaXYdpp"
      },
      "source": [
        "**6- Review Title**"
      ]
    },
    {
      "cell_type": "markdown",
      "metadata": {
        "id": "fDJI9HG1ZxHY"
      },
      "source": [
        "Quizás la cosa va por aquí..."
      ]
    },
    {
      "cell_type": "code",
      "metadata": {
        "colab": {
          "base_uri": "https://localhost:8080/",
          "height": 814
        },
        "id": "GHI-b7GYYzK6",
        "outputId": "efbc91f9-39ab-414c-ca81-2fcd3dab300f"
      },
      "source": [
        "plt.figure(figsize = (15,8))\n",
        "sns.barplot(x =data.review_title.value_counts().iloc[:15].index,\n",
        "                   y=  data.review_title.value_counts().iloc[:15],\n",
        "                   data = data,palette = 'rocket', edgecolor ='black')\n",
        "plt.xticks(rotation=90)"
      ],
      "execution_count": null,
      "outputs": [
        {
          "output_type": "execute_result",
          "data": {
            "text/plain": [
              "(array([ 0,  1,  2,  3,  4,  5,  6,  7,  8,  9, 10, 11, 12, 13, 14]),\n",
              " [Text(0, 0, 'Bien'),\n",
              "  Text(1, 0, 'Perfecto'),\n",
              "  Text(2, 0, 'Buen producto'),\n",
              "  Text(3, 0, 'Regular'),\n",
              "  Text(4, 0, 'Buena compra'),\n",
              "  Text(5, 0, 'Mala calidad'),\n",
              "  Text(6, 0, 'Genial'),\n",
              "  Text(7, 0, 'Correcto'),\n",
              "  Text(8, 0, 'Buena calidad'),\n",
              "  Text(9, 0, 'Bueno'),\n",
              "  Text(10, 0, 'Muy bien'),\n",
              "  Text(11, 0, 'Recomendable'),\n",
              "  Text(12, 0, 'No funciona'),\n",
              "  Text(13, 0, 'No lo recomiendo'),\n",
              "  Text(14, 0, 'Muy bueno')])"
            ]
          },
          "metadata": {
            "tags": []
          },
          "execution_count": 16
        },
        {
          "output_type": "display_data",
          "data": {
            "image/png": "[encoded data removed]",
            "text/plain": [
              "<Figure size 1080x576 with 1 Axes>"
            ]
          },
          "metadata": {
            "tags": [],
            "needs_background": "light"
          }
        }
      ]
    },
    {
      "cell_type": "code",
      "metadata": {
        "colab": {
          "base_uri": "https://localhost:8080/"
        },
        "id": "DXFKHhSPagUb",
        "outputId": "29a6804a-5cb7-4966-de6e-f11fcd98c8b2"
      },
      "source": [
        "print(data[(data['review_title']== 'Bien') & (data['stars']==5)].shape[0])\n",
        "print(data[(data['review_title']== 'Bien') & (data['stars']==4)].shape[0])\n",
        "print(data[(data['review_title']== 'Bien') & (data['stars']==3)].shape[0])\n",
        "print(data[(data['review_title']== 'Bien') & (data['stars']==2)].shape[0])\n",
        "print(data[(data['review_title']== 'Bien') & (data['stars']==1)].shape[0])"
      ],
      "execution_count": null,
      "outputs": [
        {
          "output_type": "stream",
          "text": [
            "287\n",
            "869\n",
            "701\n",
            "78\n",
            "17\n"
          ],
          "name": "stdout"
        }
      ]
    },
    {
      "cell_type": "markdown",
      "metadata": {
        "id": "ymc93m-PbHAc"
      },
      "source": [
        "La cosa no es por aca..."
      ]
    },
    {
      "cell_type": "markdown",
      "metadata": {
        "id": "8tvm1hSBzd33"
      },
      "source": [
        "**8- Product_category**"
      ]
    },
    {
      "cell_type": "code",
      "metadata": {
        "colab": {
          "base_uri": "https://localhost:8080/",
          "height": 470
        },
        "id": "P8vzbCBnHf13",
        "outputId": "a474c10b-1366-4ded-a090-83493a593acb"
      },
      "source": [
        "plt.figure(figsize = (15,8))\n",
        "plt.subplot(1,2,1)\n",
        "sns.barplot(x =data.product_category.value_counts().iloc[:8].index,\n",
        "                   y=  data.product_category.value_counts().iloc[:8],\n",
        "                   data = data,palette = 'rocket', edgecolor ='black')\n",
        "plt.xticks(rotation=45)\n",
        "\n",
        "plt.subplot(1,2,2)\n",
        "sns.barplot(x =data.product_category.value_counts().iloc[-8:].index,\n",
        "                   y=  data.product_category.value_counts().iloc[-8:],\n",
        "                   data = data,palette = 'rocket', edgecolor ='black')\n",
        "plt.xticks(rotation=45)\n",
        "\n",
        "plt.tight_layout()\n",
        "plt.show()"
      ],
      "execution_count": null,
      "outputs": [
        {
          "output_type": "display_data",
          "data": {
            "image/png": "[encoded data removed]",
            "text/plain": [
              "<Figure size 1080x576 with 2 Axes>"
            ]
          },
          "metadata": {
            "tags": [],
            "needs_background": "light"
          }
        }
      ]
    },
    {
      "cell_type": "markdown",
      "metadata": {
        "id": "rWVXvx8PqZ3F"
      },
      "source": [
        "### **Exploración del dataset**"
      ]
    },
    {
      "cell_type": "code",
      "metadata": {
        "colab": {
          "base_uri": "https://localhost:8080/"
        },
        "id": "oe9gmpQnlNu5",
        "outputId": "eee2e8de-07d0-42b8-b92b-fdbe0424ab71"
      },
      "source": [
        "index_random = np.random.randint(0,high = data.shape[0])\n",
        "comentario = data.iloc[index_random].review_body\n",
        "estrella =  data.iloc[index_random].stars\n",
        "titulo = data.iloc[index_random].review_title\n",
        "categoria = data.iloc[index_random].product_category\n",
        "print(index_random)\n",
        "print(estrella)\n",
        "print(categoria)\n",
        "print(titulo)\n",
        "print(comentario)"
      ],
      "execution_count": null,
      "outputs": [
        {
          "output_type": "stream",
          "text": [
            "119050\n",
            "3\n",
            "lawn_and_garden\n",
            "Funciona, pero no es perfecto\n",
            "Cumple su misión, pero se ve claramente que no es de una gran calidad. Las mediciones de temperatura son correctas y las de humedad me dan una diferencia de un 10% con una estación oregon scientific colocada a su lado para testarlo. Las 3 estrellas son debidas a esa falta de precisión, a la construcción, que si bien es muy aparente se ve que es de plástico bastante endeble, no pesa nada. Por el precio que tiene no se puede pedir mucho más.\n"
          ],
          "name": "stdout"
        }
      ]
    },
    {
      "cell_type": "code",
      "metadata": {
        "id": "yG9coxxq5Enz"
      },
      "source": [
        "#import nltk\n",
        "#nltk.download('punkt')\n",
        "#nltk.download('stopwords')"
      ],
      "execution_count": null,
      "outputs": []
    },
    {
      "cell_type": "markdown",
      "metadata": {
        "id": "EWVhaNi35xsg"
      },
      "source": [
        "**sent_tokenize** "
      ]
    },
    {
      "cell_type": "code",
      "metadata": {
        "colab": {
          "base_uri": "https://localhost:8080/"
        },
        "id": "7h_jgpHk5Ek1",
        "outputId": "5139f4fd-d156-4ef0-bbec-7e61bac90a98"
      },
      "source": [
        "comentario_st = nltk.tokenize.sent_tokenize(comentario)\n",
        "comentario_st"
      ],
      "execution_count": null,
      "outputs": [
        {
          "output_type": "execute_result",
          "data": {
            "text/plain": [
              "['Cumple su misión, pero se ve claramente que no es de una gran calidad.',\n",
              " 'Las mediciones de temperatura son correctas y las de humedad me dan una diferencia de un 10% con una estación oregon scientific colocada a su lado para testarlo.',\n",
              " 'Las 3 estrellas son debidas a esa falta de precisión, a la construcción, que si bien es muy aparente se ve que es de plástico bastante endeble, no pesa nada.',\n",
              " 'Por el precio que tiene no se puede pedir mucho más.']"
            ]
          },
          "metadata": {
            "tags": []
          },
          "execution_count": 21
        }
      ]
    },
    {
      "cell_type": "markdown",
      "metadata": {
        "id": "5iFu8zSu52yV"
      },
      "source": [
        "word_tokenize"
      ]
    },
    {
      "cell_type": "code",
      "metadata": {
        "colab": {
          "base_uri": "https://localhost:8080/"
        },
        "id": "QgjqaRXf54qG",
        "outputId": "0aa35ab8-d2ff-49da-84ec-29e1819f2085"
      },
      "source": [
        "comentario_wt = nltk.tokenize.word_tokenize(comentario)\n",
        "comentario_wt"
      ],
      "execution_count": null,
      "outputs": [
        {
          "output_type": "execute_result",
          "data": {
            "text/plain": [
              "['Cumple',\n",
              " 'su',\n",
              " 'misión',\n",
              " ',',\n",
              " 'pero',\n",
              " 'se',\n",
              " 've',\n",
              " 'claramente',\n",
              " 'que',\n",
              " 'no',\n",
              " 'es',\n",
              " 'de',\n",
              " 'una',\n",
              " 'gran',\n",
              " 'calidad',\n",
              " '.',\n",
              " 'Las',\n",
              " 'mediciones',\n",
              " 'de',\n",
              " 'temperatura',\n",
              " 'son',\n",
              " 'correctas',\n",
              " 'y',\n",
              " 'las',\n",
              " 'de',\n",
              " 'humedad',\n",
              " 'me',\n",
              " 'dan',\n",
              " 'una',\n",
              " 'diferencia',\n",
              " 'de',\n",
              " 'un',\n",
              " '10',\n",
              " '%',\n",
              " 'con',\n",
              " 'una',\n",
              " 'estación',\n",
              " 'oregon',\n",
              " 'scientific',\n",
              " 'colocada',\n",
              " 'a',\n",
              " 'su',\n",
              " 'lado',\n",
              " 'para',\n",
              " 'testarlo',\n",
              " '.',\n",
              " 'Las',\n",
              " '3',\n",
              " 'estrellas',\n",
              " 'son',\n",
              " 'debidas',\n",
              " 'a',\n",
              " 'esa',\n",
              " 'falta',\n",
              " 'de',\n",
              " 'precisión',\n",
              " ',',\n",
              " 'a',\n",
              " 'la',\n",
              " 'construcción',\n",
              " ',',\n",
              " 'que',\n",
              " 'si',\n",
              " 'bien',\n",
              " 'es',\n",
              " 'muy',\n",
              " 'aparente',\n",
              " 'se',\n",
              " 've',\n",
              " 'que',\n",
              " 'es',\n",
              " 'de',\n",
              " 'plástico',\n",
              " 'bastante',\n",
              " 'endeble',\n",
              " ',',\n",
              " 'no',\n",
              " 'pesa',\n",
              " 'nada',\n",
              " '.',\n",
              " 'Por',\n",
              " 'el',\n",
              " 'precio',\n",
              " 'que',\n",
              " 'tiene',\n",
              " 'no',\n",
              " 'se',\n",
              " 'puede',\n",
              " 'pedir',\n",
              " 'mucho',\n",
              " 'más',\n",
              " '.']"
            ]
          },
          "metadata": {
            "tags": []
          },
          "execution_count": 22
        }
      ]
    },
    {
      "cell_type": "markdown",
      "metadata": {
        "id": "5kWGUUmQ7FSK"
      },
      "source": [
        "Detalles: \n",
        "Word tokenizing nos separa:\n",
        "- (\n",
        "- .\n",
        "- -"
      ]
    },
    {
      "cell_type": "code",
      "metadata": {
        "id": "26y8-CgP52qQ"
      },
      "source": [
        ""
      ],
      "execution_count": null,
      "outputs": []
    },
    {
      "cell_type": "code",
      "metadata": {
        "id": "PKoL8qC552oR"
      },
      "source": [
        ""
      ],
      "execution_count": null,
      "outputs": []
    },
    {
      "cell_type": "code",
      "metadata": {
        "id": "Bgo5ogrs52l2"
      },
      "source": [
        ""
      ],
      "execution_count": null,
      "outputs": []
    },
    {
      "cell_type": "code",
      "metadata": {
        "id": "bkM8qJY852fh"
      },
      "source": [
        ""
      ],
      "execution_count": null,
      "outputs": []
    },
    {
      "cell_type": "code",
      "metadata": {
        "id": "4xPXrpZD52cz"
      },
      "source": [
        ""
      ],
      "execution_count": null,
      "outputs": []
    },
    {
      "cell_type": "markdown",
      "metadata": {
        "id": "QPHjEXB8Gi5j"
      },
      "source": [
        "## Basic Feature Extraction"
      ]
    },
    {
      "cell_type": "markdown",
      "metadata": {
        "id": "lYOkl7p0MkPM"
      },
      "source": [
        "Primero, analicemos cuantas palabras hay en cada comentario, y veamos cual es el promedio de palabras por estrella. Puede que sea un buen feature para el modelo."
      ]
    },
    {
      "cell_type": "code",
      "metadata": {
        "id": "HsnGsCxaHAEL"
      },
      "source": [
        "df1= pd.concat([data.review_body,data.stars],axis=1)"
      ],
      "execution_count": null,
      "outputs": []
    },
    {
      "cell_type": "code",
      "metadata": {
        "colab": {
          "base_uri": "https://localhost:8080/",
          "height": 204
        },
        "id": "wppZAJlfGtO6",
        "outputId": "5d99b693-9e08-405f-e405-0e4e8c63d1fd"
      },
      "source": [
        "df1['word_count'] = df1['review_body'].apply(lambda x: len(str(x).split(\" \")))\n",
        "df1.head()"
      ],
      "execution_count": null,
      "outputs": [
        {
          "output_type": "execute_result",
          "data": {
            "text/html": [
              "<div>\n",
              "<style scoped>\n",
              "    .dataframe tbody tr th:only-of-type {\n",
              "        vertical-align: middle;\n",
              "    }\n",
              "\n",
              "    .dataframe tbody tr th {\n",
              "        vertical-align: top;\n",
              "    }\n",
              "\n",
              "    .dataframe thead th {\n",
              "        text-align: right;\n",
              "    }\n",
              "</style>\n",
              "<table border=\"1\" class=\"dataframe\">\n",
              "  <thead>\n",
              "    <tr style=\"text-align: right;\">\n",
              "      <th></th>\n",
              "      <th>review_body</th>\n",
              "      <th>stars</th>\n",
              "      <th>word_count</th>\n",
              "    </tr>\n",
              "  </thead>\n",
              "  <tbody>\n",
              "    <tr>\n",
              "      <th>0</th>\n",
              "      <td>Nada bueno se me fue ka pantalla en menos de 8...</td>\n",
              "      <td>1</td>\n",
              "      <td>19</td>\n",
              "    </tr>\n",
              "    <tr>\n",
              "      <th>1</th>\n",
              "      <td>Horrible, nos tuvimos que comprar otro porque ...</td>\n",
              "      <td>1</td>\n",
              "      <td>23</td>\n",
              "    </tr>\n",
              "    <tr>\n",
              "      <th>2</th>\n",
              "      <td>Te obligan a comprar dos unidades y te llega s...</td>\n",
              "      <td>1</td>\n",
              "      <td>22</td>\n",
              "    </tr>\n",
              "    <tr>\n",
              "      <th>3</th>\n",
              "      <td>No entro en descalificar al vendedor, solo pue...</td>\n",
              "      <td>1</td>\n",
              "      <td>60</td>\n",
              "    </tr>\n",
              "    <tr>\n",
              "      <th>4</th>\n",
              "      <td>Llega tarde y co la talla equivocada</td>\n",
              "      <td>1</td>\n",
              "      <td>7</td>\n",
              "    </tr>\n",
              "  </tbody>\n",
              "</table>\n",
              "</div>"
            ],
            "text/plain": [
              "                                         review_body  stars  word_count\n",
              "0  Nada bueno se me fue ka pantalla en menos de 8...      1          19\n",
              "1  Horrible, nos tuvimos que comprar otro porque ...      1          23\n",
              "2  Te obligan a comprar dos unidades y te llega s...      1          22\n",
              "3  No entro en descalificar al vendedor, solo pue...      1          60\n",
              "4               Llega tarde y co la talla equivocada      1           7"
            ]
          },
          "metadata": {
            "tags": []
          },
          "execution_count": 25
        }
      ]
    },
    {
      "cell_type": "code",
      "metadata": {
        "id": "y4ZyPfZCGsnT"
      },
      "source": [
        "print('Promdio de Palabras para comentarios con 1 estrella = ',df1.loc[df1.stars == 1].word_count.mean())\n",
        "print('Promdio de Palabras para comentarios con 2 estrella = ',df1.loc[df1.stars == 2].word_count.mean())\n",
        "print('Promdio de Palabras para comentarios con 3 estrella = ',df1.loc[df1.stars == 3].word_count.mean())\n",
        "print('Promdio de Palabras para comentarios con 4 estrella = ',df1.loc[df1.stars == 4].word_count.mean())\n",
        "print('Promdio de Palabras para comentarios con 5 estrella = ',df1.loc[df1.stars == 5].word_count.mean())"
      ],
      "execution_count": null,
      "outputs": []
    },
    {
      "cell_type": "code",
      "metadata": {
        "colab": {
          "base_uri": "https://localhost:8080/",
          "height": 623
        },
        "id": "yTbMnAM7WyIw",
        "outputId": "5e6576b1-f853-43e2-b3bb-fc36d8a4385b"
      },
      "source": [
        "fig,axes = plt.subplots(3,2,figsize=(14,10))\n",
        "axes = axes.flatten()\n",
        "\n",
        "data_1_star = df1[df1['stars']==1]\n",
        "sns.histplot(ax = axes[0], data= data_1_star, x ='word_count', color= 'tomato', bins = 50, kde=True)\n",
        "axes[0].set_title('Reviews con 1 Estrella')\n",
        "\n",
        "data_2_star = df1[df1['stars']==2]\n",
        "sns.histplot(ax = axes[1], data= data_2_star, x ='word_count', color= 'orange', bins = 50, kde=True)\n",
        "axes[1].set_title('Reviews con 2 Estrellas')\n",
        "\n",
        "data_3_star = df1[df1['stars']==3]\n",
        "sns.histplot(ax = axes[2], data= data_3_star, x ='word_count', color= 'blue', bins = 50, kde=True)\n",
        "axes[2].set_title('Reviews con 3 Estrellas')\n",
        "\n",
        "data_4_star = df1[df1['stars']==4]\n",
        "sns.histplot(ax = axes[3], data= data_4_star, x ='word_count', color= 'c', bins = 50, kde=True)\n",
        "axes[3].set_title('Reviews con 4 Estrellas')\n",
        "\n",
        "data_5_star = df1[df1['stars']==5]\n",
        "sns.histplot(ax = axes[4], data=data_5_star, x='word_count', color= 'green', bins = 50, kde=True)\n",
        "axes[4].set_title('Reviews con 5 Estrellas')\n",
        "\n",
        "# Se eliminan los axes vacios\n",
        "for i in [5]:\n",
        "    fig.delaxes(axes[i])\n",
        "    \n",
        "fig.suptitle('Número de Palabras por Review')\n",
        "plt.tight_layout()\n",
        "plt.show()"
      ],
      "execution_count": null,
      "outputs": [
        {
          "output_type": "display_data",
          "data": {
            "image/png": "[encoded data removed]",
            "text/plain": [
              "<Figure size 1008x720 with 5 Axes>"
            ]
          },
          "metadata": {
            "tags": [],
            "needs_background": "light"
          }
        }
      ]
    },
    {
      "cell_type": "code",
      "metadata": {
        "colab": {
          "base_uri": "https://localhost:8080/"
        },
        "id": "RfvQY6ivtSsl",
        "outputId": "41d720be-3da2-4fdb-d694-d8506d968376"
      },
      "source": [
        "!pip install contexto\n",
        "#pip install stanza\n",
        "#pip install torch torchvision"
      ],
      "execution_count": null,
      "outputs": [
        {
          "output_type": "stream",
          "text": [
            "Requirement already satisfied: contexto in /usr/local/lib/python3.7/dist-packages (0.1.0)\n",
            "Requirement already satisfied: spacy==2.3.2 in /usr/local/lib/python3.7/dist-packages (from contexto) (2.3.2)\n",
            "Requirement already satisfied: numpy==1.19.1 in /usr/local/lib/python3.7/dist-packages (from contexto) (1.19.1)\n",
            "Requirement already satisfied: langid==1.1.6 in /usr/local/lib/python3.7/dist-packages (from contexto) (1.1.6)\n",
            "Requirement already satisfied: scikit-learn==0.23.2 in /usr/local/lib/python3.7/dist-packages (from contexto) (0.23.2)\n",
            "Requirement already satisfied: networkx==2.5 in /usr/local/lib/python3.7/dist-packages (from contexto) (2.5)\n",
            "Requirement already satisfied: gensim==3.8.3 in /usr/local/lib/python3.7/dist-packages (from contexto) (3.8.3)\n",
            "Requirement already satisfied: pyspellchecker==0.5.5 in /usr/local/lib/python3.7/dist-packages (from contexto) (0.5.5)\n",
            "Requirement already satisfied: nltk==3.5 in /usr/local/lib/python3.7/dist-packages (from contexto) (3.5)\n",
            "Requirement already satisfied: slate3k==0.5.3 in /usr/local/lib/python3.7/dist-packages (from contexto) (0.5.3)\n",
            "Requirement already satisfied: jellyfish==0.8.2 in /usr/local/lib/python3.7/dist-packages (from contexto) (0.8.2)\n",
            "Requirement already satisfied: wordcloud==1.8.0 in /usr/local/lib/python3.7/dist-packages (from contexto) (1.8.0)\n",
            "Requirement already satisfied: pytesseract==0.3.5 in /usr/local/lib/python3.7/dist-packages (from contexto) (0.3.5)\n",
            "Requirement already satisfied: PyPDF2==1.26.0 in /usr/local/lib/python3.7/dist-packages (from contexto) (1.26.0)\n",
            "Requirement already satisfied: pandas==1.1.1 in /usr/local/lib/python3.7/dist-packages (from contexto) (1.1.1)\n",
            "Requirement already satisfied: opencv-python==4.4.0.42 in /usr/local/lib/python3.7/dist-packages (from contexto) (4.4.0.42)\n",
            "Requirement already satisfied: matplotlib==3.3.1 in /usr/local/lib/python3.7/dist-packages (from contexto) (3.3.1)\n",
            "Requirement already satisfied: googletrans==2.4.0 in /usr/local/lib/python3.7/dist-packages (from contexto) (2.4.0)\n",
            "Requirement already satisfied: docx2txt==0.8 in /usr/local/lib/python3.7/dist-packages (from contexto) (0.8)\n",
            "Requirement already satisfied: python-docx==0.8.10 in /usr/local/lib/python3.7/dist-packages (from contexto) (0.8.10)\n",
            "Requirement already satisfied: reportlab==3.5.48 in /usr/local/lib/python3.7/dist-packages (from contexto) (3.5.48)\n",
            "Requirement already satisfied: pdf2image==1.14.0 in /usr/local/lib/python3.7/dist-packages (from contexto) (1.14.0)\n",
            "Requirement already satisfied: thinc==7.4.1 in /usr/local/lib/python3.7/dist-packages (from spacy==2.3.2->contexto) (7.4.1)\n",
            "Requirement already satisfied: preshed<3.1.0,>=3.0.2 in /usr/local/lib/python3.7/dist-packages (from spacy==2.3.2->contexto) (3.0.5)\n",
            "Requirement already satisfied: blis<0.5.0,>=0.4.0 in /usr/local/lib/python3.7/dist-packages (from spacy==2.3.2->contexto) (0.4.1)\n",
            "Requirement already satisfied: plac<1.2.0,>=0.9.6 in /usr/local/lib/python3.7/dist-packages (from spacy==2.3.2->contexto) (1.1.3)\n",
            "Requirement already satisfied: wasabi<1.1.0,>=0.4.0 in /usr/local/lib/python3.7/dist-packages (from spacy==2.3.2->contexto) (0.8.2)\n",
            "Requirement already satisfied: srsly<1.1.0,>=1.0.2 in /usr/local/lib/python3.7/dist-packages (from spacy==2.3.2->contexto) (1.0.5)\n",
            "Requirement already satisfied: cymem<2.1.0,>=2.0.2 in /usr/local/lib/python3.7/dist-packages (from spacy==2.3.2->contexto) (2.0.5)\n",
            "Requirement already satisfied: setuptools in /usr/local/lib/python3.7/dist-packages (from spacy==2.3.2->contexto) (56.0.0)\n",
            "Requirement already satisfied: tqdm<5.0.0,>=4.38.0 in /usr/local/lib/python3.7/dist-packages (from spacy==2.3.2->contexto) (4.41.1)\n",
            "Requirement already satisfied: catalogue<1.1.0,>=0.0.7 in /usr/local/lib/python3.7/dist-packages (from spacy==2.3.2->contexto) (1.0.0)\n",
            "Requirement already satisfied: requests<3.0.0,>=2.13.0 in /usr/local/lib/python3.7/dist-packages (from spacy==2.3.2->contexto) (2.23.0)\n",
            "Requirement already satisfied: murmurhash<1.1.0,>=0.28.0 in /usr/local/lib/python3.7/dist-packages (from spacy==2.3.2->contexto) (1.0.5)\n",
            "Requirement already satisfied: joblib>=0.11 in /usr/local/lib/python3.7/dist-packages (from scikit-learn==0.23.2->contexto) (1.0.1)\n",
            "Requirement already satisfied: scipy>=0.19.1 in /usr/local/lib/python3.7/dist-packages (from scikit-learn==0.23.2->contexto) (1.4.1)\n",
            "Requirement already satisfied: threadpoolctl>=2.0.0 in /usr/local/lib/python3.7/dist-packages (from scikit-learn==0.23.2->contexto) (2.1.0)\n",
            "Requirement already satisfied: decorator>=4.3.0 in /usr/local/lib/python3.7/dist-packages (from networkx==2.5->contexto) (4.4.2)\n",
            "Requirement already satisfied: smart-open>=1.8.1 in /usr/local/lib/python3.7/dist-packages (from gensim==3.8.3->contexto) (5.0.0)\n",
            "Requirement already satisfied: six>=1.5.0 in /usr/local/lib/python3.7/dist-packages (from gensim==3.8.3->contexto) (1.15.0)\n",
            "Requirement already satisfied: regex in /usr/local/lib/python3.7/dist-packages (from nltk==3.5->contexto) (2019.12.20)\n",
            "Requirement already satisfied: click in /usr/local/lib/python3.7/dist-packages (from nltk==3.5->contexto) (7.1.2)\n",
            "Requirement already satisfied: pdfminer3k in /usr/local/lib/python3.7/dist-packages (from slate3k==0.5.3->contexto) (1.3.4)\n",
            "Requirement already satisfied: pillow in /usr/local/lib/python3.7/dist-packages (from wordcloud==1.8.0->contexto) (7.1.2)\n",
            "Requirement already satisfied: pytz>=2017.2 in /usr/local/lib/python3.7/dist-packages (from pandas==1.1.1->contexto) (2018.9)\n",
            "Requirement already satisfied: python-dateutil>=2.7.3 in /usr/local/lib/python3.7/dist-packages (from pandas==1.1.1->contexto) (2.8.1)\n",
            "Requirement already satisfied: certifi>=2020.06.20 in /usr/local/lib/python3.7/dist-packages (from matplotlib==3.3.1->contexto) (2020.12.5)\n",
            "Requirement already satisfied: kiwisolver>=1.0.1 in /usr/local/lib/python3.7/dist-packages (from matplotlib==3.3.1->contexto) (1.3.1)\n",
            "Requirement already satisfied: pyparsing!=2.0.4,!=2.1.2,!=2.1.6,>=2.0.3 in /usr/local/lib/python3.7/dist-packages (from matplotlib==3.3.1->contexto) (2.4.7)\n",
            "Requirement already satisfied: cycler>=0.10 in /usr/local/lib/python3.7/dist-packages (from matplotlib==3.3.1->contexto) (0.10.0)\n",
            "Requirement already satisfied: lxml>=2.3.2 in /usr/local/lib/python3.7/dist-packages (from python-docx==0.8.10->contexto) (4.2.6)\n",
            "Requirement already satisfied: importlib-metadata>=0.20; python_version < \"3.8\" in /usr/local/lib/python3.7/dist-packages (from catalogue<1.1.0,>=0.0.7->spacy==2.3.2->contexto) (3.10.1)\n",
            "Requirement already satisfied: chardet<4,>=3.0.2 in /usr/local/lib/python3.7/dist-packages (from requests<3.0.0,>=2.13.0->spacy==2.3.2->contexto) (3.0.4)\n",
            "Requirement already satisfied: urllib3!=1.25.0,!=1.25.1,<1.26,>=1.21.1 in /usr/local/lib/python3.7/dist-packages (from requests<3.0.0,>=2.13.0->spacy==2.3.2->contexto) (1.24.3)\n",
            "Requirement already satisfied: idna<3,>=2.5 in /usr/local/lib/python3.7/dist-packages (from requests<3.0.0,>=2.13.0->spacy==2.3.2->contexto) (2.10)\n",
            "Requirement already satisfied: ply in /usr/local/lib/python3.7/dist-packages (from pdfminer3k->slate3k==0.5.3->contexto) (3.11)\n",
            "Requirement already satisfied: typing-extensions>=3.6.4; python_version < \"3.8\" in /usr/local/lib/python3.7/dist-packages (from importlib-metadata>=0.20; python_version < \"3.8\"->catalogue<1.1.0,>=0.0.7->spacy==2.3.2->contexto) (3.7.4.3)\n",
            "Requirement already satisfied: zipp>=0.5 in /usr/local/lib/python3.7/dist-packages (from importlib-metadata>=0.20; python_version < \"3.8\"->catalogue<1.1.0,>=0.0.7->spacy==2.3.2->contexto) (3.4.1)\n"
          ],
          "name": "stdout"
        }
      ]
    },
    {
      "cell_type": "code",
      "metadata": {
        "id": "6OSZR2Iwswy_"
      },
      "source": [
        "from contexto.exploracion import grafica_barchart_frecuencias, obtener_ngramas, nube_palabras\n",
        "# Se crea una variable 'texto' que nos permite juntar el texto de todas las reviews en uno solo\n",
        "texto = ' '.join(data['review_body'])\n",
        "#texto\n",
        "# Con la función obtener_ngramas se obtienen las listas de unigramas, bigramas y trigramas\n",
        "unigramas = obtener_ngramas(texto, 1)\n",
        "bigramas = obtener_ngramas(texto, 2)\n",
        "trigramas = obtener_ngramas(texto, 3)"
      ],
      "execution_count": null,
      "outputs": []
    },
    {
      "cell_type": "code",
      "metadata": {
        "colab": {
          "base_uri": "https://localhost:8080/",
          "height": 591
        },
        "id": "xIiom11uswwT",
        "outputId": "1aa614f3-0ab5-481b-bc36-f5804266db6a"
      },
      "source": [
        "nube_palabras(texto, n_grama=1, titulo='Las 100 palabras más frecuentes en todas las reviews', dim_figura=(10,10))"
      ],
      "execution_count": null,
      "outputs": [
        {
          "output_type": "display_data",
          "data": {
            "image/png": "[encoded data removed]",
            "text/plain": [
              "<Figure size 720x720 with 1 Axes>"
            ]
          },
          "metadata": {
            "tags": [],
            "needs_background": "light"
          }
        }
      ]
    },
    {
      "cell_type": "code",
      "metadata": {
        "id": "sbQW5yPfswsn"
      },
      "source": [
        ""
      ],
      "execution_count": null,
      "outputs": []
    },
    {
      "cell_type": "code",
      "metadata": {
        "id": "hrpwoivmswns"
      },
      "source": [
        ""
      ],
      "execution_count": null,
      "outputs": []
    },
    {
      "cell_type": "code",
      "metadata": {
        "id": "Ju4PX756swlK"
      },
      "source": [
        ""
      ],
      "execution_count": null,
      "outputs": []
    },
    {
      "cell_type": "markdown",
      "metadata": {
        "id": "ZTM1CkrakCec"
      },
      "source": [
        "# 2 - Normalización"
      ]
    },
    {
      "cell_type": "markdown",
      "metadata": {
        "id": "nbBEW7VGFTcQ"
      },
      "source": [
        "### Funciones\n"
      ]
    },
    {
      "cell_type": "markdown",
      "metadata": {
        "id": "gcZC5gOeF_Zp"
      },
      "source": [
        "1- Función de limpieza de RegEx"
      ]
    },
    {
      "cell_type": "code",
      "metadata": {
        "id": "fLirZZBUALKh"
      },
      "source": [
        "import re\n",
        "import string\n",
        "\n",
        "def clean_text_round1(text):\n",
        "   text = text.lower()\n",
        "   text = re.sub('\\[.*?¿\\]\\%', ' ', text)\n",
        "   text = re.sub('[%s]' % re.escape(string.punctuation), ' ', text)\n",
        "   text = re.sub('\\w*\\d\\w*', '', text)\n",
        "   text = re.sub('[‘’“”…«»]', '', text)\n",
        "   text = re.sub('\\n', ' ', text)\n",
        "   return text"
      ],
      "execution_count": null,
      "outputs": []
    },
    {
      "cell_type": "markdown",
      "metadata": {
        "id": "eIL8VZxY5q1E"
      },
      "source": [
        "Funciones de Fede"
      ]
    },
    {
      "cell_type": "code",
      "metadata": {
        "id": "Pncrog4S43Fo"
      },
      "source": [
        "def basic_text_cleanup(text):\n",
        "    \"\"\"\n",
        "    Convert to lowercase, remove punctuation, remove digits\n",
        "    \"\"\"\n",
        "    text = text.lower() #lower case\n",
        "    text = re.sub(\"[^\\w|\\s]\", \" \",text) #replace non word and non space characters by a space\n",
        "    text = re.sub(\"\\s+\", \" \",text) #remove extra spaces\n",
        "    text = re.sub(\"á\", \"a\",text) #saco acentos\n",
        "    text = re.sub(\"é\", \"e\",text) #saco acentos\n",
        "    text = re.sub(\"í\", \"i\",text) #saco acentos\n",
        "    text = re.sub(\"ó\", \"o\",text) #saco acentos\n",
        "    text = re.sub(\"ú\", \"u\",text) #saco acentos\n",
        "    text = re.sub(\",\", \"\",text) #saco comas\n",
        "    #doc = nlp(text)#convert to a spacy object\n",
        "    #doc = [w.text for w in doc if not w.is_stop or w.text ==\"no\"] # remove stopwords but keep \"no\" for bigrams\n",
        "    #doc = [w for w in doc if (len(w)> 2 or w == \"no\")] #only words longer than 2 characters\n",
        "    #doc = [w for w in doc if (len(w)> 2 )] #only words longer than 2 characters\n",
        "    #doc = [w for w in doc if w != \"y\"] #remove \"y\"\n",
        "    #doc = \" \".join(doc)\n",
        "    return text\n"
      ],
      "execution_count": null,
      "outputs": []
    },
    {
      "cell_type": "code",
      "metadata": {
        "id": "1oxTR4Lx4_6X"
      },
      "source": [
        "#Como aplico lo de arriba? \n",
        "data[\"clean_text\"] = data[\"review_body\"].apply(lambda x:basic_text_cleanup(x) )\n"
      ],
      "execution_count": null,
      "outputs": []
    },
    {
      "cell_type": "code",
      "metadata": {
        "id": "sp_-xepN5pvJ"
      },
      "source": [
        "from nltk.corpus import stopwords\n",
        "from nltk import word_tokenize, sent_tokenize\n",
        "\n",
        "STOP_WORDS = stopwords.words('spanish')\n",
        "\n",
        "def tokenize(x):\n",
        "    return [word for word in word_tokenize(x) if word not in STOP_WORDS and word.isalpha() and len(word)>1]\n",
        "\n",
        "df[\"token\"] = df[\"normal\"].apply(lambda x:tokenize(x))\n"
      ],
      "execution_count": null,
      "outputs": []
    },
    {
      "cell_type": "markdown",
      "metadata": {
        "id": "BlrDTvJHGDJJ"
      },
      "source": [
        "2- Función de limpieza de emojis"
      ]
    },
    {
      "cell_type": "code",
      "metadata": {
        "id": "eMcmGgQhFYFA"
      },
      "source": [
        "#Eliminamos los emojis de los comentarios. Tale como 😜 , 😔 , etc.\n",
        "def remove_emoji(text):\n",
        "    emoji_pattern = re.compile(\"[\"\n",
        "                           u\"\\U0001F600-\\U0001F64F\"  # emoticons\n",
        "                           u\"\\U0001F300-\\U0001F5FF\"  # symbols & pictographs\n",
        "                           u\"\\U0001F680-\\U0001F6FF\"  # transport & map symbols\n",
        "                           u\"\\U0001F1E0-\\U0001F1FF\"  # flags \n",
        "                           u\"\\U00002702-\\U000027B0\"\n",
        "                           u\"\\U000024C2-\\U0001F251\"\n",
        "                           \"]+\", flags=re.UNICODE)\n",
        "    return emoji_pattern.sub(r'', text)"
      ],
      "execution_count": null,
      "outputs": []
    },
    {
      "cell_type": "markdown",
      "metadata": {
        "id": "GzswxapOGGfL"
      },
      "source": [
        "3- Función de limpieza de emoticones"
      ]
    },
    {
      "cell_type": "code",
      "metadata": {
        "colab": {
          "base_uri": "https://localhost:8080/"
        },
        "id": "Km34-JsgF1YA",
        "outputId": "e088e97c-14ca-4b11-f2eb-08689c0d2452"
      },
      "source": [
        "!pip install emot\n"
      ],
      "execution_count": null,
      "outputs": [
        {
          "output_type": "stream",
          "text": [
            "Collecting emot\n",
            "  Downloading https://files.pythonhosted.org/packages/49/07/20001ade19873de611b7b66a4d5e5aabbf190d65abea337d5deeaa2bc3de/emot-2.1-py3-none-any.whl\n",
            "Installing collected packages: emot\n",
            "Successfully installed emot-2.1\n"
          ],
          "name": "stdout"
        }
      ]
    },
    {
      "cell_type": "code",
      "metadata": {
        "id": "r7PkMszPFxgs"
      },
      "source": [
        "from emot.emo_unicode import UNICODE_EMO, EMOTICONS\n",
        "\n",
        "# Remover emoticones tales como :-) , :'( , etc\n",
        "def remove_emoticons(text):\n",
        "    emoticon_pattern = re.compile(u'(' + u'|'.join(k for k in EMOTICONS) + u')')\n",
        "    return emoticon_pattern.sub(r'', text)"
      ],
      "execution_count": null,
      "outputs": []
    },
    {
      "cell_type": "markdown",
      "metadata": {
        "id": "60GXGVixLOJA"
      },
      "source": [
        "## Introducción"
      ]
    },
    {
      "cell_type": "code",
      "metadata": {
        "colab": {
          "base_uri": "https://localhost:8080/",
          "height": 35
        },
        "id": "B0qnHR3fAmEt",
        "outputId": "9d2f2f98-9d48-4d16-f399-3fe9a6e5dbf8"
      },
      "source": [
        "comentario"
      ],
      "execution_count": null,
      "outputs": [
        {
          "output_type": "execute_result",
          "data": {
            "application/vnd.google.colaboratory.intrinsic+json": {
              "type": "string"
            },
            "text/plain": [
              "'Lo único es que se desplazan mucho... Peor es normal solo tienen el broche no una cinta adhesiva...'"
            ]
          },
          "metadata": {
            "tags": []
          },
          "execution_count": 73
        }
      ]
    },
    {
      "cell_type": "code",
      "metadata": {
        "colab": {
          "base_uri": "https://localhost:8080/",
          "height": 35
        },
        "id": "yG8owbVKALHD",
        "outputId": "235ad557-82d1-4986-9747-1baeb3a9b321"
      },
      "source": [
        "comentario=clean_text_round1(comentario)\n",
        "comentario"
      ],
      "execution_count": null,
      "outputs": [
        {
          "output_type": "execute_result",
          "data": {
            "application/vnd.google.colaboratory.intrinsic+json": {
              "type": "string"
            },
            "text/plain": [
              "'lo único es que se desplazan mucho    peor es normal solo tienen el broche no una cinta adhesiva   '"
            ]
          },
          "metadata": {
            "tags": []
          },
          "execution_count": 74
        }
      ]
    },
    {
      "cell_type": "code",
      "metadata": {
        "colab": {
          "base_uri": "https://localhost:8080/"
        },
        "id": "VmhkYMAFKvNF",
        "outputId": "567573ec-5f4b-45fe-a3ce-8678d6b3b21e"
      },
      "source": [
        "index_random = np.random.randint(0,high = data.shape[0])\n",
        "comentario = data.iloc[index_random].review_body\n",
        "estrella =  data.iloc[index_random].stars\n",
        "titulo = data.iloc[index_random].review_title\n",
        "categoria = data.iloc[index_random].product_category\n",
        "print(index_random)\n",
        "print(estrella)\n",
        "print(categoria)\n",
        "print(titulo)\n",
        "print(comentario)"
      ],
      "execution_count": null,
      "outputs": [
        {
          "output_type": "stream",
          "text": [
            "168960\n",
            "5\n",
            "home_improvement\n",
            "Muy funcional\n",
            "Mi novio necesitaba uno de estos para su trabajo y me decidi a comprarle este por los comentarios y el precio. El esta encantado dice que le funciona genial asi que por mi parte estoy satisfecha con mi compra\n"
          ],
          "name": "stdout"
        }
      ]
    },
    {
      "cell_type": "markdown",
      "metadata": {
        "id": "vLbcpe2KKhHo"
      },
      "source": [
        "### **StopWords**"
      ]
    },
    {
      "cell_type": "code",
      "metadata": {
        "colab": {
          "base_uri": "https://localhost:8080/"
        },
        "id": "i_Twb3R5AK4-",
        "outputId": "9ce10a03-e148-443e-ce10-28a5027bf9c1"
      },
      "source": [
        "from nltk.corpus import stopwords\n",
        "nltk.download('stopwords')\n",
        "stopwords = set(stopwords.words('spanish')) \n"
      ],
      "execution_count": null,
      "outputs": [
        {
          "output_type": "stream",
          "text": [
            "[nltk_data] Downloading package stopwords to /root/nltk_data...\n",
            "[nltk_data]   Package stopwords is already up-to-date!\n"
          ],
          "name": "stdout"
        }
      ]
    },
    {
      "cell_type": "code",
      "metadata": {
        "colab": {
          "base_uri": "https://localhost:8080/"
        },
        "id": "FsP6TKfaDF-y",
        "outputId": "1d3033a2-d33f-4d9b-e7cb-48623786c25b"
      },
      "source": [
        "print(\"Lista de stopwords en español:\")\n",
        "\n",
        "print(stopwords)"
      ],
      "execution_count": null,
      "outputs": [
        {
          "output_type": "stream",
          "text": [
            "Lista de stopwords en español:\n",
            "{'le', 'tengáis', 'hube', 'contra', 'estos', 'estando', 'tengas', 'tuyo', 'hubieseis', 'cual', 'quienes', 'habidos', 'qué', 'haya', 'estabais', 'eran', 'fuera', 'ante', 'otros', 'nuestras', 'algunos', 'habíamos', 'esos', 'nuestro', 'tus', 'este', 'habríamos', 'teníamos', 'también', 'serían', 'mío', 'nuestros', 'suyas', 'ese', 'esas', 'habrías', 'sentidos', 'era', 'te', 'estarás', 'tuyas', 'habría', 'suyo', 'vuestra', 'quien', 'tened', 'al', 'tuviesen', 'del', 'poco', 'ti', 'pero', 'estuvo', 'teniendo', 'tuve', 'tuviese', 'sus', 'hayan', 'vuestro', 'sí', 'mi', 'son', 'tendría', 'hubisteis', 'otras', 'o', 'estuvieron', 'habéis', 'ellas', 'sois', 'hubieran', 'sentida', 'tuvo', 'e', 'estamos', 'habréis', 'él', 'de', 'fui', 'los', 'tenías', 'tu', 'eres', 'habías', 'han', 'ellos', 'estado', 'ni', 'hay', 'seremos', 'hubieses', 'está', 'estuvisteis', 'fuerais', 'me', 'estas', 'estaríais', 'habidas', 'tendrías', 'hubiste', 'he', 'más', 'estadas', 'tenido', 'tengamos', 'nada', 'sean', 'mí', 'muchos', 'estuviese', 'habiendo', 'otra', 'yo', 'hayáis', 'lo', 'esto', 'fueras', 'estados', 'estuvieras', 'habríais', 'sería', 'seríais', 'hubiéramos', 'tendrían', 'tuviésemos', 'tuvieses', 'vuestras', 'les', 'nos', 'estéis', 'fuiste', 'como', 'tendré', 'por', 'entre', 'habíais', 'tuviéramos', 'sea', 'porque', 'suyos', 'seas', 'la', 'sentid', 'tendréis', 'habremos', 'otro', 'tú', 'a', 'hayamos', 'que', 'tuyos', 'vosotros', 'estará', 'durante', 'tenidos', 'hemos', 'una', 'seamos', 'mucho', 'sobre', 'tienes', 'sentido', 'tengan', 'estarán', 'estabas', 'habrían', 'ella', 'siente', 'estarías', 'estén', 'erais', 'serán', 'tendrán', 'estábamos', 'estaremos', 'muy', 'esté', 'el', 'estás', 'unos', 'se', 'estuvierais', 'hubiese', 'en', 'estad', 'fuimos', 'hubiera', 'estuviera', 'os', 'hubieras', 'hayas', 'nuestra', 'estaríamos', 'estés', 'seréis', 'estemos', 'tenemos', 'tendrás', 'estuviésemos', 'tuviste', 'has', 'es', 'hubiésemos', 'estaría', 'tenga', 'estuvieseis', 'será', 'vosotras', 'seré', 'tuvisteis', 'hubieron', 'fuesen', 'mis', 'habían', 'tuvieseis', 'había', 'teníais', 'serás', 'estar', 'sintiendo', 'estuvieses', 'fueron', 'tuviera', 'fuese', 'están', 'hubo', 'sin', 'habré', 'míos', 'cuando', 'estoy', 'habida', 'tuvieron', 'todo', 'hasta', 'ha', 'tenían', 'estarían', 'tanto', 'seríamos', 'fueran', 'tuya', 'hubimos', 'las', 'habido', 'tuvierais', 'estáis', 'suya', 'tenida', 'tiene', 'estaban', 'fuéramos', 'algunas', 'para', 'estuve', 'habrá', 'habrán', 'tenéis', 'fueses', 'y', 'antes', 'mía', 'tienen', 'hubierais', 'eras', 'estuviste', 'desde', 'todos', 'estuviéramos', 'fue', 'estada', 'no', 'tengo', 'tendríamos', 'uno', 'sentidas', 'estuvieran', 'eso', 'fuisteis', 'tuvimos', 'tenidas', 'ya', 'tendremos', 'estuvimos', 'hubiesen', 'soy', 'vuestros', 'estaré', 'donde', 'un', 'estaba', 'fuésemos', 'estuviesen', 'esta', 'mías', 'con', 'nosotras', 'tuvieran', 'esa', 'seáis', 'fueseis', 'tuvieras', 'nosotros', 'tendríais', 'estaréis', 'algo', 'tendrá', 'su', 'somos', 'habrás', 'serías', 'éramos', 'tenía'}\n"
          ],
          "name": "stdout"
        }
      ]
    },
    {
      "cell_type": "code",
      "metadata": {
        "colab": {
          "base_uri": "https://localhost:8080/"
        },
        "id": "qZyWih5aKBkz",
        "outputId": "3c1aac6f-2b2a-4105-e207-ff83828d406f"
      },
      "source": [
        "comentario_wt = nltk.tokenize.word_tokenize(comentario)\n",
        "comentario_wt"
      ],
      "execution_count": null,
      "outputs": [
        {
          "output_type": "execute_result",
          "data": {
            "text/plain": [
              "['Mi',\n",
              " 'novio',\n",
              " 'necesitaba',\n",
              " 'uno',\n",
              " 'de',\n",
              " 'estos',\n",
              " 'para',\n",
              " 'su',\n",
              " 'trabajo',\n",
              " 'y',\n",
              " 'me',\n",
              " 'decidi',\n",
              " 'a',\n",
              " 'comprarle',\n",
              " 'este',\n",
              " 'por',\n",
              " 'los',\n",
              " 'comentarios',\n",
              " 'y',\n",
              " 'el',\n",
              " 'precio',\n",
              " '.',\n",
              " 'El',\n",
              " 'esta',\n",
              " 'encantado',\n",
              " 'dice',\n",
              " 'que',\n",
              " 'le',\n",
              " 'funciona',\n",
              " 'genial',\n",
              " 'asi',\n",
              " 'que',\n",
              " 'por',\n",
              " 'mi',\n",
              " 'parte',\n",
              " 'estoy',\n",
              " 'satisfecha',\n",
              " 'con',\n",
              " 'mi',\n",
              " 'compra']"
            ]
          },
          "metadata": {
            "tags": []
          },
          "execution_count": 78
        }
      ]
    },
    {
      "cell_type": "code",
      "metadata": {
        "colab": {
          "base_uri": "https://localhost:8080/"
        },
        "id": "alYGBJBBJPUW",
        "outputId": "9697536a-0c78-435d-dced-08d757171264"
      },
      "source": [
        "comentario_sin_sw = [i for i in comentario_wt if i not in stopwords]\n",
        "comentario_sin_sw"
      ],
      "execution_count": null,
      "outputs": [
        {
          "output_type": "execute_result",
          "data": {
            "text/plain": [
              "['Mi',\n",
              " 'novio',\n",
              " 'necesitaba',\n",
              " 'trabajo',\n",
              " 'decidi',\n",
              " 'comprarle',\n",
              " 'comentarios',\n",
              " 'precio',\n",
              " '.',\n",
              " 'El',\n",
              " 'encantado',\n",
              " 'dice',\n",
              " 'funciona',\n",
              " 'genial',\n",
              " 'asi',\n",
              " 'parte',\n",
              " 'satisfecha',\n",
              " 'compra']"
            ]
          },
          "metadata": {
            "tags": []
          },
          "execution_count": 79
        }
      ]
    },
    {
      "cell_type": "markdown",
      "metadata": {
        "id": "QVv2b5FPKlcc"
      },
      "source": [
        "### **Frecuencia**"
      ]
    },
    {
      "cell_type": "code",
      "metadata": {
        "colab": {
          "base_uri": "https://localhost:8080/"
        },
        "id": "RC3yPzA_KgC4",
        "outputId": "57b129cd-d87a-4447-c69e-8e4d1ae37514"
      },
      "source": [
        "freq = nltk.FreqDist(comentario_sin_sw)\n",
        "freq"
      ],
      "execution_count": null,
      "outputs": [
        {
          "output_type": "execute_result",
          "data": {
            "text/plain": [
              "FreqDist({'.': 1,\n",
              "          'El': 1,\n",
              "          'Mi': 1,\n",
              "          'asi': 1,\n",
              "          'comentarios': 1,\n",
              "          'compra': 1,\n",
              "          'comprarle': 1,\n",
              "          'decidi': 1,\n",
              "          'dice': 1,\n",
              "          'encantado': 1,\n",
              "          'funciona': 1,\n",
              "          'genial': 1,\n",
              "          'necesitaba': 1,\n",
              "          'novio': 1,\n",
              "          'parte': 1,\n",
              "          'precio': 1,\n",
              "          'satisfecha': 1,\n",
              "          'trabajo': 1})"
            ]
          },
          "metadata": {
            "tags": []
          },
          "execution_count": 81
        }
      ]
    },
    {
      "cell_type": "markdown",
      "metadata": {
        "id": "WcZR4JiRLK4l"
      },
      "source": [
        "## **Filtración y análisis de frecuencias**"
      ]
    },
    {
      "cell_type": "markdown",
      "metadata": {
        "id": "IgYCnpafMMGp"
      },
      "source": [
        "### 1- Dataset con los comentarios positivos ( de 4 y 5 estrellas)"
      ]
    },
    {
      "cell_type": "code",
      "metadata": {
        "id": "fCkU5vI0gPl4"
      },
      "source": [
        "#Saco palabras que no aportan un gran valor semánitico\n",
        "filtrar = ['es','el','muy','la','los','lo','me','si','no','se']"
      ],
      "execution_count": null,
      "outputs": []
    },
    {
      "cell_type": "code",
      "metadata": {
        "colab": {
          "base_uri": "https://localhost:8080/"
        },
        "id": "baNcEJtsLfpC",
        "outputId": "288969f9-f9a6-46c8-e5da-8b0a76923d69"
      },
      "source": [
        "positivo = data[data.stars > 3]\n",
        "positivo.shape"
      ],
      "execution_count": null,
      "outputs": [
        {
          "output_type": "execute_result",
          "data": {
            "text/plain": [
              "(80000, 8)"
            ]
          },
          "metadata": {
            "tags": []
          },
          "execution_count": 83
        }
      ]
    },
    {
      "cell_type": "code",
      "metadata": {
        "id": "1UWCN6-3MjaR"
      },
      "source": [
        "resenas = []\n",
        "for i in range(positivo.shape[0]):\n",
        "  comentario = positivo.iloc[i].review_body\n",
        "  comentario = clean_text_round1(comentario)\n",
        "  comentario = nltk.tokenize.RegexpTokenizer(\"[\\w]+\").tokenize(comentario)\n",
        "  comentario = [word for word in comentario if word not in stopwords]\n",
        "  comentario = [word for word in comentario if word not in filtrar]\n",
        "\n",
        "  resenas.append(comentario)"
      ],
      "execution_count": null,
      "outputs": []
    },
    {
      "cell_type": "code",
      "metadata": {
        "id": "esEGLTIOMjXJ",
        "colab": {
          "base_uri": "https://localhost:8080/"
        },
        "outputId": "d6e62969-f2a5-4a56-ffd3-9a02932e10fd"
      },
      "source": [
        "resenas = list(itertools.chain(*resenas))\n",
        "resenas[0:10]"
      ],
      "execution_count": null,
      "outputs": [
        {
          "output_type": "execute_result",
          "data": {
            "text/plain": [
              "['buena',\n",
              " 'pinta',\n",
              " 'veremos',\n",
              " 'resultado',\n",
              " 'entrega',\n",
              " 'rápida',\n",
              " 'siempre',\n",
              " 'falta',\n",
              " 'factura',\n",
              " 'bien']"
            ]
          },
          "metadata": {
            "tags": []
          },
          "execution_count": 85
        }
      ]
    },
    {
      "cell_type": "code",
      "metadata": {
        "id": "R6I0l3coMjUQ",
        "colab": {
          "base_uri": "https://localhost:8080/"
        },
        "outputId": "12e8c859-29fa-4b43-d491-5a7a8abf452f"
      },
      "source": [
        "freq_positivo = nltk.FreqDist(resenas)\n",
        "freq_positivo"
      ],
      "execution_count": null,
      "outputs": [
        {
          "output_type": "execute_result",
          "data": {
            "text/plain": [
              "FreqDist({'buena': 13130,\n",
              "          'pinta': 353,\n",
              "          'veremos': 239,\n",
              "          'resultado': 804,\n",
              "          'entrega': 1532,\n",
              "          'rápida': 761,\n",
              "          'siempre': 1533,\n",
              "          'falta': 1078,\n",
              "          'factura': 83,\n",
              "          'bien': 23539,\n",
              "          'envío': 1659,\n",
              "          'rápido': 3004,\n",
              "          'queda': 3133,\n",
              "          'material': 1788,\n",
              "          'duradero': 198,\n",
              "          'tamaño': 2923,\n",
              "          'perfecto': 7368,\n",
              "          'genial': 3655,\n",
              "          'aunque': 3916,\n",
              "          'huele': 305,\n",
              "          'pegamento': 144,\n",
              "          'llega': 403,\n",
              "          'eliminar': 62,\n",
              "          'todas': 1162,\n",
              "          'manchas': 98,\n",
              "          'espera': 201,\n",
              "          'calidad': 15739,\n",
              "          'plástico': 1214,\n",
              "          'regulero': 4,\n",
              "          'parece': 3019,\n",
              "          'q': 1808,\n",
              "          'va': 3408,\n",
              "          'romper': 94,\n",
              "          'rajar': 2,\n",
              "          'enseguida': 265,\n",
              "          'demás': 1568,\n",
              "          'fácil': 4478,\n",
              "          'instalación': 436,\n",
              "          'funciona': 4345,\n",
              "          'perfectamente': 4842,\n",
              "          'momento': 2452,\n",
              "          'contenta': 1745,\n",
              "          'compra': 4634,\n",
              "          'barato': 562,\n",
              "          'hace': 3420,\n",
              "          'ocupen': 10,\n",
              "          'lavabo': 40,\n",
              "          'casas': 13,\n",
              "          'pequeñas': 501,\n",
              "          'importante': 398,\n",
              "          'gafas': 271,\n",
              "          'cómodas': 443,\n",
              "          'apariencia': 110,\n",
              "          'robusta': 290,\n",
              "          'estética': 189,\n",
              "          'actual': 47,\n",
              "          'menos': 2041,\n",
              "          'espalda': 197,\n",
              "          'goma': 448,\n",
              "          'eva': 13,\n",
              "          'hombreras': 1,\n",
              "          'viene': 2669,\n",
              "          'ponerse': 52,\n",
              "          'así': 2241,\n",
              "          'sé': 424,\n",
              "          'gusta': 2512,\n",
              "          'hijo': 1154,\n",
              "          'pared': 408,\n",
              "          'escritorio': 89,\n",
              "          'organización': 15,\n",
              "          'estudiar': 49,\n",
              "          'da': 1700,\n",
              "          'toque': 224,\n",
              "          'elegante': 614,\n",
              "          'además': 2190,\n",
              "          'práctico': 1097,\n",
              "          'adornar': 11,\n",
              "          'algún': 543,\n",
              "          'rinconcito': 2,\n",
              "          'enchufe': 188,\n",
              "          'encantado': 1827,\n",
              "          'sólo': 646,\n",
              "          'encuentro': 248,\n",
              "          'fallo': 260,\n",
              "          'tapas': 92,\n",
              "          'demasiado': 1182,\n",
              "          'endebles': 69,\n",
              "          'mantenerse': 10,\n",
              "          'pie': 284,\n",
              "          'necesitaba': 658,\n",
              "          'pequeña': 1114,\n",
              "          'manejable': 291,\n",
              "          'útil': 1252,\n",
              "          'vivo': 83,\n",
              "          'zona': 311,\n",
              "          'costera': 2,\n",
              "          'mucha': 1055,\n",
              "          'humedad': 146,\n",
              "          'probado': 1128,\n",
              "          'pack': 280,\n",
              "          'armarios': 28,\n",
              "          'llena': 108,\n",
              "          'bolsa': 551,\n",
              "          'agua': 1366,\n",
              "          'retira': 15,\n",
              "          'ropa': 370,\n",
              "          'precio': 12876,\n",
              "          'excelente': 1657,\n",
              "          'dos': 2832,\n",
              "          'puntos': 141,\n",
              "          'gustaría': 158,\n",
              "          'mejoraran': 7,\n",
              "          'tres': 699,\n",
              "          'cierres': 54,\n",
              "          'vendieran': 1,\n",
              "          'separado': 65,\n",
              "          'comprarlos': 79,\n",
              "          'solo': 2221,\n",
              "          'quería': 700,\n",
              "          'tija': 11,\n",
              "          'tuerca': 30,\n",
              "          'manifiestamente': 1,\n",
              "          'mejorable': 110,\n",
              "          'sustituido': 21,\n",
              "          'mientras': 288,\n",
              "          'tornillo': 122,\n",
              "          'seguro': 466,\n",
              "          'puede': 3095,\n",
              "          'desmontar': 108,\n",
              "          'incluso': 864,\n",
              "          'alicate': 12,\n",
              "          'grande': 2390,\n",
              "          'correcto': 1705,\n",
              "          'buen': 7999,\n",
              "          'surtido': 32,\n",
              "          'ver': 1366,\n",
              "          'desgaste': 63,\n",
              "          'pueda': 336,\n",
              "          'tener': 2243,\n",
              "          'tras': 408,\n",
              "          'uso': 3458,\n",
              "          'continuado': 16,\n",
              "          'bueno': 3112,\n",
              "          'esperaba': 2354,\n",
              "          'llegó': 2491,\n",
              "          'tiempo': 3781,\n",
              "          'anunciado': 129,\n",
              "          'empaquetado': 313,\n",
              "          'problemas': 1287,\n",
              "          'seguir': 156,\n",
              "          'blandas': 34,\n",
              "          'principio': 705,\n",
              "          'raro': 69,\n",
              "          'producto': 8791,\n",
              "          'tal': 2579,\n",
              "          'aparece': 283,\n",
              "          'descrito': 139,\n",
              "          'ayudado': 50,\n",
              "          'bajar': 107,\n",
              "          'dolor': 116,\n",
              "          'fascitis': 12,\n",
              "          'cura': 8,\n",
              "          'contento': 1887,\n",
              "          'alargador': 23,\n",
              "          'mil': 105,\n",
              "          'maravillas': 51,\n",
              "          'dar': 458,\n",
              "          'estrellas': 1266,\n",
              "          'motivo': 74,\n",
              "          'parecio': 17,\n",
              "          'caro': 556,\n",
              "          'ser': 2405,\n",
              "          'cablecito': 2,\n",
              "          'demas': 318,\n",
              "          'acerca': 35,\n",
              "          'expectativas': 1098,\n",
              "          'buscábamos': 46,\n",
              "          'recomiendo': 4052,\n",
              "          'animaros': 1,\n",
              "          'comprarla': 149,\n",
              "          'hecho': 834,\n",
              "          'cometido': 570,\n",
              "          'perfeccion': 97,\n",
              "          'aun': 559,\n",
              "          'estrenado': 29,\n",
              "          'gramaje': 15,\n",
              "          'papel': 390,\n",
              "          'relacion': 366,\n",
              "          'seguida': 45,\n",
              "          'gustado': 2444,\n",
              "          'igual': 1422,\n",
              "          'foto': 1854,\n",
              "          'ligera': 384,\n",
              "          'pesa': 784,\n",
              "          'llego': 1595,\n",
              "          'puntual': 150,\n",
              "          'montaje': 648,\n",
              "          'describe': 433,\n",
              "          'consistente': 46,\n",
              "          'compré': 2100,\n",
              "          'samsung': 175,\n",
              "          'entra': 250,\n",
              "          'funda': 2183,\n",
              "          'incluida': 52,\n",
              "          'doy': 796,\n",
              "          'podido': 276,\n",
              "          'utilizar': 630,\n",
              "          'todavía': 425,\n",
              "          'mar': 49,\n",
              "          'pruebas': 60,\n",
              "          'hice': 179,\n",
              "          'casa': 1447,\n",
              "          'aguanta': 575,\n",
              "          'actualizaré': 16,\n",
              "          'reseña': 33,\n",
              "          'después': 1087,\n",
              "          'vacaciones': 71,\n",
              "          'contaros': 1,\n",
              "          'intensivo': 46,\n",
              "          'comodidad': 303,\n",
              "          'comprar': 1808,\n",
              "          'salir': 221,\n",
              "          'rapidez': 392,\n",
              "          'tardado': 107,\n",
              "          'bastante': 6061,\n",
              "          'esperado': 922,\n",
              "          'niños': 1081,\n",
              "          'cumple': 4657,\n",
              "          'función': 2551,\n",
              "          'cara': 416,\n",
              "          'pantalones': 53,\n",
              "          'cómodos': 557,\n",
              "          'talla': 936,\n",
              "          'correcta': 481,\n",
              "          'entiendo': 135,\n",
              "          'pedido': 839,\n",
              "          'unidades': 135,\n",
              "          'misma': 548,\n",
              "          'llegan': 95,\n",
              "          'diferentes': 618,\n",
              "          'dias': 274,\n",
              "          'cumplan': 2,\n",
              "          'plazos': 68,\n",
              "          'regalo': 2097,\n",
              "          'agradecería': 25,\n",
              "          'explicación': 28,\n",
              "          'sales': 21,\n",
              "          'ahí': 179,\n",
              "          'comer': 79,\n",
              "          'ir': 623,\n",
              "          'viaje': 404,\n",
              "          've': 1950,\n",
              "          'tablero': 56,\n",
              "          'vino': 488,\n",
              "          'roto': 266,\n",
              "          'lado': 445,\n",
              "          'problema': 2156,\n",
              "          'enviarme': 8,\n",
              "          'mesa': 391,\n",
              "          'bonita': 1423,\n",
              "          'puesta': 203,\n",
              "          'tacto': 1045,\n",
              "          'exactamente': 530,\n",
              "          'correa': 442,\n",
              "          'original': 1636,\n",
              "          'cómodo': 1755,\n",
              "          'calor': 411,\n",
              "          'color': 1988,\n",
              "          'tan': 1195,\n",
              "          'intenso': 90,\n",
              "          'correas': 120,\n",
              "          'ajustan': 220,\n",
              "          'cuelgue': 4,\n",
              "          'vienen': 1005,\n",
              "          'resto': 416,\n",
              "          'responden': 26,\n",
              "          'ojo': 163,\n",
              "          'pasadores': 12,\n",
              "          'volvería': 671,\n",
              "          'maravilla': 635,\n",
              "          'realmente': 647,\n",
              "          'puedo': 1176,\n",
              "          'organizar': 72,\n",
              "          'maleta': 174,\n",
              "          'mochila': 567,\n",
              "          'mezcle': 3,\n",
              "          'rompio': 26,\n",
              "          'ninguna': 578,\n",
              "          'cremallera': 197,\n",
              "          'caso': 1017,\n",
              "          'adquirido': 57,\n",
              "          'modelo': 564,\n",
              "          'menor': 136,\n",
              "          'tamaños': 216,\n",
              "          'disponibles': 29,\n",
              "          'materiales': 814,\n",
              "          'dirán': 5,\n",
              "          'cintas': 75,\n",
              "          'velcro': 140,\n",
              "          'fijarla': 9,\n",
              "          'cuadro': 47,\n",
              "          'base': 502,\n",
              "          'hagamos': 5,\n",
              "          'mejor': 3445,\n",
              "          'apoyo': 80,\n",
              "          'tubo': 135,\n",
              "          'horizontal': 56,\n",
              "          'bici': 191,\n",
              "          'plano': 57,\n",
              "          'mueve': 239,\n",
              "          'baches': 20,\n",
              "          'pedaleo': 3,\n",
              "          'tema': 180,\n",
              "          'capacidad': 674,\n",
              "          'pese': 114,\n",
              "          'pequeño': 1970,\n",
              "          'creo': 1193,\n",
              "          'cabe': 415,\n",
              "          'barritas': 12,\n",
              "          'par': 599,\n",
              "          'geles': 14,\n",
              "          'larga': 259,\n",
              "          'distancia': 263,\n",
              "          'optaría': 3,\n",
              "          'mayor': 388,\n",
              "          'interior': 481,\n",
              "          'lleva': 911,\n",
              "          'lateral': 130,\n",
              "          'compartimento': 69,\n",
              "          'red': 143,\n",
              "          'billetes': 54,\n",
              "          'adaptador': 265,\n",
              "          'extensor': 9,\n",
              "          'válvula': 32,\n",
              "          'etc': 463,\n",
              "          'contenido': 189,\n",
              "          'principal': 107,\n",
              "          'resumen': 104,\n",
              "          'espacio': 888,\n",
              "          'precioso': 502,\n",
              "          'iluminador': 6,\n",
              "          'llegado': 1097,\n",
              "          'perfectas': 833,\n",
              "          'condiciones': 563,\n",
              "          'precintado': 49,\n",
              "          'fecha': 790,\n",
              "          'prevista': 197,\n",
              "          'pigmentación': 12,\n",
              "          'piel': 628,\n",
              "          'acabado': 919,\n",
              "          'bonito': 2651,\n",
              "          'alguna': 727,\n",
              "          'cosa': 477,\n",
              "          'valoración': 101,\n",
              "          'general': 946,\n",
              "          'placa': 116,\n",
              "          'calienta': 363,\n",
              "          'rapidísimo': 122,\n",
              "          'cuestión': 77,\n",
              "          'segundos': 156,\n",
              "          'hirviendo': 7,\n",
              "          'parecen': 414,\n",
              "          'cm': 195,\n",
              "          'diámetro': 57,\n",
              "          'pueden': 634,\n",
              "          'usar': 1851,\n",
              "          'sartenes': 29,\n",
              "          'u': 128,\n",
              "          'ollas': 21,\n",
              "          'ideal': 1412,\n",
              "          'negativos': 25,\n",
              "          'pues': 814,\n",
              "          'tarda': 245,\n",
              "          'muchísimo': 404,\n",
              "          'apagarse': 10,\n",
              "          'ventilador': 145,\n",
              "          'dejas': 68,\n",
              "          'cocinar': 84,\n",
              "          'temporizador': 51,\n",
              "          'defecto': 190,\n",
              "          'pone': 441,\n",
              "          'minutos': 304,\n",
              "          'quieres': 512,\n",
              "          'encendida': 54,\n",
              "          'subirlo': 20,\n",
              "          'pesado': 180,\n",
              "          'prefiero': 76,\n",
              "          'modo': 314,\n",
              "          'manual': 264,\n",
              "          'apaga': 128,\n",
              "          'min': 67,\n",
              "          'cosas': 901,\n",
              "          'soportables': 1,\n",
              "          'cuenta': 735,\n",
              "          'suba': 4,\n",
              "          'endeble': 204,\n",
              "          'gusto': 780,\n",
              "          'silencioso': 175,\n",
              "          'facil': 973,\n",
              "          'leyendo': 74,\n",
              "          'comentarios': 213,\n",
              "          'pedi': 110,\n",
              "          'media': 248,\n",
              "          'tenia': 399,\n",
              "          'haber': 293,\n",
              "          'normal': 742,\n",
              "          'puesto': 868,\n",
              "          'renault': 21,\n",
              "          'scenic': 9,\n",
              "          'mas': 3438,\n",
              "          'corto': 355,\n",
              "          'traía': 66,\n",
              "          'originalmente': 5,\n",
              "          'coche': 970,\n",
              "          'recepción': 74,\n",
              "          'garajes': 2,\n",
              "          'cubiertos': 43,\n",
              "          'pierde': 226,\n",
              "          'tambien': 309,\n",
              "          'pasaba': 24,\n",
              "          'antena': 92,\n",
              "          'correo': 97,\n",
              "          'ordinario': 20,\n",
              "          'alrededor': 74,\n",
              "          'días': 1127,\n",
              "          'despues': 214,\n",
              "          'pelín': 183,\n",
              "          'bajita': 14,\n",
              "          'pensaba': 454,\n",
              "          'peldaños': 3,\n",
              "          'sobraria': 2,\n",
              "          'plastico': 226,\n",
              "          'flexible': 159,\n",
              "          'transparente': 236,\n",
              "          'telefono': 163,\n",
              "          'resulta': 394,\n",
              "          'comodo': 405,\n",
              "          'iman': 64,\n",
              "          'olor': 511,\n",
              "          'diferente': 237,\n",
              "          'único': 1844,\n",
              "          'flojo': 68,\n",
              "          'ajustado': 160,\n",
              "          'pedí': 426,\n",
              "          's': 162,\n",
              "          'usáis': 5,\n",
              "          'perfecta': 2050,\n",
              "          'interesante': 313,\n",
              "          'iniciar': 31,\n",
              "          'niño': 701,\n",
              "          'mundo': 321,\n",
              "          'juegos': 283,\n",
              "          'espada': 17,\n",
              "          'brujería': 1,\n",
              "          'adecuado': 420,\n",
              "          'echa': 100,\n",
              "          'protagonistas': 29,\n",
              "          'figuritas': 10,\n",
              "          'funcional': 329,\n",
              "          'económico': 242,\n",
              "          'instalar': 674,\n",
              "          'verdad': 2198,\n",
              "          'potentes': 50,\n",
              "          'cuanto': 714,\n",
              "          'imán': 146,\n",
              "          'igualmente': 83,\n",
              "          'ok': 445,\n",
              "          'meter': 353,\n",
              "          'troncos': 6,\n",
              "          'chimenea': 23,\n",
              "          'personalmente': 113,\n",
              "          'decorativo': 63,\n",
              "          'marido': 135,\n",
              "          'entusiasme': 1,\n",
              "          'guardar': 540,\n",
              "          'trocos': 1,\n",
              "          'cesto': 17,\n",
              "          'estupendo': 580,\n",
              "          'encaja': 802,\n",
              "          'pc': 268,\n",
              "          'reconoce': 81,\n",
              "          'ajustes': 44,\n",
              "          'conseguido': 165,\n",
              "          'funcione': 99,\n",
              "          'crecimiento': 16,\n",
              "          'escritora': 22,\n",
              "          'historia': 395,\n",
              "          'sigue': 456,\n",
              "          'enganchando': 6,\n",
              "          'david': 2,\n",
              "          'enamorando': 1,\n",
              "          'totalmente': 1042,\n",
              "          'recomendable': 2769,\n",
              "          'enhorabuena': 48,\n",
              "          'autora': 88,\n",
              "          'usado': 910,\n",
              "          'accesorio': 117,\n",
              "          'montar': 957,\n",
              "          'claras': 82,\n",
              "          'apagarlo': 17,\n",
              "          'ponerle': 327,\n",
              "          'máxima': 101,\n",
              "          'potencia': 683,\n",
              "          'salpicar': 6,\n",
              "          'acorde': 146,\n",
              "          'descripción': 1040,\n",
              "          'nuevo': 608,\n",
              "          'dentro': 965,\n",
              "          'meses': 955,\n",
              "          'cómo': 497,\n",
              "          'rinde': 16,\n",
              "          'batería': 1415,\n",
              "          'puertos': 103,\n",
              "          'usb': 762,\n",
              "          'cuánto': 65,\n",
              "          'ruido': 744,\n",
              "          'decir': 1210,\n",
              "          'cumpliendo': 62,\n",
              "          'nuevecito': 1,\n",
              "          'seca': 153,\n",
              "          'pies': 143,\n",
              "          'dibujo': 215,\n",
              "          'envio': 646,\n",
              "          'acuerdo': 57,\n",
              "          'pesar': 430,\n",
              "          'buenas': 893,\n",
              "          'criticas': 8,\n",
              "          'poder': 1236,\n",
              "          'formar': 9,\n",
              "          'opinion': 55,\n",
              "          'personal': 102,\n",
              "          'formas': 165,\n",
              "          'libro': 1455,\n",
              "          'cierre': 386,\n",
              "          'saga': 92,\n",
              "          'nacidos': 6,\n",
              "          'bruma': 2,\n",
              "          'malo': 650,\n",
              "          'edición': 124,\n",
              "          'contado': 7,\n",
              "          'erratas': 8,\n",
              "          'espero': 672,\n",
              "          'corrija': 1,\n",
              "          'próximas': 15,\n",
              "          'ediciones': 8,\n",
              "          'merece': 462,\n",
              "          'semejantes': 4,\n",
              "          'fallos': 66,\n",
              "          'muñeca': 269,\n",
              "          'hombre': 47,\n",
              "          'nińa': 1,\n",
              "          'encanta': 1806,\n",
              "          'apagada': 23,\n",
              "          'iluminan': 62,\n",
              "          'luna': 32,\n",
              "          'relación': 2534,\n",
              "          'buenisima': 30,\n",
              "          'curvas': 18,\n",
              "          'dado': 488,\n",
              "          'china': 42,\n",
              "          'hecha': 145,\n",
              "          'chinas': 4,\n",
              "          'pedir': 831,\n",
              "          'idéntico': 52,\n",
              "          'sustituir': 145,\n",
              "          'rotura': 25,\n",
              "          'sustitución': 20,\n",
              "          'oye': 174,\n",
              "          'alto': 313,\n",
              "          'bluethood': 1,\n",
              "          'ba': 7,\n",
              "          'cine': 53,\n",
              "          'acordada': 24,\n",
              "          'resistente': 1474,\n",
              "          'kit': 232,\n",
              "          'disponía': 6,\n",
              "          'varias': 705,\n",
              "          'medidas': 424,\n",
              "          'tornillos': 409,\n",
              "          'montarlo': 135,\n",
              "          'compatibles': 62,\n",
              "          'televisor': 75,\n",
              "          'maquina': 104,\n",
              "          'sirve': 604,\n",
              "          'profesional': 234,\n",
              "          'ponencia': 2,\n",
              "          'desvía': 3,\n",
              "          'encareciera': 1,\n",
              "          'euros': 229,\n",
              "          'compre': 1072,\n",
              "          'caja': 1255,\n",
              "          'ranura': 43,\n",
              "          'unidad': 52,\n",
              "          'óptica': 22,\n",
              "          'pega': 1964,\n",
              "          'pondría': 89,\n",
              "          'conecto': 32,\n",
              "          'traseros': 22,\n",
              "          'directamente': 168,\n",
              "          'torre': 34,\n",
              "          'hub': 23,\n",
              "          'probarlo': 126,\n",
              "          'mac': 84,\n",
              "          'editare': 2,\n",
              "          'comentario': 94,\n",
              "          'comentando': 1,\n",
              "          'experiencia': 136,\n",
              "          'macpro': 1,\n",
              "          'thunderbolt': 5,\n",
              "          'dependo': 1,\n",
              "          'conectarlo': 112,\n",
              "          'mediante': 118,\n",
              "          'funciono': 26,\n",
              "          'lápices': 53,\n",
              "          'acuarelable': 1,\n",
              "          'siento': 88,\n",
              "          'satisfecha': 390,\n",
              "          'haberlos': 9,\n",
              "          'utilizado': 468,\n",
              "          'ayudan': 48,\n",
              "          'trabajos': 133,\n",
              "          'adquirí': 53,\n",
              "          'gracias': 1383,\n",
              "          'limpia': 368,\n",
              "          'deja': 888,\n",
              "          'super': 1133,\n",
              "          'suave': 1001,\n",
              "          'diario': 354,\n",
              "          'cabezales': 80,\n",
              "          'limpiar': 705,\n",
              "          'exfoliar': 7,\n",
              "          'velocidades': 79,\n",
              "          'limpian': 48,\n",
              "          'lámpara': 208,\n",
              "          'plásticos': 71,\n",
              "          'luz': 1839,\n",
              "          'uniforme': 38,\n",
              "          'reparte': 18,\n",
              "          'ángulo': 57,\n",
              "          'posibilidad': 121,\n",
              "          'escoger': 28,\n",
              "          'temperaturas': 44,\n",
              "          'máximo': 146,\n",
              "          'suficiente': 826,\n",
              "          'sobrada': 6,\n",
              "          'lámparas': 46,\n",
              "          'regulación': 28,\n",
              "          'utilidad': 156,\n",
              "          'quedan': 935,\n",
              "          'leds': 81,\n",
              "          'encendidos': 14,\n",
              "          'noche': 514,\n",
              "          'on': 51,\n",
              "          'off': 38,\n",
              "          'encender': 134,\n",
              "          'apagar': 95,\n",
              "          'bombilla': 124,\n",
              "          'cargador': 524,\n",
              "          'doble': 249,\n",
              "          'baterías': 205,\n",
              "          'sony': 81,\n",
              "          'durado': 99,\n",
              "          'solamente': 94,\n",
              "          'cargas': 78,\n",
              "          'decidido': 44,\n",
              "          'pillar': 20,\n",
              "          'robusto': 477,\n",
              "          'dura': 1200,\n",
              "          'final': 509,\n",
              "          'marca': 1285,\n",
              "          'sello': 16,\n",
              "          'garantía': 115,\n",
              "          'cierto': 448,\n",
              "          'porcentaje': 16,\n",
              "          'carga': 1054,\n",
              "          'fiar': 12,\n",
              "          'estimados': 2,\n",
              "          'vez': 2132,\n",
              "          'metí': 8,\n",
              "          'kilos': 62,\n",
              "          'carne': 59,\n",
              "          'horas': 802,\n",
              "          'llegaron': 385,\n",
              "          'leí': 108,\n",
              "          'aconsejaban': 4,\n",
              "          'braga': 4,\n",
              "          'parte': 1564,\n",
              "          'arriba': 245,\n",
              "          'quedado': 474,\n",
              "          'potente': 379,\n",
              "          'tallos': 2,\n",
              "          'gordos': 17,\n",
              "          'eficaz': 201,\n",
              "          'hora': 736,\n",
              "          'recortar': 28,\n",
              "          'bordes': 240,\n",
              "          'complicados': 21,\n",
              "          'hilo': 81,\n",
              "          'sale': 495,\n",
              "          'forma': 987,\n",
              "          'automática': 20,\n",
              "          'próximo': 31,\n",
              "          'compraré': 119,\n",
              "          'grueso': 176,\n",
              "          'probar': 301,\n",
              "          'cómoda': 1083,\n",
              "          'agarre': 239,\n",
              "          'cable': 1374,\n",
              "          'metros': 186,\n",
              "          'maravila': 1,\n",
              "          'arreglado': 15,\n",
              "          'mandos': 138,\n",
              "          'consola': 99,\n",
              "          'diseño': 1506,\n",
              "          'ergonomico': 14,\n",
              "          'llevo': 1043,\n",
              "          'tubulares': 1,\n",
              "          'tufo': 1,\n",
              "          'liquido': 60,\n",
              "          'extreme': 3,\n",
              "          'tapa': 524,\n",
              "          'pinchazo': 7,\n",
              "          'llevar': 1319,\n",
              "          'permite': 599,\n",
              "          'aplicarlo': 30,\n",
              "          'taparlo': 5,\n",
              "          'fácilmente': 510,\n",
              "          'apuro': 53,\n",
              "          'escucha': 235,\n",
              "          'fuerte': 684,\n",
              "          'correctamente': 881,\n",
              "          'indica': 310,\n",
              "          'pico': 22,\n",
              "          'asas': 103,\n",
              "          'hacen': 476,\n",
              "          'bandeja': 62,\n",
              "          'gratuita': 9,\n",
              "          'descarga': 50,\n",
              "          'buenos': 1180,\n",
              "          'consejos': 34,\n",
              "          'entretenido': 343,\n",
              "          'rato': 265,\n",
              "          'pratico': 4,\n",
              "          'deben': 47,\n",
              "          'cuidar': 37,\n",
              "          'embalaje': 454,\n",
              "          'ocasión': 80,\n",
              "          'pan': 75,\n",
              "          'pedacitos': 3,\n",
              "          'duda': 1005,\n",
              "          'volver': 212,\n",
              "          'pedirlo': 59,\n",
              "          'día': 1614,\n",
              "          'tarde': 216,\n",
              "          'gatas': 15,\n",
              "          'encantadas': 37,\n",
              "          'arañar': 10,\n",
              "          'chulo': 322,\n",
              "          'alfombra': 71,\n",
              "          'hija': 1094,\n",
              "          'encantada': 917,\n",
              "          'pesan': 137,\n",
              "          'puse': 264,\n",
              "          'parque': 41,\n",
              "          'peque': 199,\n",
              "          'empezo': 2,\n",
              "          'utilizarlo': 119,\n",
              "          'radio': 239,\n",
              "          'asi': 454,\n",
              "          'intrucciones': 8,\n",
              "          'ademas': 457,\n",
              "          'poner': 1904,\n",
              "          'tirantes': 46,\n",
              "          'sencillos': 71,\n",
              "          'pajarita': 6,\n",
              "          'brillante': 133,\n",
              "          'tono': 130,\n",
              "          'rojo': 128,\n",
              "          'resalta': 13,\n",
              "          'compatible': 230,\n",
              "          'hp': 47,\n",
              "          'aún': 1061,\n",
              "          'duración': 425,\n",
              "          'usándolo': 101,\n",
              "          'nota': 884,\n",
              "          'temperatura': 372,\n",
              "          'trae': 1159,\n",
              "          'pausa': 10,\n",
              "          'cambiado': 87,\n",
              "          'nox': 5,\n",
              "          'disipador': 18,\n",
              "          'amd': 2,\n",
              "          'intel': 5,\n",
              "          'necesita': 258,\n",
              "          'explicado': 79,\n",
              "          'folleto': 13,\n",
              "          'sitios': 165,\n",
              "          'radiador': 19,\n",
              "          'saber': 292,\n",
              "          'moverlo': 30,\n",
              "          'limpios': 34,\n",
              "          'pelusas': 30,\n",
              "          'suelta': 112,\n",
              "          'polvillo': 7,\n",
              "          'pelo': 726,\n",
              "          'aparte': 216,\n",
              "          'apañado': 12,\n",
              "          'sensación': 361,\n",
              "          'sujeción': 200,\n",
              "          'integrada': 17,\n",
              "          'números': 116,\n",
              "          'pequeños': 798,\n",
              "          'nunca': 452,\n",
              "          'aparato': 419,\n",
              "          'comparar': 54,\n",
              "          'inconveniente': 289,\n",
              "          'retraso': 97,\n",
              "          'recibirla': 16,\n",
              "          'pagué': 22,\n",
              "          'gastos': 43,\n",
              "          'llegara': 20,\n",
              "          'semanas': 321,\n",
              "          'funcionamiento': 590,\n",
              "          'mantenimiento': 41,\n",
              "          'limpieza': 308,\n",
              "          'voluminoso': 44,\n",
              "          'llegas': 16,\n",
              "          'acostumbrarte': 12,\n",
              "          'faciles': 62,\n",
              "          'soporta': 81,\n",
              "          'peso': 809,\n",
              "          'minas': 5,\n",
              "          'rotas': 35,\n",
              "          'rompen': 89,\n",
              "          'abrir': 283,\n",
              "          'envase': 116,\n",
              "          'pasaria': 3,\n",
              "          'medio': 414,\n",
              "          'mina': 9,\n",
              "          'suele': 109,\n",
              "          'partirse': 3,\n",
              "          'pedazos': 5,\n",
              "          'imposibles': 6,\n",
              "          'aprovechar': 46,\n",
              "          'adaptadores': 68,\n",
              "          'encajan': 201,\n",
              "          'realizan': 12,\n",
              "          'trabajo': 654,\n",
              "          'perfección': 807,\n",
              "          'utiles': 35,\n",
              "          'completo': 691,\n",
              "          'previsto': 601,\n",
              "          'ajusta': 991,\n",
              "          'pronto': 337,\n",
              "          'aparecen': 64,\n",
              "          'pena': 909,\n",
              "          'pongan': 8,\n",
              "          'instrucciones': 840,\n",
              "          'español': 254,\n",
              "          'recomendado': 475,\n",
              "          'varia': 7,\n",
              "          'respecto': 299,\n",
              "          'imagen': 825,\n",
              "          'botella': 181,\n",
              "          'opaca': 11,\n",
              "          'hola': 173,\n",
              "          'repetiré': 136,\n",
              "          'sonido': 1532,\n",
              "          'ostia': 5,\n",
              "          'sobradamente': 58,\n",
              "          'graves': 98,\n",
              "          'bateria': 366,\n",
              "          'primer': 536,\n",
              "          'dia': 498,\n",
              "          'conexion': 36,\n",
              "          'mobil': 30,\n",
              "          'controles': 23,\n",
              "          'comodos': 139,\n",
              "          'cuesta': 700,\n",
              "          'sacarlo': 47,\n",
              "          'llegar': 552,\n",
              "          'abajo': 257,\n",
              "          'sobra': 268,\n",
              "          'superior': 245,\n",
              "          'ratón': 227,\n",
              "          'corte': 205,\n",
              "          'salían': 11,\n",
              "          'fotografías': 62,\n",
              "          'pude': 130,\n",
              "          'objetivo': 193,\n",
              "          'misión': 69,\n",
              "          'pulseras': 63,\n",
              "          'única': 998,\n",
              "          'claro': 395,\n",
              "          'casi': 993,\n",
              "          'rosa': 148,\n",
              "          'solapa': 23,\n",
              "          'cerrar': 168,\n",
              "          'encima': 463,\n",
              "          'boton': 60,\n",
              "          'desbloqueo': 15,\n",
              "          'veces': 1319,\n",
              "          'molesta': 211,\n",
              "          'desbloquearlo': 4,\n",
              "          'acostumbras': 52,\n",
              "          'dare': 7,\n",
              "          'clase': 69,\n",
              "          'preciso': 146,\n",
              "          'windows': 90,\n",
              "          'segundo': 318,\n",
              "          'arrancarlos': 1,\n",
              "          'win': 4,\n",
              "          'teclado': 330,\n",
              "          'conectado': 158,\n",
              "          'switch': 66,\n",
              "          'arrancado': 7,\n",
              "          'ponía': 84,\n",
              "          'xp': 4,\n",
              "          'fin': 289,\n",
              "          'boca': 143,\n",
              "          'bebé': 377,\n",
              "          'útiles': 211,\n",
              "          'lavan': 29,\n",
              "          'lavavajillas': 91,\n",
              "          'usé': 124,\n",
              "          'pudo': 27,\n",
              "          'adaptarse': 37,\n",
              "          'cucharas': 10,\n",
              "          'metálicas': 25,\n",
              "          'tapiz': 5,\n",
              "          'cubrir': 70,\n",
              "          'anque': 2,\n",
              "          'molado': 2,\n",
              "          'nítida': 19,\n",
              "          'colores': 1187,\n",
              "          'llamativos': 29,\n",
              "          'anuncio': 306,\n",
              "          'cumplir': 37,\n",
              "          'estupendamente': 158,\n",
              "          'saludo': 153,\n",
              "          'frágil': 71,\n",
              "          'iphone': 364,\n",
              "          'stock': 21,\n",
              "          'esperar': 267,\n",
              "          'aire': 465,\n",
              "          'escaso': 46,\n",
              "          'armas': 9,\n",
              "          'lógica': 11,\n",
              "          'porqué': 50,\n",
              "          'fabricante': 173,\n",
              "          'absoluto': 61,\n",
              "          'parecer': 112,\n",
              "          'faltó': 5,\n",
              "          'pedestal': 2,\n",
              "          'desempeño': 6,\n",
              "          'acabo': 161,\n",
              "          'conectar': 374,\n",
              "          'tersa': 9,\n",
              "          'absorbe': 82,\n",
              "          'rápidamente': 203,\n",
              "          'mancha': 116,\n",
              "          'quedaba': 97,\n",
              "          'frenado': 9,\n",
              "          'abierto': 116,\n",
              "          'repare': 3,\n",
              "          'valia': 2,\n",
              "          'mandarla': 3,\n",
              "          'regular': 212,\n",
              "          'tirando': 50,\n",
              "          'deficientes': 3,\n",
              "          'idea': 218,\n",
              "          'monta': 94,\n",
              "          'hueco': 160,\n",
              "          'cocina': 389,\n",
              "          'chula': 202,\n",
              "          'comoda': 248,\n",
              "          'gym': 33,\n",
              "          'cubito': 7,\n",
              "          'pongo': 796,\n",
              "          'indican': 71,\n",
              "          'ningún': 1024,\n",
              "          'sitio': 456,\n",
              "          'mide': 98,\n",
              "          'grados': 79,\n",
              "          'gola': 1,\n",
              "          'sierra': 38,\n",
              "          'circular': 17,\n",
              "          'veo': 560,\n",
              "          'cambio': 311,\n",
              "          'fade': 1,\n",
              "          'opción': 510,\n",
              "          'hacerlo': 222,\n",
              "          'lento': 120,\n",
              "          'dejarlo': 88,\n",
              "          'ambiente': 133,\n",
              "          'paquete': 522,\n",
              "          'relojes': 75,\n",
              "          'camita': 7,\n",
              "          'andar': 122,\n",
              "          'abriendo': 14,\n",
              "          ...})"
            ]
          },
          "metadata": {
            "tags": []
          },
          "execution_count": 86
        }
      ]
    },
    {
      "cell_type": "code",
      "metadata": {
        "colab": {
          "base_uri": "https://localhost:8080/",
          "height": 204
        },
        "id": "YTuYMZELPYbU",
        "outputId": "129d8f09-707a-4568-f836-5234c8dea244"
      },
      "source": [
        "palabras_positivas = pd.DataFrame(list(freq_positivo.items()),columns=['Palabra','Frecuencia'])\n",
        "palabras_positivas.sort_values('Frecuencia',ascending=False, inplace = True)\n",
        "palabras_positivas.reset_index(drop = True, inplace=True)\n",
        "palabras_positivas.head()"
      ],
      "execution_count": null,
      "outputs": [
        {
          "output_type": "execute_result",
          "data": {
            "text/html": [
              "<div>\n",
              "<style scoped>\n",
              "    .dataframe tbody tr th:only-of-type {\n",
              "        vertical-align: middle;\n",
              "    }\n",
              "\n",
              "    .dataframe tbody tr th {\n",
              "        vertical-align: top;\n",
              "    }\n",
              "\n",
              "    .dataframe thead th {\n",
              "        text-align: right;\n",
              "    }\n",
              "</style>\n",
              "<table border=\"1\" class=\"dataframe\">\n",
              "  <thead>\n",
              "    <tr style=\"text-align: right;\">\n",
              "      <th></th>\n",
              "      <th>Palabra</th>\n",
              "      <th>Frecuencia</th>\n",
              "    </tr>\n",
              "  </thead>\n",
              "  <tbody>\n",
              "    <tr>\n",
              "      <th>0</th>\n",
              "      <td>bien</td>\n",
              "      <td>23539</td>\n",
              "    </tr>\n",
              "    <tr>\n",
              "      <th>1</th>\n",
              "      <td>calidad</td>\n",
              "      <td>15739</td>\n",
              "    </tr>\n",
              "    <tr>\n",
              "      <th>2</th>\n",
              "      <td>buena</td>\n",
              "      <td>13130</td>\n",
              "    </tr>\n",
              "    <tr>\n",
              "      <th>3</th>\n",
              "      <td>precio</td>\n",
              "      <td>12876</td>\n",
              "    </tr>\n",
              "    <tr>\n",
              "      <th>4</th>\n",
              "      <td>producto</td>\n",
              "      <td>8791</td>\n",
              "    </tr>\n",
              "  </tbody>\n",
              "</table>\n",
              "</div>"
            ],
            "text/plain": [
              "    Palabra  Frecuencia\n",
              "0      bien       23539\n",
              "1   calidad       15739\n",
              "2     buena       13130\n",
              "3    precio       12876\n",
              "4  producto        8791"
            ]
          },
          "metadata": {
            "tags": []
          },
          "execution_count": 87
        }
      ]
    },
    {
      "cell_type": "code",
      "metadata": {
        "colab": {
          "base_uri": "https://localhost:8080/",
          "height": 523
        },
        "id": "PTfYH0oPQN0n",
        "outputId": "ab938177-63a4-411e-bcde-a0a414b0429e"
      },
      "source": [
        "plt.figure(figsize = (10,8))\n",
        "plot = sns.barplot(y  = palabras_positivas.iloc[:15].Palabra, \n",
        "                   x = palabras_positivas.iloc[:15].Frecuencia ,\n",
        "                   color = 'limegreen', edgecolor ='black' )\n",
        "for item in plot.get_yticklabels():\n",
        "    item.set_rotation(0)\n",
        "plt.title('Frecuencia de palabras en comentarios positivos',fontsize = 20)\n",
        "plt.show()"
      ],
      "execution_count": null,
      "outputs": [
        {
          "output_type": "display_data",
          "data": {
            "image/png": "[encoded data removed]",
            "text/plain": [
              "<Figure size 720x576 with 1 Axes>"
            ]
          },
          "metadata": {
            "tags": []
          }
        }
      ]
    },
    {
      "cell_type": "markdown",
      "metadata": {
        "id": "rcyNsmcEMVWg"
      },
      "source": [
        "### 2- Dataset con los comentarios neutros( 3 estrellas)"
      ]
    },
    {
      "cell_type": "code",
      "metadata": {
        "colab": {
          "base_uri": "https://localhost:8080/"
        },
        "id": "Ut8vShNeLgHN",
        "outputId": "77303807-8132-44b1-f35f-ee416890d124"
      },
      "source": [
        "neutro = data[data.stars ==3]\n",
        "neutro.shape  "
      ],
      "execution_count": null,
      "outputs": [
        {
          "output_type": "execute_result",
          "data": {
            "text/plain": [
              "(40000, 8)"
            ]
          },
          "metadata": {
            "tags": []
          },
          "execution_count": 89
        }
      ]
    },
    {
      "cell_type": "code",
      "metadata": {
        "id": "RaJ_K_-HQ7RX"
      },
      "source": [
        "resenas = []\n",
        "for i in range(neutro.shape[0]):\n",
        "  comentario = neutro.iloc[i].review_body\n",
        "  comentario = clean_text_round1(comentario)\n",
        "  comentario = nltk.tokenize.RegexpTokenizer(\"[\\w]+\").tokenize(comentario)\n",
        "  comentario = [word for word in comentario if word not in stopwords]\n",
        "  comentario = [word for word in comentario if word not in filtrar]\n",
        "  resenas.append(comentario)"
      ],
      "execution_count": null,
      "outputs": []
    },
    {
      "cell_type": "code",
      "metadata": {
        "colab": {
          "base_uri": "https://localhost:8080/"
        },
        "id": "H0lACAnuQ7Ot",
        "outputId": "33a4493a-c7ab-49e2-ed43-42e08ddb8b94"
      },
      "source": [
        "resenas = list(itertools.chain(*resenas))\n",
        "resenas[0:10]"
      ],
      "execution_count": null,
      "outputs": [
        {
          "output_type": "execute_result",
          "data": {
            "text/plain": [
              "['cabe',\n",
              " 'bien',\n",
              " 'móvil',\n",
              " 'cumple',\n",
              " 'función',\n",
              " 'hecha',\n",
              " 'menos',\n",
              " 'pequeño',\n",
              " 'espacio',\n",
              " 'guardar']"
            ]
          },
          "metadata": {
            "tags": []
          },
          "execution_count": 91
        }
      ]
    },
    {
      "cell_type": "code",
      "metadata": {
        "colab": {
          "base_uri": "https://localhost:8080/"
        },
        "id": "WlzILER2Q7LX",
        "outputId": "1950968e-5b8e-4c93-ae59-950645c29940"
      },
      "source": [
        "freq_neutro = nltk.FreqDist(resenas)\n",
        "freq_neutro"
      ],
      "execution_count": null,
      "outputs": [
        {
          "output_type": "execute_result",
          "data": {
            "text/plain": [
              "FreqDist({'cabe': 176,\n",
              "          'bien': 13948,\n",
              "          'móvil': 758,\n",
              "          'cumple': 1864,\n",
              "          'función': 1527,\n",
              "          'hecha': 73,\n",
              "          'menos': 1741,\n",
              "          'pequeño': 1538,\n",
              "          'espacio': 277,\n",
              "          'guardar': 162,\n",
              "          'tarjeta': 107,\n",
              "          'efectivo': 68,\n",
              "          'seria': 133,\n",
              "          'útil': 396,\n",
              "          'aparato': 278,\n",
              "          'tamaño': 1223,\n",
              "          'perfecto': 1023,\n",
              "          'embocadura': 1,\n",
              "          'suficientemente': 76,\n",
              "          'grande': 1633,\n",
              "          'poner': 1016,\n",
              "          'verduras': 18,\n",
              "          'comodidad': 108,\n",
              "          'compré': 994,\n",
              "          'electrodoméstico': 2,\n",
              "          'hacer': 976,\n",
              "          'tortillas': 3,\n",
              "          'patatas': 20,\n",
              "          'resultó': 34,\n",
              "          'ideal': 209,\n",
              "          'cebollas': 3,\n",
              "          'quedan': 533,\n",
              "          'trituradas': 1,\n",
              "          'mas': 2588,\n",
              "          'salé': 1,\n",
              "          'busco': 10,\n",
              "          'salen': 208,\n",
              "          'curvas': 14,\n",
              "          'luces': 165,\n",
              "          'llegaron': 230,\n",
              "          'tiempo': 1665,\n",
              "          'ocho': 17,\n",
              "          'funcionaron': 15,\n",
              "          'correctamente': 431,\n",
              "          'único': 744,\n",
              "          'doy': 517,\n",
              "          'estrellas': 952,\n",
              "          'intensidad': 97,\n",
              "          'reduciendo': 4,\n",
              "          'paulatinamente': 2,\n",
              "          'desconozco': 26,\n",
              "          'debido': 181,\n",
              "          'consumen': 8,\n",
              "          'mucha': 687,\n",
              "          'pila': 119,\n",
              "          'vinieron': 72,\n",
              "          'pilas': 300,\n",
              "          'usadas': 9,\n",
              "          'pesar': 326,\n",
              "          'llevan': 90,\n",
              "          'plastiquito': 6,\n",
              "          'quitan': 29,\n",
              "          'quieres': 335,\n",
              "          'encender': 59,\n",
              "          'primera': 436,\n",
              "          'vez': 1406,\n",
              "          'sé': 565,\n",
              "          'puede': 1993,\n",
              "          'apagar': 52,\n",
              "          'rato': 261,\n",
              "          'consumiendo': 3,\n",
              "          'necesario': 137,\n",
              "          'quitarla': 31,\n",
              "          'vino': 458,\n",
              "          'goma': 316,\n",
              "          'ajustable': 27,\n",
              "          'tapa': 494,\n",
              "          'pongo': 436,\n",
              "          'líquido': 107,\n",
              "          'derrama': 13,\n",
              "          'tarda': 191,\n",
              "          'calentar': 61,\n",
              "          'falta': 746,\n",
              "          'producto': 3973,\n",
              "          'según': 268,\n",
              "          'etiqueta': 44,\n",
              "          'viene': 1300,\n",
              "          'unidos': 3,\n",
              "          'original': 739,\n",
              "          'malo': 640,\n",
              "          'llego': 689,\n",
              "          'diez': 34,\n",
              "          'días': 796,\n",
              "          'retraso': 125,\n",
              "          'plazo': 196,\n",
              "          'entrega': 497,\n",
              "          'juguete': 217,\n",
              "          'fin': 191,\n",
              "          'cabo': 150,\n",
              "          'edición': 41,\n",
              "          'bastante': 3299,\n",
              "          'cutre': 77,\n",
              "          'borde': 130,\n",
              "          'superior': 202,\n",
              "          'azul': 174,\n",
              "          'cajita': 56,\n",
              "          'cartón': 159,\n",
              "          'hace': 2147,\n",
              "          'horrible': 49,\n",
              "          'caja': 1136,\n",
              "          'mala': 584,\n",
              "          'general': 606,\n",
              "          'simplón': 6,\n",
              "          'existe': 26,\n",
              "          'versión': 88,\n",
              "          'metálica': 39,\n",
              "          'steelbook': 6,\n",
              "          'mejor': 1905,\n",
              "          'precio': 5378,\n",
              "          'similar': 112,\n",
              "          'aún': 781,\n",
              "          'así': 1479,\n",
              "          'películas': 25,\n",
              "          'siguen': 58,\n",
              "          'siendo': 191,\n",
              "          'buenísimas': 3,\n",
              "          'mal': 2242,\n",
              "          'llegan': 71,\n",
              "          'nivel': 132,\n",
              "          'calidad': 5969,\n",
              "          'capsulas': 18,\n",
              "          'originales': 210,\n",
              "          'obstante': 145,\n",
              "          'estan': 309,\n",
              "          'vienen': 584,\n",
              "          'instrucciones': 551,\n",
              "          'cómo': 268,\n",
              "          'montarlo': 114,\n",
              "          'llave': 114,\n",
              "          'montaje': 268,\n",
              "          'aporta': 36,\n",
              "          'ayuda': 121,\n",
              "          'pequeña': 945,\n",
              "          'sirve': 606,\n",
              "          'manejable': 64,\n",
              "          'funciona': 2002,\n",
              "          'fallos': 94,\n",
              "          'impresión': 135,\n",
              "          'test': 15,\n",
              "          'razonamiento': 1,\n",
              "          'relojes': 38,\n",
              "          'algún': 371,\n",
              "          'error': 178,\n",
              "          'explicaciones': 20,\n",
              "          'libro': 713,\n",
              "          'caro': 633,\n",
              "          'deberían': 263,\n",
              "          'cuidar': 24,\n",
              "          'detalles': 118,\n",
              "          'mochila': 253,\n",
              "          'funcion': 228,\n",
              "          'pesa': 328,\n",
              "          'adecuada': 80,\n",
              "          'corta': 289,\n",
              "          'tritura': 3,\n",
              "          'probado': 485,\n",
              "          'hielo': 20,\n",
              "          'frutas': 14,\n",
              "          'fácil': 998,\n",
              "          'limpiar': 223,\n",
              "          'paciencia': 59,\n",
              "          'parte': 1369,\n",
              "          'abajo': 249,\n",
              "          'cuesta': 695,\n",
              "          'mojandola': 2,\n",
              "          'agua': 726,\n",
              "          'caliente': 115,\n",
              "          'sale': 496,\n",
              "          'termina': 130,\n",
              "          'convencer': 52,\n",
              "          'costó': 78,\n",
              "          'seguiré': 41,\n",
              "          'usandola': 4,\n",
              "          'probando': 53,\n",
              "          'modelo': 397,\n",
              "          'luz': 895,\n",
              "          'tenue': 23,\n",
              "          'demasiado': 1927,\n",
              "          'fuerte': 393,\n",
              "          'opinión': 280,\n",
              "          'seguí': 7,\n",
              "          'inmediato': 12,\n",
              "          'puse': 139,\n",
              "          'cargarlo': 43,\n",
              "          'horas': 333,\n",
              "          'final': 558,\n",
              "          'encendió': 3,\n",
              "          'devuelto': 285,\n",
              "          'volveré': 109,\n",
              "          'pedir': 694,\n",
              "          'espero': 422,\n",
              "          'hagan': 28,\n",
              "          'comprobación': 4,\n",
              "          'previa': 11,\n",
              "          'enviarlo': 16,\n",
              "          'tosca': 12,\n",
              "          'adapta': 273,\n",
              "          'realizar': 99,\n",
              "          'carga': 529,\n",
              "          'q': 1512,\n",
              "          'quitarlo': 49,\n",
              "          'funda': 1244,\n",
              "          'gusto': 586,\n",
              "          'genral': 1,\n",
              "          'devolvi': 32,\n",
              "          'incomodo': 101,\n",
              "          'cumplia': 4,\n",
              "          'espectativas': 86,\n",
              "          'primeros': 83,\n",
              "          'da': 1129,\n",
              "          'sensación': 276,\n",
              "          'produce': 29,\n",
              "          'grasa': 60,\n",
              "          'ajusta': 435,\n",
              "          'cargando': 47,\n",
              "          'escuchas': 14,\n",
              "          'pierde': 327,\n",
              "          'sonido': 759,\n",
              "          'además': 736,\n",
              "          'conectas': 21,\n",
              "          'luego': 420,\n",
              "          'pones': 174,\n",
              "          'auricular': 71,\n",
              "          'escucha': 150,\n",
              "          'primero': 161,\n",
              "          'adaptador': 159,\n",
              "          'ponerlo': 217,\n",
              "          'teléfono': 460,\n",
              "          'buena': 3223,\n",
              "          'protección': 217,\n",
              "          'sol': 185,\n",
              "          'lluvia': 81,\n",
              "          'esperaba': 1946,\n",
              "          'dificil': 102,\n",
              "          'instalar': 194,\n",
              "          'sitio': 243,\n",
              "          'cables': 180,\n",
              "          'claras': 55,\n",
              "          'impresion': 15,\n",
              "          'van': 412,\n",
              "          'genial': 555,\n",
              "          'creo': 1059,\n",
              "          'valen': 130,\n",
              "          'terminaran': 3,\n",
              "          'despegando': 35,\n",
              "          'poder': 590,\n",
              "          'valoración': 88,\n",
              "          'objetiva': 3,\n",
              "          'pocos': 231,\n",
              "          'parecer': 74,\n",
              "          'pelo': 399,\n",
              "          've': 1024,\n",
              "          'brillo': 130,\n",
              "          'instalación': 133,\n",
              "          'aspecto': 236,\n",
              "          'velocidad': 140,\n",
              "          'baja': 379,\n",
              "          'menor': 88,\n",
              "          'anunciando': 1,\n",
              "          'esperar': 240,\n",
              "          'gran': 504,\n",
              "          'materiales': 380,\n",
              "          'aunque': 2882,\n",
              "          'salvo': 101,\n",
              "          'motor': 70,\n",
              "          'resto': 401,\n",
              "          'plástico': 1196,\n",
              "          'duración': 161,\n",
              "          'baterías': 86,\n",
              "          'compensa': 42,\n",
              "          'diferencia': 192,\n",
              "          'poca': 550,\n",
              "          'potencia': 452,\n",
              "          'superficie': 115,\n",
              "          'puerta': 166,\n",
              "          'pega': 839,\n",
              "          'principio': 392,\n",
              "          'tendencia': 12,\n",
              "          'despegarse': 30,\n",
              "          'revisarlo': 5,\n",
              "          'continuamente': 62,\n",
              "          'buen': 1766,\n",
              "          'descripción': 475,\n",
              "          'aparece': 192,\n",
              "          'volvería': 279,\n",
              "          'comprar': 945,\n",
              "          'estudio': 19,\n",
              "          'profesional': 98,\n",
              "          'solo': 1840,\n",
              "          'patín': 9,\n",
              "          'reclame': 13,\n",
              "          'arreglaron': 2,\n",
              "          'enseguida': 297,\n",
              "          'regalo': 625,\n",
              "          'reyes': 55,\n",
              "          'día': 909,\n",
              "          'problemas': 554,\n",
              "          'apaga': 83,\n",
              "          'sola': 111,\n",
              "          'enciende': 96,\n",
              "          'ponerle': 112,\n",
              "          'cargador': 250,\n",
              "          'encienda': 14,\n",
              "          'imagen': 486,\n",
              "          'magníficas': 1,\n",
              "          'montón': 81,\n",
              "          'contenido': 128,\n",
              "          'adicional': 30,\n",
              "          'presentación': 104,\n",
              "          'llega': 394,\n",
              "          'reproductores': 5,\n",
              "          'lee': 48,\n",
              "          'película': 44,\n",
              "          'dos': 1884,\n",
              "          'copias': 13,\n",
              "          'dando': 64,\n",
              "          'mismo': 757,\n",
              "          'ambas': 45,\n",
              "          'ocasiones': 137,\n",
              "          'ocurre': 51,\n",
              "          'blu': 10,\n",
              "          'ray': 12,\n",
              "          'ninguno': 71,\n",
              "          'colección': 27,\n",
              "          'pago': 21,\n",
              "          'verla': 10,\n",
              "          'endeble': 365,\n",
              "          'software': 44,\n",
              "          'mejorar': 193,\n",
              "          'durado': 180,\n",
              "          'legado': 3,\n",
              "          'utilizarlo': 97,\n",
              "          'variaba': 2,\n",
              "          'mediciones': 14,\n",
              "          'botas': 37,\n",
              "          'encantan': 33,\n",
              "          'calentitas': 17,\n",
              "          'comodas': 38,\n",
              "          'numero': 34,\n",
              "          'llueve': 18,\n",
              "          'problema': 1385,\n",
              "          'meto': 20,\n",
              "          'pie': 186,\n",
              "          'charco': 3,\n",
              "          'meten': 24,\n",
              "          'primeras': 53,\n",
              "          'pedi': 97,\n",
              "          'metian': 1,\n",
              "          'cambie': 35,\n",
              "          'pensando': 107,\n",
              "          'defecto': 186,\n",
              "          'fabricacion': 4,\n",
              "          'nuevas': 48,\n",
              "          'pasa': 281,\n",
              "          'quedado': 193,\n",
              "          'igual': 720,\n",
              "          'baratas': 70,\n",
              "          'tendre': 22,\n",
              "          'ponerme': 26,\n",
              "          'cristal': 547,\n",
              "          'vale': 605,\n",
              "          'laterales': 179,\n",
              "          'centro': 83,\n",
              "          'queda': 1991,\n",
              "          'suelto': 71,\n",
              "          'mueve': 194,\n",
              "          'protector': 474,\n",
              "          'sony': 33,\n",
              "          'xperia': 4,\n",
              "          'compact': 3,\n",
              "          'completas': 9,\n",
              "          'incluso': 307,\n",
              "          'video': 52,\n",
              "          'web': 65,\n",
              "          'és': 42,\n",
              "          'pantalla': 1271,\n",
              "          'curva': 51,\n",
              "          'bordes': 312,\n",
              "          'perímetro': 9,\n",
              "          'silla': 155,\n",
              "          'necesitas': 107,\n",
              "          'sentado': 25,\n",
              "          'comoda': 67,\n",
              "          'tal': 714,\n",
              "          'foto': 1233,\n",
              "          'patas': 158,\n",
              "          'fuertes': 78,\n",
              "          'balsamo': 4,\n",
              "          'labial': 3,\n",
              "          'color': 1232,\n",
              "          'deja': 742,\n",
              "          'jugoso': 1,\n",
              "          'labios': 18,\n",
              "          'hidrata': 19,\n",
              "          'pinta': 197,\n",
              "          'supuesto': 42,\n",
              "          'ser': 1771,\n",
              "          'fijo': 37,\n",
              "          'aun': 414,\n",
              "          'asi': 321,\n",
              "          'gusta': 1246,\n",
              "          'bonita': 676,\n",
              "          'mejorable': 114,\n",
              "          'compartimentos': 53,\n",
              "          'interiores': 46,\n",
              "          'agradecerían': 2,\n",
              "          'bolsillos': 95,\n",
              "          'mayor': 292,\n",
              "          'olor': 325,\n",
              "          'después': 752,\n",
              "          'mes': 408,\n",
              "          'conseguido': 120,\n",
              "          'sacarle': 18,\n",
              "          'huele': 196,\n",
              "          'realmente': 308,\n",
              "          'llevo': 341,\n",
              "          'dentro': 622,\n",
              "          'unas': 527,\n",
              "          'bolas': 72,\n",
              "          'disimularlo': 2,\n",
              "          'campana': 16,\n",
              "          'tirante': 7,\n",
              "          'sujetarla': 22,\n",
              "          'abierta': 117,\n",
              "          'dibujos': 101,\n",
              "          'bonitos': 309,\n",
              "          'mullida': 7,\n",
              "          'rompe': 212,\n",
              "          'fácilmente': 266,\n",
              "          'engancha': 103,\n",
              "          'pueded': 1,\n",
              "          'comprado': 506,\n",
              "          'abuelos': 5,\n",
              "          'quitar': 296,\n",
              "          'cadena': 98,\n",
              "          'ven': 259,\n",
              "          'candado': 35,\n",
              "          'integrado': 9,\n",
              "          'brusco': 7,\n",
              "          'funcionamiento': 223,\n",
              "          'metido': 47,\n",
              "          'tres': 640,\n",
              "          'va': 1620,\n",
              "          'fecha': 252,\n",
              "          'embalado': 105,\n",
              "          'usas': 110,\n",
              "          'justo': 368,\n",
              "          'llamar': 33,\n",
              "          'usar': 716,\n",
              "          'redes': 9,\n",
              "          'sociales': 6,\n",
              "          'conocimiento': 8,\n",
              "          'tener': 1084,\n",
              "          'capacidad': 206,\n",
              "          'memoria': 69,\n",
              "          'batería': 708,\n",
              "          'única': 320,\n",
              "          'lento': 151,\n",
              "          'ram': 20,\n",
              "          'demás': 1315,\n",
              "          'montar': 342,\n",
              "          'proyector': 45,\n",
              "          'entero': 72,\n",
              "          'pobres': 19,\n",
              "          'avisa': 23,\n",
              "          'ninguna': 273,\n",
              "          'retirar': 20,\n",
              "          'láminas': 23,\n",
              "          'enteré': 1,\n",
              "          'malas': 68,\n",
              "          'prácticamente': 89,\n",
              "          'montado': 84,\n",
              "          'empezó': 75,\n",
              "          'resultado': 306,\n",
              "          'precioso': 78,\n",
              "          'atención': 149,\n",
              "          'postventa': 15,\n",
              "          'exelente': 2,\n",
              "          'gracias': 427,\n",
              "          'vendedor': 499,\n",
              "          'entretenido': 145,\n",
              "          'aprovecha': 6,\n",
              "          'tiron': 3,\n",
              "          'minions': 5,\n",
              "          'moda': 8,\n",
              "          'juego': 361,\n",
              "          'monos': 11,\n",
              "          'locos': 5,\n",
              "          'unica': 68,\n",
              "          'niño': 385,\n",
              "          'recibio': 3,\n",
              "          'chafo': 1,\n",
              "          'ir': 339,\n",
              "          'jugando': 31,\n",
              "          'gustando': 9,\n",
              "          'alardes': 3,\n",
              "          'importa': 54,\n",
              "          'minion': 1,\n",
              "          'coged': 2,\n",
              "          'ahorrareis': 1,\n",
              "          'plastico': 279,\n",
              "          'parece': 2223,\n",
              "          'enclenque': 10,\n",
              "          'gigante': 14,\n",
              "          'clase': 33,\n",
              "          'té': 19,\n",
              "          'esperan': 4,\n",
              "          'tome': 9,\n",
              "          'cereales': 11,\n",
              "          'leche': 59,\n",
              "          'lado': 452,\n",
              "          'seguro': 180,\n",
              "          'resistente': 424,\n",
              "          'cascada': 2,\n",
              "          'mandé': 4,\n",
              "          'cambiar': 311,\n",
              "          'carísimo': 10,\n",
              "          'taza': 55,\n",
              "          'dibujo': 161,\n",
              "          'pagas': 61,\n",
              "          'idea': 202,\n",
              "          'diseño': 657,\n",
              "          'bazar': 12,\n",
              "          'chino': 106,\n",
              "          'costaría': 7,\n",
              "          'veces': 1053,\n",
              "          'sólo': 507,\n",
              "          'desgraciadamente': 17,\n",
              "          'tenia': 203,\n",
              "          'potente': 148,\n",
              "          'puedo': 740,\n",
              "          'descansar': 9,\n",
              "          'picores': 5,\n",
              "          'mosquitos': 36,\n",
              "          'perdone': 1,\n",
              "          'bomba': 50,\n",
              "          'aire': 306,\n",
              "          'llenado': 10,\n",
              "          'puestas': 44,\n",
              "          'medidor': 18,\n",
              "          'presión': 165,\n",
              "          'digital': 29,\n",
              "          'esperando': 84,\n",
              "          'respuesta': 79,\n",
              "          'dicho': 168,\n",
              "          'muchas': 434,\n",
              "          'porfavor': 3,\n",
              "          'realiza': 47,\n",
              "          'amazon': 695,\n",
              "          'firetv': 2,\n",
              "          'aparecen': 57,\n",
              "          'todas': 527,\n",
              "          'localidades': 1,\n",
              "          'sufucientemente': 1,\n",
              "          'satisfecho': 89,\n",
              "          'asa': 83,\n",
              "          'quiero': 184,\n",
              "          'decir': 692,\n",
              "          'embudo': 3,\n",
              "          'rosca': 98,\n",
              "          'fina': 325,\n",
              "          'acopla': 62,\n",
              "          'piñones': 1,\n",
              "          'kindle': 36,\n",
              "          'paperwhite': 2,\n",
              "          'devolverla': 67,\n",
              "          'devolución': 288,\n",
              "          'habitual': 83,\n",
              "          'comprando': 40,\n",
              "          'cable': 695,\n",
              "          'responde': 52,\n",
              "          'perfectamente': 829,\n",
              "          'metraje': 1,\n",
              "          'metros': 91,\n",
              "          'deberian': 49,\n",
              "          'cosas': 511,\n",
              "          'debo': 65,\n",
              "          'contar': 24,\n",
              "          'cuidado': 422,\n",
              "          'grandes': 593,\n",
              "          'pesan': 56,\n",
              "          'pesado': 112,\n",
              "          'cada': 674,\n",
              "          'bota': 12,\n",
              "          'casí': 1,\n",
              "          'kilo': 6,\n",
              "          'voluminosas': 4,\n",
              "          'ojo': 122,\n",
              "          'suelo': 261,\n",
              "          'mojado': 35,\n",
              "          'resvalan': 3,\n",
              "          'hoy': 180,\n",
              "          'iva': 13,\n",
              "          'trabajar': 101,\n",
              "          'patinado': 1,\n",
              "          'varias': 320,\n",
              "          'tambien': 126,\n",
              "          'hacen': 322,\n",
              "          'ruido': 481,\n",
              "          'suela': 51,\n",
              "          'tipico': 10,\n",
              "          'vas': 166,\n",
              "          'resumen': 67,\n",
              "          'duraderas': 13,\n",
              "          'pensar': 61,\n",
              "          'tablet': 195,\n",
              "          'niños': 452,\n",
              "          'lenta': 83,\n",
              "          'normal': 663,\n",
              "          'aconsejo': 68,\n",
              "          'activar': 16,\n",
              "          'funcionalidades': 11,\n",
              "          'anuncios': 6,\n",
              "          'hice': 110,\n",
              "          'salian': 3,\n",
              "          'vídeos': 45,\n",
              "          'adultos': 34,\n",
              "          'entiendo': 180,\n",
              "          'podía': 120,\n",
              "          'salir': 171,\n",
              "          'usé': 47,\n",
              "          'cuenta': 499,\n",
              "          'google': 35,\n",
              "          'nueva': 117,\n",
              "          'información': 110,\n",
              "          'edad': 53,\n",
              "          'preferencias': 1,\n",
              "          'sistema': 283,\n",
              "          'gestión': 30,\n",
              "          'control': 71,\n",
              "          'parental': 3,\n",
              "          'permite': 146,\n",
              "          'ajustar': 134,\n",
              "          'uso': 1900,\n",
              "          'importante': 209,\n",
              "          'hdmi': 48,\n",
              "          'separar': 30,\n",
              "          'dvi': 3,\n",
              "          'independencia': 3,\n",
              "          'fuente': 37,\n",
              "          'quería': 338,\n",
              "          'fibra': 22,\n",
              "          'óptica': 7,\n",
              "          'chulo': 141,\n",
              "          'súper': 133,\n",
              "          'persona': 195,\n",
              "          'burbujas': 108,\n",
              "          'tardado': 106,\n",
              "          'hora': 508,\n",
              "          'cuadrarlo': 2,\n",
              "          'cortarlo': 10,\n",
              "          'dejarlo': 55,\n",
              "          'decente': 72,\n",
              "          'excesivo': 99,\n",
              "          'estropeado': 68,\n",
              "          'meses': 757,\n",
              "          'comprarla': 56,\n",
              "          'trabajo': 228,\n",
              "          'dia': 229,\n",
              "          'sobrevivido': 2,\n",
              "          'tute': 4,\n",
              "          'bonito': 1222,\n",
              "          'peso': 441,\n",
              "          'llevarlo': 97,\n",
              "          'artículo': 268,\n",
              "          'gracioso': 40,\n",
              "          'pena': 658,\n",
              "          'colores': 569,\n",
              "          'píldora': 1,\n",
              "          'repetidos': 8,\n",
              "          'traen': 75,\n",
              "          'tinta': 115,\n",
              "          'tardó': 92,\n",
              "          'llegar': 415,\n",
              "          'esperado': 309,\n",
              "          'olía': 12,\n",
              "          'aceite': 117,\n",
              "          'usado': 404,\n",
              "          'blandita': 15,\n",
              "          'cierre': 291,\n",
              "          'miedo': 59,\n",
              "          'abra': 13,\n",
              "          'mango': 116,\n",
              "          'baila': 39,\n",
              "          'paraguas': 40,\n",
              "          'aguanta': 243,\n",
              "          'viento': 78,\n",
              "          'despega': 129,\n",
              "          'facilidad': 527,\n",
              "          'altamente': 1,\n",
              "          'hidratante': 23,\n",
              "          'varios': 390,\n",
              "          'botes': 59,\n",
              "          'manteca': 2,\n",
              "          'rancio': 5,\n",
              "          'desagradable': 44,\n",
              "          'cambio': 215,\n",
              "          'completamente': 170,\n",
              "          'inodoros': 3,\n",
              "          'gustaría': 117,\n",
              "          'saber': 223,\n",
              "          'solucionarlo': 34,\n",
              "          'reptiles': 1,\n",
              "          'guste': 33,\n",
              "          'marcas': 231,\n",
              "          'aprovechan': 4,\n",
              "          'tablas': 19,\n",
              "          'correctas': 51,\n",
              "          'vitro': 15,\n",
              "          'bosch': 22,\n",
              "          'pita': 14,\n",
              "          'bloquear': 11,\n",
              "          'dejarlas': 6,\n",
              "          'bote': 138,\n",
              "          'pegamento': 143,\n",
              "          'seco': 59,\n",
              "          'forma': 583,\n",
              "          'debería': 433,\n",
              "          'llevar': 464,\n",
              "          'almacén': 17,\n",
              "          'quedó': 87,\n",
              "          'inservible': 30,\n",
              "          'compramos': 80,\n",
              "          'verdad': 1113,\n",
              "          'diferente': 135,\n",
              "          'siempre': 617,\n",
              "          'tiendas': 52,\n",
              "          'aromas': 11,\n",
              "          'corte': 127,\n",
              "          'ingles': 57,\n",
              "          'bueno': 1705,\n",
              "          'nota': 467,\n",
              "          'fría': 27,\n",
              "          'conserva': 6,\n",
              "          'bastantes': 94,\n",
              "          'resulta': 376,\n",
              "          'entran': 80,\n",
              "          'dicen': 159,\n",
              "          'diseñada': 9,\n",
              "          'metes': 30,\n",
              "          'entra': 195,\n",
              "          'tapón': 70,\n",
              "          'hacía': 62,\n",
              "          'veía': 45,\n",
              "          'cosa': 539,\n",
              "          'agujeros': 157,\n",
              "          'reloj': 448,\n",
              "          'inicia': 6,\n",
              "          'busca': 32,\n",
              "          'encuentra': 30,\n",
              "          'años': 584,\n",
              "          'ilustraciones': 27,\n",
              "          'bonitas': 239,\n",
              "          'decepcionado': 195,\n",
              "          'tacto': 390,\n",
              "          'teclas': 69,\n",
              "          'impreciso': 4,\n",
              "          'pensé': 224,\n",
              "          'teclado': 186,\n",
              "          'ocupa': 148,\n",
              "          'letras': 92,\n",
              "          'numeros': 20,\n",
              "          'pegados': 28,\n",
              "          'encima': 291,\n",
              "          'encuentras': 25,\n",
              "          'rompió': 329,\n",
              "          'ensucia': 59,\n",
              "          'correcto': 826,\n",
              "          'hagais': 4,\n",
              "          'caso': 750,\n",
              "          'ilustra': 1,\n",
              "          'puesto': 521,\n",
              "          'ver': 909,\n",
              "          'estrechos': 31,\n",
              "          'compre': 562,\n",
              "          'talla': 698,\n",
              "          'mia': 34,\n",
              "          'ahora': 680,\n",
              "          'enormes': 22,\n",
              "          'señor': 5,\n",
              "          'lleva': 486,\n",
              "          'tallas': 116,\n",
              "          'confunde': 11,\n",
              "          'tablets': 12,\n",
              "          'apreciar': 23,\n",
              "          'simple': 221,\n",
              "          'vista': 180,\n",
              "          'desperfectos': 25,\n",
              "          'lentes': 38,\n",
              "          'pantallas': 24,\n",
              "          'rayadas': 7,\n",
              "          'relación': 609,\n",
              "          'utilizado': 157,\n",
              "          'monte': 14,\n",
              "          'carretera': 17,\n",
              "          'llevara': 13,\n",
              "          'gomas': 79,\n",
              "          'sujeción': 137,\n",
              "          'funcionó': 64,\n",
              "          'chillones': 4,\n",
              "          'infantil': 46,\n",
              "          'sonidos': 35,\n",
              "          'agudos': 17,\n",
              "          'siete': 8,\n",
              "          'merece': 173,\n",
              "          'smartwatch': 14,\n",
              "          'adulto': 54,\n",
              "          'comprarlo': 223,\n",
              "          'demasiados': 36,\n",
              "          'juegos': 124,\n",
              "          'entretenimiento': 9,\n",
              "          'educativo': 7,\n",
              "          'peque': 63,\n",
              "          'pinturas': 32,\n",
              "          'maquillaje': 35,\n",
              "          'normalito': 64,\n",
              "          'empaquetado': 105,\n",
              "          'presentado': 49,\n",
              "          'compraría': 61,\n",
              "          'propio': 82,\n",
              "          'buenas': 341,\n",
              "          'noches': 41,\n",
              "          'gratuito': 9,\n",
              "          'llegado': 769,\n",
              "          'solicite': 11,\n",
              "          'podia': 23,\n",
              "          'haber': 291,\n",
              "          'tienda': 143,\n",
              "          'haberlo': 59,\n",
              "          'leido': 19,\n",
              "          'sigo': 76,\n",
              "          'llegue': 85,\n",
              "          'paquete': 478,\n",
              "          'saludos': 75,\n",
              "          'videos': 39,\n",
              "          'pelis': 5,\n",
              "          'piede': 2,\n",
              "          'wifi': 121,\n",
              "          'aguantas': 1,\n",
              "          'mano': 347,\n",
              "          'alguna': 425,\n",
              "          'enganchada': 9,\n",
              "          'volver': 185,\n",
              "          'atras': 22,\n",
              "          'cumplen': 230,\n",
              "          'eléctrico': 36,\n",
              "          'extraño': 26,\n",
              "          'transparente': 136,\n",
              "          'pequeños': 571,\n",
              "          'veo': 560,\n",
              "          'trae': 583,\n",
              "          'monomero': 1,\n",
              "          'creí': 38,\n",
              "          'completo': 221,\n",
              "          'vestidos': 8,\n",
              "          'agujero': 150,\n",
              "          'cabeza': 216,\n",
              "          'muñeca': 175,\n",
              "          'bolsos': 18,\n",
              "          'cutres': 12,\n",
              "          'zapatos': 49,\n",
              "          'material': 893,\n",
              "          'desear': 281,\n",
              "          'abierto': 203,\n",
              "          'meterlo': 30,\n",
              "          'nuevo': 347,\n",
              "          'vapeador': 6,\n",
              "          'pone': 486,\n",
              "          'incluye': 92,\n",
              "          'pack': 104,\n",
              "          'líquidos': 21,\n",
              "          'gustado': 1060,\n",
              "          'enganches': 55,\n",
              "          'colgar': 77,\n",
              "          'pared': 176,\n",
              "          'fundas': 106,\n",
              "          'normales': 103,\n",
              "          'realizada': 7,\n",
              "          'prometido': 17,\n",
              "          'bateria': 202,\n",
              "          'dura': 782,\n",
              "          'utilizamos': 16,\n",
              "          'inglés': 134,\n",
              "          'compararlo': 8,\n",
              "          'dado': 312,\n",
              "          'partir': 96,\n",
              "          'tercer': 34,\n",
              "          'alarma': 55,\n",
              "          'activa': 32,\n",
              "          'dejado': 161,\n",
              "          'funcionar': 338,\n",
              "          'anterior': 140,\n",
              "          'coge': 85,\n",
              "          'muchísimo': 178,\n",
              "          'polvo': 150,\n",
              "          'cuanto': 574,\n",
              "          'introduce': 11,\n",
              "          'bolsillo': 173,\n",
              "          'cierto': 317,\n",
              "          'llaves': 95,\n",
              "          'botones': 248,\n",
              "          'botón': 225,\n",
              "          'fotos': 505,\n",
              "          'entender': 65,\n",
              "          'descubierto': 24,\n",
              "          'pegar': 103,\n",
              "          'letra': 64,\n",
              "          'calco': 3,\n",
              "          'devolver': 263,\n",
              "          'tomé': 5,\n",
              "          'ventajas': 11,\n",
              "          'descuento': 18,\n",
              "          'beneficiaria': 1,\n",
              "          'cumplieron': 12,\n",
              "          'complicado': 285,\n",
              "          'plegar': 25,\n",
              "          'anclajes': 23,\n",
              "          'metálicos': 11,\n",
              "          'difícil': 373,\n",
              "          'incómodos': 28,\n",
              "          'pasar': 221,\n",
              "          'enreda': 12,\n",
              "          'palitos': 15,\n",
              "          'pintura': 181,\n",
              "          'totalmente': 268,\n",
              "          'descascarillada': 1,\n",
              "          'sigue': 222,\n",
              "          'callendose': 1,\n",
              "          'bolsa': 391,\n",
              "          'vacío': 51,\n",
              "          'abrirlo': 68,\n",
              "          'aplastadas': 6,\n",
              "          'flores': 31,\n",
              "          'collares': 9,\n",
              "          'adornos': 11,\n",
              "          'pinza': 73,\n",
              "          'pegada': 55,\n",
              "          'regular': 300,\n",
              "          'despegadas': 7,\n",
              "          'pueden': 349,\n",
              "          'aprovechar': 26,\n",
              "          'retrasado': 3,\n",
              "          'deseo': 12,\n",
              "          'pronto': 241,\n",
              "          'medias': 49,\n",
              "          'xq': 69,\n",
              "          'indestructible': 2,\n",
              "          'enderezarlo': 4,\n",
              "          'tan': 966,\n",
              "          'largo': 290,\n",
              "          'tiende': 36,\n",
              "          'enredarse': 2,\n",
              "          'comparación': 80,\n",
              "          'habituales': 14,\n",
              "          'prefiero': 84,\n",
              "          'duradero': 65,\n",
              "          'globo': 11,\n",
              "          'ami': 13,\n",
              "          'duro': 312,\n",
              "          'tampoco': 761,\n",
              "          'cumplió': 48,\n",
              "          'objetivo': 96,\n",
              "          'mande': 11,\n",
              "          'escrito': 44,\n",
              "          'queríamos': 26,\n",
              "          'roja': 52,\n",
              "          'ok': 166,\n",
              "          'pocas': 136,\n",
              "          'páginas': 71,\n",
              "          'colorear': 10,\n",
              "          'regula': 10,\n",
              "          'siento': 81,\n",
              "          'faroles': 2,\n",
              "          'estilo': 84,\n",
              "          'parecido': 192,\n",
              "          'llegó': 1137,\n",
              "          'deformado': 17,\n",
              "          'encajaba': 29,\n",
              "          'metal': 100,\n",
              "          'calor': 255,\n",
              "          'vela': 13,\n",
              "          'calientan': 25,\n",
              "          'sabemos': 25,\n",
              "          'imágenes': 86,\n",
              "          'interior': 357,\n",
              "          'exterior': 171,\n",
              "          'fachada': 9,\n",
              "          'oscuro': 112,\n",
              "          'devolví': 242,\n",
              "          'técnico': 47,\n",
              "          ...})"
            ]
          },
          "metadata": {
            "tags": []
          },
          "execution_count": 92
        }
      ]
    },
    {
      "cell_type": "code",
      "metadata": {
        "colab": {
          "base_uri": "https://localhost:8080/",
          "height": 204
        },
        "id": "W85r9cypQ7Ir",
        "outputId": "979e1a08-660b-4c8f-96f4-2edbaed85fd2"
      },
      "source": [
        "palabras_neutras = pd.DataFrame(list(freq_neutro.items()),columns=['Palabra','Frecuencia'])\n",
        "palabras_neutras.sort_values('Frecuencia',ascending=False, inplace = True)\n",
        "palabras_neutras.reset_index(drop = True, inplace=True)\n",
        "palabras_neutras.head()"
      ],
      "execution_count": null,
      "outputs": [
        {
          "output_type": "execute_result",
          "data": {
            "text/html": [
              "<div>\n",
              "<style scoped>\n",
              "    .dataframe tbody tr th:only-of-type {\n",
              "        vertical-align: middle;\n",
              "    }\n",
              "\n",
              "    .dataframe tbody tr th {\n",
              "        vertical-align: top;\n",
              "    }\n",
              "\n",
              "    .dataframe thead th {\n",
              "        text-align: right;\n",
              "    }\n",
              "</style>\n",
              "<table border=\"1\" class=\"dataframe\">\n",
              "  <thead>\n",
              "    <tr style=\"text-align: right;\">\n",
              "      <th></th>\n",
              "      <th>Palabra</th>\n",
              "      <th>Frecuencia</th>\n",
              "    </tr>\n",
              "  </thead>\n",
              "  <tbody>\n",
              "    <tr>\n",
              "      <th>0</th>\n",
              "      <td>bien</td>\n",
              "      <td>13948</td>\n",
              "    </tr>\n",
              "    <tr>\n",
              "      <th>1</th>\n",
              "      <td>calidad</td>\n",
              "      <td>5969</td>\n",
              "    </tr>\n",
              "    <tr>\n",
              "      <th>2</th>\n",
              "      <td>precio</td>\n",
              "      <td>5378</td>\n",
              "    </tr>\n",
              "    <tr>\n",
              "      <th>3</th>\n",
              "      <td>producto</td>\n",
              "      <td>3973</td>\n",
              "    </tr>\n",
              "    <tr>\n",
              "      <th>4</th>\n",
              "      <td>bastante</td>\n",
              "      <td>3299</td>\n",
              "    </tr>\n",
              "  </tbody>\n",
              "</table>\n",
              "</div>"
            ],
            "text/plain": [
              "    Palabra  Frecuencia\n",
              "0      bien       13948\n",
              "1   calidad        5969\n",
              "2    precio        5378\n",
              "3  producto        3973\n",
              "4  bastante        3299"
            ]
          },
          "metadata": {
            "tags": []
          },
          "execution_count": 93
        }
      ]
    },
    {
      "cell_type": "code",
      "metadata": {
        "colab": {
          "base_uri": "https://localhost:8080/",
          "height": 523
        },
        "id": "-T1vjkLiRSho",
        "outputId": "fecc9de5-8ab4-433d-cd79-61d0b78a5e3a"
      },
      "source": [
        "\n",
        "plt.figure(figsize = (10,8))\n",
        "plot = sns.barplot(y  = palabras_neutras.iloc[:15].Palabra,\n",
        "                   x = palabras_neutras.iloc[:15].Frecuencia ,\n",
        "                   color = 'lightyellow', edgecolor ='black' )\n",
        "for item in plot.get_xticklabels():\n",
        "    item.set_rotation(0)\n",
        "plt.title('Frecuencia de palabras en comentarios neutros', fontsize=20)\n",
        "plt.show()\n"
      ],
      "execution_count": null,
      "outputs": [
        {
          "output_type": "display_data",
          "data": {
            "image/png": "[encoded data removed]",
            "text/plain": [
              "<Figure size 720x576 with 1 Axes>"
            ]
          },
          "metadata": {
            "tags": []
          }
        }
      ]
    },
    {
      "cell_type": "markdown",
      "metadata": {
        "id": "B4piWkecRXL2"
      },
      "source": [
        "Palabras en común con Positivo:\n",
        " \n",
        " 1. Bien\n",
        " 2. El \n",
        " 3. No\n",
        " 4. calidad\n",
        " 5. si \n",
        " "
      ]
    },
    {
      "cell_type": "markdown",
      "metadata": {
        "id": "UPYIJTW-McmU"
      },
      "source": [
        "### 3- Dataset con los comentarios negativos( 1 y 2 estrellas)"
      ]
    },
    {
      "cell_type": "code",
      "metadata": {
        "colab": {
          "base_uri": "https://localhost:8080/"
        },
        "id": "DwyZsmlvLgD1",
        "outputId": "b5254304-a7d3-48b7-b260-3f114c5d4da8"
      },
      "source": [
        "negativo = data[data.stars < 3]\n",
        "negativo.shape"
      ],
      "execution_count": null,
      "outputs": [
        {
          "output_type": "execute_result",
          "data": {
            "text/plain": [
              "(80000, 8)"
            ]
          },
          "metadata": {
            "tags": []
          },
          "execution_count": 95
        }
      ]
    },
    {
      "cell_type": "code",
      "metadata": {
        "id": "eiax09DbS9T1"
      },
      "source": [
        "resenas = []\n",
        "for i in range(negativo.shape[0]):\n",
        "  comentario = negativo.iloc[i].review_body\n",
        "  comentario = clean_text_round1(comentario)\n",
        "  comentario = nltk.tokenize.RegexpTokenizer(\"[\\w]+\").tokenize(comentario)\n",
        "  comentario = [word for word in comentario if word not in stopwords]\n",
        "  comentario = [word for word in comentario if word not in filtrar]\n",
        "  resenas.append(comentario)"
      ],
      "execution_count": null,
      "outputs": []
    },
    {
      "cell_type": "code",
      "metadata": {
        "colab": {
          "base_uri": "https://localhost:8080/"
        },
        "id": "2azYtc1MS9Qg",
        "outputId": "54eddcef-03b7-43bf-d47a-0750d034b66a"
      },
      "source": [
        "resenas = list(itertools.chain(*resenas))\n",
        "resenas[0:10]"
      ],
      "execution_count": null,
      "outputs": [
        {
          "output_type": "execute_result",
          "data": {
            "text/plain": [
              "['bueno',\n",
              " 'ka',\n",
              " 'pantalla',\n",
              " 'menos',\n",
              " 'meses',\n",
              " 'recibido',\n",
              " 'respuesta',\n",
              " 'fabricante',\n",
              " 'horrible',\n",
              " 'comprar']"
            ]
          },
          "metadata": {
            "tags": []
          },
          "execution_count": 97
        }
      ]
    },
    {
      "cell_type": "code",
      "metadata": {
        "id": "LMsiJTWAS9OV",
        "colab": {
          "base_uri": "https://localhost:8080/"
        },
        "outputId": "a824888a-a45d-4875-db25-1224104cb0ac"
      },
      "source": [
        "freq_negativo = nltk.FreqDist(resenas)\n",
        "freq_negativo"
      ],
      "execution_count": null,
      "outputs": [
        {
          "output_type": "execute_result",
          "data": {
            "text/plain": [
              "FreqDist({'bueno': 1905,\n",
              "          'ka': 11,\n",
              "          'pantalla': 3806,\n",
              "          'menos': 3530,\n",
              "          'meses': 3409,\n",
              "          'recibido': 2232,\n",
              "          'respuesta': 573,\n",
              "          'fabricante': 365,\n",
              "          'horrible': 401,\n",
              "          'comprar': 3385,\n",
              "          'sabemos': 46,\n",
              "          'inglés': 249,\n",
              "          'informático': 7,\n",
              "          'después': 3004,\n",
              "          'hora': 1092,\n",
              "          'capaz': 205,\n",
              "          'instalarlo': 127,\n",
              "          'obligan': 25,\n",
              "          'dos': 6590,\n",
              "          'unidades': 328,\n",
              "          'llega': 1310,\n",
              "          'solo': 4922,\n",
              "          'forma': 1176,\n",
              "          'reclamar': 294,\n",
              "          'autentica': 52,\n",
              "          'estafa': 518,\n",
              "          'compreis': 135,\n",
              "          'entro': 30,\n",
              "          'descalificar': 1,\n",
              "          'vendedor': 3022,\n",
              "          'puedo': 2523,\n",
              "          'decir': 1258,\n",
              "          'tras': 1012,\n",
              "          'espera': 429,\n",
              "          'sigo': 506,\n",
              "          'producto': 11870,\n",
              "          'contactar': 306,\n",
              "          'amazon': 3768,\n",
              "          'reembolso': 587,\n",
              "          'hace': 4552,\n",
              "          'cargo': 225,\n",
              "          'problema': 2419,\n",
              "          'desembolsado': 4,\n",
              "          'dinero': 3180,\n",
              "          'devuelven': 143,\n",
              "          'perdida': 121,\n",
              "          'tiempo': 3027,\n",
              "          'total': 549,\n",
              "          'palabras': 104,\n",
              "          'ustedes': 66,\n",
              "          'deciden': 5,\n",
              "          'tarde': 668,\n",
              "          'co': 19,\n",
              "          'talla': 969,\n",
              "          'equivocada': 26,\n",
              "          'jamás': 144,\n",
              "          'llegó': 3301,\n",
              "          'nunca': 2171,\n",
              "          'contacto': 995,\n",
              "          'conmigo': 232,\n",
              "          'pesar': 685,\n",
              "          'intentarlo': 33,\n",
              "          'veces': 2543,\n",
              "          'paraguas': 72,\n",
              "          'mala': 4290,\n",
              "          'calidad': 10223,\n",
              "          'da': 2107,\n",
              "          'sensación': 403,\n",
              "          'va': 2397,\n",
              "          'romper': 267,\n",
              "          'abres': 63,\n",
              "          'cutre': 192,\n",
              "          'devolverla': 317,\n",
              "          'ser': 2846,\n",
              "          'triangular': 5,\n",
              "          'agarra': 93,\n",
              "          'cómoda': 230,\n",
              "          'escritura': 52,\n",
              "          'bonita': 696,\n",
              "          'precio': 4697,\n",
              "          'aceptable': 241,\n",
              "          'funcional': 121,\n",
              "          'esperando': 1239,\n",
              "          'despues': 685,\n",
              "          'protestar': 7,\n",
              "          'varias': 824,\n",
              "          'veo': 725,\n",
              "          'solucion': 115,\n",
              "          'haceis': 3,\n",
              "          'caso': 1416,\n",
              "          'dicen': 713,\n",
              "          'quiero': 636,\n",
              "          'auricular': 301,\n",
              "          'defectuoso': 623,\n",
              "          'apariencia': 158,\n",
              "          'bien': 14075,\n",
              "          'tercer': 157,\n",
              "          'uso': 3928,\n",
              "          'vaso': 100,\n",
              "          'mezclador': 3,\n",
              "          'grande': 1739,\n",
              "          'dejado': 960,\n",
              "          'funcionar': 2001,\n",
              "          'intentaba': 11,\n",
              "          'hacer': 2180,\n",
              "          'puré': 6,\n",
              "          'requiera': 6,\n",
              "          'fuerza': 576,\n",
              "          'excesiva': 19,\n",
              "          'cuchillas': 115,\n",
              "          'dejaron': 167,\n",
              "          'girar': 91,\n",
              "          'pena': 2249,\n",
              "          'herramienta': 80,\n",
              "          'principio': 992,\n",
              "          'final': 1188,\n",
              "          'barato': 906,\n",
              "          'sale': 1444,\n",
              "          'caro': 1225,\n",
              "          'tres': 1464,\n",
              "          'vida': 381,\n",
              "          'decepcionada': 489,\n",
              "          'pone': 1505,\n",
              "          'piezas': 1033,\n",
              "          'realidad': 500,\n",
              "          'saltan': 30,\n",
              "          'plomos': 12,\n",
              "          'día': 2987,\n",
              "          'devolver': 1756,\n",
              "          'pegamento': 358,\n",
              "          'pos': 14,\n",
              "          'it': 7,\n",
              "          'pegar': 255,\n",
              "          'protector': 1360,\n",
              "          'poner': 1685,\n",
              "          'funda': 2187,\n",
              "          'despega': 544,\n",
              "          'entiendo': 603,\n",
              "          'cómo': 588,\n",
              "          'puede': 3169,\n",
              "          'fabricar': 15,\n",
              "          'tan': 1868,\n",
              "          'pesimo': 83,\n",
              "          'auténtico': 63,\n",
              "          'engaño': 365,\n",
              "          'gusta': 1365,\n",
              "          'plastico': 505,\n",
              "          'blando': 131,\n",
              "          'retuerce': 4,\n",
              "          'funciona': 4710,\n",
              "          'descontento': 275,\n",
              "          'voy': 1094,\n",
              "          'tener': 1689,\n",
              "          'pongo': 685,\n",
              "          'estrella': 569,\n",
              "          'deja': 1695,\n",
              "          'quitarla': 69,\n",
              "          'venía': 1228,\n",
              "          'embalaje': 885,\n",
              "          'roto': 2667,\n",
              "          'copias': 46,\n",
              "          'archivos': 62,\n",
              "          'desaparecen': 16,\n",
              "          'dice': 1125,\n",
              "          'formato': 121,\n",
              "          'corrupto': 1,\n",
              "          'formatee': 1,\n",
              "          'puse': 592,\n",
              "          'varios': 791,\n",
              "          'formatos': 19,\n",
              "          'acaso': 43,\n",
              "          'decepción': 798,\n",
              "          'llegar': 993,\n",
              "          'septiembre': 139,\n",
              "          'aproximada': 6,\n",
              "          'llego': 2064,\n",
              "          'contacte': 45,\n",
              "          'dio': 187,\n",
              "          'elegir': 107,\n",
              "          'quería': 615,\n",
              "          'nuevo': 1187,\n",
              "          'envío': 1245,\n",
              "          'eleji': 1,\n",
              "          'hoy': 965,\n",
              "          'triste': 63,\n",
              "          'rompe': 659,\n",
              "          'muchísima': 82,\n",
              "          'facilidad': 834,\n",
              "          'timo': 472,\n",
              "          'compré': 2925,\n",
              "          'bpa': 11,\n",
              "          'envoltorio': 191,\n",
              "          'made': 32,\n",
              "          'in': 51,\n",
              "          'china': 254,\n",
              "          'ningún': 1280,\n",
              "          'certificado': 28,\n",
              "          'indique': 27,\n",
              "          'libre': 70,\n",
              "          'hecho': 1116,\n",
              "          'comprado': 1566,\n",
              "          'cosas': 799,\n",
              "          'encender': 201,\n",
              "          'impresora': 268,\n",
              "          'correcto': 626,\n",
              "          'hizo': 285,\n",
              "          'auto': 27,\n",
              "          'ajuste': 143,\n",
              "          'seleccione': 6,\n",
              "          'archivo': 34,\n",
              "          'gato': 196,\n",
              "          'tardó': 134,\n",
              "          'horas': 959,\n",
              "          'imprimir': 136,\n",
              "          'ok': 117,\n",
              "          'sd': 89,\n",
              "          'viene': 2591,\n",
              "          'quieres': 429,\n",
              "          'conectar': 338,\n",
              "          'pc': 241,\n",
              "          'detecta': 215,\n",
              "          'buscar': 290,\n",
              "          'internet': 233,\n",
              "          'información': 286,\n",
              "          'sitio': 462,\n",
              "          'puedes': 726,\n",
              "          'usar': 1269,\n",
              "          'cura': 5,\n",
              "          'impresiones': 27,\n",
              "          'parece': 3849,\n",
              "          'conecta': 301,\n",
              "          'raras': 31,\n",
              "          'extrusor': 9,\n",
              "          'sacar': 339,\n",
              "          'pla': 11,\n",
              "          'hunde': 44,\n",
              "          'cama': 199,\n",
              "          'dejándola': 7,\n",
              "          'destrozada': 94,\n",
              "          'llevado': 149,\n",
              "          'chasco': 106,\n",
              "          'veas': 14,\n",
              "          'monta': 29,\n",
              "          'rápido': 990,\n",
              "          'puro': 54,\n",
              "          'configurar': 124,\n",
              "          'así': 3081,\n",
              "          'devolví': 1082,\n",
              "          'escasos': 29,\n",
              "          'acabo': 305,\n",
              "          'darme': 111,\n",
              "          'cuenta': 967,\n",
              "          'soporte': 525,\n",
              "          'central': 122,\n",
              "          'hundido': 21,\n",
              "          'considerable': 37,\n",
              "          'sigue': 458,\n",
              "          'paso': 337,\n",
              "          'mes': 2550,\n",
              "          'mas': 4099,\n",
              "          'tocara': 12,\n",
              "          'suelo': 579,\n",
              "          'sera': 80,\n",
              "          'totalmente': 919,\n",
              "          'inutilizable': 44,\n",
              "          'desastre': 642,\n",
              "          'espero': 1108,\n",
              "          'pongan': 63,\n",
              "          'vendedores': 103,\n",
              "          'roscas': 32,\n",
              "          'mueves': 64,\n",
              "          'tubo': 191,\n",
              "          'salen': 399,\n",
              "          'solas': 70,\n",
              "          'pierden': 124,\n",
              "          'mucha': 1065,\n",
              "          'agua': 1716,\n",
              "          'pedido': 2788,\n",
              "          'pasa': 695,\n",
              "          'contestan': 114,\n",
              "          'desastroso': 26,\n",
              "          'año': 989,\n",
              "          'completo': 416,\n",
              "          'opción': 437,\n",
              "          'devolverlo': 1223,\n",
              "          'vale': 1888,\n",
              "          'linterna': 102,\n",
              "          'tirado': 582,\n",
              "          'basura': 947,\n",
              "          'plástico': 2374,\n",
              "          'siento': 498,\n",
              "          'valorarlo': 71,\n",
              "          'puesto': 1234,\n",
              "          'agencia': 76,\n",
              "          'transporte': 489,\n",
              "          'asm': 44,\n",
              "          'entregado': 622,\n",
              "          'todavía': 888,\n",
              "          'podré': 68,\n",
              "          'valorar': 275,\n",
              "          'reciba': 43,\n",
              "          'café': 250,\n",
              "          'encima': 1079,\n",
              "          'atasca': 104,\n",
              "          'filtro': 184,\n",
              "          'perdido': 504,\n",
              "          'además': 2401,\n",
              "          'poder': 1091,\n",
              "          'utilizar': 625,\n",
              "          'animé': 14,\n",
              "          'comprarlo': 674,\n",
              "          'leer': 273,\n",
              "          'foros': 23,\n",
              "          'opiniones': 411,\n",
              "          'sido': 1764,\n",
              "          'invisible': 16,\n",
              "          'avispas': 8,\n",
              "          'llegado': 4588,\n",
              "          'devuelvan': 176,\n",
              "          'compréis': 290,\n",
              "          'nadie': 686,\n",
              "          'tardado': 179,\n",
              "          'esperado': 327,\n",
              "          'pensando': 331,\n",
              "          'llegaría': 74,\n",
              "          'prime': 378,\n",
              "          'gustado': 1985,\n",
              "          'súper': 241,\n",
              "          'pesada': 80,\n",
              "          'manejar': 104,\n",
              "          'correo': 261,\n",
              "          'diciendo': 117,\n",
              "          'paquete': 1895,\n",
              "          'días': 2804,\n",
              "          'aún': 1767,\n",
              "          'sabe': 217,\n",
              "          'página': 179,\n",
              "          'sé': 1294,\n",
              "          'debería': 866,\n",
              "          'haber': 874,\n",
              "          'ayer': 249,\n",
              "          'marzo': 134,\n",
              "          'noche': 406,\n",
              "          'llegue': 462,\n",
              "          'frontal': 175,\n",
              "          'mandado': 279,\n",
              "          'formulario': 5,\n",
              "          'opinión': 578,\n",
              "          'pues': 1814,\n",
              "          'momento': 1098,\n",
              "          'cumplido': 135,\n",
              "          'fecha': 1043,\n",
              "          'entrega': 1453,\n",
              "          'materiales': 576,\n",
              "          'malos': 283,\n",
              "          'aunque': 2660,\n",
              "          'diseño': 906,\n",
              "          'bonito': 1374,\n",
              "          'importante': 278,\n",
              "          'grill': 8,\n",
              "          'venir': 266,\n",
              "          'sirve': 2006,\n",
              "          'apaga': 365,\n",
              "          'cada': 1521,\n",
              "          'pizza': 15,\n",
              "          'tira': 208,\n",
              "          'minutos': 724,\n",
              "          'queda': 3253,\n",
              "          'casi': 1658,\n",
              "          'cruda': 2,\n",
              "          'antiguo': 102,\n",
              "          'micro': 203,\n",
              "          'ondas': 14,\n",
              "          'dorada': 15,\n",
              "          'cambiar': 550,\n",
              "          'reparar': 83,\n",
              "          'viejo': 87,\n",
              "          'microondas': 51,\n",
              "          'calentar': 92,\n",
              "          'cualquier': 694,\n",
              "          'aparato': 687,\n",
              "          'euros': 673,\n",
              "          'gastarse': 102,\n",
              "          'función': 1044,\n",
              "          'vaya': 389,\n",
              "          'mal': 5344,\n",
              "          'busque': 22,\n",
              "          'encuentro': 353,\n",
              "          'agujero': 280,\n",
              "          'meter': 272,\n",
              "          'chuches': 9,\n",
              "          'instrucciones': 1181,\n",
              "          'tapada': 12,\n",
              "          'pegatina': 252,\n",
              "          'transparente': 271,\n",
              "          'mia': 56,\n",
              "          'envían': 285,\n",
              "          'correos': 528,\n",
              "          'expres': 10,\n",
              "          'ahora': 1894,\n",
              "          'oficina': 119,\n",
              "          'recogerlo': 110,\n",
              "          'saber': 521,\n",
              "          'compro': 475,\n",
              "          'ademas': 567,\n",
              "          'experiencia': 426,\n",
              "          'completa': 159,\n",
              "          'pega': 974,\n",
              "          'bordes': 844,\n",
              "          'leve': 38,\n",
              "          'golpe': 509,\n",
              "          'nota': 605,\n",
              "          'hueco': 201,\n",
              "          'zona': 422,\n",
              "          'línea': 84,\n",
              "          'colores': 733,\n",
              "          'distorsionados': 4,\n",
              "          'bastante': 3544,\n",
              "          'molesta': 189,\n",
              "          'parecer': 150,\n",
              "          'pueda': 315,\n",
              "          'proteger': 218,\n",
              "          'correctamente': 954,\n",
              "          'terminal': 133,\n",
              "          'despegar': 118,\n",
              "          'podría': 325,\n",
              "          'despegarla': 6,\n",
              "          'dañar': 28,\n",
              "          'real': 169,\n",
              "          'junta': 67,\n",
              "          'duro': 667,\n",
              "          'entra': 447,\n",
              "          'dificultad': 67,\n",
              "          'primera': 1348,\n",
              "          'despegó': 165,\n",
              "          'chapa': 64,\n",
              "          'plateada': 16,\n",
              "          'pegado': 348,\n",
              "          'apaño': 126,\n",
              "          'porqueria': 65,\n",
              "          'malisimo': 121,\n",
              "          'caja': 3023,\n",
              "          'rota': 1106,\n",
              "          'logicamente': 12,\n",
              "          'comoda': 50,\n",
              "          'teléfono': 1160,\n",
              "          'auxiliar': 21,\n",
              "          'casa': 1227,\n",
              "          'fija': 133,\n",
              "          'batería': 1752,\n",
              "          'dura': 1318,\n",
              "          'usarlo': 685,\n",
              "          'vez': 3535,\n",
              "          'quiere': 277,\n",
              "          'abre': 272,\n",
              "          'publicidad': 227,\n",
              "          'manera': 849,\n",
              "          'tarda': 341,\n",
              "          'abrir': 594,\n",
              "          'aplicación': 294,\n",
              "          'mejor': 2658,\n",
              "          'llamar': 114,\n",
              "          'urgencia': 52,\n",
              "          'coges': 26,\n",
              "          'consigues': 59,\n",
              "          'marcar': 50,\n",
              "          'nº': 9,\n",
              "          'fácil': 773,\n",
              "          'pasan': 97,\n",
              "          'par': 676,\n",
              "          'definitiva': 132,\n",
              "          'asco': 36,\n",
              "          'devuelvo': 548,\n",
              "          'pasado': 1030,\n",
              "          'periodo': 97,\n",
              "          'devolución': 2233,\n",
              "          'primer': 1353,\n",
              "          'cristal': 1479,\n",
              "          'saqué': 40,\n",
              "          'partió': 169,\n",
              "          'mitad': 667,\n",
              "          'segundo': 949,\n",
              "          'instalé': 39,\n",
              "          'rompiendo': 116,\n",
              "          'alguna': 644,\n",
              "          'esquina': 272,\n",
              "          'darle': 280,\n",
              "          'material': 1330,\n",
              "          'cuesta': 930,\n",
              "          'moldear': 12,\n",
              "          'pekes': 3,\n",
              "          'consiguen': 13,\n",
              "          'figura': 135,\n",
              "          'sólida': 21,\n",
              "          'cabo': 344,\n",
              "          'slime': 24,\n",
              "          'deforma': 74,\n",
              "          'llegaron': 600,\n",
              "          'rotas': 306,\n",
              "          'hojas': 206,\n",
              "          'diseños': 15,\n",
              "          'bonitos': 296,\n",
              "          'recortar': 28,\n",
              "          'rotos': 235,\n",
              "          'repito': 69,\n",
              "          'unico': 111,\n",
              "          'dejarte': 11,\n",
              "          'cara': 597,\n",
              "          'faltaba': 181,\n",
              "          'tapón': 164,\n",
              "          'guantes': 121,\n",
              "          'cómodos': 139,\n",
              "          'niego': 7,\n",
              "          'creo': 1673,\n",
              "          'caída': 152,\n",
              "          'valdrian': 1,\n",
              "          'rajando': 14,\n",
              "          'malísimo': 282,\n",
              "          'adapta': 337,\n",
              "          'completamente': 486,\n",
              "          'recomiendo': 4492,\n",
              "          'ilustración': 6,\n",
              "          'coge': 196,\n",
              "          'toda': 1137,\n",
              "          'funcionaba': 865,\n",
              "          'empezó': 401,\n",
              "          'ruido': 866,\n",
              "          'extraño': 74,\n",
              "          'finalmente': 227,\n",
              "          'pocos': 658,\n",
              "          'dejo': 555,\n",
              "          'vinilos': 10,\n",
              "          'giran': 28,\n",
              "          'buena': 3119,\n",
              "          'tocadiscos': 10,\n",
              "          'esperable': 6,\n",
              "          'evitad': 3,\n",
              "          'ir': 664,\n",
              "          'decente': 97,\n",
              "          'verdad': 2034,\n",
              "          'traído': 41,\n",
              "          'movil': 567,\n",
              "          'note': 154,\n",
              "          'ver': 2253,\n",
              "          'venden': 260,\n",
              "          'pensaba': 592,\n",
              "          'huevo': 47,\n",
              "          'dentro': 1236,\n",
              "          'cajita': 76,\n",
              "          'presentado': 59,\n",
              "          'huevos': 32,\n",
              "          'pequeñitos': 12,\n",
              "          'sueltos': 88,\n",
              "          'bolsa': 670,\n",
              "          'volumen': 475,\n",
              "          'sonido': 1305,\n",
              "          'bajo': 511,\n",
              "          'escaso': 81,\n",
              "          'frecuencias': 15,\n",
              "          'graves': 76,\n",
              "          'esperaba': 2415,\n",
              "          'marca': 1733,\n",
              "          'cuaderno': 25,\n",
              "          'sueltas': 89,\n",
              "          'gustaba': 112,\n",
              "          'idea': 399,\n",
              "          'contesta': 157,\n",
              "          'pones': 363,\n",
              "          'sacarlo': 141,\n",
              "          'compra': 2384,\n",
              "          'valorarla': 6,\n",
              "          'cartucho': 137,\n",
              "          'fotocopias': 7,\n",
              "          'gastado': 142,\n",
              "          'nolo': 4,\n",
              "          'instalar': 267,\n",
              "          'opinar': 474,\n",
              "          'cuantos': 42,\n",
              "          'sólo': 1333,\n",
              "          'utilizado': 328,\n",
              "          'min': 100,\n",
              "          'termina': 173,\n",
              "          'piloto': 24,\n",
              "          'luminoso': 11,\n",
              "          'avisar': 92,\n",
              "          'caliente': 182,\n",
              "          'comida': 126,\n",
              "          'recomendaría': 242,\n",
              "          'felpudo': 21,\n",
              "          'deshace': 50,\n",
              "          'tapa': 955,\n",
              "          'cámara': 764,\n",
              "          'cubre': 784,\n",
              "          'totalidad': 92,\n",
              "          'visto': 514,\n",
              "          'notifico': 1,\n",
              "          'usado': 1227,\n",
              "          'decian': 14,\n",
              "          'habian': 27,\n",
              "          'enviado': 573,\n",
              "          'llegaba': 179,\n",
              "          'pedí': 1245,\n",
              "          'ponía': 307,\n",
              "          'servía': 45,\n",
              "          'tablets': 16,\n",
              "          'lnmbbs': 1,\n",
              "          'cierto': 567,\n",
              "          'apoya': 37,\n",
              "          'semanas': 1113,\n",
              "          'contactado': 60,\n",
              "          'responde': 266,\n",
              "          'libro': 1071,\n",
              "          'favor': 274,\n",
              "          'echa': 79,\n",
              "          'foto': 2546,\n",
              "          'rompen': 420,\n",
              "          'seguida': 119,\n",
              "          'quedan': 873,\n",
              "          'muchas': 765,\n",
              "          'marcas': 421,\n",
              "          'lis': 9,\n",
              "          'dedos': 230,\n",
              "          'quitan': 63,\n",
              "          'lucidez': 1,\n",
              "          'móvil': 1756,\n",
              "          'iphone': 430,\n",
              "          'x': 374,\n",
              "          'face': 9,\n",
              "          'id': 12,\n",
              "          'compre': 1769,\n",
              "          'polos': 6,\n",
              "          'misma': 743,\n",
              "          'color': 2104,\n",
              "          'negro': 575,\n",
              "          'vino': 1052,\n",
              "          'pequeño': 2411,\n",
              "          'valía': 60,\n",
              "          'lavado': 179,\n",
              "          'mantuvo': 4,\n",
              "          'igual': 1369,\n",
              "          'encogido': 15,\n",
              "          'idiota': 3,\n",
              "          'debajo': 293,\n",
              "          'ay': 14,\n",
              "          'mismo': 2332,\n",
              "          'muchísimo': 478,\n",
              "          'mejores': 522,\n",
              "          'caen': 286,\n",
              "          'pestañas': 130,\n",
              "          'ojo': 227,\n",
              "          'cortarlas': 5,\n",
              "          'aviso': 123,\n",
              "          'movimiento': 252,\n",
              "          'preciso': 88,\n",
              "          'localización': 12,\n",
              "          'falla': 387,\n",
              "          'muevo': 9,\n",
              "          'ciudad': 53,\n",
              "          'durado': 1294,\n",
              "          'alcachofa': 27,\n",
              "          'estándar': 56,\n",
              "          'luz': 1510,\n",
              "          'leds': 91,\n",
              "          'solicitar': 103,\n",
              "          'sustitución': 23,\n",
              "          'garantía': 577,\n",
              "          'terminó': 28,\n",
              "          'unas': 1056,\n",
              "          'sirven': 446,\n",
              "          'vestido': 69,\n",
              "          'aparece': 488,\n",
              "          'imágenes': 193,\n",
              "          'mariposas': 9,\n",
              "          'parecen': 454,\n",
              "          'bonitas': 220,\n",
              "          'dibujos': 141,\n",
              "          'estrellas': 797,\n",
              "          'relieve': 32,\n",
              "          'dañaron': 5,\n",
              "          'trasero': 60,\n",
              "          'dañarlo': 8,\n",
              "          'articulo': 420,\n",
              "          'señal': 309,\n",
              "          'malo': 1641,\n",
              "          'terraza': 53,\n",
              "          'jardín': 40,\n",
              "          'puertas': 85,\n",
              "          'abren': 80,\n",
              "          'aire': 647,\n",
              "          'tampoco': 1484,\n",
              "          'exterior': 341,\n",
              "          'llueve': 21,\n",
              "          'fino': 484,\n",
              "          'endeble': 599,\n",
              "          'parte': 3035,\n",
              "          'superior': 437,\n",
              "          'fina': 433,\n",
              "          'dobla': 128,\n",
              "          'centro': 182,\n",
              "          'acumula': 25,\n",
              "          'lluvia': 72,\n",
              "          'equivocado': 116,\n",
              "          'fundas': 191,\n",
              "          'móviles': 118,\n",
              "          'semana': 1515,\n",
              "          'pienso': 176,\n",
              "          'compañías': 15,\n",
              "          'trabaja': 36,\n",
              "          'indignante': 20,\n",
              "          'pague': 95,\n",
              "          'cuota': 16,\n",
              "          'toca': 194,\n",
              "          'tienden': 7,\n",
              "          'fatal': 1122,\n",
              "          'devolucion': 300,\n",
              "          'tte': 1,\n",
              "          'atienden': 16,\n",
              "          'mensajes': 218,\n",
              "          'vienen': 1073,\n",
              "          'cable': 1250,\n",
              "          'cargar': 696,\n",
              "          'dibujo': 298,\n",
              "          'mini': 135,\n",
              "          'usb': 592,\n",
              "          'realmente': 554,\n",
              "          'necesita': 162,\n",
              "          'jack': 57,\n",
              "          'enana': 18,\n",
              "          'pista': 30,\n",
              "          'peonzas': 4,\n",
              "          'llamándome': 1,\n",
              "          'atención': 379,\n",
              "          'repartidor': 120,\n",
              "          'domicilio': 132,\n",
              "          'debía': 93,\n",
              "          'haberme': 41,\n",
              "          'corresponde': 647,\n",
              "          'conectividad': 51,\n",
              "          'nula': 66,\n",
              "          'todas': 994,\n",
              "          'ésta': 123,\n",
              "          'abierto': 697,\n",
              "          'contenido': 259,\n",
              "          'complemento': 21,\n",
              "          'nutricional': 2,\n",
              "          'adjunto': 142,\n",
              "          'comprueben': 10,\n",
              "          'hola': 440,\n",
              "          'agosto': 154,\n",
              "          'octubre': 128,\n",
              "          'volverían': 8,\n",
              "          'enviar': 290,\n",
              "          'dias': 840,\n",
              "          'despegado': 308,\n",
              "          'caído': 199,\n",
              "          'resto': 510,\n",
              "          'mo': 33,\n",
              "          'cobrado': 169,\n",
              "          'estpy': 1,\n",
              "          'recibirlo': 312,\n",
              "          'quedado': 551,\n",
              "          'diseno': 3,\n",
              "          'tornillo': 280,\n",
              "          'valla': 31,\n",
              "          'ajusta': 747,\n",
              "          'siquiera': 629,\n",
              "          'plana': 64,\n",
              "          'funcionan': 636,\n",
              "          'compraría': 145,\n",
              "          'iluminan': 37,\n",
              "          'duran': 323,\n",
              "          'pedir': 850,\n",
              "          'entregó': 48,\n",
              "          'fiable': 151,\n",
              "          'lleva': 907,\n",
              "          'pelicula': 26,\n",
              "          'borde': 272,\n",
              "          'acaba': 394,\n",
              "          'despegarse': 60,\n",
              "          'empezar': 190,\n",
              "          'deposito': 36,\n",
              "          'apenas': 1057,\n",
              "          'envia': 35,\n",
              "          'caudal': 42,\n",
              "          'empape': 3,\n",
              "          'enfrie': 3,\n",
              "          'cubitos': 11,\n",
              "          'bolsas': 207,\n",
              "          'super': 386,\n",
              "          'olvidate': 12,\n",
              "          'pq': 190,\n",
              "          'gruesos': 37,\n",
              "          'contenedor': 24,\n",
              "          'hacerlos': 16,\n",
              "          'cubitera': 3,\n",
              "          'frigo': 5,\n",
              "          'colmo': 126,\n",
              "          'ruidoso': 100,\n",
              "          'cm': 314,\n",
              "          'notas': 68,\n",
              "          'ventilador': 210,\n",
              "          'pobre': 222,\n",
              "          'oferta': 174,\n",
              "          'digo': 221,\n",
              "          'pronto': 318,\n",
              "          'novedad': 7,\n",
              "          'perfectamente': 691,\n",
              "          'embalado': 220,\n",
              "          'pilas': 669,\n",
              "          'absoluto': 429,\n",
              "          'pequeñísimo': 8,\n",
              "          'click': 41,\n",
              "          'ponerlo': 499,\n",
              "          'marcha': 136,\n",
              "          'compruebo': 24,\n",
              "          'mediante': 66,\n",
              "          'tester': 2,\n",
              "          'invertida': 8,\n",
              "          'vuelvo': 244,\n",
              "          'mismos': 125,\n",
              "          'resultados': 130,\n",
              "          'débil': 203,\n",
              "          'silencio': 25,\n",
              "          'quito': 53,\n",
              "          'hago': 202,\n",
              "          'alimentación': 84,\n",
              "          'red': 199,\n",
              "          'resultado': 685,\n",
              "          'mínimo': 308,\n",
              "          'desilusionado': 42,\n",
              "          'quedó': 191,\n",
              "          'remedio': 33,\n",
              "          'embalarlo': 12,\n",
              "          'cuidadosamente': 8,\n",
              "          'dia': 883,\n",
              "          'siguiente': 474,\n",
              "          'inmediatamente': 113,\n",
              "          'grundig': 1,\n",
              "          'merece': 668,\n",
              "          'respetos': 5,\n",
              "          'mundo': 191,\n",
              "          'considero': 114,\n",
              "          'falló': 33,\n",
              "          'estrepitosamente': 1,\n",
              "          'imposible': 1175,\n",
              "          'registrarse': 1,\n",
              "          'app': 298,\n",
              "          'funcione': 383,\n",
              "          'necesitaba': 341,\n",
              "          'recibí': 657,\n",
              "          'pequeña': 1242,\n",
              "          'l': 254,\n",
              "          'xl': 83,\n",
              "          'm': 367,\n",
              "          'luces': 309,\n",
              "          'verano': 191,\n",
              "          'invierno': 72,\n",
              "          'cuanto': 913,\n",
              "          'lluvias': 7,\n",
              "          'estropeado': 325,\n",
              "          'calentaba': 54,\n",
              "          'segunda': 861,\n",
              "          'comprobé': 39,\n",
              "          'usé': 141,\n",
              "          'queso': 15,\n",
              "          'salió': 196,\n",
              "          'lados': 494,\n",
              "          'placas': 55,\n",
              "          'desmontables': 1,\n",
              "          'limpia': 151,\n",
              "          'dando': 204,\n",
              "          'esponja': 72,\n",
              "          'estropajo': 19,\n",
              "          'dure': 147,\n",
              "          'teflón': 14,\n",
              "          'zonas': 211,\n",
              "          'saltó': 20,\n",
              "          'proceder': 44,\n",
              "          'salta': 107,\n",
              "          'haré': 30,\n",
              "          'demasiado': 2875,\n",
              "          'hará': 39,\n",
              "          'tenia': 612,\n",
              "          'pensado': 104,\n",
              "          'cargaba': 123,\n",
              "          'tirar': 635,\n",
              "          'encendía': 86,\n",
              "          'na': 27,\n",
              "          'habitualmente': 60,\n",
              "          'error': 620,\n",
              "          'malas': 302,\n",
              "          'probar': 327,\n",
              "          'ó': 58,\n",
              "          'rozar': 16,\n",
              "          'rajan': 13,\n",
              "          'normal': 1045,\n",
              "          'rompan': 19,\n",
              "          'aparte': 368,\n",
              "          'fotografía': 157,\n",
              "          'trae': 978,\n",
              "          'resistencia': 141,\n",
              "          'lateral': 263,\n",
              "          'exactamente': 254,\n",
              "          'estrene': 4,\n",
              "          'cargado': 99,\n",
              "          'enciende': 484,\n",
              "          'disgustada': 55,\n",
              "          'telefonos': 14,\n",
              "          'regale': 37,\n",
              "          'hermana': 31,\n",
              "          'rompio': 208,\n",
              "          'simple': 391,\n",
              "          'xke': 2,\n",
              "          'funcionamiento': 431,\n",
              "          'telefono': 254,\n",
              "          'resulta': 636,\n",
              "          'derrepente': 8,\n",
              "          'empezo': 66,\n",
              "          'correr': 83,\n",
              "          'tinta': 254,\n",
              "          'ningun': 229,\n",
              "          'mancha': 211,\n",
              "          'negra': 264,\n",
              "          'escrito': 137,\n",
              "          'nisiquiera': 18,\n",
              "          'vergonzoso': 133,\n",
              "          'aun': 1027,\n",
              "          'aguantó': 46,\n",
              "          'cinco': 170,\n",
              "          'inmersiones': 4,\n",
              "          'botón': 539,\n",
              "          'oxidó': 10,\n",
              "          'dejó': 515,\n",
              "          'basculantes': 1,\n",
              "          'interior': 641,\n",
              "          'elegí': 79,\n",
              "          'blanca': 248,\n",
              "          'utilice': 58,\n",
              "          'tassimo': 3,\n",
              "          'anterior': 258,\n",
              "          'cafetera': 122,\n",
              "          'sabor': 317,\n",
              "          'decepcion': 124,\n",
              "          'artículo': 853,\n",
              "          'hacerse': 47,\n",
              "          'responsable': 63,\n",
              "          'reenvia': 1,\n",
              "          'prestaciones': 68,\n",
              "          'priori': 34,\n",
              "          'ofrece': 169,\n",
              "          'fantásticas': 5,\n",
              "          'modo': 289,\n",
              "          'tienda': 444,\n",
              "          've': 1617,\n",
              "          'espectacular': 40,\n",
              "          'insertadas': 1,\n",
              "          'conseguir': 157,\n",
              "          'imagen': 1053,\n",
              "          'supe': 23,\n",
              "          'hacerlo': 318,\n",
              "          'cine': 6,\n",
              "          'rojizo': 11,\n",
              "          'dinámico': 4,\n",
              "          'brillo': 172,\n",
              "          'colgada': 35,\n",
              "          'reproducir': 42,\n",
              "          'episodio': 3,\n",
              "          'hbo': 21,\n",
              "          'youtube': 73,\n",
              "          'reproducción': 33,\n",
              "          'reinició': 3,\n",
              "          'sintonizar': 21,\n",
              "          'canales': 111,\n",
              "          'cambiaba': 11,\n",
              "          'canal': 99,\n",
              "          'ejemplo': 224,\n",
              "          'cuatro': 370,\n",
              "          'daba': 247,\n",
              "          'indicaba': 79,\n",
              "          'tele': 98,\n",
              "          'seguía': 53,\n",
              "          'fallos': 206,\n",
              "          'nivel': 209,\n",
              "          'software': 106,\n",
              "          'concreto': 100,\n",
              "          'pasó': 159,\n",
              "          'decidí': 233,\n",
              "          'probaba': 4,\n",
              "          'samsung': 289,\n",
              "          'genial': 491,\n",
              "          'iba': 640,\n",
              "          'televisión': 56,\n",
              "          'juego': 535,\n",
              "          'seguridad': 237,\n",
              "          'compraré': 154,\n",
              "          'lg': 56,\n",
              "          'exteriormente': 8,\n",
              "          'chulo': 113,\n",
              "          'conectarlo': 184,\n",
              "          'bloquea': 102,\n",
              "          ...})"
            ]
          },
          "metadata": {
            "tags": []
          },
          "execution_count": 98
        }
      ]
    },
    {
      "cell_type": "code",
      "metadata": {
        "colab": {
          "base_uri": "https://localhost:8080/",
          "height": 204
        },
        "id": "wxU7BubLS9Lx",
        "outputId": "c729be08-d58a-4464-a0b9-ec16e87a763c"
      },
      "source": [
        "palabras_negativas = pd.DataFrame(list(freq_negativo.items()),columns=['Palabra','Frecuencia'])\n",
        "palabras_negativas.sort_values('Frecuencia',ascending=False, inplace = True)\n",
        "palabras_negativas.reset_index(drop = True, inplace=True)\n",
        "palabras_negativas.head()"
      ],
      "execution_count": null,
      "outputs": [
        {
          "output_type": "execute_result",
          "data": {
            "text/html": [
              "<div>\n",
              "<style scoped>\n",
              "    .dataframe tbody tr th:only-of-type {\n",
              "        vertical-align: middle;\n",
              "    }\n",
              "\n",
              "    .dataframe tbody tr th {\n",
              "        vertical-align: top;\n",
              "    }\n",
              "\n",
              "    .dataframe thead th {\n",
              "        text-align: right;\n",
              "    }\n",
              "</style>\n",
              "<table border=\"1\" class=\"dataframe\">\n",
              "  <thead>\n",
              "    <tr style=\"text-align: right;\">\n",
              "      <th></th>\n",
              "      <th>Palabra</th>\n",
              "      <th>Frecuencia</th>\n",
              "    </tr>\n",
              "  </thead>\n",
              "  <tbody>\n",
              "    <tr>\n",
              "      <th>0</th>\n",
              "      <td>bien</td>\n",
              "      <td>14075</td>\n",
              "    </tr>\n",
              "    <tr>\n",
              "      <th>1</th>\n",
              "      <td>producto</td>\n",
              "      <td>11870</td>\n",
              "    </tr>\n",
              "    <tr>\n",
              "      <th>2</th>\n",
              "      <td>calidad</td>\n",
              "      <td>10223</td>\n",
              "    </tr>\n",
              "    <tr>\n",
              "      <th>3</th>\n",
              "      <td>dos</td>\n",
              "      <td>6590</td>\n",
              "    </tr>\n",
              "    <tr>\n",
              "      <th>4</th>\n",
              "      <td>mal</td>\n",
              "      <td>5344</td>\n",
              "    </tr>\n",
              "  </tbody>\n",
              "</table>\n",
              "</div>"
            ],
            "text/plain": [
              "    Palabra  Frecuencia\n",
              "0      bien       14075\n",
              "1  producto       11870\n",
              "2   calidad       10223\n",
              "3       dos        6590\n",
              "4       mal        5344"
            ]
          },
          "metadata": {
            "tags": []
          },
          "execution_count": 99
        }
      ]
    },
    {
      "cell_type": "code",
      "metadata": {
        "colab": {
          "base_uri": "https://localhost:8080/",
          "height": 523
        },
        "id": "uyPdKg8XS9H3",
        "outputId": "efd5ffa2-ca2a-4413-fd81-386d26c24b09"
      },
      "source": [
        "plt.figure(figsize = (10,8))\n",
        "plot = sns.barplot(y  = palabras_negativas.iloc[:15].Palabra, \n",
        "                   x = palabras_negativas.iloc[:15].Frecuencia\n",
        "                   ,color='indianred', edgecolor ='black' )\n",
        "for item in plot.get_xticklabels():\n",
        "    item.set_rotation(0)\n",
        "plt.title('Frecuencia de palabras en comentarios negativos', fontsize=20)\n",
        "plt.show()"
      ],
      "execution_count": null,
      "outputs": [
        {
          "output_type": "display_data",
          "data": {
            "image/png": "[encoded data removed]",
            "text/plain": [
              "<Figure size 720x576 with 1 Axes>"
            ]
          },
          "metadata": {
            "tags": []
          }
        }
      ]
    },
    {
      "cell_type": "markdown",
      "metadata": {
        "id": "SrWXUe5mZ8Ki"
      },
      "source": [
        "## 2- Stemming"
      ]
    },
    {
      "cell_type": "code",
      "metadata": {
        "id": "a85dUmsJcUGW"
      },
      "source": [
        "data.head()"
      ],
      "execution_count": null,
      "outputs": []
    },
    {
      "cell_type": "code",
      "metadata": {
        "id": "lGg3davzaOVZ"
      },
      "source": [
        "data_stem = pd.concat([data.review_body,data.stars],axis=1)"
      ],
      "execution_count": null,
      "outputs": []
    },
    {
      "cell_type": "code",
      "metadata": {
        "id": "UKCdeEwggM4V"
      },
      "source": [
        "data_stem"
      ],
      "execution_count": null,
      "outputs": []
    },
    {
      "cell_type": "code",
      "metadata": {
        "id": "eCzXjQNeaOQT"
      },
      "source": [
        "import re\n",
        "from nltk.stem import PorterStemmer\n",
        "stemmer = PorterStemmer()"
      ],
      "execution_count": null,
      "outputs": []
    },
    {
      "cell_type": "code",
      "metadata": {
        "id": "zUbkfGbcaONj"
      },
      "source": [
        "comentario_list=[]\n",
        "for comentario in data_stem.review_body:\n",
        "    # Vamos a reemplzar los caracteres que no sean letras por espacios\n",
        "    comentario=re.sub(\"[^a-zA-Z]\",\" \",str(comentario))\n",
        "    # Pasamos todo a minúsculas\n",
        "    comentario=comentario.lower()\n",
        "    # Tokenizamos para separar las palabras del titular\n",
        "    comentario=nltk.word_tokenize(comentario)\n",
        "    # Eliminamos las palabras de menos de 3 letras\n",
        "    comentario= [palabra for palabra in comentario if len(palabra)>3]\n",
        "    # Sacamos las Stopwords\n",
        "    comentario = [palabra for palabra in comentario if not palabra in stopwords]\n",
        "    \n",
        "    ## Hasta acá Normalizamos, ahora a stemmizar\n",
        "    \n",
        "    # Aplicamos la funcion para buscar la raiz de las palabras\n",
        "    comentario=[stemmer.stem(palabra) for palabra in comentario]\n",
        "    # Por ultimo volvemos a unir el titular\n",
        "    comentario=\" \".join(comentario)\n",
        "    \n",
        "    # Vamos armando una lista con todos los titulares\n",
        "    comentario_list.append(comentario)\n",
        "    #dataset[\"titular_normalizado\"] = titular_list\n"
      ],
      "execution_count": null,
      "outputs": []
    },
    {
      "cell_type": "code",
      "metadata": {
        "id": "WpLTR9fWg4RV"
      },
      "source": [
        "data_stem[\"comentarios_stem\"] = comentario_list\n",
        "data_stem.head()"
      ],
      "execution_count": null,
      "outputs": []
    },
    {
      "cell_type": "code",
      "metadata": {
        "id": "Eqnl7ntBg4LI"
      },
      "source": [
        "data_stem1= pd.concat([data_stem.stars,data_stem.comentarios_stem],axis=1)\n",
        "data_stem1.head()"
      ],
      "execution_count": null,
      "outputs": []
    },
    {
      "cell_type": "code",
      "metadata": {
        "id": "0Yawl97mg4IR"
      },
      "source": [
        "index_random = np.random.randint(0,high = data_stem1.shape[0])\n",
        "comentario = data_stem1.iloc[index_random].comentarios_stem\n",
        "estrella = data_stem1.iloc[index_random].stars\n",
        "\n",
        "print(index_random)\n",
        "print(estrella)\n",
        "print(comentario)"
      ],
      "execution_count": null,
      "outputs": []
    },
    {
      "cell_type": "markdown",
      "metadata": {
        "id": "Dy7YbitvxI0D"
      },
      "source": [
        "### **Ahora probamos con SnowballStemmer**"
      ]
    },
    {
      "cell_type": "code",
      "metadata": {
        "id": "x_1RbikYg4Ff"
      },
      "source": [
        "from nltk.stem import SnowballStemmer\n",
        "stemmer = SnowballStemmer('spanish')"
      ],
      "execution_count": null,
      "outputs": []
    },
    {
      "cell_type": "code",
      "metadata": {
        "id": "vgnu3tlaqoXP"
      },
      "source": [
        "data.head()"
      ],
      "execution_count": null,
      "outputs": []
    },
    {
      "cell_type": "code",
      "metadata": {
        "id": "Ax9tXoS2g4C_"
      },
      "source": [
        "comentario_list=[]\n",
        "for comentario in data_stem.review_body:\n",
        "    # Vamos a reemplzar los caracteres que no sean letras por espacios\n",
        "    comentario=re.sub(\"[^a-zA-Z]\",\" \",str(comentario))\n",
        "    # Pasamos todo a minúsculas\n",
        "    comentario=comentario.lower()\n",
        "    # Tokenizamos para separar las palabras del titular\n",
        "    comentario=nltk.word_tokenize(comentario)\n",
        "    # Eliminamos las palabras de menos de 3 letras\n",
        "    comentario= [palabra for palabra in comentario if len(palabra)>3]\n",
        "    # Sacamos las Stopwords\n",
        "    comentario = [palabra for palabra in comentario if not palabra in stopwords]\n",
        "    \n",
        "    ## Hasta acá Normalizamos, ahora a stemmizar\n",
        "    \n",
        "    # Aplicamos la funcion para buscar la raiz de las palabras\n",
        "    comentario=[stemmer.stem(palabra) for palabra in comentario]\n",
        "    # Por ultimo volvemos a unir el titular\n",
        "    comentario=\" \".join(comentario)\n",
        "    \n",
        "    # Vamos armando una lista con todos los titulares\n",
        "    comentario_list.append(comentario)\n",
        "    #dataset[\"titular_normalizado\"] = titular_list\n"
      ],
      "execution_count": null,
      "outputs": []
    },
    {
      "cell_type": "code",
      "metadata": {
        "id": "g6nk3alkxBhB"
      },
      "source": [
        "data_stem[\"comentarios_stem\"] = comentario_list\n",
        "data_stem.head()"
      ],
      "execution_count": null,
      "outputs": []
    },
    {
      "cell_type": "code",
      "metadata": {
        "id": "8Wha3Q1dxBZI"
      },
      "source": [
        "data_stem2= pd.concat([data_stem.stars,data_stem.comentarios_stem],axis=1)\n",
        "data_stem2.comentarios_stem[:21]"
      ],
      "execution_count": null,
      "outputs": []
    },
    {
      "cell_type": "markdown",
      "metadata": {
        "id": "4LXTBE3G0S53"
      },
      "source": [
        "### **Comparación Normal - Porter - Snowball**"
      ]
    },
    {
      "cell_type": "markdown",
      "metadata": {
        "id": "4LpWWiOR0hoS"
      },
      "source": [
        "**Normal**"
      ]
    },
    {
      "cell_type": "code",
      "metadata": {
        "id": "5Hy7mcRb0FKi"
      },
      "source": [
        "comentario = data.iloc[199439].review_body\n",
        "estrella = data.iloc[199439].stars\n",
        "print(estrella)\n",
        "print(comentario)"
      ],
      "execution_count": null,
      "outputs": []
    },
    {
      "cell_type": "markdown",
      "metadata": {
        "id": "jy0-98zj0i_b"
      },
      "source": [
        "**Porter**"
      ]
    },
    {
      "cell_type": "code",
      "metadata": {
        "id": "5LmSyCU-z8Za"
      },
      "source": [
        "comentario = data_stem1.iloc[199439].comentarios_stem\n",
        "estrella = data_stem1.iloc[199439].stars\n",
        "print(estrella)\n",
        "print(comentario)"
      ],
      "execution_count": null,
      "outputs": []
    },
    {
      "cell_type": "markdown",
      "metadata": {
        "id": "5sgIPErT0knX"
      },
      "source": [
        "**Snowball**"
      ]
    },
    {
      "cell_type": "code",
      "metadata": {
        "id": "TYHjs2vKzNRO"
      },
      "source": [
        "index_random = np.random.randint(0,high = data_stem2.shape[0])\n",
        "comentario = data_stem2.iloc[index_random].comentarios_stem\n",
        "estrella = data_stem2.iloc[index_random].stars\n",
        "\n",
        "print(index_random)\n",
        "print(estrella)\n",
        "print(comentario)"
      ],
      "execution_count": null,
      "outputs": []
    },
    {
      "cell_type": "markdown",
      "metadata": {
        "id": "nDlyZPAcksxX"
      },
      "source": [
        "## 3- Lemmatization"
      ]
    },
    {
      "cell_type": "markdown",
      "metadata": {
        "id": "fSuj9Yks2bkY"
      },
      "source": [
        "### **1- WordNetLemmatizer**"
      ]
    },
    {
      "cell_type": "code",
      "metadata": {
        "id": "JqtvOBn_mr5H"
      },
      "source": [
        "nltk.download('wordnet')\n",
        "nltk.download('averaged_perceptron_tagger')\n",
        "nltk.download('maxent_treebank_pos_')\n",
        "from nltk.stem import WordNetLemmatizer\n",
        "wordnet_lemmatizer = WordNetLemmatizer()"
      ],
      "execution_count": null,
      "outputs": []
    },
    {
      "cell_type": "code",
      "metadata": {
        "id": "NlkoVbB2rNul"
      },
      "source": [
        "# Oracion que usaremos como ejemplo\n",
        "frase = \"En la descripción del producto dice que es compatible con HP Pavillion DV6 y no es cierto. No encaja en el hueco. Además al día siguiente compré uno original, hice los trámites para la devolución y un mes y medio más tarde sigo esperando que me recojan el producto.\"\n",
        "\n",
        "# Hay que regularizar el texto. Dejar solo letra, pasar a minúsculas y tokenizar:\n",
        "\n",
        "frase = clean_text_round1(frase)\n",
        "\n",
        "# Sacamos todo lo que no sean letras\n",
        "frase = re.sub(\"[^a-zA-Z]\",\" \",str(frase))\n",
        "# Pasamos a minúsculas\n",
        "frase = frase.lower()\n",
        "# Tokenizamos\n",
        "frase_tokens = nltk.word_tokenize(frase)\n",
        "\n",
        "# Veamos como cambians las palabras al lemmatizar\n",
        "print(\"{0:20}{1:20}\".format(\"Word\",\"Lemma\"))\n",
        "for palabra in frase_tokens:\n",
        "    print (\"{0:20}{1:20}\".format(palabra,wordnet_lemmatizer.lemmatize(palabra)))"
      ],
      "execution_count": null,
      "outputs": []
    },
    {
      "cell_type": "code",
      "metadata": {
        "id": "5X8eu0w_mr2p"
      },
      "source": [
        "print(nltk.pos_tag(frase_tokens))"
      ],
      "execution_count": null,
      "outputs": []
    },
    {
      "cell_type": "code",
      "metadata": {
        "id": "_T2mAhHZmr0R"
      },
      "source": [
        "from nltk.corpus import wordnet\n",
        "\n",
        "def get_wordnet_pos(word):\n",
        "    \"\"\"Map POS tag to first character lemmatize() accepts\"\"\"\n",
        "    tag = nltk.pos_tag([word])[0][1][0].upper()\n",
        "    tag_dict = {\"J\": wordnet.ADJ,\n",
        "                \"N\": wordnet.NOUN,\n",
        "                \"V\": wordnet.VERB,\n",
        "                \"R\": wordnet.ADV}\n",
        "\n",
        "    return tag_dict.get(tag, wordnet.NOUN)"
      ],
      "execution_count": null,
      "outputs": []
    },
    {
      "cell_type": "code",
      "metadata": {
        "id": "PjpoTi_F2_Po"
      },
      "source": [
        "frase_lemma = [wordnet_lemmatizer.lemmatize(w, get_wordnet_pos(w)) for w in nltk.word_tokenize(frase)]\n",
        "tipo_palabra = [get_wordnet_pos(w) for w in nltk.word_tokenize(frase)]\n",
        "\n",
        "# Veamos como cambiaron las palabras\n",
        "print(\"{0:20}{1:20}{2:20}\".format(\"Palabra:\",\"Tipo:\",\"Lemma:\"))\n",
        "for i in range(len(frase_tokens)):\n",
        "    print (\"{0:20}{1:20}{2:20}\".format(frase_tokens[i],tipo_palabra[i],frase_lemma[i]))"
      ],
      "execution_count": null,
      "outputs": []
    },
    {
      "cell_type": "code",
      "metadata": {
        "id": "ACm3FZZc2_Ga"
      },
      "source": [
        ""
      ],
      "execution_count": null,
      "outputs": []
    },
    {
      "cell_type": "code",
      "metadata": {
        "id": "JvK8WyIl2_Dg"
      },
      "source": [
        ""
      ],
      "execution_count": null,
      "outputs": []
    },
    {
      "cell_type": "markdown",
      "metadata": {
        "id": "1IFMOVxl2ioQ"
      },
      "source": [
        "### **2- Stanza**"
      ]
    },
    {
      "cell_type": "code",
      "metadata": {
        "id": "VF9ZzkfD4kOZ",
        "colab": {
          "base_uri": "https://localhost:8080/"
        },
        "outputId": "5eb67a55-6d03-4984-c7a7-d7248c092324"
      },
      "source": [
        "!pip install stanza\n"
      ],
      "execution_count": null,
      "outputs": [
        {
          "output_type": "stream",
          "text": [
            "Collecting stanza\n",
            "\u001b[?25l  Downloading https://files.pythonhosted.org/packages/50/ae/a70a58ce6b4e2daad538688806ee0f238dbe601954582a74ea57cde6c532/stanza-1.2-py3-none-any.whl (282kB)\n",
            "\r\u001b[K     |█▏                              | 10kB 13.3MB/s eta 0:00:01\r\u001b[K     |██▎                             | 20kB 19.0MB/s eta 0:00:01\r\u001b[K     |███▌                            | 30kB 23.4MB/s eta 0:00:01\r\u001b[K     |████▋                           | 40kB 25.2MB/s eta 0:00:01\r\u001b[K     |█████▉                          | 51kB 26.7MB/s eta 0:00:01\r\u001b[K     |███████                         | 61kB 17.7MB/s eta 0:00:01\r\u001b[K     |████████▏                       | 71kB 18.7MB/s eta 0:00:01\r\u001b[K     |█████████▎                      | 81kB 17.1MB/s eta 0:00:01\r\u001b[K     |██████████▌                     | 92kB 17.9MB/s eta 0:00:01\r\u001b[K     |███████████▋                    | 102kB 17.5MB/s eta 0:00:01\r\u001b[K     |████████████▉                   | 112kB 17.5MB/s eta 0:00:01\r\u001b[K     |██████████████                  | 122kB 17.5MB/s eta 0:00:01\r\u001b[K     |███████████████                 | 133kB 17.5MB/s eta 0:00:01\r\u001b[K     |████████████████▎               | 143kB 17.5MB/s eta 0:00:01\r\u001b[K     |█████████████████▍              | 153kB 17.5MB/s eta 0:00:01\r\u001b[K     |██████████████████▋             | 163kB 17.5MB/s eta 0:00:01\r\u001b[K     |███████████████████▊            | 174kB 17.5MB/s eta 0:00:01\r\u001b[K     |█████████████████████           | 184kB 17.5MB/s eta 0:00:01\r\u001b[K     |██████████████████████          | 194kB 17.5MB/s eta 0:00:01\r\u001b[K     |███████████████████████▎        | 204kB 17.5MB/s eta 0:00:01\r\u001b[K     |████████████████████████▍       | 215kB 17.5MB/s eta 0:00:01\r\u001b[K     |█████████████████████████▋      | 225kB 17.5MB/s eta 0:00:01\r\u001b[K     |██████████████████████████▊     | 235kB 17.5MB/s eta 0:00:01\r\u001b[K     |███████████████████████████▉    | 245kB 17.5MB/s eta 0:00:01\r\u001b[K     |█████████████████████████████   | 256kB 17.5MB/s eta 0:00:01\r\u001b[K     |██████████████████████████████▏ | 266kB 17.5MB/s eta 0:00:01\r\u001b[K     |███████████████████████████████▍| 276kB 17.5MB/s eta 0:00:01\r\u001b[K     |████████████████████████████████| 286kB 17.5MB/s \n",
            "\u001b[?25hRequirement already satisfied: numpy in /usr/local/lib/python3.7/dist-packages (from stanza) (1.19.5)\n",
            "Requirement already satisfied: torch>=1.3.0 in /usr/local/lib/python3.7/dist-packages (from stanza) (1.8.1+cu101)\n",
            "Requirement already satisfied: protobuf in /usr/local/lib/python3.7/dist-packages (from stanza) (3.12.4)\n",
            "Requirement already satisfied: tqdm in /usr/local/lib/python3.7/dist-packages (from stanza) (4.41.1)\n",
            "Requirement already satisfied: requests in /usr/local/lib/python3.7/dist-packages (from stanza) (2.23.0)\n",
            "Requirement already satisfied: typing-extensions in /usr/local/lib/python3.7/dist-packages (from torch>=1.3.0->stanza) (3.7.4.3)\n",
            "Requirement already satisfied: setuptools in /usr/local/lib/python3.7/dist-packages (from protobuf->stanza) (56.0.0)\n",
            "Requirement already satisfied: six>=1.9 in /usr/local/lib/python3.7/dist-packages (from protobuf->stanza) (1.15.0)\n",
            "Requirement already satisfied: idna<3,>=2.5 in /usr/local/lib/python3.7/dist-packages (from requests->stanza) (2.10)\n",
            "Requirement already satisfied: certifi>=2017.4.17 in /usr/local/lib/python3.7/dist-packages (from requests->stanza) (2020.12.5)\n",
            "Requirement already satisfied: chardet<4,>=3.0.2 in /usr/local/lib/python3.7/dist-packages (from requests->stanza) (3.0.4)\n",
            "Requirement already satisfied: urllib3!=1.25.0,!=1.25.1,<1.26,>=1.21.1 in /usr/local/lib/python3.7/dist-packages (from requests->stanza) (1.24.3)\n",
            "Installing collected packages: stanza\n",
            "Successfully installed stanza-1.2\n"
          ],
          "name": "stdout"
        }
      ]
    },
    {
      "cell_type": "code",
      "metadata": {
        "id": "CVDujzRz2m82",
        "colab": {
          "base_uri": "https://localhost:8080/"
        },
        "outputId": "d38f23eb-132a-4c6c-fea9-46468c4ec841"
      },
      "source": [
        "import stanza\n",
        "stanza.download(\"es\")\n",
        "nlp = stanza.Pipeline(lang='es', processors='tokenize,mwt,pos,lemma')\n",
        "texto_pablito = \"En la descripción del producto dice que es compatible con HP Pavillion DV6 y no es cierto. No encaja en el hueco. Además al día siguiente compré uno original, hice los trámites para la devolución y un mes y medio más tarde sigo esperando que me recojan el producto.\"\n",
        "doc = nlp(texto_pablito)\n",
        "print(*[f'Palabra: {word.text+\" \"}\\tLemma: {word.lemma}' for sent in doc.sentences for word in sent.words], sep='\\n')"
      ],
      "execution_count": null,
      "outputs": [
        {
          "output_type": "stream",
          "text": [
            "Downloading https://raw.githubusercontent.com/stanfordnlp/stanza-resources/master/resources_1.2.0.json: 128kB [00:00, 26.5MB/s]                    \n",
            "2021-04-29 21:59:31 INFO: Downloading default packages for language: es (Spanish)...\n",
            "Downloading http://nlp.stanford.edu/software/stanza/1.2.0/es/default.zip: 100%|██████████| 566M/566M [01:43<00:00, 5.49MB/s]\n",
            "2021-04-29 22:01:23 INFO: Finished downloading models and saved to /root/stanza_resources.\n",
            "2021-04-29 22:01:24 INFO: Loading these models for language: es (Spanish):\n",
            "=======================\n",
            "| Processor | Package |\n",
            "-----------------------\n",
            "| tokenize  | ancora  |\n",
            "| mwt       | ancora  |\n",
            "| pos       | ancora  |\n",
            "| lemma     | ancora  |\n",
            "=======================\n",
            "\n",
            "2021-04-29 22:01:24 INFO: Use device: cpu\n",
            "2021-04-29 22:01:24 INFO: Loading: tokenize\n",
            "2021-04-29 22:01:24 INFO: Loading: mwt\n",
            "2021-04-29 22:01:24 INFO: Loading: pos\n",
            "2021-04-29 22:01:24 INFO: Loading: lemma\n",
            "2021-04-29 22:01:24 INFO: Done loading processors!\n"
          ],
          "name": "stderr"
        },
        {
          "output_type": "stream",
          "text": [
            "Palabra: En \tLemma: en\n",
            "Palabra: la \tLemma: el\n",
            "Palabra: descripción \tLemma: descripción\n",
            "Palabra: del \tLemma: del\n",
            "Palabra: producto \tLemma: producto\n",
            "Palabra: dice \tLemma: decir\n",
            "Palabra: que \tLemma: que\n",
            "Palabra: es \tLemma: ser\n",
            "Palabra: compatible \tLemma: compatible\n",
            "Palabra: con \tLemma: con\n",
            "Palabra: HP \tLemma: HP\n",
            "Palabra: Pavillion \tLemma: Pavillion\n",
            "Palabra: DV6 \tLemma: DV6\n",
            "Palabra: y \tLemma: y\n",
            "Palabra: no \tLemma: no\n",
            "Palabra: es \tLemma: ser\n",
            "Palabra: cierto \tLemma: cierto\n",
            "Palabra: . \tLemma: .\n",
            "Palabra: No \tLemma: no\n",
            "Palabra: encaja \tLemma: encajar\n",
            "Palabra: en \tLemma: en\n",
            "Palabra: el \tLemma: el\n",
            "Palabra: hueco \tLemma: hueco\n",
            "Palabra: . \tLemma: .\n",
            "Palabra: Además \tLemma: además\n",
            "Palabra: al \tLemma: al\n",
            "Palabra: día \tLemma: día\n",
            "Palabra: siguiente \tLemma: siguiente\n",
            "Palabra: compré \tLemma: comprar\n",
            "Palabra: uno \tLemma: uno\n",
            "Palabra: original \tLemma: original\n",
            "Palabra: , \tLemma: ,\n",
            "Palabra: hice \tLemma: hacer\n",
            "Palabra: los \tLemma: el\n",
            "Palabra: trámites \tLemma: trámite\n",
            "Palabra: para \tLemma: para\n",
            "Palabra: la \tLemma: el\n",
            "Palabra: devolución \tLemma: devolución\n",
            "Palabra: y \tLemma: y\n",
            "Palabra: un \tLemma: uno\n",
            "Palabra: mes \tLemma: mes\n",
            "Palabra: y \tLemma: y\n",
            "Palabra: medio \tLemma: medio\n",
            "Palabra: más \tLemma: más\n",
            "Palabra: tarde \tLemma: tarde\n",
            "Palabra: sigo \tLemma: seguir\n",
            "Palabra: esperando \tLemma: esperar\n",
            "Palabra: que \tLemma: que\n",
            "Palabra: me \tLemma: yo\n",
            "Palabra: recojan \tLemma: recoger\n",
            "Palabra: el \tLemma: el\n",
            "Palabra: producto \tLemma: producto\n",
            "Palabra: . \tLemma: .\n"
          ],
          "name": "stdout"
        }
      ]
    },
    {
      "cell_type": "code",
      "metadata": {
        "id": "hnsWTbxs479o"
      },
      "source": [
        "# Oracion que usaremos como ejemplo\n",
        "frase = \"En la descripción del producto dice que es compatible con HP Pavillion DV6 y no es cierto. No encaja en el hueco. Además al día siguiente compré uno original, hice los trámites para la devolución y un mes y medio más tarde sigo esperando que me recojan el producto.\"\n",
        "\n",
        "# Hay que regularizar el texto. Dejar solo letra, pasar a minúsculas y tokenizar:\n",
        "\n",
        "frase = clean_text_round1(frase)\n",
        "\n",
        "# Sacamos todo lo que no sean letras\n",
        "frase = re.sub(\"[^a-zA-Z]\",\" \",str(frase))\n",
        "# Pasamos a minúsculas\n",
        "frase = frase.lower()\n",
        "# Tokenizamos\n",
        "nlp = stanza.Pipeline(lang='es', processors='tokenize,mwt,pos,lemma')\n",
        "doc = nlp(frase)\n",
        "# Veamos como cambians las palabras al lemmatizar\n",
        "print(\"{0:20}{1:20}\".format(\"Word\",\"Lemma\"))\n",
        "for palabra in doc.sentences:\n",
        "    print (\"{0:20}{1:20}\".format(palabra,wordnet_lemmatizer.lemmatize(palabra)))"
      ],
      "execution_count": null,
      "outputs": []
    },
    {
      "cell_type": "code",
      "metadata": {
        "id": "6DE7Jqvw2m43"
      },
      "source": [
        ""
      ],
      "execution_count": null,
      "outputs": []
    },
    {
      "cell_type": "code",
      "metadata": {
        "id": "QKeGh3MB2mxh"
      },
      "source": [
        ""
      ],
      "execution_count": null,
      "outputs": []
    },
    {
      "cell_type": "markdown",
      "metadata": {
        "id": "rYRbttY5kCYX"
      },
      "source": [
        "# 3 - Vectorización"
      ]
    },
    {
      "cell_type": "markdown",
      "metadata": {
        "id": "YUUQHcNesSHy"
      },
      "source": [
        "## 1er Sprint"
      ]
    },
    {
      "cell_type": "code",
      "metadata": {
        "colab": {
          "base_uri": "https://localhost:8080/",
          "height": 195
        },
        "id": "Z43KBdflsRTy",
        "outputId": "3a609dc5-7189-421a-d11d-6218509e576c"
      },
      "source": [
        "comentarios = data['review_body'].to_frame('review_body')\n",
        "comentarios.head()"
      ],
      "execution_count": null,
      "outputs": [
        {
          "output_type": "execute_result",
          "data": {
            "text/html": [
              "<div>\n",
              "<style scoped>\n",
              "    .dataframe tbody tr th:only-of-type {\n",
              "        vertical-align: middle;\n",
              "    }\n",
              "\n",
              "    .dataframe tbody tr th {\n",
              "        vertical-align: top;\n",
              "    }\n",
              "\n",
              "    .dataframe thead th {\n",
              "        text-align: right;\n",
              "    }\n",
              "</style>\n",
              "<table border=\"1\" class=\"dataframe\">\n",
              "  <thead>\n",
              "    <tr style=\"text-align: right;\">\n",
              "      <th></th>\n",
              "      <th>review_body</th>\n",
              "    </tr>\n",
              "  </thead>\n",
              "  <tbody>\n",
              "    <tr>\n",
              "      <th>0</th>\n",
              "      <td>Nada bueno se me fue ka pantalla en menos de 8...</td>\n",
              "    </tr>\n",
              "    <tr>\n",
              "      <th>1</th>\n",
              "      <td>Horrible, nos tuvimos que comprar otro porque ...</td>\n",
              "    </tr>\n",
              "    <tr>\n",
              "      <th>2</th>\n",
              "      <td>Te obligan a comprar dos unidades y te llega s...</td>\n",
              "    </tr>\n",
              "    <tr>\n",
              "      <th>3</th>\n",
              "      <td>No entro en descalificar al vendedor, solo pue...</td>\n",
              "    </tr>\n",
              "    <tr>\n",
              "      <th>4</th>\n",
              "      <td>Llega tarde y co la talla equivocada</td>\n",
              "    </tr>\n",
              "  </tbody>\n",
              "</table>\n",
              "</div>"
            ],
            "text/plain": [
              "                                         review_body\n",
              "0  Nada bueno se me fue ka pantalla en menos de 8...\n",
              "1  Horrible, nos tuvimos que comprar otro porque ...\n",
              "2  Te obligan a comprar dos unidades y te llega s...\n",
              "3  No entro en descalificar al vendedor, solo pue...\n",
              "4               Llega tarde y co la talla equivocada"
            ]
          },
          "metadata": {
            "tags": []
          },
          "execution_count": 31
        }
      ]
    },
    {
      "cell_type": "code",
      "metadata": {
        "id": "eAHtc69zsRPm"
      },
      "source": [
        "filtrar = ['es','el','muy','la','los','lo','me','si','no','se']\n",
        "resenas = []\n",
        "for i in range(comentarios.shape[0]):\n",
        "  comentario = comentarios.iloc[i].review_body\n",
        "  comentario = clean_text_round1(comentario)\n",
        "  comentario = nltk.tokenize.RegexpTokenizer(\"[\\w]+\").tokenize(comentario)\n",
        "  comentario = [word for word in comentario if word not in stopwords]\n",
        "  comentario = [word for word in comentario if word not in filtrar]\n",
        "\n",
        "  # Por ultimo volvemos a unir el titular\n",
        "  comentario=\" \".join(comentario)\n",
        "\n",
        "  resenas.append(comentario)"
      ],
      "execution_count": null,
      "outputs": []
    },
    {
      "cell_type": "code",
      "metadata": {
        "id": "jW8-bPQ6sRM7"
      },
      "source": [
        "comentarios['filtro1'] = resenas\n",
        "comentarios.tail()"
      ],
      "execution_count": null,
      "outputs": []
    },
    {
      "cell_type": "markdown",
      "metadata": {
        "id": "9K1fM6liuj6N"
      },
      "source": [
        "### Vectorizamos"
      ]
    },
    {
      "cell_type": "code",
      "metadata": {
        "id": "rL9ZIhZcWc5D"
      },
      "source": [
        "#Elegimos los comentarios en el filtrado anterior.\n",
        "comentarios= list(comentarios['filtro1'].values)\n",
        "puntaje= data['stars'].values\n"
      ],
      "execution_count": null,
      "outputs": []
    },
    {
      "cell_type": "code",
      "metadata": {
        "id": "QnxXHZalWcon"
      },
      "source": [
        "from sklearn.feature_extraction.text import CountVectorizer\n",
        "\n",
        "max_features = 1000\n",
        "\n",
        "count_vec= CountVectorizer(max_features = max_features)"
      ],
      "execution_count": null,
      "outputs": []
    },
    {
      "cell_type": "code",
      "metadata": {
        "id": "eaS_to7jug7k"
      },
      "source": [
        "matriz_comentarios = count_vec.fit_transform(comentarios)\n",
        "\n",
        "# Tomamos las palabras\n",
        "all_words = count_vec.get_feature_names()\n",
        "\n",
        "# Vizualizamos las 50 palabras mas usadas\n",
        "print(\"50 palabras mas usadas: \",all_words[0:50])"
      ],
      "execution_count": null,
      "outputs": []
    },
    {
      "cell_type": "markdown",
      "metadata": {
        "id": "iWHRaoKnxzXl"
      },
      "source": [
        "## 2do Sprint\n"
      ]
    },
    {
      "cell_type": "code",
      "metadata": {
        "id": "W-cey3Uax3YP"
      },
      "source": [
        ""
      ],
      "execution_count": null,
      "outputs": []
    },
    {
      "cell_type": "code",
      "metadata": {
        "id": "JMOhzqVhx3V9"
      },
      "source": [
        ""
      ],
      "execution_count": null,
      "outputs": []
    },
    {
      "cell_type": "code",
      "metadata": {
        "id": "iyW8Fuflx3TJ"
      },
      "source": [
        ""
      ],
      "execution_count": null,
      "outputs": []
    },
    {
      "cell_type": "code",
      "metadata": {
        "id": "zV7OJw6px3RS"
      },
      "source": [
        ""
      ],
      "execution_count": null,
      "outputs": []
    },
    {
      "cell_type": "markdown",
      "metadata": {
        "id": "k649M8knkCLV"
      },
      "source": [
        "# 4 - Modelos"
      ]
    },
    {
      "cell_type": "code",
      "metadata": {
        "id": "POlO1ia7f96D"
      },
      "source": [
        "from sklearn.metrics import accuracy_score, classification_report, confusion_matrix"
      ],
      "execution_count": null,
      "outputs": []
    },
    {
      "cell_type": "markdown",
      "metadata": {
        "id": "ozRu0Vrrx-aO"
      },
      "source": [
        "## 1er Sprint"
      ]
    },
    {
      "cell_type": "markdown",
      "metadata": {
        "id": "bXOm9csrvDyJ"
      },
      "source": [
        "### Train Test"
      ]
    },
    {
      "cell_type": "code",
      "metadata": {
        "id": "2voejj14kLyn"
      },
      "source": [
        "x = matriz_comentarios.toarray()\n",
        "y = puntaje\n",
        "\n",
        "from sklearn.model_selection import train_test_split\n",
        "xtrain, xtest, ytrain, ytest = train_test_split(x,y,test_size=0.2,random_state=42,stratify=y)"
      ],
      "execution_count": null,
      "outputs": []
    },
    {
      "cell_type": "markdown",
      "metadata": {
        "id": "MPwYVi2jvPGB"
      },
      "source": [
        "Definimos una función que nos permita plotear los resultados en una matriz de confusión"
      ]
    },
    {
      "cell_type": "code",
      "metadata": {
        "id": "uRiW8Aq1vLCm"
      },
      "source": [
        "from sklearn.metrics import confusion_matrix\n",
        "import seaborn as sns\n",
        "\n",
        "def confusion(ytest,y_pred):\n",
        "    stars=['1','2','3','4','5']\n",
        "    cm=confusion_matrix(ytest,y_pred)\n",
        "    f,ax=plt.subplots(figsize=(10,10))\n",
        "    sns.heatmap(cm,annot=True,linewidth=.5,linecolor=\"r\",fmt=\".0f\",ax=ax)\n",
        "    plt.xlabel(\"y_pred\")\n",
        "    plt.ylabel(\"y_true\")\n",
        "    ax.set_xticklabels(stars)\n",
        "    ax.set_yticklabels(stars)\n",
        "    plt.show()\n",
        "\n",
        "    return"
      ],
      "execution_count": null,
      "outputs": []
    },
    {
      "cell_type": "markdown",
      "metadata": {
        "id": "f99kglpmvnj8"
      },
      "source": [
        "### Naive Bayes"
      ]
    },
    {
      "cell_type": "code",
      "metadata": {
        "id": "H0FY5mfxyu2y"
      },
      "source": [
        "data.memory"
      ],
      "execution_count": null,
      "outputs": []
    },
    {
      "cell_type": "code",
      "metadata": {
        "colab": {
          "base_uri": "https://localhost:8080/"
        },
        "id": "Nz7nVB_AvLmP",
        "outputId": "32ad8671-b80a-4d36-9622-edb4ec2f161d"
      },
      "source": [
        "from sklearn.naive_bayes import GaussianNB\n",
        "nb = GaussianNB()\n",
        "nb.fit(xtrain,ytrain)\n",
        "print(\"acc : \", nb.score(xtest,ytest))"
      ],
      "execution_count": null,
      "outputs": [
        {
          "output_type": "stream",
          "text": [
            "acc :  0.3881\n"
          ],
          "name": "stdout"
        }
      ]
    },
    {
      "cell_type": "code",
      "metadata": {
        "colab": {
          "base_uri": "https://localhost:8080/",
          "height": 611
        },
        "id": "cglk3FW7vLkB",
        "outputId": "890ee816-e6d5-4701-924b-d3599982e438"
      },
      "source": [
        "y_pred=nb.predict(xtest)\n",
        "confusion(ytest,y_pred)"
      ],
      "execution_count": null,
      "outputs": [
        {
          "output_type": "display_data",
          "data": {
            "image/png": "[encoded data removed]",
            "text/plain": [
              "<Figure size 720x720 with 2 Axes>"
            ]
          },
          "metadata": {
            "tags": []
          }
        }
      ]
    },
    {
      "cell_type": "code",
      "metadata": {
        "colab": {
          "base_uri": "https://localhost:8080/"
        },
        "id": "Dk5ATQj8f3We",
        "outputId": "fca70dff-46d9-4b97-eff3-f50a0f0d8f52"
      },
      "source": [
        "print(classification_report(ytest, y_pred))"
      ],
      "execution_count": null,
      "outputs": [
        {
          "output_type": "stream",
          "text": [
            "              precision    recall  f1-score   support\n",
            "\n",
            "           1       0.51      0.60      0.55      8000\n",
            "           2       0.35      0.21      0.26      8000\n",
            "           3       0.34      0.16      0.22      8000\n",
            "           4       0.33      0.19      0.24      8000\n",
            "           5       0.36      0.78      0.49      8000\n",
            "\n",
            "    accuracy                           0.39     40000\n",
            "   macro avg       0.38      0.39      0.35     40000\n",
            "weighted avg       0.38      0.39      0.35     40000\n",
            "\n"
          ],
          "name": "stdout"
        }
      ]
    },
    {
      "cell_type": "markdown",
      "metadata": {
        "id": "phzwBG5TwEfj"
      },
      "source": [
        "Como es de esperarse: Los extremos tienen \"buenos\" accuracys, y descienden "
      ]
    },
    {
      "cell_type": "markdown",
      "metadata": {
        "id": "sEhr8EMHwcDT"
      },
      "source": [
        "### Random Forest"
      ]
    },
    {
      "cell_type": "code",
      "metadata": {
        "colab": {
          "base_uri": "https://localhost:8080/"
        },
        "id": "zPQCZdwLvLg6",
        "outputId": "784aad1d-1773-46a3-cf2a-a4b798403bd8"
      },
      "source": [
        "from sklearn.ensemble import RandomForestClassifier\n",
        "from sklearn.metrics import confusion_matrix\n",
        "\n",
        "rf = RandomForestClassifier(n_estimators = 50, random_state=42)\n",
        "rf.fit(xtrain,ytrain)\n",
        "print(\"acc: \",rf.score(xtest,ytest))"
      ],
      "execution_count": null,
      "outputs": [
        {
          "output_type": "stream",
          "text": [
            "acc:  0.42275\n"
          ],
          "name": "stdout"
        }
      ]
    },
    {
      "cell_type": "code",
      "metadata": {
        "colab": {
          "base_uri": "https://localhost:8080/",
          "height": 614
        },
        "id": "yDvFKqEQvLeF",
        "outputId": "201c6a59-42bc-4a0a-fc08-4f16a9c40706"
      },
      "source": [
        "y_pred=rf.predict(xtest)\n",
        "confusion(ytest,y_pred)"
      ],
      "execution_count": null,
      "outputs": [
        {
          "output_type": "display_data",
          "data": {
            "image/png": "[encoded data removed]",
            "text/plain": [
              "<Figure size 720x720 with 2 Axes>"
            ]
          },
          "metadata": {
            "tags": []
          }
        }
      ]
    },
    {
      "cell_type": "code",
      "metadata": {
        "id": "LHBVPQr_wgka",
        "colab": {
          "base_uri": "https://localhost:8080/"
        },
        "outputId": "2ff13074-2d45-4159-928d-c5aecb0620ee"
      },
      "source": [
        "print(classification_report(ytest, y_pred))"
      ],
      "execution_count": null,
      "outputs": [
        {
          "output_type": "stream",
          "text": [
            "              precision    recall  f1-score   support\n",
            "\n",
            "           1       0.56      0.63      0.59      8000\n",
            "           2       0.36      0.30      0.33      8000\n",
            "           3       0.33      0.29      0.31      8000\n",
            "           4       0.35      0.36      0.36      8000\n",
            "           5       0.47      0.54      0.50      8000\n",
            "\n",
            "    accuracy                           0.42     40000\n",
            "   macro avg       0.41      0.42      0.42     40000\n",
            "weighted avg       0.41      0.42      0.42     40000\n",
            "\n"
          ],
          "name": "stdout"
        }
      ]
    },
    {
      "cell_type": "markdown",
      "metadata": {
        "id": "LEKgYQTRyBGQ"
      },
      "source": [
        "## 2do Sprint\n"
      ]
    },
    {
      "cell_type": "code",
      "metadata": {
        "id": "w2ThdUBXyEQ8"
      },
      "source": [
        ""
      ],
      "execution_count": null,
      "outputs": []
    }
  ]
}
