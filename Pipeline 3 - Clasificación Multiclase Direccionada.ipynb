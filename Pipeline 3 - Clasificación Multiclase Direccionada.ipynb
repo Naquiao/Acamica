{
  "nbformat": 4,
  "nbformat_minor": 0,
  "metadata": {
    "colab": {
      "name": "Pipeline 3 - Clasificación Multiclase Direccionada.ipynb",
      "provenance": [],
      "collapsed_sections": [
        "qwWQbsrZ1_W0",
        "leI0iT8A1ybe",
        "AUuu5gGb-yvT",
        "seD9DMM3wBC_",
        "V9PSzY9Nh5hy",
        "q9lRLSGPjSxE",
        "qW4GifJa8pGZ",
        "B1Zcw33S8s5z",
        "41HcGHWgRTEi",
        "-u_74RNG6U8p"
      ],
      "toc_visible": true
    },
    "kernelspec": {
      "display_name": "Python 3",
      "language": "python",
      "name": "python3"
    },
    "language_info": {
      "codemirror_mode": {
        "name": "ipython",
        "version": 3
      },
      "file_extension": ".py",
      "mimetype": "text/x-python",
      "name": "python",
      "nbconvert_exporter": "python",
      "pygments_lexer": "ipython3",
      "version": "3.8.5"
    }
  },
  "cells": [
    {
      "cell_type": "markdown",
      "metadata": {
        "id": "qwWQbsrZ1_W0"
      },
      "source": [
        "# **Amazon stars reviews prediction - NLP**\n",
        "## **Clasificación Multiclase Direccionada**\n",
        "            \n",
        "            \n"
      ]
    },
    {
      "cell_type": "markdown",
      "metadata": {
        "id": "G9TftoAw2PsA"
      },
      "source": [
        "![image.png](data:image/png;base64,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)"
      ]
    },
    {
      "cell_type": "markdown",
      "metadata": {
        "id": "gP0dZfCOzgR0"
      },
      "source": [
        "Este proyecto tiene como fin, profundizar en las conclusiones dispuestas en mi proyecto [\"Amazon-Stars-Reviews-Project\"](https://github.com/Naquiao/Amazon-Stars-Reviews-Project).\n",
        "\n",
        "Dicho esto, cabe destacar que se utilizará el mismo [Dataset](https://drive.google.com/uc?export=download&id=11XnXB7Ubgf3t6gotXGlM4FCwPOMHhDLX) provisto por [The Multilingual Amazon Reviews Corpus](https://registry.opendata.aws/amazon-reviews-ml/).\n",
        "\n",
        "---\n",
        "\n"
      ]
    },
    {
      "cell_type": "markdown",
      "metadata": {
        "id": "_fskcX7O1EQ9"
      },
      "source": [
        "El objetivo de este proyecto es sustancialmente el mismo; crear un modelo qué, en base a la reseña de un producto, prediga cuantas estrellas tendrá el mismo. \n"
      ]
    },
    {
      "cell_type": "markdown",
      "metadata": {
        "id": "leI0iT8A1ybe"
      },
      "source": [
        "# **Resumen del proyecto anterior**"
      ]
    },
    {
      "cell_type": "markdown",
      "metadata": {
        "id": "RlPjOsrt2N3W"
      },
      "source": [
        "En el proyecto se utilizaron las bases de datos anteriormente mencionadas para crear el modelo. Se siguió un pipeline de trabajo que tiene la siguiente esquema:\n",
        "\n",
        "\n",
        "\n",
        "1.   `Normalización`\n",
        "2.   `Vectorización`\n",
        "3.   `Modelo`\n",
        "\n",
        "En la etapa de **Normalización**, se realizó la limpieza del dataset. Se utilizaron funciones de limpieza tales como: Eliminación de RegEx, eliminación de tildes, eliminación de emojis y emoticones, eliminación de Stopwords y palabras menores a 3 letras.\n",
        "\n",
        "Una vez aplicadas estas funciones,se obtuvieron los comentarios normalizados (o comentarios limpios). A partir de estos comentarios limpios se crearon dos features debido a tecnicas de normalización especiales :\n",
        "\n",
        "\n",
        "*   El primero fue la aplicación de SnowballStemmer de la librería NLTK, en donde se hizo el proceso de Stemming sobre los comentarios normalizados.\n",
        "*   El segundo, fue la Lematización de los comentarios normalizados a partir de la librería spaCy.\n",
        "\n",
        "En conclusión de esta etapa, se obtuvieron 3 columnas: \n",
        "\n",
        "\n",
        "**A.   Comentarios Normalizados**\n",
        "\n",
        "**B.   Comentarios Stematizados**\n",
        "\n",
        "**C.   Comentarios Lematizados**\n",
        "\n",
        "En la etapa 2, de **Vectorización**, se probaron 5 modelos diferentes de bag of words.\n",
        "\n",
        "1.   `Count Vectorizer`\n",
        "2.   `TF`\n",
        "3. `TF - IDF: Uni-grama`\n",
        "4. `TF - IDF: Uni-grama + Bi-grama`\n",
        "5. `TF - IDF: Bi-grama`\n",
        "\n",
        "Los mejores resultados se presentaron en TF - IDF de unigramas y bigramas, seguido del método TF (TF-IDF sin la penalización del IDF).\n",
        "\n",
        "En la última etapa se definió un modelo benchmark, un clasificador Naive Bayes Gaussiano. \n",
        "\n",
        "Se probaron otros dos modelos. Una máquina de soporte vectorial (Support Vector Machine) con un kernel linear (por ende, un LinearSVC de la librería scikit-learn) y un Random Forest. Se utilizaron los hiperparámetros por defecto en los 3 modelos. \n",
        "\n",
        "Se probaron los 3 tipos de comentarios para cada uno de los modelos. En donde las mejores métricas las tuvo el conjunto de datos normalizados ( a lo que llamamos en el proyecto Data-Clean o el nombre de la columna 'review_boddy'), el segundo lugar lo obtuvo los comentarios de la data stematizada.\n",
        "\n",
        "Por lo tanto, se eligió el mejor modelo, que fúe el SVM lineal con los comentarios normalizados.\n",
        "\n",
        "Se optimizaron los hiperparámetros del modelo mediante tecnica de Randomized Search y Grid Search. Y finalmente se hizo un cross-validation con 8 folds, en los cuales los resultados finales de nuestro modelo de clasificación multiclase fueron 49% del conjunto de test.\n",
        "\n",
        "Por lo tanto, resultado final:\n",
        "\n",
        "---\n",
        "\n",
        "\n",
        "\n",
        "\n",
        "**CLASIFICACIÓN MULTICLASE:**\n",
        "\n",
        "<font color='BLUE'>**ACCURACY PARA TRAIN: 50%**</font>\n",
        "\n",
        "<font color='GREEN'>**ACCURACY PARA TEST: 49%**</font>\n",
        "\n",
        "\n",
        "\n",
        "\n",
        "\n",
        "\n",
        "\n",
        "\n",
        "\n"
      ]
    },
    {
      "cell_type": "markdown",
      "metadata": {
        "id": "AUuu5gGb-yvT"
      },
      "source": [
        "# **Planificación del proyecto**"
      ]
    },
    {
      "cell_type": "markdown",
      "metadata": {
        "id": "-0OeK2oM_ZOk"
      },
      "source": [
        "1. **Clasificación Direccionada.**\n",
        "\n",
        "Vamos a elegir 2 categorías de productos que sean de nicho ( bien específicas en cuanto a los productos que se encuentran en la categoría). \n",
        "\n",
        "La idea de esta selección, es quedarnos con dos datasets diferentes, cada uno sobre una temática diferene ( por ejemplo un dataset sobre productos de casa y otro dataset sobre productos de electrónica). \n",
        "\n",
        "La hipótesis de este problema se basa en la suposición de que existen palabra partículares para cada nicho de productos, en los cuales puede darse que un comentario X sea muy positivo para la categoría A, pero muy negativo para la categoría B. Por lo tanto, si se corrobora esta hipótesis, tendrémos un modelo multiclase para una categoría A y otro modelo multiclase para la categoría B, que va a tener un desempeño más alto que el modelo del proyecto anterior.\n",
        "\n",
        "\n"
      ]
    },
    {
      "cell_type": "markdown",
      "metadata": {
        "id": "q9lRLSGPjSxE"
      },
      "source": [
        "# **Clasificación Direccionada**"
      ]
    },
    {
      "cell_type": "markdown",
      "metadata": {
        "id": "FbMRYJrDuZCb"
      },
      "source": [
        "## Obtención de Datos"
      ]
    },
    {
      "cell_type": "code",
      "metadata": {
        "colab": {
          "base_uri": "https://localhost:8080/"
        },
        "id": "6zntcIqOuZCd",
        "outputId": "d205f1cd-1648-4ea1-b9dc-a3b8be0b357a"
      },
      "source": [
        "# Importamos dataset de desarrollo\n",
        "data_dev = pd.read_json('/content/drive/MyDrive/NLP PROJECT/dataset_es_dev.json', lines = True)\n",
        "print(\"- Cantidad de filas del set de desarrollo:\", data_dev.shape[0])\n",
        "\n",
        "# Importamos dataset de entrenamiento\n",
        "data_train = pd.read_json('/content/drive/MyDrive/NLP PROJECT/dataset_es_train.json', lines = True)\n",
        "print(\"- Cantidad de filas del set de entrenamiento :\", data_train.shape[0])\n",
        "\n",
        "# Importamos dataset de prueba\n",
        "data_test = pd.read_json('/content/drive/MyDrive/NLP PROJECT/dataset_es_test.json', lines = True)\n",
        "print(\"- Cantidad de filas del set de prueba :\", data_test.shape[0])"
      ],
      "execution_count": null,
      "outputs": [
        {
          "output_type": "stream",
          "text": [
            "- Cantidad de filas del set de desarrollo: 5000\n",
            "- Cantidad de filas del set de entrenamiento : 200000\n",
            "- Cantidad de filas del set de prueba : 5000\n"
          ],
          "name": "stdout"
        }
      ]
    },
    {
      "cell_type": "code",
      "metadata": {
        "id": "ngrJJgcKuZCd",
        "colab": {
          "base_uri": "https://localhost:8080/",
          "height": 526
        },
        "outputId": "962a94c3-2937-4482-c7b4-24d1c38bdcfe"
      },
      "source": [
        "# Concatenamos todos\n",
        "data = pd.concat([data_dev,data_train,data_test])\n",
        "data = data.reset_index(drop=True)\n",
        "data.tail()"
      ],
      "execution_count": null,
      "outputs": [
        {
          "output_type": "execute_result",
          "data": {
            "text/html": [
              "<div>\n",
              "<style scoped>\n",
              "    .dataframe tbody tr th:only-of-type {\n",
              "        vertical-align: middle;\n",
              "    }\n",
              "\n",
              "    .dataframe tbody tr th {\n",
              "        vertical-align: top;\n",
              "    }\n",
              "\n",
              "    .dataframe thead th {\n",
              "        text-align: right;\n",
              "    }\n",
              "</style>\n",
              "<table border=\"1\" class=\"dataframe\">\n",
              "  <thead>\n",
              "    <tr style=\"text-align: right;\">\n",
              "      <th></th>\n",
              "      <th>review_id</th>\n",
              "      <th>product_id</th>\n",
              "      <th>reviewer_id</th>\n",
              "      <th>stars</th>\n",
              "      <th>review_body</th>\n",
              "      <th>review_title</th>\n",
              "      <th>language</th>\n",
              "      <th>product_category</th>\n",
              "    </tr>\n",
              "  </thead>\n",
              "  <tbody>\n",
              "    <tr>\n",
              "      <th>209995</th>\n",
              "      <td>es_0685611</td>\n",
              "      <td>product_es_0919143</td>\n",
              "      <td>reviewer_es_0461769</td>\n",
              "      <td>5</td>\n",
              "      <td>Para lo que cuesta es perfecto porque cumple s...</td>\n",
              "      <td>Perfectos para lo que sirven</td>\n",
              "      <td>es</td>\n",
              "      <td>wireless</td>\n",
              "    </tr>\n",
              "    <tr>\n",
              "      <th>209996</th>\n",
              "      <td>es_0638242</td>\n",
              "      <td>product_es_0636134</td>\n",
              "      <td>reviewer_es_0214562</td>\n",
              "      <td>5</td>\n",
              "      <td>Material muy flexible y cómodo, acorde a la de...</td>\n",
              "      <td>Buen vendedor, rápido y fiable.</td>\n",
              "      <td>es</td>\n",
              "      <td>wireless</td>\n",
              "    </tr>\n",
              "    <tr>\n",
              "      <th>209997</th>\n",
              "      <td>es_0760108</td>\n",
              "      <td>product_es_0078583</td>\n",
              "      <td>reviewer_es_0043609</td>\n",
              "      <td>5</td>\n",
              "      <td>Se ve bien el grabado</td>\n",
              "      <td>medallas con bonito grabado</td>\n",
              "      <td>es</td>\n",
              "      <td>home</td>\n",
              "    </tr>\n",
              "    <tr>\n",
              "      <th>209998</th>\n",
              "      <td>es_0070806</td>\n",
              "      <td>product_es_0359350</td>\n",
              "      <td>reviewer_es_0258717</td>\n",
              "      <td>5</td>\n",
              "      <td>lo compré para mi bici pero finalmente se lo h...</td>\n",
              "      <td>timbre</td>\n",
              "      <td>es</td>\n",
              "      <td>sports</td>\n",
              "    </tr>\n",
              "    <tr>\n",
              "      <th>209999</th>\n",
              "      <td>es_0794544</td>\n",
              "      <td>product_es_0130307</td>\n",
              "      <td>reviewer_es_0651938</td>\n",
              "      <td>5</td>\n",
              "      <td>Pues este tipo de cascos si que son inalambric...</td>\n",
              "      <td>Auriculares sin cables de verdad</td>\n",
              "      <td>es</td>\n",
              "      <td>electronics</td>\n",
              "    </tr>\n",
              "  </tbody>\n",
              "</table>\n",
              "</div>"
            ],
            "text/plain": [
              "         review_id          product_id  ... language  product_category\n",
              "209995  es_0685611  product_es_0919143  ...       es          wireless\n",
              "209996  es_0638242  product_es_0636134  ...       es          wireless\n",
              "209997  es_0760108  product_es_0078583  ...       es              home\n",
              "209998  es_0070806  product_es_0359350  ...       es            sports\n",
              "209999  es_0794544  product_es_0130307  ...       es       electronics\n",
              "\n",
              "[5 rows x 8 columns]"
            ]
          },
          "metadata": {
            "tags": []
          },
          "execution_count": 4
        }
      ]
    },
    {
      "cell_type": "code",
      "metadata": {
        "id": "OlN-sVf2uZCe",
        "colab": {
          "base_uri": "https://localhost:8080/"
        },
        "outputId": "9082c3cc-1f4a-4555-be95-42814547a2cd"
      },
      "source": [
        "# Liberamos espacio de memoria\n",
        "del(data_dev)\n",
        "del(data_train)\n",
        "del(data_test)\n",
        "gc.collect()"
      ],
      "execution_count": null,
      "outputs": [
        {
          "output_type": "execute_result",
          "data": {
            "text/plain": [
              "73"
            ]
          },
          "metadata": {
            "tags": []
          },
          "execution_count": 5
        }
      ]
    },
    {
      "cell_type": "code",
      "metadata": {
        "id": "-7cQ1n-EuZCe",
        "colab": {
          "base_uri": "https://localhost:8080/",
          "height": 526
        },
        "outputId": "25b6ca17-8c3d-41a1-f5e6-f654f49b3721"
      },
      "source": [
        "print(data.shape)\n",
        "data.head()"
      ],
      "execution_count": null,
      "outputs": [
        {
          "output_type": "stream",
          "text": [
            "(210000, 8)\n"
          ],
          "name": "stdout"
        },
        {
          "output_type": "execute_result",
          "data": {
            "text/html": [
              "<div>\n",
              "<style scoped>\n",
              "    .dataframe tbody tr th:only-of-type {\n",
              "        vertical-align: middle;\n",
              "    }\n",
              "\n",
              "    .dataframe tbody tr th {\n",
              "        vertical-align: top;\n",
              "    }\n",
              "\n",
              "    .dataframe thead th {\n",
              "        text-align: right;\n",
              "    }\n",
              "</style>\n",
              "<table border=\"1\" class=\"dataframe\">\n",
              "  <thead>\n",
              "    <tr style=\"text-align: right;\">\n",
              "      <th></th>\n",
              "      <th>review_id</th>\n",
              "      <th>product_id</th>\n",
              "      <th>reviewer_id</th>\n",
              "      <th>stars</th>\n",
              "      <th>review_body</th>\n",
              "      <th>review_title</th>\n",
              "      <th>language</th>\n",
              "      <th>product_category</th>\n",
              "    </tr>\n",
              "  </thead>\n",
              "  <tbody>\n",
              "    <tr>\n",
              "      <th>0</th>\n",
              "      <td>es_0417480</td>\n",
              "      <td>product_es_0873923</td>\n",
              "      <td>reviewer_es_0672978</td>\n",
              "      <td>1</td>\n",
              "      <td>Malisimo, muy grande demasiado aparatoso y mal...</td>\n",
              "      <td>Mala compra</td>\n",
              "      <td>es</td>\n",
              "      <td>wireless</td>\n",
              "    </tr>\n",
              "    <tr>\n",
              "      <th>1</th>\n",
              "      <td>es_0180432</td>\n",
              "      <td>product_es_0713146</td>\n",
              "      <td>reviewer_es_0100858</td>\n",
              "      <td>1</td>\n",
              "      <td>No he recibido el pedido no la devolución</td>\n",
              "      <td>No lo he recibido</td>\n",
              "      <td>es</td>\n",
              "      <td>apparel</td>\n",
              "    </tr>\n",
              "    <tr>\n",
              "      <th>2</th>\n",
              "      <td>es_0144850</td>\n",
              "      <td>product_es_0356874</td>\n",
              "      <td>reviewer_es_0486447</td>\n",
              "      <td>1</td>\n",
              "      <td>Tengo que buscar otro sistema, este no funcion...</td>\n",
              "      <td>Que no aprieta bien en el manillar</td>\n",
              "      <td>es</td>\n",
              "      <td>sports</td>\n",
              "    </tr>\n",
              "    <tr>\n",
              "      <th>3</th>\n",
              "      <td>es_0339629</td>\n",
              "      <td>product_es_0939832</td>\n",
              "      <td>reviewer_es_0894703</td>\n",
              "      <td>1</td>\n",
              "      <td>Utilicé las brocas de menor diámetro y se me d...</td>\n",
              "      <td>Brocas de mantequilla</td>\n",
              "      <td>es</td>\n",
              "      <td>home_improvement</td>\n",
              "    </tr>\n",
              "    <tr>\n",
              "      <th>4</th>\n",
              "      <td>es_0858362</td>\n",
              "      <td>product_es_0489066</td>\n",
              "      <td>reviewer_es_0887663</td>\n",
              "      <td>1</td>\n",
              "      <td>No me gusta su olor a viejo y aspecto malo</td>\n",
              "      <td>No me gusta</td>\n",
              "      <td>es</td>\n",
              "      <td>beauty</td>\n",
              "    </tr>\n",
              "  </tbody>\n",
              "</table>\n",
              "</div>"
            ],
            "text/plain": [
              "    review_id          product_id  ... language  product_category\n",
              "0  es_0417480  product_es_0873923  ...       es          wireless\n",
              "1  es_0180432  product_es_0713146  ...       es           apparel\n",
              "2  es_0144850  product_es_0356874  ...       es            sports\n",
              "3  es_0339629  product_es_0939832  ...       es  home_improvement\n",
              "4  es_0858362  product_es_0489066  ...       es            beauty\n",
              "\n",
              "[5 rows x 8 columns]"
            ]
          },
          "metadata": {
            "tags": []
          },
          "execution_count": 6
        }
      ]
    },
    {
      "cell_type": "markdown",
      "metadata": {
        "id": "0PpsgFtLuhWM"
      },
      "source": [
        "## **Data Preprocessing**"
      ]
    },
    {
      "cell_type": "code",
      "metadata": {
        "colab": {
          "base_uri": "https://localhost:8080/"
        },
        "id": "h87S4gbFyvnv",
        "outputId": "650a52ea-ec84-440a-d01f-f275ed0a7c5d"
      },
      "source": [
        "# Exploramos las categorías de productos \n",
        "data.product_category.value_counts()"
      ],
      "execution_count": null,
      "outputs": [
        {
          "output_type": "execute_result",
          "data": {
            "text/plain": [
              "home                        28328\n",
              "wireless                    27208\n",
              "toy                         14328\n",
              "sports                      13856\n",
              "pc                          11720\n",
              "home_improvement            11468\n",
              "electronics                 10899\n",
              "beauty                       7707\n",
              "automotive                   7495\n",
              "kitchen                      7028\n",
              "apparel                      6014\n",
              "drugstore                    5778\n",
              "book                         5528\n",
              "furniture                    5481\n",
              "baby_product                 5098\n",
              "office_product               5010\n",
              "lawn_and_garden              4449\n",
              "other                        4131\n",
              "pet_products                 3899\n",
              "personal_care_appliances     3735\n",
              "luggage                      3509\n",
              "camera                       3180\n",
              "shoes                        2886\n",
              "digital_ebook_purchase       1936\n",
              "video_games                  1818\n",
              "jewelry                      1677\n",
              "musical_instruments          1608\n",
              "watch                        1567\n",
              "industrial_supplies          1552\n",
              "grocery                      1107\n",
              "Name: product_category, dtype: int64"
            ]
          },
          "metadata": {
            "tags": []
          },
          "execution_count": 43
        }
      ]
    },
    {
      "cell_type": "markdown",
      "metadata": {
        "id": "yAgSVirN2JRJ"
      },
      "source": [
        "**Elección de 2 categorías**: \n",
        "\n",
        "\n",
        "`' Kitchen '` y `' Beauty '`"
      ]
    },
    {
      "cell_type": "code",
      "metadata": {
        "id": "pCMkz3ju38gv"
      },
      "source": [
        "#Creamos un dataset de la categoría 'Kitchen'\n",
        "kitchen = data[data['product_category']=='kitchen']"
      ],
      "execution_count": null,
      "outputs": []
    },
    {
      "cell_type": "code",
      "metadata": {
        "colab": {
          "base_uri": "https://localhost:8080/"
        },
        "id": "v_zBQi-Q38YE",
        "outputId": "34b247a1-9a80-401f-cbff-ddb4ffbb17fb"
      },
      "source": [
        "#Vemos la cantidad sobre el total \n",
        "kitchen.stars.value_counts()/ kitchen.stars.value_counts().sum()"
      ],
      "execution_count": null,
      "outputs": [
        {
          "output_type": "execute_result",
          "data": {
            "text/plain": [
              "4    0.214570\n",
              "1    0.198492\n",
              "2    0.197638\n",
              "5    0.197211\n",
              "3    0.192089\n",
              "Name: stars, dtype: float64"
            ]
          },
          "metadata": {
            "tags": []
          },
          "execution_count": 45
        }
      ]
    },
    {
      "cell_type": "markdown",
      "metadata": {
        "id": "x9kHxRZS2rKu"
      },
      "source": [
        "Vemos que están suficientemente balanceados los target de la categoría 'Kitchen'."
      ]
    },
    {
      "cell_type": "code",
      "metadata": {
        "colab": {
          "base_uri": "https://localhost:8080/",
          "height": 394
        },
        "id": "HOmeUJsq47W9",
        "outputId": "91bb0c2a-395f-43aa-ac9d-0fa29e618a62"
      },
      "source": [
        "sns.catplot(kitchen.stars.value_counts().index,\n",
        "              kitchen.groupby('stars').review_id.agg('count'),\n",
        "              data=kitchen,kind='bar',palette = 'rocket',\n",
        "              height=5, aspect=18/8.27,edgecolor ='black',linewidth=3 )\n",
        "plt.title('Distribución de Stars en Kitchen',fontsize=15)\n",
        "plt.ylabel('Cantidad de reviews')\n",
        "plt.xlabel('Estrellas')"
      ],
      "execution_count": null,
      "outputs": [
        {
          "output_type": "execute_result",
          "data": {
            "text/plain": [
              "Text(0.5, 8.95999999999998, 'Estrellas')"
            ]
          },
          "metadata": {
            "tags": []
          },
          "execution_count": 46
        },
        {
          "output_type": "display_data",
          "data": {
            "image/png": "[encoded data removed]",
            "text/plain": [
              "<Figure size 783.555x360 with 1 Axes>"
            ]
          },
          "metadata": {
            "tags": []
          }
        }
      ]
    },
    {
      "cell_type": "code",
      "metadata": {
        "id": "q-RhTsUM2kjS"
      },
      "source": [
        "#Creamos un dataset de la categoría 'Beauty'\n",
        "beauty = data[data['product_category']=='beauty']"
      ],
      "execution_count": null,
      "outputs": []
    },
    {
      "cell_type": "code",
      "metadata": {
        "colab": {
          "base_uri": "https://localhost:8080/"
        },
        "id": "IuOWSFjk2nCu",
        "outputId": "7b8a4e8b-0cd0-4c8e-975e-c1ec90d7b096"
      },
      "source": [
        "#Vemos la cantidad sobre el total \n",
        "beauty.stars.value_counts()/ beauty.stars.value_counts().sum()"
      ],
      "execution_count": null,
      "outputs": [
        {
          "output_type": "execute_result",
          "data": {
            "text/plain": [
              "1    0.209420\n",
              "3    0.209290\n",
              "2    0.208512\n",
              "5    0.195147\n",
              "4    0.177631\n",
              "Name: stars, dtype: float64"
            ]
          },
          "metadata": {
            "tags": []
          },
          "execution_count": 48
        }
      ]
    },
    {
      "cell_type": "markdown",
      "metadata": {
        "id": "d1benMiO5CKj"
      },
      "source": [
        "Al igual que en la categoría 'Kitchen', las reviews están correctamente distribuidas. "
      ]
    },
    {
      "cell_type": "code",
      "metadata": {
        "colab": {
          "base_uri": "https://localhost:8080/",
          "height": 395
        },
        "id": "svvcy69n2oE3",
        "outputId": "33309152-8ac3-4266-f080-d1db4db31bd6"
      },
      "source": [
        "sns.catplot(beauty.stars.value_counts().index,\n",
        "              beauty.groupby('stars').review_id.agg('count'),\n",
        "              data=beauty,kind='bar',palette = 'rocket',\n",
        "              height=5, aspect=18/8.27,edgecolor ='black',linewidth=3 )\n",
        "plt.title('Distribución de Stars en Beauty',fontsize=15)\n",
        "plt.ylabel('Cantidad de reviews')\n",
        "plt.xlabel('Estrellas')"
      ],
      "execution_count": null,
      "outputs": [
        {
          "output_type": "execute_result",
          "data": {
            "text/plain": [
              "Text(0.5, 8.95999999999998, 'Estrellas')"
            ]
          },
          "metadata": {
            "tags": []
          },
          "execution_count": 49
        },
        {
          "output_type": "display_data",
          "data": {
            "image/png": "[encoded data removed]",
            "text/plain": [
              "<Figure size 783.555x360 with 1 Axes>"
            ]
          },
          "metadata": {
            "tags": []
          }
        }
      ]
    },
    {
      "cell_type": "markdown",
      "metadata": {
        "id": "H9cmkosY_uXi"
      },
      "source": [
        "Eliminamos todas las columnas que no vamos a utilizar en este análisis. "
      ]
    },
    {
      "cell_type": "code",
      "metadata": {
        "id": "8JMCU1Cs59bs"
      },
      "source": [
        "#Eliminamos columnas para beauty\n",
        "beauty = beauty.drop(['review_id', 'product_id', 'reviewer_id',\n",
        "                   'review_title', 'language', 'product_category'],\n",
        "                   axis=1)"
      ],
      "execution_count": null,
      "outputs": []
    },
    {
      "cell_type": "code",
      "metadata": {
        "id": "oy-MAh9d6Zsk"
      },
      "source": [
        "#Eliminamos columnas para kitchen\n",
        "kitchen = kitchen.drop(['review_id', 'product_id', 'reviewer_id',\n",
        "                   'review_title', 'language', 'product_category'],\n",
        "                   axis=1)"
      ],
      "execution_count": null,
      "outputs": []
    },
    {
      "cell_type": "markdown",
      "metadata": {
        "id": "Uctc8sst_1oB"
      },
      "source": [
        "Reiniciamos los índices de ambos df"
      ]
    },
    {
      "cell_type": "code",
      "metadata": {
        "id": "AlCoqDgZ_4bM"
      },
      "source": [
        "beauty = beauty.reset_index(drop=True)"
      ],
      "execution_count": null,
      "outputs": []
    },
    {
      "cell_type": "code",
      "metadata": {
        "id": "GRx5XhV0AIBL"
      },
      "source": [
        "kitchen = kitchen.reset_index(drop=True)"
      ],
      "execution_count": null,
      "outputs": []
    },
    {
      "cell_type": "markdown",
      "metadata": {
        "id": "y2lC7AZ66gnG"
      },
      "source": [
        "## **Normalización**"
      ]
    },
    {
      "cell_type": "markdown",
      "metadata": {
        "id": "OARWn5hn7JQE"
      },
      "source": [
        "Siguiendo la línea del pipeline anterior, utilizaremos las mismas funciones de limpieza para normalizar el texto. \n",
        "\n",
        "A su vez, también obtendremos 3 tipos de features diferentes en función de la normalización aplicada."
      ]
    },
    {
      "cell_type": "markdown",
      "metadata": {
        "id": "qW4GifJa8pGZ"
      },
      "source": [
        "### **1-Limpieza de texto**"
      ]
    },
    {
      "cell_type": "markdown",
      "metadata": {
        "id": "48bA94Bh9EXd"
      },
      "source": [
        "**Beauty**"
      ]
    },
    {
      "cell_type": "code",
      "metadata": {
        "id": "m5dsDdft6gM8"
      },
      "source": [
        "# Limpiamos el df beauty\n",
        "# Limpiamos el texto según las funciones definidas anteriormente.\n",
        "beauty['review_body'] =  beauty['review_body'].apply(clean_text_round1)\n",
        "beauty['review_body'] =  beauty['review_body'].apply(remove_emoji)\n",
        "beauty['review_body'] =  beauty['review_body'].apply(remove_emoticons)\n",
        "beauty['review_body'] =  beauty['review_body'].apply(basic_text_cleanup)\n",
        "beauty['review_body'] =  beauty['review_body'].apply(eliminar_stopwords)"
      ],
      "execution_count": null,
      "outputs": []
    },
    {
      "cell_type": "markdown",
      "metadata": {
        "id": "1zTqR-1g9GVy"
      },
      "source": [
        "**Kitchen**"
      ]
    },
    {
      "cell_type": "code",
      "metadata": {
        "id": "j5rfq0Dp8WRq"
      },
      "source": [
        "# Limpiamos el df kitchen\n",
        "# Limpiamos el texto según las funciones definidas anteriormente.\n",
        "kitchen['review_body'] =  kitchen['review_body'].apply(clean_text_round1)\n",
        "kitchen['review_body'] =  kitchen['review_body'].apply(remove_emoji)\n",
        "kitchen['review_body'] =  kitchen['review_body'].apply(remove_emoticons)\n",
        "kitchen['review_body'] =  kitchen['review_body'].apply(basic_text_cleanup)\n",
        "kitchen['review_body'] =  kitchen['review_body'].apply(eliminar_stopwords)"
      ],
      "execution_count": null,
      "outputs": []
    },
    {
      "cell_type": "markdown",
      "metadata": {
        "id": "B1Zcw33S8s5z"
      },
      "source": [
        "### **2- Stemming**"
      ]
    },
    {
      "cell_type": "markdown",
      "metadata": {
        "id": "N8dNa6vP9DqA"
      },
      "source": [
        "**Beauty**"
      ]
    },
    {
      "cell_type": "code",
      "metadata": {
        "colab": {
          "base_uri": "https://localhost:8080/",
          "height": 205
        },
        "id": "TQ3n8RYu9Pji",
        "outputId": "1a9da15a-5594-4038-afa1-d3e7afe9fd69"
      },
      "source": [
        "df_stemm = beauty.copy()\n",
        "df_stemm.head()"
      ],
      "execution_count": null,
      "outputs": [
        {
          "output_type": "execute_result",
          "data": {
            "text/html": [
              "<div>\n",
              "<style scoped>\n",
              "    .dataframe tbody tr th:only-of-type {\n",
              "        vertical-align: middle;\n",
              "    }\n",
              "\n",
              "    .dataframe tbody tr th {\n",
              "        vertical-align: top;\n",
              "    }\n",
              "\n",
              "    .dataframe thead th {\n",
              "        text-align: right;\n",
              "    }\n",
              "</style>\n",
              "<table border=\"1\" class=\"dataframe\">\n",
              "  <thead>\n",
              "    <tr style=\"text-align: right;\">\n",
              "      <th></th>\n",
              "      <th>stars</th>\n",
              "      <th>review_body</th>\n",
              "    </tr>\n",
              "  </thead>\n",
              "  <tbody>\n",
              "    <tr>\n",
              "      <th>4</th>\n",
              "      <td>1</td>\n",
              "      <td>no gusta olor viejo aspecto malo</td>\n",
              "    </tr>\n",
              "    <tr>\n",
              "      <th>55</th>\n",
              "      <td>1</td>\n",
              "      <td>llevo cerca mes usandolo no hace efecto nada o...</td>\n",
              "    </tr>\n",
              "    <tr>\n",
              "      <th>129</th>\n",
              "      <td>1</td>\n",
              "      <td>pruducto no llega siempre no problema ahora pe...</td>\n",
              "    </tr>\n",
              "    <tr>\n",
              "      <th>204</th>\n",
              "      <td>1</td>\n",
              "      <td>no gusto nada nada precio</td>\n",
              "    </tr>\n",
              "    <tr>\n",
              "      <th>207</th>\n",
              "      <td>1</td>\n",
              "      <td>no llegado producto</td>\n",
              "    </tr>\n",
              "  </tbody>\n",
              "</table>\n",
              "</div>"
            ],
            "text/plain": [
              "     stars                                        review_body\n",
              "4        1                   no gusta olor viejo aspecto malo\n",
              "55       1  llevo cerca mes usandolo no hace efecto nada o...\n",
              "129      1  pruducto no llega siempre no problema ahora pe...\n",
              "204      1                          no gusto nada nada precio\n",
              "207      1                                no llegado producto"
            ]
          },
          "metadata": {
            "tags": []
          },
          "execution_count": 54
        }
      ]
    },
    {
      "cell_type": "code",
      "metadata": {
        "id": "O-Ltz5Pd9Pjk"
      },
      "source": [
        "from nltk.stem import SnowballStemmer\n",
        "stemmer = SnowballStemmer('spanish')"
      ],
      "execution_count": null,
      "outputs": []
    },
    {
      "cell_type": "code",
      "metadata": {
        "id": "bEBhToLP9Pjk"
      },
      "source": [
        "comentario_list=[]\n",
        "for comentario in df_stemm.review_body:\n",
        "    # Vamos a reemplzar los caracteres que no sean letras por espacios\n",
        "    comentario=re.sub(\"[^a-zA-Z]\",\" \",str(comentario))\n",
        "    # Pasamos todo a minúsculas\n",
        "    comentario=comentario.lower()\n",
        "    # Tokenizamos para separar las palabras del titular\n",
        "    comentario=nltk.word_tokenize(comentario)\n",
        "    ## Hasta acá Normalizamos, ahora a stemmizar\n",
        "    # Aplicamos la funcion para buscar la raiz de las palabras\n",
        "    comentario=[stemmer.stem(palabra) for palabra in comentario]\n",
        "    # Por ultimo volvemos a unir el titular\n",
        "    comentario=\" \".join(comentario)\n",
        "    \n",
        "    # Vamos armando una lista con todos los comentarios\n",
        "    comentario_list.append(comentario)"
      ],
      "execution_count": null,
      "outputs": []
    },
    {
      "cell_type": "code",
      "metadata": {
        "id": "RYK5zAWk9Pjk"
      },
      "source": [
        "df_stemm[\"review_body\"] = comentario_list"
      ],
      "execution_count": null,
      "outputs": []
    },
    {
      "cell_type": "code",
      "metadata": {
        "colab": {
          "base_uri": "https://localhost:8080/"
        },
        "id": "iktOnYEc9Pjk",
        "outputId": "df0b45ef-9755-45c9-b62a-3fc6a4eef10f"
      },
      "source": [
        "beauty['review_body_stemm']= df_stemm[\"review_body\"]\n",
        "beauty.head()"
      ],
      "execution_count": null,
      "outputs": [
        {
          "output_type": "execute_result",
          "data": {
            "text/html": [
              "<div>\n",
              "<style scoped>\n",
              "    .dataframe tbody tr th:only-of-type {\n",
              "        vertical-align: middle;\n",
              "    }\n",
              "\n",
              "    .dataframe tbody tr th {\n",
              "        vertical-align: top;\n",
              "    }\n",
              "\n",
              "    .dataframe thead th {\n",
              "        text-align: right;\n",
              "    }\n",
              "</style>\n",
              "<table border=\"1\" class=\"dataframe\">\n",
              "  <thead>\n",
              "    <tr style=\"text-align: right;\">\n",
              "      <th></th>\n",
              "      <th>stars</th>\n",
              "      <th>review_body</th>\n",
              "      <th>review_body_stemm</th>\n",
              "    </tr>\n",
              "  </thead>\n",
              "  <tbody>\n",
              "    <tr>\n",
              "      <th>4</th>\n",
              "      <td>1</td>\n",
              "      <td>no gusta olor viejo aspecto malo</td>\n",
              "      <td>no gust olor viej aspect mal</td>\n",
              "    </tr>\n",
              "    <tr>\n",
              "      <th>55</th>\n",
              "      <td>1</td>\n",
              "      <td>llevo cerca mes usandolo no hace efecto nada o...</td>\n",
              "      <td>llev cerc mes usandol no hac efect nad olor mo...</td>\n",
              "    </tr>\n",
              "    <tr>\n",
              "      <th>129</th>\n",
              "      <td>1</td>\n",
              "      <td>pruducto no llega siempre no problema ahora pe...</td>\n",
              "      <td>pruduct no lleg siempr no problem ahor ped vez</td>\n",
              "    </tr>\n",
              "    <tr>\n",
              "      <th>204</th>\n",
              "      <td>1</td>\n",
              "      <td>no gusto nada nada precio</td>\n",
              "      <td>no gust nad nad preci</td>\n",
              "    </tr>\n",
              "    <tr>\n",
              "      <th>207</th>\n",
              "      <td>1</td>\n",
              "      <td>no llegado producto</td>\n",
              "      <td>no lleg product</td>\n",
              "    </tr>\n",
              "  </tbody>\n",
              "</table>\n",
              "</div>"
            ],
            "text/plain": [
              "     stars  ...                                  review_body_stemm\n",
              "4        1  ...                       no gust olor viej aspect mal\n",
              "55       1  ...  llev cerc mes usandol no hac efect nad olor mo...\n",
              "129      1  ...     pruduct no lleg siempr no problem ahor ped vez\n",
              "204      1  ...                              no gust nad nad preci\n",
              "207      1  ...                                    no lleg product\n",
              "\n",
              "[5 rows x 3 columns]"
            ]
          },
          "metadata": {
            "tags": []
          },
          "execution_count": 58
        }
      ]
    },
    {
      "cell_type": "markdown",
      "metadata": {
        "id": "JnkSv4_l9RnG"
      },
      "source": [
        "**Kitchen**"
      ]
    },
    {
      "cell_type": "code",
      "metadata": {
        "colab": {
          "base_uri": "https://localhost:8080/"
        },
        "id": "zU2gLXem-OT5",
        "outputId": "ccb9e6b7-317f-4da6-fe64-c79b07557a3e"
      },
      "source": [
        "df_stemm = kitchen.copy()\n",
        "df_stemm.head()"
      ],
      "execution_count": null,
      "outputs": [
        {
          "output_type": "execute_result",
          "data": {
            "text/html": [
              "<div>\n",
              "<style scoped>\n",
              "    .dataframe tbody tr th:only-of-type {\n",
              "        vertical-align: middle;\n",
              "    }\n",
              "\n",
              "    .dataframe tbody tr th {\n",
              "        vertical-align: top;\n",
              "    }\n",
              "\n",
              "    .dataframe thead th {\n",
              "        text-align: right;\n",
              "    }\n",
              "</style>\n",
              "<table border=\"1\" class=\"dataframe\">\n",
              "  <thead>\n",
              "    <tr style=\"text-align: right;\">\n",
              "      <th></th>\n",
              "      <th>stars</th>\n",
              "      <th>review_body</th>\n",
              "    </tr>\n",
              "  </thead>\n",
              "  <tbody>\n",
              "    <tr>\n",
              "      <th>23</th>\n",
              "      <td>1</td>\n",
              "      <td>no gustado nada envien producto embalaje ningu...</td>\n",
              "    </tr>\n",
              "    <tr>\n",
              "      <th>29</th>\n",
              "      <td>1</td>\n",
              "      <td>demasiado grande dificil manejar limpiar deber...</td>\n",
              "    </tr>\n",
              "    <tr>\n",
              "      <th>36</th>\n",
              "      <td>1</td>\n",
              "      <td>conos dice trae no verdad regalo quede bastant...</td>\n",
              "    </tr>\n",
              "    <tr>\n",
              "      <th>50</th>\n",
              "      <td>1</td>\n",
              "      <td>malo no casi aire realmente baja calidad veces...</td>\n",
              "    </tr>\n",
              "    <tr>\n",
              "      <th>72</th>\n",
              "      <td>1</td>\n",
              "      <td>no tuesta rebanada manera uniforme parte super...</td>\n",
              "    </tr>\n",
              "  </tbody>\n",
              "</table>\n",
              "</div>"
            ],
            "text/plain": [
              "    stars                                        review_body\n",
              "23      1  no gustado nada envien producto embalaje ningu...\n",
              "29      1  demasiado grande dificil manejar limpiar deber...\n",
              "36      1  conos dice trae no verdad regalo quede bastant...\n",
              "50      1  malo no casi aire realmente baja calidad veces...\n",
              "72      1  no tuesta rebanada manera uniforme parte super..."
            ]
          },
          "metadata": {
            "tags": []
          },
          "execution_count": 59
        }
      ]
    },
    {
      "cell_type": "code",
      "metadata": {
        "id": "x_r25DSn-OT7"
      },
      "source": [
        "from nltk.stem import SnowballStemmer\n",
        "stemmer = SnowballStemmer('spanish')"
      ],
      "execution_count": null,
      "outputs": []
    },
    {
      "cell_type": "code",
      "metadata": {
        "id": "lue0UuIU-OT7"
      },
      "source": [
        "comentario_list=[]\n",
        "for comentario in df_stemm.review_body:\n",
        "    # Vamos a reemplzar los caracteres que no sean letras por espacios\n",
        "    comentario=re.sub(\"[^a-zA-Z]\",\" \",str(comentario))\n",
        "    # Pasamos todo a minúsculas\n",
        "    comentario=comentario.lower()\n",
        "    # Tokenizamos para separar las palabras del titular\n",
        "    comentario=nltk.word_tokenize(comentario)\n",
        "    ## Hasta acá Normalizamos, ahora a stemmizar\n",
        "    # Aplicamos la funcion para buscar la raiz de las palabras\n",
        "    comentario=[stemmer.stem(palabra) for palabra in comentario]\n",
        "    # Por ultimo volvemos a unir el titular\n",
        "    comentario=\" \".join(comentario)\n",
        "    \n",
        "    # Vamos armando una lista con todos los comentarios\n",
        "    comentario_list.append(comentario)"
      ],
      "execution_count": null,
      "outputs": []
    },
    {
      "cell_type": "code",
      "metadata": {
        "id": "7m-UTl9m-OT8"
      },
      "source": [
        "df_stemm[\"review_body\"] = comentario_list"
      ],
      "execution_count": null,
      "outputs": []
    },
    {
      "cell_type": "code",
      "metadata": {
        "colab": {
          "base_uri": "https://localhost:8080/",
          "height": 205
        },
        "id": "hHV-fRHy-OT8",
        "outputId": "32b764f4-1bac-47d6-e608-798fdc98631f"
      },
      "source": [
        "kitchen['review_body_stemm']= df_stemm[\"review_body\"]\n",
        "kitchen.head()"
      ],
      "execution_count": null,
      "outputs": [
        {
          "output_type": "execute_result",
          "data": {
            "text/html": [
              "<div>\n",
              "<style scoped>\n",
              "    .dataframe tbody tr th:only-of-type {\n",
              "        vertical-align: middle;\n",
              "    }\n",
              "\n",
              "    .dataframe tbody tr th {\n",
              "        vertical-align: top;\n",
              "    }\n",
              "\n",
              "    .dataframe thead th {\n",
              "        text-align: right;\n",
              "    }\n",
              "</style>\n",
              "<table border=\"1\" class=\"dataframe\">\n",
              "  <thead>\n",
              "    <tr style=\"text-align: right;\">\n",
              "      <th></th>\n",
              "      <th>stars</th>\n",
              "      <th>review_body</th>\n",
              "      <th>review_body_stemm</th>\n",
              "    </tr>\n",
              "  </thead>\n",
              "  <tbody>\n",
              "    <tr>\n",
              "      <th>23</th>\n",
              "      <td>1</td>\n",
              "      <td>no gustado nada envien producto embalaje ningu...</td>\n",
              "      <td>no gust nad envi product embalaj ningun tip in...</td>\n",
              "    </tr>\n",
              "    <tr>\n",
              "      <th>29</th>\n",
              "      <td>1</td>\n",
              "      <td>demasiado grande dificil manejar limpiar deber...</td>\n",
              "      <td>demasi grand dificil manej limpi deberi hab ca...</td>\n",
              "    </tr>\n",
              "    <tr>\n",
              "      <th>36</th>\n",
              "      <td>1</td>\n",
              "      <td>conos dice trae no verdad regalo quede bastant...</td>\n",
              "      <td>con dic tra no verd regal qued bastant mal verd</td>\n",
              "    </tr>\n",
              "    <tr>\n",
              "      <th>50</th>\n",
              "      <td>1</td>\n",
              "      <td>malo no casi aire realmente baja calidad veces...</td>\n",
              "      <td>mal no casi air realment baj calid vec barat s...</td>\n",
              "    </tr>\n",
              "    <tr>\n",
              "      <th>72</th>\n",
              "      <td>1</td>\n",
              "      <td>no tuesta rebanada manera uniforme parte super...</td>\n",
              "      <td>no tuest reban maner uniform part superior reb...</td>\n",
              "    </tr>\n",
              "  </tbody>\n",
              "</table>\n",
              "</div>"
            ],
            "text/plain": [
              "    stars  ...                                  review_body_stemm\n",
              "23      1  ...  no gust nad envi product embalaj ningun tip in...\n",
              "29      1  ...  demasi grand dificil manej limpi deberi hab ca...\n",
              "36      1  ...    con dic tra no verd regal qued bastant mal verd\n",
              "50      1  ...  mal no casi air realment baj calid vec barat s...\n",
              "72      1  ...  no tuest reban maner uniform part superior reb...\n",
              "\n",
              "[5 rows x 3 columns]"
            ]
          },
          "metadata": {
            "tags": []
          },
          "execution_count": 63
        }
      ]
    },
    {
      "cell_type": "markdown",
      "metadata": {
        "id": "jCGMER6h8vo5"
      },
      "source": [
        "### **3- Lemmatization**"
      ]
    },
    {
      "cell_type": "markdown",
      "metadata": {
        "id": "xi-GTSih-lUt"
      },
      "source": [
        "**Beauty**"
      ]
    },
    {
      "cell_type": "code",
      "metadata": {
        "id": "nAO-czs98vbp"
      },
      "source": [
        "# Previamente\n",
        "## !python -m spacy download es_core_news_sm\n",
        "#Si bien ya lo hice antes, uno debe reiniciar el kernel cada vez que instala esta librería\n",
        "\n",
        "import spacy # https://spacy.io/usage/models\n",
        "nlp = spacy.load('es_core_news_sm')\n",
        "\n",
        "#Stop Words de es_core_news_sm\n",
        "from spacy.lang.es.stop_words import STOP_WORDS\n",
        "stopwords_spacy = list(STOP_WORDS)\n",
        "\n",
        "# Quitamos de las stopwords palabras como 'no', 'bueno', 'buena' que nos pueden ser últiles para predecir\n",
        "stopwords_spacy.remove('no') # En los comentarios negativos es muy repetida\n",
        "stopwords_spacy.remove('bueno')\n",
        "stopwords_spacy.remove('buena')\n",
        "stopwords_spacy.remove('tarde')\n",
        "stopwords_spacy.remove('temprano')\n",
        "stopwords_spacy.remove('día')\n",
        "stopwords_spacy.remove('días')\n",
        "stopwords_spacy.remove('dia')\n",
        "stopwords_spacy.remove('dias')\n",
        "stopwords_spacy.remove('grandes')\n",
        "stopwords_spacy.remove('general')"
      ],
      "execution_count": null,
      "outputs": []
    },
    {
      "cell_type": "code",
      "metadata": {
        "id": "njr3OBcI-wB3"
      },
      "source": [
        "#Constante de signos de puntuación\n",
        "import string\n",
        "puntua = string.punctuation + '¡¿...'\n",
        "excluded_pos = ['SCONJ','CCONJ','NUM','PUNCT','PRON','DET','ADP','AUX','X']"
      ],
      "execution_count": null,
      "outputs": []
    },
    {
      "cell_type": "code",
      "metadata": {
        "id": "IlKVjgkz-v5j"
      },
      "source": [
        "#Defino una función para lematizar\n",
        "def text_data_lemma(sentence):\n",
        "    doc = nlp(sentence)\n",
        "    \n",
        "    clean_tokens = []\n",
        "    for token in doc:\n",
        "        if (token.pos_ not in excluded_pos and str(token) not in stopwords_spacy and len(token.text)>2): \n",
        "            temp = token.lemma_.strip()\n",
        "            clean_tokens.append(temp.lower())\n",
        "    \n",
        "    return clean_tokens"
      ],
      "execution_count": null,
      "outputs": []
    },
    {
      "cell_type": "code",
      "metadata": {
        "colab": {
          "base_uri": "https://localhost:8080/"
        },
        "id": "Q_OKIX9c-zx7",
        "outputId": "ab637596-9c65-4eb4-93b7-cfaec0337a36"
      },
      "source": [
        "# Limpiamos todas las reviews con lemmatizer\n",
        "%%time\n",
        "reviews_lemma = []\n",
        "for i in beauty.index:\n",
        "  rev = text_data_lemma(beauty.review_body.iloc[i])\n",
        "  reviews_lemma.append(\" \".join(rev))\n",
        "reviews_lemma[:5]"
      ],
      "execution_count": null,
      "outputs": [
        {
          "output_type": "stream",
          "text": [
            "CPU times: user 12min 29s, sys: 8.89 s, total: 12min 38s\n",
            "Wall time: 12min 36s\n"
          ],
          "name": "stdout"
        }
      ]
    },
    {
      "cell_type": "code",
      "metadata": {
        "id": "UthA-kiX-zvE"
      },
      "source": [
        "#Creo DataFrame a partir de la lista\n",
        "beauty_lemma = pd.DataFrame(reviews_lemma)"
      ],
      "execution_count": null,
      "outputs": []
    },
    {
      "cell_type": "code",
      "metadata": {
        "id": "oSSyZ8PZ_ZTP"
      },
      "source": [
        "# Almaceno el DF en formato csv dentro de mi Drive\n",
        "beauty_lemma.to_csv('beauty_lemma.csv')\n",
        "!cp beauty_lemma.csv '/content/drive/MyDrive/NLP PROJECT/beauty_lemma.csv'"
      ],
      "execution_count": null,
      "outputs": []
    },
    {
      "cell_type": "code",
      "metadata": {
        "id": "_xr4dWzbOS_d"
      },
      "source": [
        "#Descargo desde Google Drive\n",
        "beauty_lemma = pd.read_csv('/content/drive/MyDrive/NLP PROJECT/beauty_lemma.csv')"
      ],
      "execution_count": null,
      "outputs": []
    },
    {
      "cell_type": "code",
      "metadata": {
        "id": "c8jHuSA0Oc77"
      },
      "source": [
        "#Asigno nueva columna al df con el que vamos a trabajar\n",
        "beauty['review_body_lemma']= beauty_lemma['0']\n",
        "beauty.tail()"
      ],
      "execution_count": null,
      "outputs": []
    },
    {
      "cell_type": "markdown",
      "metadata": {
        "id": "Nn1XwIs2-h58"
      },
      "source": [
        "**Kitchen**"
      ]
    },
    {
      "cell_type": "code",
      "metadata": {
        "colab": {
          "base_uri": "https://localhost:8080/"
        },
        "id": "cal823mG80I7",
        "outputId": "f930c2af-e1c5-4eb4-a7e7-4c6d02ce8622"
      },
      "source": [
        "# Limpiamos todas las reviews con lemmatizer\n",
        "%%time\n",
        "reviews_lemma = []\n",
        "for i in kitchen.index:\n",
        "  rev = text_data_lemma(kitchen.review_body.iloc[i])\n",
        "  reviews_lemma.append(\" \".join(rev))\n",
        "reviews_lemma[:5]"
      ],
      "execution_count": null,
      "outputs": [
        {
          "output_type": "stream",
          "text": [
            "CPU times: user 11min 23s, sys: 8.34 s, total: 11min 32s\n",
            "Wall time: 11min 30s\n"
          ],
          "name": "stdout"
        }
      ]
    },
    {
      "cell_type": "code",
      "metadata": {
        "id": "ZgpZwaK580EZ"
      },
      "source": [
        "#Creo DataFrame a partir de la lista\n",
        "kitchen_lemma = pd.DataFrame(reviews_lemma)"
      ],
      "execution_count": null,
      "outputs": []
    },
    {
      "cell_type": "code",
      "metadata": {
        "id": "wDuaDLEiIcj8"
      },
      "source": [
        "# Almaceno el DF en formato csv dentro de mi Drive\n",
        "kitchen_lemma.to_csv('kitchen_lemma.csv')\n",
        "!cp kitchen_lemma.csv '/content/drive/MyDrive/NLP PROJECT/kitchen_lemma.csv'"
      ],
      "execution_count": null,
      "outputs": []
    },
    {
      "cell_type": "code",
      "metadata": {
        "id": "6vGqr4x3OuWe"
      },
      "source": [
        "#Descargo desde Google Drive\n",
        "kitchen_lemma = pd.read_csv('/content/drive/MyDrive/NLP PROJECT/kitchen_lemma.csv')"
      ],
      "execution_count": null,
      "outputs": []
    },
    {
      "cell_type": "code",
      "metadata": {
        "id": "IzRXyofmOuT2"
      },
      "source": [
        "#Asigno nueva columna al df con el que vamos a trabajar\n",
        "kitchen['review_body_lemma']= kitchen_lemma['0']\n",
        "kitchen.tail()"
      ],
      "execution_count": null,
      "outputs": []
    },
    {
      "cell_type": "markdown",
      "metadata": {
        "id": "RU3-v5YDO8xG"
      },
      "source": [
        "### Data normalizada"
      ]
    },
    {
      "cell_type": "markdown",
      "metadata": {
        "id": "dxLkGnEUPAy6"
      },
      "source": [
        "Almaceno ambos dataset normalizados para futuras operaciones"
      ]
    },
    {
      "cell_type": "code",
      "metadata": {
        "colab": {
          "base_uri": "https://localhost:8080/",
          "height": 205
        },
        "id": "btao3bExPRCA",
        "outputId": "f34227c4-4382-4fb4-87ab-9f7036053d7d"
      },
      "source": [
        "kitchen.head()"
      ],
      "execution_count": null,
      "outputs": [
        {
          "output_type": "execute_result",
          "data": {
            "text/html": [
              "<div>\n",
              "<style scoped>\n",
              "    .dataframe tbody tr th:only-of-type {\n",
              "        vertical-align: middle;\n",
              "    }\n",
              "\n",
              "    .dataframe tbody tr th {\n",
              "        vertical-align: top;\n",
              "    }\n",
              "\n",
              "    .dataframe thead th {\n",
              "        text-align: right;\n",
              "    }\n",
              "</style>\n",
              "<table border=\"1\" class=\"dataframe\">\n",
              "  <thead>\n",
              "    <tr style=\"text-align: right;\">\n",
              "      <th></th>\n",
              "      <th>stars</th>\n",
              "      <th>review_body</th>\n",
              "      <th>review_body_stemm</th>\n",
              "      <th>review_body_lemma</th>\n",
              "    </tr>\n",
              "  </thead>\n",
              "  <tbody>\n",
              "    <tr>\n",
              "      <th>0</th>\n",
              "      <td>1</td>\n",
              "      <td>no gustado nada envien producto embalaje ningu...</td>\n",
              "      <td>no gust nad envi product embalaj ningun tip in...</td>\n",
              "      <td>gustar envien producto embalaje ningun tipo in...</td>\n",
              "    </tr>\n",
              "    <tr>\n",
              "      <th>1</th>\n",
              "      <td>1</td>\n",
              "      <td>demasiado grande dificil manejar limpiar deber...</td>\n",
              "      <td>demasi grand dificil manej limpi deberi hab ca...</td>\n",
              "      <td>grande dificil limpiar deberia cambiar tallar ...</td>\n",
              "    </tr>\n",
              "    <tr>\n",
              "      <th>2</th>\n",
              "      <td>1</td>\n",
              "      <td>conos dice trae no verdad regalo quede bastant...</td>\n",
              "      <td>con dic tra no verd regal qued bastant mal verd</td>\n",
              "      <td>cono traer regalar quedar</td>\n",
              "    </tr>\n",
              "    <tr>\n",
              "      <th>3</th>\n",
              "      <td>1</td>\n",
              "      <td>malo no casi aire realmente baja calidad veces...</td>\n",
              "      <td>mal no casi air realment baj calid vec barat s...</td>\n",
              "      <td>malo aire realmente bajo calidad barato salir ...</td>\n",
              "    </tr>\n",
              "    <tr>\n",
              "      <th>4</th>\n",
              "      <td>1</td>\n",
              "      <td>no tuesta rebanada manera uniforme parte super...</td>\n",
              "      <td>no tuest reban maner uniform part superior reb...</td>\n",
              "      <td>tostar rebanar uniformar superior rebanar qued...</td>\n",
              "    </tr>\n",
              "  </tbody>\n",
              "</table>\n",
              "</div>"
            ],
            "text/plain": [
              "   stars  ...                                  review_body_lemma\n",
              "0      1  ...  gustar envien producto embalaje ningun tipo in...\n",
              "1      1  ...  grande dificil limpiar deberia cambiar tallar ...\n",
              "2      1  ...                          cono traer regalar quedar\n",
              "3      1  ...  malo aire realmente bajo calidad barato salir ...\n",
              "4      1  ...  tostar rebanar uniformar superior rebanar qued...\n",
              "\n",
              "[5 rows x 4 columns]"
            ]
          },
          "metadata": {
            "tags": []
          },
          "execution_count": 85
        }
      ]
    },
    {
      "cell_type": "markdown",
      "metadata": {
        "id": "K1dGg8d8PFPD"
      },
      "source": [
        "**Beauty Normalizado**"
      ]
    },
    {
      "cell_type": "code",
      "metadata": {
        "id": "S0SHJhTsPEyu"
      },
      "source": [
        "# Almaceno el DF en formato csv dentro de mi Drive\n",
        "beauty.to_csv('beauty.csv')\n",
        "!cp beauty.csv '/content/drive/MyDrive/NLP PROJECT/beauty.csv'"
      ],
      "execution_count": null,
      "outputs": []
    },
    {
      "cell_type": "code",
      "metadata": {
        "id": "oDP2fIE33fj8"
      },
      "source": [
        "#Descargo desde Google Drive\n",
        "beauty = pd.read_csv('/content/drive/MyDrive/NLP PROJECT/Proyecto 3: Clasificación Direccionada/beauty.csv')"
      ],
      "execution_count": null,
      "outputs": []
    },
    {
      "cell_type": "markdown",
      "metadata": {
        "id": "x8CW23RjP4Hn"
      },
      "source": [
        "Verifico que no tenga faltantes."
      ]
    },
    {
      "cell_type": "code",
      "metadata": {
        "colab": {
          "base_uri": "https://localhost:8080/"
        },
        "id": "JJxO56rDP6Vn",
        "outputId": "1259babf-5897-46bb-a1a2-8faae21830f8"
      },
      "source": [
        "beauty.isna().sum().sum()"
      ],
      "execution_count": null,
      "outputs": [
        {
          "output_type": "execute_result",
          "data": {
            "text/plain": [
              "9"
            ]
          },
          "metadata": {
            "tags": []
          },
          "execution_count": 8
        }
      ]
    },
    {
      "cell_type": "code",
      "metadata": {
        "id": "qPukRZP7QErQ"
      },
      "source": [
        "beauty= beauty.dropna()"
      ],
      "execution_count": null,
      "outputs": []
    },
    {
      "cell_type": "code",
      "metadata": {
        "colab": {
          "base_uri": "https://localhost:8080/"
        },
        "id": "XbB3qK_xQHZi",
        "outputId": "84924332-cbaf-4686-97bc-2f6b6ebecc4c"
      },
      "source": [
        "beauty.isna().sum().sum()"
      ],
      "execution_count": null,
      "outputs": [
        {
          "output_type": "execute_result",
          "data": {
            "text/plain": [
              "0"
            ]
          },
          "metadata": {
            "tags": []
          },
          "execution_count": 10
        }
      ]
    },
    {
      "cell_type": "markdown",
      "metadata": {
        "id": "0GfY5pZ4PHUo"
      },
      "source": [
        "**Kichen Normalizado** "
      ]
    },
    {
      "cell_type": "code",
      "metadata": {
        "id": "OJpy3PRoPE4K"
      },
      "source": [
        "# Almaceno el DF en formato csv dentro de mi Drive\n",
        "kitchen.to_csv('kitchen.csv')\n",
        "!cp kitchen.csv '/content/drive/MyDrive/NLP PROJECT/kitchen.csv'"
      ],
      "execution_count": null,
      "outputs": []
    },
    {
      "cell_type": "code",
      "metadata": {
        "id": "hMeJoQ_24UIK"
      },
      "source": [
        "#Descargo desde Google Drive\n",
        "kitchen = pd.read_csv('/content/drive/MyDrive/NLP PROJECT/Proyecto 3: Clasificación Direccionada/kitchen.csv')"
      ],
      "execution_count": null,
      "outputs": []
    },
    {
      "cell_type": "markdown",
      "metadata": {
        "id": "G2O8IraoP6rv"
      },
      "source": [
        "Verifico que no tenga faltantes"
      ]
    },
    {
      "cell_type": "code",
      "metadata": {
        "colab": {
          "base_uri": "https://localhost:8080/"
        },
        "id": "dp2V1L8rP8V5",
        "outputId": "c87c1834-f40e-4103-976a-4bef90d68111"
      },
      "source": [
        "kitchen.isna().sum().sum()"
      ],
      "execution_count": null,
      "outputs": [
        {
          "output_type": "execute_result",
          "data": {
            "text/plain": [
              "11"
            ]
          },
          "metadata": {
            "tags": []
          },
          "execution_count": 12
        }
      ]
    },
    {
      "cell_type": "code",
      "metadata": {
        "id": "mz5ylZklQMpJ"
      },
      "source": [
        "kitchen = kitchen.dropna()"
      ],
      "execution_count": null,
      "outputs": []
    },
    {
      "cell_type": "code",
      "metadata": {
        "colab": {
          "base_uri": "https://localhost:8080/"
        },
        "id": "IRqcj5vPQO6B",
        "outputId": "6ca0b462-fd16-4cbd-8176-fcacf0f58d88"
      },
      "source": [
        "kitchen.isna().sum().sum()"
      ],
      "execution_count": null,
      "outputs": [
        {
          "output_type": "execute_result",
          "data": {
            "text/plain": [
              "0"
            ]
          },
          "metadata": {
            "tags": []
          },
          "execution_count": 14
        }
      ]
    },
    {
      "cell_type": "markdown",
      "metadata": {
        "id": "FPWwT-9H6jm-"
      },
      "source": [
        "## **Vectorización**"
      ]
    },
    {
      "cell_type": "code",
      "metadata": {
        "id": "XtY-FqpA6gIm"
      },
      "source": [
        "# TT split\n",
        "from sklearn.model_selection import train_test_split\n",
        "\n",
        "#Pipeline\n",
        "from sklearn.pipeline import Pipeline\n",
        "\n",
        "# Bag of Words\n",
        "from sklearn.feature_extraction.text import TfidfVectorizer\n",
        "from sklearn.feature_extraction.text import CountVectorizer\n",
        "\n",
        "# Modelos\n",
        "from sklearn.svm import LinearSVC\n",
        "from sklearn.ensemble import RandomForestClassifier\n",
        "from sklearn.naive_bayes import GaussianNB\n",
        "\n",
        "#Cross Validation\n",
        "from sklearn.model_selection import KFold\n",
        "from sklearn.model_selection import cross_val_score\n",
        "from sklearn.model_selection import cross_validate\n",
        "\n",
        "#Optimización hiperparámetros\n",
        "from sklearn.model_selection import RandomizedSearchCV\n",
        "from sklearn.model_selection import GridSearchCV\n",
        "\n",
        "\n",
        "# Métricas\n",
        "from sklearn.metrics import accuracy_score\n",
        "from sklearn.metrics import classification_report\n",
        "from sklearn.metrics import confusion_matrix"
      ],
      "execution_count": null,
      "outputs": []
    },
    {
      "cell_type": "markdown",
      "metadata": {
        "id": "41HcGHWgRTEi"
      },
      "source": [
        "### **Análisis del vectorizador**"
      ]
    },
    {
      "cell_type": "markdown",
      "metadata": {
        "id": "_21FTTf9RBmn"
      },
      "source": [
        "Probaremos únicamente con el dataset de 'Beauty' y generalizaremos para el caso para el dataset de kitchen por semejanza dimensional. "
      ]
    },
    {
      "cell_type": "code",
      "metadata": {
        "id": "6S5j602NRBZg"
      },
      "source": [
        "# Data Cleaning\n",
        "reviews = beauty['review_body'].values\n",
        "stars = beauty['stars'].values"
      ],
      "execution_count": null,
      "outputs": []
    },
    {
      "cell_type": "code",
      "metadata": {
        "id": "0N6JbyE7Rb4S"
      },
      "source": [
        "#Train Test Split\n",
        "X_train, X_test, ytrain, ytest = train_test_split(reviews,stars,test_size=0.3,\n",
        "                                                  random_state=42,stratify=stars)"
      ],
      "execution_count": null,
      "outputs": []
    },
    {
      "cell_type": "markdown",
      "metadata": {
        "id": "JoF0D_-SRqkY"
      },
      "source": [
        "**1- CountVectorizer**"
      ]
    },
    {
      "cell_type": "code",
      "metadata": {
        "colab": {
          "base_uri": "https://localhost:8080/"
        },
        "id": "YFnNiyrCRb1_",
        "outputId": "d6355493-dabf-4124-f632-5b70d4200ef3"
      },
      "source": [
        "# Se instancia el count vectorizer\n",
        "# Se instancia el clasificador SVC lineal\n",
        "# Se crea un pipeline para procesar lo anterior\n",
        "clf = Pipeline([('CVec', CountVectorizer()), ('svc_clf', LinearSVC())], verbose=3)\n",
        "\n",
        "# Se hace el ajuste sobre los datos de entrenamiento lematizados y sobre los datos de target de entrenamiento\n",
        "model_fit = clf.fit(X_train, ytrain)"
      ],
      "execution_count": null,
      "outputs": [
        {
          "output_type": "stream",
          "text": [
            "[Pipeline] .............. (step 1 of 2) Processing CVec, total=   0.1s\n",
            "[Pipeline] ........... (step 2 of 2) Processing svc_clf, total=   0.5s\n"
          ],
          "name": "stdout"
        }
      ]
    },
    {
      "cell_type": "code",
      "metadata": {
        "colab": {
          "base_uri": "https://localhost:8080/"
        },
        "id": "_AKTbIHZRbzY",
        "outputId": "7b35e9da-d6cd-4128-b20a-b5c575ef413c"
      },
      "source": [
        "y_pred = clf.predict(X_test)\n",
        "print(classification_report(ytest, y_pred))\n",
        "\n",
        "acc_train = model_fit.score(X_train, ytrain)\n",
        "print(\"Accuracy en train: \", round(acc_train,4))\n",
        "y_pred = model_fit.predict(X_test)\n",
        "acc_test = accuracy_score(y_pred, ytest)\n",
        "print(\"Accuracy en test: \", round(acc_test,4))"
      ],
      "execution_count": null,
      "outputs": [
        {
          "output_type": "stream",
          "text": [
            "              precision    recall  f1-score   support\n",
            "\n",
            "           1       0.57      0.59      0.58       484\n",
            "           2       0.33      0.31      0.32       482\n",
            "           3       0.30      0.32      0.31       482\n",
            "           4       0.31      0.33      0.32       411\n",
            "           5       0.51      0.47      0.49       451\n",
            "\n",
            "    accuracy                           0.40      2310\n",
            "   macro avg       0.40      0.40      0.40      2310\n",
            "weighted avg       0.41      0.40      0.40      2310\n",
            "\n",
            "Accuracy en train:  0.9662\n",
            "Accuracy en test:  0.4043\n"
          ],
          "name": "stdout"
        }
      ]
    },
    {
      "cell_type": "markdown",
      "metadata": {
        "id": "y8PzDNGCRuZO"
      },
      "source": [
        "**2- TFIDF: Bigrama**"
      ]
    },
    {
      "cell_type": "code",
      "metadata": {
        "colab": {
          "base_uri": "https://localhost:8080/"
        },
        "id": "fm2EP78RRbxB",
        "outputId": "ac2812c5-bd05-4175-9e6a-8d930e6bd6d9"
      },
      "source": [
        "# Se instancia TFIDF tomando en cuenta bigramas\n",
        "# Se instancia el clasificador SVC lineal\n",
        "# Se crea un pipeline con lo anterior\n",
        "clf2 = Pipeline([('tfidf_ngram2', TfidfVectorizer(ngram_range=(2,2))), ('svc_clf2', LinearSVC())], verbose=3)\n",
        "\n",
        "# Se hace el ajuste sobre los datos de entrenamiento lematizados y sobre los datos de target de entrenamiento\n",
        "model_fit = clf2.fit(X_train, ytrain)"
      ],
      "execution_count": null,
      "outputs": [
        {
          "output_type": "stream",
          "text": [
            "[Pipeline] ...... (step 1 of 2) Processing tfidf_ngram2, total=   0.3s\n",
            "[Pipeline] .......... (step 2 of 2) Processing svc_clf2, total=   0.1s\n"
          ],
          "name": "stdout"
        }
      ]
    },
    {
      "cell_type": "code",
      "metadata": {
        "colab": {
          "base_uri": "https://localhost:8080/"
        },
        "id": "4PAb9eAORbtm",
        "outputId": "22306a9b-ab05-4ea3-a4f2-e16cfb991282"
      },
      "source": [
        "y_pred = clf2.predict(X_test)\n",
        "print(classification_report(ytest, y_pred))\n",
        "\n",
        "acc_train = model_fit.score(X_train, ytrain)\n",
        "print(\"Accuracy en train: \", round(acc_train,4))\n",
        "y_pred = model_fit.predict(X_test)\n",
        "acc_test = accuracy_score(y_pred, ytest)\n",
        "print(\"Accuracy en test: \", round(acc_test,4))"
      ],
      "execution_count": null,
      "outputs": [
        {
          "output_type": "stream",
          "text": [
            "              precision    recall  f1-score   support\n",
            "\n",
            "           1       0.56      0.56      0.56       484\n",
            "           2       0.32      0.33      0.33       482\n",
            "           3       0.32      0.25      0.28       482\n",
            "           4       0.34      0.32      0.33       411\n",
            "           5       0.42      0.52      0.46       451\n",
            "\n",
            "    accuracy                           0.40      2310\n",
            "   macro avg       0.39      0.40      0.39      2310\n",
            "weighted avg       0.39      0.40      0.39      2310\n",
            "\n",
            "Accuracy en train:  0.998\n",
            "Accuracy en test:  0.3974\n"
          ],
          "name": "stdout"
        }
      ]
    },
    {
      "cell_type": "markdown",
      "metadata": {
        "id": "scfMqoWZSAxV"
      },
      "source": [
        "**3- TF-IDF: Unigrama**"
      ]
    },
    {
      "cell_type": "code",
      "metadata": {
        "colab": {
          "base_uri": "https://localhost:8080/"
        },
        "id": "V2Ui6qWaR8vQ",
        "outputId": "932c2a0e-1b81-4094-d038-3a558548a055"
      },
      "source": [
        "# Se instancia TF-IDF teniendo en cuenta unigramas \n",
        "# Se instancia el clasificador SVC lineal\n",
        "# Se crea un pipeline para procesar lo anterior\n",
        "clf = Pipeline([('tfidf', TfidfVectorizer()), ('svc_clf', LinearSVC())], verbose=3)\n",
        "\n",
        "# Se hace el ajuste sobre los datos de entrenamiento lematizados y sobre los datos de target de entrenamiento\n",
        "model_fit=clf.fit(X_train, ytrain)"
      ],
      "execution_count": null,
      "outputs": [
        {
          "output_type": "stream",
          "text": [
            "[Pipeline] ............. (step 1 of 2) Processing tfidf, total=   0.1s\n",
            "[Pipeline] ........... (step 2 of 2) Processing svc_clf, total=   0.1s\n"
          ],
          "name": "stdout"
        }
      ]
    },
    {
      "cell_type": "code",
      "metadata": {
        "colab": {
          "base_uri": "https://localhost:8080/"
        },
        "id": "NAEqADXOSEva",
        "outputId": "8f660210-0396-4a7b-9f07-36681da840d7"
      },
      "source": [
        "y_pred = clf.predict(X_test)\n",
        "print(classification_report(ytest, y_pred))\n",
        "acc_train = model_fit.score(X_train, ytrain)\n",
        "print(\"Accuracy en train: \", round(acc_train,4))\n",
        "y_pred = model_fit.predict(X_test)\n",
        "acc_test = accuracy_score(y_pred, ytest)\n",
        "print(\"Accuracy en test: \", round(acc_test,4))"
      ],
      "execution_count": null,
      "outputs": [
        {
          "output_type": "stream",
          "text": [
            "              precision    recall  f1-score   support\n",
            "\n",
            "           1       0.58      0.64      0.60       484\n",
            "           2       0.34      0.32      0.33       482\n",
            "           3       0.30      0.31      0.30       482\n",
            "           4       0.33      0.31      0.32       411\n",
            "           5       0.53      0.53      0.53       451\n",
            "\n",
            "    accuracy                           0.42      2310\n",
            "   macro avg       0.42      0.42      0.42      2310\n",
            "weighted avg       0.42      0.42      0.42      2310\n",
            "\n",
            "Accuracy en train:  0.9465\n",
            "Accuracy en test:  0.4212\n"
          ],
          "name": "stdout"
        }
      ]
    },
    {
      "cell_type": "markdown",
      "metadata": {
        "id": "xWRqrJFSSJ8Y"
      },
      "source": [
        "**4- TF**"
      ]
    },
    {
      "cell_type": "code",
      "metadata": {
        "colab": {
          "base_uri": "https://localhost:8080/"
        },
        "id": "SOryGqBISIVH",
        "outputId": "66d4d552-94da-41b1-e6df-10d99431d47b"
      },
      "source": [
        "# Se instancia TF\n",
        "# Se instancia el clasificador SVC lineal\n",
        "# Se crea un pipeline para procesar lo anterior\n",
        "clf = Pipeline([('CVec', TfidfVectorizer(use_idf=False, norm='l2')), ('svc_clf', LinearSVC())], verbose=3)\n",
        "\n",
        "# Se hace el ajuste sobre los datos de entrenamiento lematizados y sobre los datos de target de entrenamiento\n",
        "model_fit = clf.fit(X_train, ytrain)"
      ],
      "execution_count": null,
      "outputs": [
        {
          "output_type": "stream",
          "text": [
            "[Pipeline] .............. (step 1 of 2) Processing CVec, total=   0.1s\n",
            "[Pipeline] ........... (step 2 of 2) Processing svc_clf, total=   0.1s\n"
          ],
          "name": "stdout"
        }
      ]
    },
    {
      "cell_type": "code",
      "metadata": {
        "colab": {
          "base_uri": "https://localhost:8080/"
        },
        "id": "ibdvIBWvSRlo",
        "outputId": "dc68f9f1-22ff-49d4-8db7-95d340875620"
      },
      "source": [
        "y_pred = clf.predict(X_test)\n",
        "print(classification_report(ytest, y_pred))\n",
        "\n",
        "acc_train = model_fit.score(X_train, ytrain)\n",
        "print(\"Accuracy en train: \", round(acc_train,4))\n",
        "y_pred = model_fit.predict(X_test)\n",
        "acc_test = accuracy_score(y_pred, ytest)\n",
        "print(\"Accuracy en test: \", round(acc_test,4))"
      ],
      "execution_count": null,
      "outputs": [
        {
          "output_type": "stream",
          "text": [
            "              precision    recall  f1-score   support\n",
            "\n",
            "           1       0.60      0.66      0.63       484\n",
            "           2       0.35      0.34      0.35       482\n",
            "           3       0.31      0.30      0.31       482\n",
            "           4       0.35      0.32      0.33       411\n",
            "           5       0.54      0.54      0.54       451\n",
            "\n",
            "    accuracy                           0.44      2310\n",
            "   macro avg       0.43      0.43      0.43      2310\n",
            "weighted avg       0.43      0.44      0.43      2310\n",
            "\n",
            "Accuracy en train:  0.9003\n",
            "Accuracy en test:  0.4359\n"
          ],
          "name": "stdout"
        }
      ]
    },
    {
      "cell_type": "markdown",
      "metadata": {
        "id": "SLsorZtiSd5M"
      },
      "source": [
        "**5- TF-IDF : Unigrama y Bigrama**"
      ]
    },
    {
      "cell_type": "code",
      "metadata": {
        "colab": {
          "base_uri": "https://localhost:8080/"
        },
        "id": "dj4eoW44SRj-",
        "outputId": "97763b49-46da-461c-9d76-7c0b3ab2b4ac"
      },
      "source": [
        "# Se instancia TF-IDF tomando en cuenta unigramas y bigramas\n",
        "# Se instancia el clasificador SVC lineal\n",
        "# Se crea un pipeline para procesar lo anterior\n",
        "clf1 = Pipeline([('tfidf_ngram', TfidfVectorizer(ngram_range=(1,2))), ('svc_clf1', LinearSVC())], verbose=3)\n",
        "\n",
        "# Se hace el ajuste sobre los datos de entrenamiento lematizados y sobre los datos de target de entrenamiento\n",
        "model_fit = clf1.fit(X_train, ytrain)"
      ],
      "execution_count": null,
      "outputs": [
        {
          "output_type": "stream",
          "text": [
            "[Pipeline] ....... (step 1 of 2) Processing tfidf_ngram, total=   0.4s\n",
            "[Pipeline] .......... (step 2 of 2) Processing svc_clf1, total=   0.2s\n"
          ],
          "name": "stdout"
        }
      ]
    },
    {
      "cell_type": "code",
      "metadata": {
        "colab": {
          "base_uri": "https://localhost:8080/"
        },
        "id": "SZNguQjNSRhG",
        "outputId": "f186a90c-6c60-4993-f17f-cab730a21259"
      },
      "source": [
        "y_pred = clf1.predict(X_test)\n",
        "print(classification_report(ytest, y_pred))\n",
        "acc_train = model_fit.score(X_train, ytrain)\n",
        "print(\"Accuracy en train: \", round(acc_train,4))\n",
        "y_pred = model_fit.predict(X_test)\n",
        "acc_test = accuracy_score(y_pred, ytest)\n",
        "print(\"Accuracy en test: \", round(acc_test,4))"
      ],
      "execution_count": null,
      "outputs": [
        {
          "output_type": "stream",
          "text": [
            "              precision    recall  f1-score   support\n",
            "\n",
            "           1       0.60      0.66      0.63       484\n",
            "           2       0.38      0.37      0.38       482\n",
            "           3       0.34      0.31      0.32       482\n",
            "           4       0.37      0.36      0.36       411\n",
            "           5       0.57      0.59      0.58       451\n",
            "\n",
            "    accuracy                           0.46      2310\n",
            "   macro avg       0.45      0.46      0.45      2310\n",
            "weighted avg       0.45      0.46      0.46      2310\n",
            "\n",
            "Accuracy en train:  0.9976\n",
            "Accuracy en test:  0.4597\n"
          ],
          "name": "stdout"
        }
      ]
    },
    {
      "cell_type": "markdown",
      "metadata": {
        "id": "prLyQVF1VPWM"
      },
      "source": [
        "### **Vectorizador**"
      ]
    },
    {
      "cell_type": "markdown",
      "metadata": {
        "id": "SI9-MYLGVS0-"
      },
      "source": [
        "Si bien, vemos que los 5 vectorizadores estan en overfitting, elijo la métrica en test más alta. \n",
        "\n",
        "Por lo tanto, al igual que en el proyecto anterior, nos quedamos con un `TF-IDF de unigramas y bigramas.`"
      ]
    },
    {
      "cell_type": "markdown",
      "metadata": {
        "id": "QMmN9Dg4VxUP"
      },
      "source": [
        "Definimos los conjuntos del dominio de Beauty. A su vez, también los vectorizadores según el tipo de feature (clean, stemmizado o lemmatizado). "
      ]
    },
    {
      "cell_type": "markdown",
      "metadata": {
        "id": "4N0F8Phg5kvk"
      },
      "source": [
        "**Beauty**"
      ]
    },
    {
      "cell_type": "code",
      "metadata": {
        "id": "fX78JioaVutC"
      },
      "source": [
        "# Data Cleaning\n",
        "reviews_cl_b= beauty['review_body'].values\n",
        "stars_cl_b = beauty['stars'].values\n",
        "\n",
        "# Stemming\n",
        "reviews_st_b = beauty['review_body_stemm'].values\n",
        "stars_st_b = beauty['stars'].values\n",
        "\n",
        "#Lemmatization\n",
        "reviews_le_b = beauty['review_body_lemma'].values\n",
        "stars_le_b = beauty['stars'].values"
      ],
      "execution_count": null,
      "outputs": []
    },
    {
      "cell_type": "code",
      "metadata": {
        "id": "wyL83H2J4y9H"
      },
      "source": [
        "X_train_cl_b, X_test_cl_b, ytrain_cl_b, ytest_cl_b = train_test_split(reviews_cl_b,stars_cl_b,test_size=0.3,\n",
        "                                                  random_state=42,stratify=stars_cl_b)"
      ],
      "execution_count": null,
      "outputs": []
    },
    {
      "cell_type": "code",
      "metadata": {
        "id": "hsAVvB3L4y5r"
      },
      "source": [
        "X_train_st_b, X_test_st_b, ytrain_st_b, ytest_st_b = train_test_split(reviews_st_b,stars_st_b,test_size=0.3,\n",
        "                                                  random_state=42,stratify=stars_st_b)"
      ],
      "execution_count": null,
      "outputs": []
    },
    {
      "cell_type": "code",
      "metadata": {
        "id": "pTG27eb54y1N"
      },
      "source": [
        "X_train_le_b, X_test_le_b, ytrain_le_b, ytest_le_b = train_test_split(reviews_le_b,stars_le_b,test_size=0.3,\n",
        "                                                  random_state=42,stratify=stars_le_b)"
      ],
      "execution_count": null,
      "outputs": []
    },
    {
      "cell_type": "code",
      "metadata": {
        "id": "hfEdVsFM417K"
      },
      "source": [
        "tfidf_cl_b = TfidfVectorizer(max_features = 1250, ngram_range=(1,2))\n",
        "tfidf_st_b = TfidfVectorizer(max_features = 150, ngram_range=(1,2))\n",
        "tfidf_le_b = TfidfVectorizer(max_features = 250, ngram_range=(1,2))"
      ],
      "execution_count": null,
      "outputs": []
    },
    {
      "cell_type": "markdown",
      "metadata": {
        "id": "B4bM_VPu5imG"
      },
      "source": [
        "**Kitchen**"
      ]
    },
    {
      "cell_type": "code",
      "metadata": {
        "id": "lwEL7LlU5nk1"
      },
      "source": [
        "# Data Cleaning\n",
        "reviews_cl_k= kitchen['review_body'].values\n",
        "stars_cl_k = kitchen['stars'].values\n",
        "\n",
        "# Stemming\n",
        "reviews_st_k = kitchen['review_body_stemm'].values\n",
        "stars_st_k = kitchen['stars'].values\n",
        "\n",
        "#Lemmatization\n",
        "reviews_le_k = kitchen['review_body_lemma'].values\n",
        "stars_le_k = kitchen['stars'].values"
      ],
      "execution_count": null,
      "outputs": []
    },
    {
      "cell_type": "code",
      "metadata": {
        "id": "uCm12Tpm5nYa"
      },
      "source": [
        "X_train_cl_k, X_test_cl_k, ytrain_cl_k, ytest_cl_k = train_test_split(reviews_cl_k,stars_cl_k,test_size=0.3,\n",
        "                                                  random_state=42,stratify=stars_cl_k)"
      ],
      "execution_count": null,
      "outputs": []
    },
    {
      "cell_type": "code",
      "metadata": {
        "id": "bdA3yuCx5nV6"
      },
      "source": [
        "X_train_st_k, X_test_st_k, ytrain_st_k, ytest_st_k = train_test_split(reviews_st_k,stars_st_k,test_size=0.3,\n",
        "                                                  random_state=42,stratify=stars_st_k)"
      ],
      "execution_count": null,
      "outputs": []
    },
    {
      "cell_type": "code",
      "metadata": {
        "id": "AzV5FP365rPj"
      },
      "source": [
        "X_train_le_k, X_test_le_k, ytrain_le_k, ytest_le_k = train_test_split(reviews_le_k,stars_le_k,test_size=0.3,\n",
        "                                                  random_state=42,stratify=stars_le_k)"
      ],
      "execution_count": null,
      "outputs": []
    },
    {
      "cell_type": "code",
      "metadata": {
        "id": "cmrMR2Yq5rK_"
      },
      "source": [
        "tfidf_cl_k = TfidfVectorizer(max_features = 1000, ngram_range=(1,2))\n",
        "tfidf_st_k = TfidfVectorizer(max_features = 400, ngram_range=(1,2))\n",
        "tfidf_le_k = TfidfVectorizer(max_features = 1000, ngram_range=(1,2))"
      ],
      "execution_count": null,
      "outputs": []
    },
    {
      "cell_type": "markdown",
      "metadata": {
        "id": "T6f_vJQ16lYV"
      },
      "source": [
        "## **Modelo**"
      ]
    },
    {
      "cell_type": "markdown",
      "metadata": {
        "id": "-u_74RNG6U8p"
      },
      "source": [
        "### Funciones de evaluación"
      ]
    },
    {
      "cell_type": "code",
      "metadata": {
        "id": "jTMvytHc6ms8"
      },
      "source": [
        "#Función para plotear la matriz de confusión\n",
        "from sklearn.metrics import confusion_matrix\n",
        "import seaborn as sns\n",
        "\n",
        "def confusion(ytest,y_pred):\n",
        "    stars=['1','2','3','4','5']\n",
        "    cm=confusion_matrix(ytest,y_pred)\n",
        "    f,ax=plt.subplots(figsize=(10,10))\n",
        "    sns.heatmap(cm,annot=True,linewidth=.5,linecolor=\"r\",fmt=\".0f\",ax=ax)\n",
        "    plt.xlabel(\"y_pred\")\n",
        "    plt.ylabel(\"y_true\")\n",
        "    ax.set_xticklabels(stars)\n",
        "    ax.set_yticklabels(stars)\n",
        "    plt.show()\n",
        "\n",
        "    return"
      ],
      "execution_count": null,
      "outputs": []
    },
    {
      "cell_type": "code",
      "metadata": {
        "id": "Tl7GzO8P6YvW"
      },
      "source": [
        "def evaluar_modelo(model_fit, X_train, X_test, y_train, y_test):\n",
        "    print(model_fit)\n",
        "    acc_train = model_fit.score(X_train, y_train)\n",
        "    print(\"Accuracy en train: \", round(acc_train,4))\n",
        "    y_pred = model_fit.predict(X_test)\n",
        "    acc_test = accuracy_score(y_pred, y_test)\n",
        "    print(\"Accuracy en test: \", round(acc_test,4))\n",
        "\n",
        "    print(classification_report(y_test, y_pred))\n",
        "    confusion(y_test, y_pred)\n",
        "    return  acc_train, acc_test"
      ],
      "execution_count": null,
      "outputs": []
    },
    {
      "cell_type": "code",
      "metadata": {
        "id": "GhMoewOL6ah0"
      },
      "source": [
        "def evaluar_modelo_simple(model_fit, X_train, X_test, y_train, y_test):\n",
        "    print(model_fit)\n",
        "    acc_train = model_fit.score(X_train, y_train)\n",
        "    print(\"Accuracy en train: \", round(acc_train,4))\n",
        "    y_pred = model_fit.predict(X_test)\n",
        "    acc_test = accuracy_score(y_pred, y_test)\n",
        "    print(\"Accuracy en test: \", round(acc_test,4))\n",
        "\n",
        "    print(classification_report(y_test, y_pred))\n",
        "    return  acc_train, acc_test"
      ],
      "execution_count": null,
      "outputs": []
    },
    {
      "cell_type": "markdown",
      "metadata": {
        "id": "vxYYdFhU6lNj"
      },
      "source": [
        "### **Beauty** - Modelos para cada tipo de dato"
      ]
    },
    {
      "cell_type": "markdown",
      "metadata": {
        "id": "6XyRCEv76uua"
      },
      "source": [
        "**Beauty: Data Clean**"
      ]
    },
    {
      "cell_type": "code",
      "metadata": {
        "id": "Nu58Xi-66udg"
      },
      "source": [
        "#Definimos el vectorizador para Data_Clean ('review_body')\n",
        "tfidf_cl_b = tfidf_cl_b.fit(X_train_cl_b)\n",
        "X_train_cl_b = tfidf_cl_b.transform(X_train_cl_b).toarray()\n",
        "X_test_cl_b = tfidf_cl_b.transform(X_test_cl_b).toarray()"
      ],
      "execution_count": null,
      "outputs": []
    },
    {
      "cell_type": "markdown",
      "metadata": {
        "id": "pQ0hW8Am8hGQ"
      },
      "source": [
        "**Naive Bayes: Benchmark**"
      ]
    },
    {
      "cell_type": "code",
      "metadata": {
        "colab": {
          "base_uri": "https://localhost:8080/"
        },
        "id": "Iu7Y4i-O6uXg",
        "outputId": "1e81ab25-b8f6-407b-d861-98eae65e3088"
      },
      "source": [
        "clf = GaussianNB()\n",
        "clf.fit(X_train_cl_b,ytrain_cl_b)\n",
        "evaluar_modelo_simple(clf ,X_train_cl_b ,X_test_cl_b ,ytrain_cl_b ,ytest_cl_b)"
      ],
      "execution_count": null,
      "outputs": [
        {
          "output_type": "stream",
          "text": [
            "GaussianNB(priors=None, var_smoothing=1e-09)\n",
            "Accuracy en train:  0.5295\n",
            "Accuracy en test:  0.3857\n",
            "              precision    recall  f1-score   support\n",
            "\n",
            "           1       0.50      0.70      0.59       484\n",
            "           2       0.37      0.09      0.15       482\n",
            "           3       0.29      0.09      0.14       482\n",
            "           4       0.25      0.31      0.28       411\n",
            "           5       0.39      0.74      0.51       451\n",
            "\n",
            "    accuracy                           0.39      2310\n",
            "   macro avg       0.36      0.39      0.33      2310\n",
            "weighted avg       0.36      0.39      0.33      2310\n",
            "\n"
          ],
          "name": "stdout"
        },
        {
          "output_type": "execute_result",
          "data": {
            "text/plain": [
              "(0.529510022271715, 0.38571428571428573)"
            ]
          },
          "metadata": {
            "tags": []
          },
          "execution_count": 30
        }
      ]
    },
    {
      "cell_type": "markdown",
      "metadata": {
        "id": "DYIUgzeG8qwB"
      },
      "source": [
        "**Linear SVC** "
      ]
    },
    {
      "cell_type": "code",
      "metadata": {
        "colab": {
          "base_uri": "https://localhost:8080/"
        },
        "id": "x9XHcx9a8qKB",
        "outputId": "293ee57d-b91e-40b1-d1a1-89fdf59906ed"
      },
      "source": [
        "clf = LinearSVC(C = 20, max_iter= 500)\n",
        "clf.fit(X_train_cl_b,ytrain_cl_b)\n",
        "evaluar_modelo_simple(clf ,X_train_cl_b ,X_test_cl_b ,ytrain_cl_b ,ytest_cl_b)"
      ],
      "execution_count": null,
      "outputs": [
        {
          "output_type": "stream",
          "text": [
            "LinearSVC(C=20, class_weight=None, dual=True, fit_intercept=True,\n",
            "          intercept_scaling=1, loss='squared_hinge', max_iter=500,\n",
            "          multi_class='ovr', penalty='l2', random_state=None, tol=0.0001,\n",
            "          verbose=0)\n",
            "Accuracy en train:  0.7955\n",
            "Accuracy en test:  0.4203\n",
            "              precision    recall  f1-score   support\n",
            "\n",
            "           1       0.57      0.61      0.59       484\n",
            "           2       0.35      0.34      0.34       482\n",
            "           3       0.31      0.32      0.32       482\n",
            "           4       0.36      0.36      0.36       411\n",
            "           5       0.50      0.47      0.48       451\n",
            "\n",
            "    accuracy                           0.42      2310\n",
            "   macro avg       0.42      0.42      0.42      2310\n",
            "weighted avg       0.42      0.42      0.42      2310\n",
            "\n"
          ],
          "name": "stdout"
        },
        {
          "output_type": "execute_result",
          "data": {
            "text/plain": [
              "(0.7954714179658501, 0.42034632034632036)"
            ]
          },
          "metadata": {
            "tags": []
          },
          "execution_count": 31
        }
      ]
    },
    {
      "cell_type": "markdown",
      "metadata": {
        "id": "jT6Y7RjG8rDB"
      },
      "source": [
        "**Random Forest**"
      ]
    },
    {
      "cell_type": "code",
      "metadata": {
        "colab": {
          "base_uri": "https://localhost:8080/"
        },
        "id": "SsZSpPiu8qCX",
        "outputId": "08062ce2-44e0-48f5-ca5a-ac67ae827610"
      },
      "source": [
        "clf = RandomForestClassifier(max_depth= 14)\n",
        "clf.fit(X_train_cl_b,ytrain_cl_b)\n",
        "evaluar_modelo_simple(clf ,X_train_cl_b ,X_test_cl_b ,ytrain_cl_b ,ytest_cl_b)"
      ],
      "execution_count": null,
      "outputs": [
        {
          "output_type": "stream",
          "text": [
            "RandomForestClassifier(bootstrap=True, ccp_alpha=0.0, class_weight=None,\n",
            "                       criterion='gini', max_depth=14, max_features='auto',\n",
            "                       max_leaf_nodes=None, max_samples=None,\n",
            "                       min_impurity_decrease=0.0, min_impurity_split=None,\n",
            "                       min_samples_leaf=1, min_samples_split=2,\n",
            "                       min_weight_fraction_leaf=0.0, n_estimators=100,\n",
            "                       n_jobs=None, oob_score=False, random_state=None,\n",
            "                       verbose=0, warm_start=False)\n",
            "Accuracy en train:  0.6663\n",
            "Accuracy en test:  0.4342\n",
            "              precision    recall  f1-score   support\n",
            "\n",
            "           1       0.56      0.66      0.60       484\n",
            "           2       0.35      0.31      0.33       482\n",
            "           3       0.34      0.37      0.35       482\n",
            "           4       0.43      0.16      0.23       411\n",
            "           5       0.46      0.65      0.54       451\n",
            "\n",
            "    accuracy                           0.43      2310\n",
            "   macro avg       0.43      0.43      0.41      2310\n",
            "weighted avg       0.43      0.43      0.41      2310\n",
            "\n"
          ],
          "name": "stdout"
        },
        {
          "output_type": "execute_result",
          "data": {
            "text/plain": [
              "(0.6662954714179659, 0.4341991341991342)"
            ]
          },
          "metadata": {
            "tags": []
          },
          "execution_count": 32
        }
      ]
    },
    {
      "cell_type": "markdown",
      "metadata": {
        "id": "-rhvL9fn6yhR"
      },
      "source": [
        "**Beauty: Data Stemmizada**"
      ]
    },
    {
      "cell_type": "code",
      "metadata": {
        "id": "UQfPQCeg64eq"
      },
      "source": [
        "#Definimos el vectorizador para Data_Stemmatizasa ('review_body_stemm')\n",
        "tfidf_st_b = tfidf_st_b.fit(X_train_st_b)\n",
        "X_train_st_b = tfidf_st_b.transform(X_train_st_b).toarray()\n",
        "X_test_st_b = tfidf_st_b.transform(X_test_st_b).toarray()"
      ],
      "execution_count": null,
      "outputs": []
    },
    {
      "cell_type": "markdown",
      "metadata": {
        "id": "zIOyZnhG9oHG"
      },
      "source": [
        "**Naive Bayes**"
      ]
    },
    {
      "cell_type": "code",
      "metadata": {
        "colab": {
          "base_uri": "https://localhost:8080/"
        },
        "id": "MpDjlSOW6uPs",
        "outputId": "876e4825-5c93-49bf-ca15-cd866a0e0fbb"
      },
      "source": [
        "clf = GaussianNB()\n",
        "clf.fit(X_train_st_b,ytrain_st_b)\n",
        "evaluar_modelo_simple(clf ,X_train_st_b ,X_test_st_b ,ytrain_st_b ,ytest_st_b)"
      ],
      "execution_count": null,
      "outputs": [
        {
          "output_type": "stream",
          "text": [
            "GaussianNB(priors=None, var_smoothing=1e-09)\n",
            "Accuracy en train:  0.4519\n",
            "Accuracy en test:  0.4225\n",
            "              precision    recall  f1-score   support\n",
            "\n",
            "           1       0.53      0.69      0.60       484\n",
            "           2       0.33      0.21      0.26       482\n",
            "           3       0.35      0.24      0.29       482\n",
            "           4       0.34      0.33      0.34       411\n",
            "           5       0.45      0.64      0.53       451\n",
            "\n",
            "    accuracy                           0.42      2310\n",
            "   macro avg       0.40      0.42      0.40      2310\n",
            "weighted avg       0.40      0.42      0.40      2310\n",
            "\n"
          ],
          "name": "stdout"
        },
        {
          "output_type": "execute_result",
          "data": {
            "text/plain": [
              "(0.45193021529324423, 0.4225108225108225)"
            ]
          },
          "metadata": {
            "tags": []
          },
          "execution_count": 34
        }
      ]
    },
    {
      "cell_type": "markdown",
      "metadata": {
        "id": "I0Lo5D8K9_BQ"
      },
      "source": [
        "**Linear SVC**"
      ]
    },
    {
      "cell_type": "code",
      "metadata": {
        "colab": {
          "base_uri": "https://localhost:8080/"
        },
        "id": "2IecY-s39-00",
        "outputId": "8239d891-dfc7-468d-ec80-8573ee36a972"
      },
      "source": [
        "clf = LinearSVC(C = 20, max_iter= 500)\n",
        "clf.fit(X_train_st_b,ytrain_st_b)\n",
        "evaluar_modelo_simple(clf ,X_train_st_b ,X_test_st_b ,ytrain_st_b ,ytest_st_b)"
      ],
      "execution_count": null,
      "outputs": [
        {
          "output_type": "stream",
          "text": [
            "LinearSVC(C=20, class_weight=None, dual=True, fit_intercept=True,\n",
            "          intercept_scaling=1, loss='squared_hinge', max_iter=500,\n",
            "          multi_class='ovr', penalty='l2', random_state=None, tol=0.0001,\n",
            "          verbose=0)\n",
            "Accuracy en train:  0.5004\n",
            "Accuracy en test:  0.4476\n",
            "              precision    recall  f1-score   support\n",
            "\n",
            "           1       0.54      0.73      0.62       484\n",
            "           2       0.38      0.30      0.34       482\n",
            "           3       0.35      0.29      0.32       482\n",
            "           4       0.38      0.32      0.35       411\n",
            "           5       0.51      0.58      0.54       451\n",
            "\n",
            "    accuracy                           0.45      2310\n",
            "   macro avg       0.43      0.45      0.43      2310\n",
            "weighted avg       0.43      0.45      0.43      2310\n",
            "\n"
          ],
          "name": "stdout"
        },
        {
          "output_type": "execute_result",
          "data": {
            "text/plain": [
              "(0.5003711952487008, 0.44761904761904764)"
            ]
          },
          "metadata": {
            "tags": []
          },
          "execution_count": 35
        }
      ]
    },
    {
      "cell_type": "markdown",
      "metadata": {
        "id": "cvGxBgWj-Aa2"
      },
      "source": [
        "**Random Forest** "
      ]
    },
    {
      "cell_type": "code",
      "metadata": {
        "colab": {
          "base_uri": "https://localhost:8080/"
        },
        "id": "03DioSPg9-d_",
        "outputId": "b0a9ef10-778f-4506-f8c1-af689d03709c"
      },
      "source": [
        "clf = RandomForestClassifier(max_depth= 14)\n",
        "clf.fit(X_train_st_b,ytrain_st_b)\n",
        "evaluar_modelo_simple(clf ,X_train_st_b ,X_test_st_b ,ytrain_st_b ,ytest_st_b)"
      ],
      "execution_count": null,
      "outputs": [
        {
          "output_type": "stream",
          "text": [
            "RandomForestClassifier(bootstrap=True, ccp_alpha=0.0, class_weight=None,\n",
            "                       criterion='gini', max_depth=14, max_features='auto',\n",
            "                       max_leaf_nodes=None, max_samples=None,\n",
            "                       min_impurity_decrease=0.0, min_impurity_split=None,\n",
            "                       min_samples_leaf=1, min_samples_split=2,\n",
            "                       min_weight_fraction_leaf=0.0, n_estimators=100,\n",
            "                       n_jobs=None, oob_score=False, random_state=None,\n",
            "                       verbose=0, warm_start=False)\n",
            "Accuracy en train:  0.7142\n",
            "Accuracy en test:  0.4268\n",
            "              precision    recall  f1-score   support\n",
            "\n",
            "           1       0.57      0.64      0.60       484\n",
            "           2       0.36      0.35      0.36       482\n",
            "           3       0.36      0.24      0.29       482\n",
            "           4       0.34      0.27      0.30       411\n",
            "           5       0.43      0.62      0.51       451\n",
            "\n",
            "    accuracy                           0.43      2310\n",
            "   macro avg       0.41      0.42      0.41      2310\n",
            "weighted avg       0.41      0.43      0.41      2310\n",
            "\n"
          ],
          "name": "stdout"
        },
        {
          "output_type": "execute_result",
          "data": {
            "text/plain": [
              "(0.7141796585003712, 0.42683982683982685)"
            ]
          },
          "metadata": {
            "tags": []
          },
          "execution_count": 36
        }
      ]
    },
    {
      "cell_type": "markdown",
      "metadata": {
        "id": "1b9Wz44T60_m"
      },
      "source": [
        "**Beauty: Data Lemmatizada** "
      ]
    },
    {
      "cell_type": "code",
      "metadata": {
        "id": "rENBB5a464wt"
      },
      "source": [
        "#Definimos el vectorizador para Data_Stemmatizasa ('review_body_stemm')\n",
        "tfidf_le_b = tfidf_le_b.fit(X_train_le_b)\n",
        "X_train_le_b = tfidf_le_b.transform(X_train_le_b).toarray()\n",
        "X_test_le_b = tfidf_le_b.transform(X_test_le_b).toarray()"
      ],
      "execution_count": null,
      "outputs": []
    },
    {
      "cell_type": "markdown",
      "metadata": {
        "id": "rOXHOQSm-yYA"
      },
      "source": [
        "**Naive Bayes**"
      ]
    },
    {
      "cell_type": "code",
      "metadata": {
        "colab": {
          "base_uri": "https://localhost:8080/"
        },
        "id": "DzmkKHtd6uM0",
        "outputId": "a9ef9b21-a9f4-46c8-fa49-7f1bca6e1f30"
      },
      "source": [
        "clf = GaussianNB()\n",
        "clf.fit(X_train_le_b,ytrain_le_b)\n",
        "evaluar_modelo_simple(clf ,X_train_le_b ,X_test_le_b ,ytrain_le_b ,ytest_le_b)"
      ],
      "execution_count": null,
      "outputs": [
        {
          "output_type": "stream",
          "text": [
            "GaussianNB(priors=None, var_smoothing=1e-09)\n",
            "Accuracy en train:  0.4265\n",
            "Accuracy en test:  0.3727\n",
            "              precision    recall  f1-score   support\n",
            "\n",
            "           1       0.44      0.66      0.53       484\n",
            "           2       0.32      0.18      0.23       482\n",
            "           3       0.33      0.16      0.22       482\n",
            "           4       0.30      0.33      0.31       411\n",
            "           5       0.39      0.54      0.45       451\n",
            "\n",
            "    accuracy                           0.37      2310\n",
            "   macro avg       0.36      0.37      0.35      2310\n",
            "weighted avg       0.36      0.37      0.35      2310\n",
            "\n"
          ],
          "name": "stdout"
        },
        {
          "output_type": "execute_result",
          "data": {
            "text/plain": [
              "(0.4265033407572383, 0.37272727272727274)"
            ]
          },
          "metadata": {
            "tags": []
          },
          "execution_count": 38
        }
      ]
    },
    {
      "cell_type": "markdown",
      "metadata": {
        "id": "svl8LH31-ysX"
      },
      "source": [
        "**Linear SVC**"
      ]
    },
    {
      "cell_type": "code",
      "metadata": {
        "colab": {
          "base_uri": "https://localhost:8080/"
        },
        "id": "KMvLPKco-yG3",
        "outputId": "499ffd78-a036-4c0e-efff-754521587948"
      },
      "source": [
        "clf = LinearSVC(C = 20, max_iter= 500)\n",
        "clf.fit(X_train_le_b,ytrain_le_b)\n",
        "evaluar_modelo_simple(clf ,X_train_le_b ,X_test_le_b ,ytrain_le_b ,ytest_le_b)"
      ],
      "execution_count": null,
      "outputs": [
        {
          "output_type": "stream",
          "text": [
            "LinearSVC(C=20, class_weight=None, dual=True, fit_intercept=True,\n",
            "          intercept_scaling=1, loss='squared_hinge', max_iter=500,\n",
            "          multi_class='ovr', penalty='l2', random_state=None, tol=0.0001,\n",
            "          verbose=0)\n",
            "Accuracy en train:  0.4837\n",
            "Accuracy en test:  0.3883\n",
            "              precision    recall  f1-score   support\n",
            "\n",
            "           1       0.48      0.55      0.52       484\n",
            "           2       0.33      0.30      0.32       482\n",
            "           3       0.30      0.32      0.31       482\n",
            "           4       0.32      0.25      0.28       411\n",
            "           5       0.47      0.51      0.49       451\n",
            "\n",
            "    accuracy                           0.39      2310\n",
            "   macro avg       0.38      0.39      0.38      2310\n",
            "weighted avg       0.38      0.39      0.38      2310\n",
            "\n"
          ],
          "name": "stdout"
        },
        {
          "output_type": "execute_result",
          "data": {
            "text/plain": [
              "(0.48366740905716404, 0.38831168831168833)"
            ]
          },
          "metadata": {
            "tags": []
          },
          "execution_count": 39
        }
      ]
    },
    {
      "cell_type": "markdown",
      "metadata": {
        "id": "JdgByt0x-y78"
      },
      "source": [
        "**Random Forest**"
      ]
    },
    {
      "cell_type": "code",
      "metadata": {
        "colab": {
          "base_uri": "https://localhost:8080/"
        },
        "id": "NTLAVqUr-x6_",
        "outputId": "790d88ac-91b3-4aa6-c42a-b614415189ea"
      },
      "source": [
        "clf = RandomForestClassifier(max_depth= 14)\n",
        "clf.fit(X_train_le_b,ytrain_le_b)\n",
        "evaluar_modelo_simple(clf ,X_train_le_b ,X_test_le_b ,ytrain_le_b ,ytest_le_b)"
      ],
      "execution_count": null,
      "outputs": [
        {
          "output_type": "stream",
          "text": [
            "RandomForestClassifier(bootstrap=True, ccp_alpha=0.0, class_weight=None,\n",
            "                       criterion='gini', max_depth=14, max_features='auto',\n",
            "                       max_leaf_nodes=None, max_samples=None,\n",
            "                       min_impurity_decrease=0.0, min_impurity_split=None,\n",
            "                       min_samples_leaf=1, min_samples_split=2,\n",
            "                       min_weight_fraction_leaf=0.0, n_estimators=100,\n",
            "                       n_jobs=None, oob_score=False, random_state=None,\n",
            "                       verbose=0, warm_start=False)\n",
            "Accuracy en train:  0.5872\n",
            "Accuracy en test:  0.3732\n",
            "              precision    recall  f1-score   support\n",
            "\n",
            "           1       0.52      0.50      0.51       484\n",
            "           2       0.28      0.50      0.36       482\n",
            "           3       0.29      0.29      0.29       482\n",
            "           4       0.37      0.10      0.16       411\n",
            "           5       0.49      0.43      0.46       451\n",
            "\n",
            "    accuracy                           0.37      2310\n",
            "   macro avg       0.39      0.37      0.36      2310\n",
            "weighted avg       0.39      0.37      0.36      2310\n",
            "\n"
          ],
          "name": "stdout"
        },
        {
          "output_type": "execute_result",
          "data": {
            "text/plain": [
              "(0.5872308834446919, 0.37316017316017314)"
            ]
          },
          "metadata": {
            "tags": []
          },
          "execution_count": 40
        }
      ]
    },
    {
      "cell_type": "markdown",
      "metadata": {
        "id": "SkGReGk4NgKa"
      },
      "source": [
        "### **Kitchen - Modelos para cada tipo de dato**"
      ]
    },
    {
      "cell_type": "markdown",
      "metadata": {
        "id": "zNNl2TRNN0Mt"
      },
      "source": [
        "**Kitchen - Data clean**"
      ]
    },
    {
      "cell_type": "code",
      "metadata": {
        "id": "QH9g03M2OR3W"
      },
      "source": [
        "#Definimos el vectorizador para Data_Clean ('review_body')\n",
        "tfidf_cl_k = tfidf_cl_k.fit(X_train_cl_k)\n",
        "X_train_cl_k = tfidf_cl_k.transform(X_train_cl_k).toarray()\n",
        "X_test_cl_k = tfidf_cl_k.transform(X_test_cl_k).toarray()"
      ],
      "execution_count": null,
      "outputs": []
    },
    {
      "cell_type": "markdown",
      "metadata": {
        "id": "zh7WjMHlOR3Y"
      },
      "source": [
        "**Naive Bayes: Benchmark**"
      ]
    },
    {
      "cell_type": "code",
      "metadata": {
        "colab": {
          "base_uri": "https://localhost:8080/"
        },
        "id": "rveRtztGOR3Y",
        "outputId": "f1a96cd5-54ac-47bd-8b9b-222d2bbf6c92"
      },
      "source": [
        "clf = GaussianNB()\n",
        "clf.fit(X_train_cl_k,ytrain_cl_k)\n",
        "evaluar_modelo_simple(clf ,X_train_cl_k ,X_test_cl_k ,ytrain_cl_k ,ytest_cl_k)"
      ],
      "execution_count": null,
      "outputs": [
        {
          "output_type": "stream",
          "text": [
            "GaussianNB(priors=None, var_smoothing=1e-09)\n",
            "Accuracy en train:  0.4966\n",
            "Accuracy en test:  0.3632\n",
            "              precision    recall  f1-score   support\n",
            "\n",
            "           1       0.45      0.66      0.54       419\n",
            "           2       0.31      0.08      0.12       417\n",
            "           3       0.32      0.16      0.21       404\n",
            "           4       0.29      0.15      0.19       451\n",
            "           5       0.34      0.79      0.47       415\n",
            "\n",
            "    accuracy                           0.36      2106\n",
            "   macro avg       0.34      0.37      0.31      2106\n",
            "weighted avg       0.34      0.36      0.31      2106\n",
            "\n"
          ],
          "name": "stdout"
        },
        {
          "output_type": "execute_result",
          "data": {
            "text/plain": [
              "(0.49664019547953575, 0.36324786324786323)"
            ]
          },
          "metadata": {
            "tags": []
          },
          "execution_count": 42
        }
      ]
    },
    {
      "cell_type": "markdown",
      "metadata": {
        "id": "jtf4JJvJOR3Z"
      },
      "source": [
        "**Linear SVC** "
      ]
    },
    {
      "cell_type": "code",
      "metadata": {
        "colab": {
          "base_uri": "https://localhost:8080/"
        },
        "id": "puHC_-JXOR3Z",
        "outputId": "8be5ec51-521c-4e2a-c329-57ca6671cbd4"
      },
      "source": [
        "clf = LinearSVC(C = 20, max_iter= 500)\n",
        "clf.fit(X_train_cl_k,ytrain_cl_k)\n",
        "evaluar_modelo_simple(clf ,X_train_cl_k ,X_test_cl_k ,ytrain_cl_k ,ytest_cl_k)"
      ],
      "execution_count": null,
      "outputs": [
        {
          "output_type": "stream",
          "text": [
            "LinearSVC(C=20, class_weight=None, dual=True, fit_intercept=True,\n",
            "          intercept_scaling=1, loss='squared_hinge', max_iter=500,\n",
            "          multi_class='ovr', penalty='l2', random_state=None, tol=0.0001,\n",
            "          verbose=0)\n",
            "Accuracy en train:  0.7363\n",
            "Accuracy en test:  0.368\n",
            "              precision    recall  f1-score   support\n",
            "\n",
            "           1       0.48      0.47      0.48       419\n",
            "           2       0.28      0.29      0.28       417\n",
            "           3       0.28      0.27      0.28       404\n",
            "           4       0.34      0.33      0.33       451\n",
            "           5       0.45      0.47      0.46       415\n",
            "\n",
            "    accuracy                           0.37      2106\n",
            "   macro avg       0.37      0.37      0.37      2106\n",
            "weighted avg       0.37      0.37      0.37      2106\n",
            "\n"
          ],
          "name": "stdout"
        },
        {
          "output_type": "execute_result",
          "data": {
            "text/plain": [
              "(0.7363062512726533, 0.36799620132953464)"
            ]
          },
          "metadata": {
            "tags": []
          },
          "execution_count": 43
        }
      ]
    },
    {
      "cell_type": "markdown",
      "metadata": {
        "id": "kSWVCaPAOR3Z"
      },
      "source": [
        "**Random Forest**"
      ]
    },
    {
      "cell_type": "code",
      "metadata": {
        "colab": {
          "base_uri": "https://localhost:8080/"
        },
        "id": "zZxVS623OR3Z",
        "outputId": "eef74c0d-6961-4493-f211-0e49cb860f1e"
      },
      "source": [
        "clf = RandomForestClassifier(max_depth= 14)\n",
        "clf.fit(X_train_cl_k,ytrain_cl_k)\n",
        "evaluar_modelo_simple(clf ,X_train_cl_k ,X_test_cl_k ,ytrain_cl_k ,ytest_cl_k)"
      ],
      "execution_count": null,
      "outputs": [
        {
          "output_type": "stream",
          "text": [
            "RandomForestClassifier(bootstrap=True, ccp_alpha=0.0, class_weight=None,\n",
            "                       criterion='gini', max_depth=14, max_features='auto',\n",
            "                       max_leaf_nodes=None, max_samples=None,\n",
            "                       min_impurity_decrease=0.0, min_impurity_split=None,\n",
            "                       min_samples_leaf=1, min_samples_split=2,\n",
            "                       min_weight_fraction_leaf=0.0, n_estimators=100,\n",
            "                       n_jobs=None, oob_score=False, random_state=None,\n",
            "                       verbose=0, warm_start=False)\n",
            "Accuracy en train:  0.664\n",
            "Accuracy en test:  0.3875\n",
            "              precision    recall  f1-score   support\n",
            "\n",
            "           1       0.49      0.61      0.54       419\n",
            "           2       0.30      0.24      0.27       417\n",
            "           3       0.37      0.09      0.15       404\n",
            "           4       0.29      0.47      0.36       451\n",
            "           5       0.50      0.51      0.50       415\n",
            "\n",
            "    accuracy                           0.39      2106\n",
            "   macro avg       0.39      0.38      0.36      2106\n",
            "weighted avg       0.39      0.39      0.37      2106\n",
            "\n"
          ],
          "name": "stdout"
        },
        {
          "output_type": "execute_result",
          "data": {
            "text/plain": [
              "(0.6640195479535737, 0.38746438746438744)"
            ]
          },
          "metadata": {
            "tags": []
          },
          "execution_count": 44
        }
      ]
    },
    {
      "cell_type": "markdown",
      "metadata": {
        "id": "jj8oVgq2PAW3"
      },
      "source": [
        "**Kitchen: Data Stemmizada**"
      ]
    },
    {
      "cell_type": "code",
      "metadata": {
        "id": "HhBYJwoRPAXA"
      },
      "source": [
        "#Definimos el vectorizador para Data_Stemmatizasa ('review_body_stemm')\n",
        "tfidf_st_k = tfidf_st_k.fit(X_train_st_k)\n",
        "X_train_st_k = tfidf_st_k.transform(X_train_st_k).toarray()\n",
        "X_test_st_k = tfidf_st_k.transform(X_test_st_k).toarray()"
      ],
      "execution_count": null,
      "outputs": []
    },
    {
      "cell_type": "markdown",
      "metadata": {
        "id": "ZNhRhmJBPAXB"
      },
      "source": [
        "**Naive Bayes**"
      ]
    },
    {
      "cell_type": "code",
      "metadata": {
        "colab": {
          "base_uri": "https://localhost:8080/"
        },
        "id": "2SfnKY7PPAXB",
        "outputId": "736cbd2b-ab38-49cb-aee0-d03aa9c2ef18"
      },
      "source": [
        "clf = GaussianNB()\n",
        "clf.fit(X_train_st_k,ytrain_st_k)\n",
        "evaluar_modelo_simple(clf ,X_train_st_k ,X_test_st_k ,ytrain_st_k ,ytest_st_k)"
      ],
      "execution_count": null,
      "outputs": [
        {
          "output_type": "stream",
          "text": [
            "GaussianNB(priors=None, var_smoothing=1e-09)\n",
            "Accuracy en train:  0.4655\n",
            "Accuracy en test:  0.3761\n",
            "              precision    recall  f1-score   support\n",
            "\n",
            "           1       0.45      0.63      0.53       419\n",
            "           2       0.36      0.18      0.24       417\n",
            "           3       0.36      0.19      0.25       404\n",
            "           4       0.32      0.17      0.22       451\n",
            "           5       0.35      0.73      0.47       415\n",
            "\n",
            "    accuracy                           0.38      2106\n",
            "   macro avg       0.37      0.38      0.34      2106\n",
            "weighted avg       0.37      0.38      0.34      2106\n",
            "\n"
          ],
          "name": "stdout"
        },
        {
          "output_type": "execute_result",
          "data": {
            "text/plain": [
              "(0.4654856444715944, 0.37606837606837606)"
            ]
          },
          "metadata": {
            "tags": []
          },
          "execution_count": 46
        }
      ]
    },
    {
      "cell_type": "markdown",
      "metadata": {
        "id": "jSQef4o2PAXC"
      },
      "source": [
        "**Linear SVC**"
      ]
    },
    {
      "cell_type": "code",
      "metadata": {
        "colab": {
          "base_uri": "https://localhost:8080/"
        },
        "id": "30kbITmLPAXC",
        "outputId": "a34aa477-8fc7-4bef-cfe4-b32e0b8f850b"
      },
      "source": [
        "clf = LinearSVC(C = 20, max_iter= 500)\n",
        "clf.fit(X_train_st_k,ytrain_st_k)\n",
        "evaluar_modelo_simple(clf ,X_train_st_k ,X_test_st_k ,ytrain_st_k ,ytest_st_k)"
      ],
      "execution_count": null,
      "outputs": [
        {
          "output_type": "stream",
          "text": [
            "LinearSVC(C=20, class_weight=None, dual=True, fit_intercept=True,\n",
            "          intercept_scaling=1, loss='squared_hinge', max_iter=500,\n",
            "          multi_class='ovr', penalty='l2', random_state=None, tol=0.0001,\n",
            "          verbose=0)\n",
            "Accuracy en train:  0.584\n",
            "Accuracy en test:  0.4179\n",
            "              precision    recall  f1-score   support\n",
            "\n",
            "           1       0.50      0.56      0.53       419\n",
            "           2       0.32      0.29      0.30       417\n",
            "           3       0.34      0.29      0.31       404\n",
            "           4       0.37      0.37      0.37       451\n",
            "           5       0.51      0.58      0.54       415\n",
            "\n",
            "    accuracy                           0.42      2106\n",
            "   macro avg       0.41      0.42      0.41      2106\n",
            "weighted avg       0.41      0.42      0.41      2106\n",
            "\n"
          ],
          "name": "stdout"
        },
        {
          "output_type": "execute_result",
          "data": {
            "text/plain": [
              "(0.5839951130116066, 0.4178537511870845)"
            ]
          },
          "metadata": {
            "tags": []
          },
          "execution_count": 47
        }
      ]
    },
    {
      "cell_type": "markdown",
      "metadata": {
        "id": "7WrysNiaPAXC"
      },
      "source": [
        "**Random Forest** "
      ]
    },
    {
      "cell_type": "code",
      "metadata": {
        "colab": {
          "base_uri": "https://localhost:8080/"
        },
        "id": "Gr9tjYnsPAXC",
        "outputId": "91b3c927-fd86-4ac9-b499-b715dd63d96f"
      },
      "source": [
        "clf = RandomForestClassifier(max_depth= 14)\n",
        "clf.fit(X_train_st_k,ytrain_st_k)\n",
        "evaluar_modelo_simple(clf ,X_train_st_k ,X_test_st_k ,ytrain_st_k ,ytest_st_k)"
      ],
      "execution_count": null,
      "outputs": [
        {
          "output_type": "stream",
          "text": [
            "RandomForestClassifier(bootstrap=True, ccp_alpha=0.0, class_weight=None,\n",
            "                       criterion='gini', max_depth=14, max_features='auto',\n",
            "                       max_leaf_nodes=None, max_samples=None,\n",
            "                       min_impurity_decrease=0.0, min_impurity_split=None,\n",
            "                       min_samples_leaf=1, min_samples_split=2,\n",
            "                       min_weight_fraction_leaf=0.0, n_estimators=100,\n",
            "                       n_jobs=None, oob_score=False, random_state=None,\n",
            "                       verbose=0, warm_start=False)\n",
            "Accuracy en train:  0.6958\n",
            "Accuracy en test:  0.4069\n",
            "              precision    recall  f1-score   support\n",
            "\n",
            "           1       0.50      0.62      0.55       419\n",
            "           2       0.31      0.24      0.27       417\n",
            "           3       0.37      0.13      0.19       404\n",
            "           4       0.32      0.48      0.38       451\n",
            "           5       0.52      0.55      0.53       415\n",
            "\n",
            "    accuracy                           0.41      2106\n",
            "   macro avg       0.40      0.40      0.39      2106\n",
            "weighted avg       0.40      0.41      0.39      2106\n",
            "\n"
          ],
          "name": "stdout"
        },
        {
          "output_type": "execute_result",
          "data": {
            "text/plain": [
              "(0.6957849725106903, 0.4069325735992403)"
            ]
          },
          "metadata": {
            "tags": []
          },
          "execution_count": 48
        }
      ]
    },
    {
      "cell_type": "markdown",
      "metadata": {
        "id": "hC8inDkIPAXC"
      },
      "source": [
        "**Beauty: Data Lemmatizada** "
      ]
    },
    {
      "cell_type": "code",
      "metadata": {
        "id": "A8_L2IxBPAXD"
      },
      "source": [
        "#Definimos el vectorizador para Data_Stemmatizasa ('review_body_stemm')\n",
        "tfidf_le_k = tfidf_le_k.fit(X_train_le_k)\n",
        "X_train_le_k = tfidf_le_k.transform(X_train_le_k).toarray()\n",
        "X_test_le_k = tfidf_le_k.transform(X_test_le_k).toarray()"
      ],
      "execution_count": null,
      "outputs": []
    },
    {
      "cell_type": "markdown",
      "metadata": {
        "id": "CYhEdzbiPAXD"
      },
      "source": [
        "**Naive Bayes**"
      ]
    },
    {
      "cell_type": "code",
      "metadata": {
        "colab": {
          "base_uri": "https://localhost:8080/"
        },
        "id": "7Z_HukOzPAXD",
        "outputId": "501f3c19-36da-45ce-fe80-f9098a83bf0c"
      },
      "source": [
        "clf = GaussianNB()\n",
        "clf.fit(X_train_le_k,ytrain_le_k)\n",
        "evaluar_modelo_simple(clf ,X_train_le_k ,X_test_le_k ,ytrain_le_k ,ytest_le_k)"
      ],
      "execution_count": null,
      "outputs": [
        {
          "output_type": "stream",
          "text": [
            "GaussianNB(priors=None, var_smoothing=1e-09)\n",
            "Accuracy en train:  0.4681\n",
            "Accuracy en test:  0.3172\n",
            "              precision    recall  f1-score   support\n",
            "\n",
            "           1       0.39      0.56      0.46       419\n",
            "           2       0.26      0.05      0.08       417\n",
            "           3       0.27      0.10      0.14       404\n",
            "           4       0.26      0.13      0.17       451\n",
            "           5       0.30      0.76      0.43       415\n",
            "\n",
            "    accuracy                           0.32      2106\n",
            "   macro avg       0.30      0.32      0.26      2106\n",
            "weighted avg       0.30      0.32      0.26      2106\n",
            "\n"
          ],
          "name": "stdout"
        },
        {
          "output_type": "execute_result",
          "data": {
            "text/plain": [
              "(0.46813276318468744, 0.31718898385565053)"
            ]
          },
          "metadata": {
            "tags": []
          },
          "execution_count": 50
        }
      ]
    },
    {
      "cell_type": "markdown",
      "metadata": {
        "id": "oDOVUvnqPAXE"
      },
      "source": [
        "**Linear SVC**"
      ]
    },
    {
      "cell_type": "code",
      "metadata": {
        "colab": {
          "base_uri": "https://localhost:8080/"
        },
        "id": "1eMffEP8PAXE",
        "outputId": "1f9ec930-d3a3-4a25-aac2-d44e0fa472f1"
      },
      "source": [
        "clf = LinearSVC(C = 20, max_iter= 500)\n",
        "clf.fit(X_train_le_k,ytrain_le_k)\n",
        "evaluar_modelo_simple(clf ,X_train_le_k ,X_test_le_k ,ytrain_le_k ,ytest_le_k)"
      ],
      "execution_count": null,
      "outputs": [
        {
          "output_type": "stream",
          "text": [
            "LinearSVC(C=20, class_weight=None, dual=True, fit_intercept=True,\n",
            "          intercept_scaling=1, loss='squared_hinge', max_iter=500,\n",
            "          multi_class='ovr', penalty='l2', random_state=None, tol=0.0001,\n",
            "          verbose=0)\n",
            "Accuracy en train:  0.6929\n",
            "Accuracy en test:  0.3661\n",
            "              precision    recall  f1-score   support\n",
            "\n",
            "           1       0.46      0.47      0.47       419\n",
            "           2       0.29      0.26      0.28       417\n",
            "           3       0.28      0.27      0.28       404\n",
            "           4       0.34      0.35      0.35       451\n",
            "           5       0.44      0.47      0.45       415\n",
            "\n",
            "    accuracy                           0.37      2106\n",
            "   macro avg       0.36      0.37      0.36      2106\n",
            "weighted avg       0.36      0.37      0.36      2106\n",
            "\n"
          ],
          "name": "stdout"
        },
        {
          "output_type": "execute_result",
          "data": {
            "text/plain": [
              "(0.6929342292812054, 0.3660968660968661)"
            ]
          },
          "metadata": {
            "tags": []
          },
          "execution_count": 51
        }
      ]
    },
    {
      "cell_type": "markdown",
      "metadata": {
        "id": "IApzU234PAXE"
      },
      "source": [
        "**Random Forest**"
      ]
    },
    {
      "cell_type": "code",
      "metadata": {
        "colab": {
          "base_uri": "https://localhost:8080/"
        },
        "id": "b9eoyiuxPAXE",
        "outputId": "c681a36e-8bc7-4e57-dd74-ed8eaf603176"
      },
      "source": [
        "clf = RandomForestClassifier(max_depth= 14)\n",
        "clf.fit(X_train_le_k,ytrain_le_k)\n",
        "evaluar_modelo_simple(clf ,X_train_le_k ,X_test_le_k ,ytrain_le_k ,ytest_le_k)"
      ],
      "execution_count": null,
      "outputs": [
        {
          "output_type": "stream",
          "text": [
            "RandomForestClassifier(bootstrap=True, ccp_alpha=0.0, class_weight=None,\n",
            "                       criterion='gini', max_depth=14, max_features='auto',\n",
            "                       max_leaf_nodes=None, max_samples=None,\n",
            "                       min_impurity_decrease=0.0, min_impurity_split=None,\n",
            "                       min_samples_leaf=1, min_samples_split=2,\n",
            "                       min_weight_fraction_leaf=0.0, n_estimators=100,\n",
            "                       n_jobs=None, oob_score=False, random_state=None,\n",
            "                       verbose=0, warm_start=False)\n",
            "Accuracy en train:  0.6333\n",
            "Accuracy en test:  0.3694\n",
            "              precision    recall  f1-score   support\n",
            "\n",
            "           1       0.48      0.52      0.50       419\n",
            "           2       0.28      0.17      0.21       417\n",
            "           3       0.26      0.25      0.26       404\n",
            "           4       0.32      0.42      0.36       451\n",
            "           5       0.48      0.48      0.48       415\n",
            "\n",
            "    accuracy                           0.37      2106\n",
            "   macro avg       0.36      0.37      0.36      2106\n",
            "weighted avg       0.36      0.37      0.36      2106\n",
            "\n"
          ],
          "name": "stdout"
        },
        {
          "output_type": "execute_result",
          "data": {
            "text/plain": [
              "(0.6332722459784158, 0.3694207027540361)"
            ]
          },
          "metadata": {
            "tags": []
          },
          "execution_count": 52
        }
      ]
    },
    {
      "cell_type": "markdown",
      "metadata": {
        "id": "AuQ9wMJKKH8f"
      },
      "source": [
        "### **Conclusión Modelos**"
      ]
    },
    {
      "cell_type": "markdown",
      "metadata": {
        "id": "mFjLDM8ILZIc"
      },
      "source": [
        "**Conclusiones**:\n",
        "\n",
        "Fui cambiando el parámetro del vectorizador `'max_features'` para ir comparando los performance del modelo de cada tipo de data (clean, stemmizada o lemmatizada).\n",
        "\n",
        "Las conclusiones fueron:\n",
        "\n",
        "\n",
        "1.   A mayor `max_feature`, el modelo tiende a sobreajustarse ('overfitting') y las métricas de los modelos Naive Bayes y Linear SVC disminuyen.\n",
        "\n",
        "**`Caso particular:`** Pasa lo contrario con el modelo de Radom Forest; a medida que aumentaba el `'max_feature'` el modelo tendía a generalizar mejor los datos y su performance en el conjunto de test. \n",
        "\n",
        "2. En cuanto a los modelos, los resultados obtenidos en el modelo de data <font color='deeppink'>**'Beauty'**</font>, el mejor modelo fue la máquina de soporte vectorial con kerneal lineal (Linear SVC) utilizando la data stematizada **(Vectorizador con `max_features` = 150)**\n",
        "\n",
        "\n",
        "Se  obtuvo lo siguiente:\n",
        "\n",
        "\n",
        "<font color='tomato'>**ACCURACY PARA TRAIN: 50%**</font>\n",
        "\n",
        "<font color='lawngreen'>**ACCURACY PARA TEST: 44,7%**</font>\n",
        "\n",
        "\n",
        "3. Por el otro lado, en la data <font color='red'>**'Kitchen'**</font>, el mejor modelo fue el Linear SVC con los datos stemmizados.**(Vectorizador con un `max_features` = 400)**\n",
        "\n",
        "Se  obtuvo lo siguiente:\n",
        "\n",
        "\n",
        "<font color='tomato'>**ACCURACY PARA TRAIN: 58,46%**</font>\n",
        "\n",
        "<font color='lawngreen'>**ACCURACY PARA TEST: 41,88%**</font>\n",
        "\n",
        "Ambos modelos, malos también, incluso peor que el modelo del proyecto anterior.\n",
        "\n",
        "Voy a probar si optimizando los hiperparámetros mejora, sino, la hipótesis de esta parte del proyecto, queda invalidada."
      ]
    },
    {
      "cell_type": "markdown",
      "metadata": {
        "id": "AHY-QR50KXh0"
      },
      "source": [
        "### **Optimización de hiperparámetros - Beauty**\n",
        "\n",
        "\n"
      ]
    },
    {
      "cell_type": "code",
      "metadata": {
        "colab": {
          "base_uri": "https://localhost:8080/"
        },
        "id": "so5q44bmKcaT",
        "outputId": "bf2bafda-f3f3-42dc-bbc3-2c0d290d4222"
      },
      "source": [
        "#Grid Search 1\n",
        "param_grid = {'C':[0.01,0.1,1,1.1]}\n",
        "svcgs = LinearSVC()\n",
        "model = GridSearchCV(svcgs, param_grid=param_grid,cv=18)\n",
        "model.fit(X_train_st_b,ytrain_st_b)\n",
        "\n",
        "print(\"Mejores parametros: \"+str(model.best_params_))\n",
        "print(\"Mejor Score: \"+str(model.best_score_)+'\\n')"
      ],
      "execution_count": null,
      "outputs": [
        {
          "output_type": "stream",
          "text": [
            "Mejores parametros: {'C': 0.1}\n",
            "Mejor Score: 0.44617118791031835\n",
            "\n"
          ],
          "name": "stdout"
        }
      ]
    },
    {
      "cell_type": "code",
      "metadata": {
        "colab": {
          "base_uri": "https://localhost:8080/"
        },
        "id": "Y14INLN_LMpy",
        "outputId": "87d51f0f-95d3-4f39-caa2-ea62fa46cc8a"
      },
      "source": [
        "#Randomized Search 1\n",
        "#fijamos seed = 0\n",
        "svc_o = LinearSVC(dual = False,\n",
        "                  random_state= 0)\n",
        "\n",
        "#Parámetros para  RandomizedSearchCV\n",
        "params = {  'penalty': ['l1', 'l2'],              #norma de regularizacion\n",
        "             'loss' : ['hinge', 'squared_hinge'], #tipo función de pérdida\n",
        "             'tol': [1e-3, 1e-4, 1e-5],           #tolerancia para el error\n",
        "             'C': [10, 20, 50],                   #parámetro clave del modelo SVC\n",
        "             'max_iter': [500, 1000]              #número máximo de iteraciones \n",
        "         }\n",
        "                 \n",
        "svc_rs = RandomizedSearchCV( estimator = svc_o, \n",
        "                             param_distributions = params, \n",
        "                             n_iter = 20, \n",
        "                             cv = 8,               #crossvalidation de 5-folds\n",
        "                             scoring = 'accuracy'\n",
        "                            )\n",
        "\n",
        "\n",
        "svc_rs.fit(X_train_st_b,ytrain_st_b)\n",
        "\n",
        "print('Los mejores parámetros son:', svc_rs.best_params_, '\\n')\n",
        "print('El mejor score es:', svc_rs.best_score_)"
      ],
      "execution_count": null,
      "outputs": [
        {
          "output_type": "stream",
          "text": [
            "Los mejores parámetros son: {'tol': 0.001, 'penalty': 'l1', 'max_iter': 500, 'loss': 'squared_hinge', 'C': 10} \n",
            "\n",
            "El mejor score es: 0.45007930961503695\n"
          ],
          "name": "stdout"
        }
      ]
    },
    {
      "cell_type": "markdown",
      "metadata": {
        "id": "NCJPyrvzL6z2"
      },
      "source": [
        "### **Optimización de hiperparámetros - Kitchen**"
      ]
    },
    {
      "cell_type": "code",
      "metadata": {
        "colab": {
          "base_uri": "https://localhost:8080/"
        },
        "id": "xm5Ki9mMLvhW",
        "outputId": "7cc58e4c-eca8-4f37-8d41-30d59a40d1de"
      },
      "source": [
        "#Grid Search 1\n",
        "param_grid = {'C':[0.01,0.1,1,1.1]}\n",
        "svcgs = LinearSVC()\n",
        "model = GridSearchCV(svcgs, param_grid=param_grid,cv=18)\n",
        "model.fit(X_train_st_k,ytrain_st_k)\n",
        "\n",
        "print(\"Mejores parametros: \"+str(model.best_params_))\n",
        "print(\"Mejor Score: \"+str(model.best_score_)+'\\n')"
      ],
      "execution_count": null,
      "outputs": [
        {
          "output_type": "stream",
          "text": [
            "Mejores parametros: {'C': 0.01}\n",
            "Mejor Score: 0.4475687710981828\n",
            "\n"
          ],
          "name": "stdout"
        }
      ]
    },
    {
      "cell_type": "code",
      "metadata": {
        "colab": {
          "base_uri": "https://localhost:8080/"
        },
        "id": "PNrynuniMN-D",
        "outputId": "2da0e93f-1e76-4681-b23c-d4d2eb82c8f5"
      },
      "source": [
        "#Randomized Search 1\n",
        "#fijamos seed = 0\n",
        "svc_o = LinearSVC(dual = False,\n",
        "                  random_state= 0)\n",
        "\n",
        "#Parámetros para  RandomizedSearchCV\n",
        "params = {  'penalty': ['l1', 'l2'],              #norma de regularizacion\n",
        "             'loss' : ['hinge', 'squared_hinge'], #tipo función de pérdida\n",
        "             'tol': [1e-3, 1e-4, 1e-5],           #tolerancia para el error\n",
        "             'C': [0.01, 0.1, 1],                   #parámetro clave del modelo SVC\n",
        "             'max_iter': [500, 1000]              #número máximo de iteraciones \n",
        "         }\n",
        "                 \n",
        "svc_rs = RandomizedSearchCV( estimator = svc_o, \n",
        "                             param_distributions = params, \n",
        "                             n_iter = 20, \n",
        "                             cv = 8,               #crossvalidation de 5-folds\n",
        "                             scoring = 'accuracy'\n",
        "                            )\n",
        "\n",
        "\n",
        "svc_rs.fit(X_train_st_k,ytrain_st_k)\n",
        "\n",
        "print('Los mejores parámetros son:', svc_rs.best_params_, '\\n')\n",
        "print('El mejor score es:', svc_rs.best_score_)"
      ],
      "execution_count": null,
      "outputs": [
        {
          "output_type": "stream",
          "text": [
            "Los mejores parámetros son: {'tol': 0.0001, 'penalty': 'l2', 'max_iter': 1000, 'loss': 'squared_hinge', 'C': 0.01} \n",
            "\n",
            "El mejor score es: 0.4461431471218071\n"
          ],
          "name": "stdout"
        }
      ]
    },
    {
      "cell_type": "markdown",
      "metadata": {
        "id": "JGE4eU4xNoGa"
      },
      "source": [
        "### **Modelos Finales**"
      ]
    },
    {
      "cell_type": "markdown",
      "metadata": {
        "id": "3KORUDPHNrh6"
      },
      "source": [
        "Para el dataset de `'Beauty'`, el mejor performance que se pudo lograr después de la optimización de hiperparámetros es el siguiente:"
      ]
    },
    {
      "cell_type": "code",
      "metadata": {
        "colab": {
          "base_uri": "https://localhost:8080/",
          "height": 930
        },
        "id": "zbZX91WJM3MY",
        "outputId": "48922d14-f24a-469d-cb16-99ac65d855df"
      },
      "source": [
        "clf = LinearSVC(C = 10, max_iter= 500, tol=0.001, dual= False,penalty='l1',loss='squared_hinge')\n",
        "clf.fit(X_train_st_b,ytrain_st_b)\n",
        "evaluar_modelo(clf ,X_train_st_b ,X_test_st_b ,ytrain_st_b ,ytest_st_b)"
      ],
      "execution_count": null,
      "outputs": [
        {
          "output_type": "stream",
          "text": [
            "LinearSVC(C=10, class_weight=None, dual=False, fit_intercept=True,\n",
            "          intercept_scaling=1, loss='squared_hinge', max_iter=500,\n",
            "          multi_class='ovr', penalty='l1', random_state=None, tol=0.001,\n",
            "          verbose=0)\n",
            "Accuracy en train:  0.5004\n",
            "Accuracy en test:  0.4459\n",
            "              precision    recall  f1-score   support\n",
            "\n",
            "           1       0.54      0.73      0.62       484\n",
            "           2       0.37      0.30      0.33       482\n",
            "           3       0.35      0.29      0.32       482\n",
            "           4       0.37      0.32      0.34       411\n",
            "           5       0.51      0.58      0.54       451\n",
            "\n",
            "    accuracy                           0.45      2310\n",
            "   macro avg       0.43      0.44      0.43      2310\n",
            "weighted avg       0.43      0.45      0.43      2310\n",
            "\n"
          ],
          "name": "stdout"
        },
        {
          "output_type": "display_data",
          "data": {
            "image/png": "[encoded data removed]",
            "text/plain": [
              "<Figure size 720x720 with 2 Axes>"
            ]
          },
          "metadata": {
            "tags": [],
            "needs_background": "light"
          }
        },
        {
          "output_type": "execute_result",
          "data": {
            "text/plain": [
              "(0.5003711952487008, 0.4458874458874459)"
            ]
          },
          "metadata": {
            "tags": []
          },
          "execution_count": 83
        }
      ]
    },
    {
      "cell_type": "code",
      "metadata": {
        "colab": {
          "base_uri": "https://localhost:8080/"
        },
        "id": "UrTM8fAyPXI0",
        "outputId": "d3538400-7126-4658-fcbe-5b40aebda5ab"
      },
      "source": [
        "results = cross_validate(clf, X_train_st_b, ytrain_st_b, cv=50, return_train_score=True, scoring='accuracy', n_jobs=-1)\n",
        "print('Mean r2 test: ', round(np.mean(results['test_score']),3))\n",
        "print('Mean r2 train: ', round(np.mean(results['train_score']),3))"
      ],
      "execution_count": null,
      "outputs": [
        {
          "output_type": "stream",
          "text": [
            "Mean r2 test:  0.446\n",
            "Mean r2 train:  0.503\n"
          ],
          "name": "stdout"
        }
      ]
    },
    {
      "cell_type": "markdown",
      "metadata": {
        "id": "aOJesSkfPtVN"
      },
      "source": [
        "Para el Dataset de 'Kitchen':"
      ]
    },
    {
      "cell_type": "code",
      "metadata": {
        "colab": {
          "base_uri": "https://localhost:8080/",
          "height": 930
        },
        "id": "bXnrOkp5PtL2",
        "outputId": "e3ce83ec-745d-416b-bba0-fcb799747256"
      },
      "source": [
        "clf = LinearSVC(C = 0.01, max_iter= 500)\n",
        "clf.fit(X_train_st_k,ytrain_st_k)\n",
        "evaluar_modelo(clf ,X_train_st_k ,X_test_st_k ,ytrain_st_k ,ytest_st_k)"
      ],
      "execution_count": null,
      "outputs": [
        {
          "output_type": "stream",
          "text": [
            "LinearSVC(C=0.01, class_weight=None, dual=True, fit_intercept=True,\n",
            "          intercept_scaling=1, loss='squared_hinge', max_iter=500,\n",
            "          multi_class='ovr', penalty='l2', random_state=None, tol=0.0001,\n",
            "          verbose=0)\n",
            "Accuracy en train:  0.5194\n",
            "Accuracy en test:  0.4292\n",
            "              precision    recall  f1-score   support\n",
            "\n",
            "           1       0.48      0.69      0.57       419\n",
            "           2       0.35      0.24      0.28       417\n",
            "           3       0.35      0.16      0.22       404\n",
            "           4       0.36      0.41      0.39       451\n",
            "           5       0.50      0.63      0.56       415\n",
            "\n",
            "    accuracy                           0.43      2106\n",
            "   macro avg       0.41      0.43      0.40      2106\n",
            "weighted avg       0.41      0.43      0.41      2106\n",
            "\n"
          ],
          "name": "stdout"
        },
        {
          "output_type": "display_data",
          "data": {
            "image/png": "[encoded data removed]",
            "text/plain": [
              "<Figure size 720x720 with 2 Axes>"
            ]
          },
          "metadata": {
            "tags": [],
            "needs_background": "light"
          }
        },
        {
          "output_type": "execute_result",
          "data": {
            "text/plain": [
              "(0.5194461413154143, 0.42924976258309594)"
            ]
          },
          "metadata": {
            "tags": []
          },
          "execution_count": 72
        }
      ]
    },
    {
      "cell_type": "code",
      "metadata": {
        "colab": {
          "base_uri": "https://localhost:8080/"
        },
        "id": "tr9H5jXJQEwI",
        "outputId": "7c74f2b2-5fbf-4a1b-dcf2-937d9e180eb6"
      },
      "source": [
        "results = cross_validate(clf, X_train_st_k, ytrain_st_k, cv=50, return_train_score=True, scoring='accuracy', n_jobs=-1)\n",
        "print('Mean r2 test: ', round(np.mean(results['test_score']),3))\n",
        "print('Mean r2 train: ', round(np.mean(results['train_score']),3))"
      ],
      "execution_count": null,
      "outputs": [
        {
          "output_type": "stream",
          "text": [
            "Mean r2 test:  0.449\n",
            "Mean r2 train:  0.52\n"
          ],
          "name": "stdout"
        }
      ]
    },
    {
      "cell_type": "markdown",
      "metadata": {
        "id": "-xquEf7mQzxm"
      },
      "source": [
        "## **Conclusión**"
      ]
    },
    {
      "cell_type": "markdown",
      "metadata": {
        "id": "zMZe6s44Q2c7"
      },
      "source": [
        "Luego de optimizar los hiperparámetros y hacer un cross-validation, tenemos una noción más robusta de como son las métricas reales de estos modelos. \n",
        "\n",
        "Para el dataset de **`'Beauty'`**:\n",
        "\n",
        "<font color='tomato'>**ACCURACY PARA TRAIN: 48,4%**</font>\n",
        "\n",
        "<font color='lawngreen'>**ACCURACY PARA TEST: 44,5%**</font>\n",
        "\n",
        "Para el dataset de **`'Kitchen'`**:\n",
        "\n",
        "<font color='tomato'>**ACCURACY PARA TRAIN: 52%**</font>\n",
        "\n",
        "<font color='lawngreen'>**ACCURACY PARA TEST: 44,9%**</font>"
      ]
    },
    {
      "cell_type": "markdown",
      "metadata": {
        "id": "9NW_nr5pSKPi"
      },
      "source": [
        "Lamentablemente, no pude corroborar la hipótesis de esta parte del proyecto. Dehecho, se obtuvieron peores métricas que las del proyecto anterior.\n",
        "\n",
        "**Recordar: Proyecto anterior**\n",
        "\n",
        "<font color='cyan'>**ACCURACY PARA TRAIN: 50%**</font>\n",
        "\n",
        "<font color='red'>**ACCURACY PARA TEST: 49%**</font>\n",
        "\n",
        "\n",
        "Esto puede ser por dos razones: \n",
        "\n",
        "\n",
        "\n",
        "1.   El dataset es muy pequeño con respecto al original.\n",
        "  \n",
        "  Pensar en que el dataset original tenía 210.000 instancias. En cambio los dataset utilizados en este proyecto, fueron de 7.700 y 7.200 instancias respectivamente, es decir, un 3,6% del original.\n",
        "\n",
        "  Esto evidencia una falta de robustes del modelo, que a su vez se va a traducir en un bajo performance para el conjunto de test. La única solución posible que se me ocurre es obtener mas instancias de cada clase para poder corroborar con más profundidad la hipótesis inicial.\n",
        "\n",
        "2.  El modelo es malo por naturaleza, y el hecho de que existan ciertas palabras propias del corpus de 'Kitchen' por ejemplo, va  a crear un sobreajuste del conjunto de train, ya que le dará más valor a aquellas palabras que pertenecen al dominio de kitchen, mientras que, para aquellos comentarios que no tengan palabras 'especiales' de kitchen, no tendrá manera de que los clasifique adecuadamente. Por supuesto, esto se traduce en un bajo performance de test. \n",
        "\n"
      ]
    },
    {
      "cell_type": "code",
      "metadata": {
        "colab": {
          "base_uri": "https://localhost:8080/",
          "height": 724
        },
        "id": "oi8bebW_TYce",
        "outputId": "c8e5279a-7c6b-4b8f-ba8c-8cc8f9bd4301"
      },
      "source": [
        "plt.figure(figsize = (18,22))\n",
        "all_words = tfidf_st_b.get_feature_names()\n",
        "for n_star in range (0,5):\n",
        "    \n",
        "    coeff = list(clf.coef_[n_star])\n",
        "    labels = list(all_words)\n",
        "\n",
        "    features = pd.DataFrame()\n",
        "    features['Features'] = labels\n",
        "    features['Importance'] = coeff\n",
        "    features = features.reset_index(drop=True)\n",
        "    features_sort = features.sort_values(by=['Importance'], ascending=True)\n",
        "    features_sort = features_sort.reset_index(drop=True)\n",
        "    \n",
        "    plt.subplot(3, 2, n_star+1)\n",
        "    data_plot = pd.concat([features_sort.head(10), features_sort.tail(10)])\n",
        "    data_plot.sort_values(by=['Importance'], ascending=True, inplace = True)\n",
        "    data_plot['positive'] = data_plot['Importance'] > 0\n",
        "    data_plot.set_index('Features', inplace = True)\n",
        "    data_plot.Importance.plot(kind='barh', \n",
        "                              color = data_plot.positive.map({True: 'green', False: 'red'}),\n",
        "                              fontsize=12)\n",
        "    \n",
        "    \n",
        "    \n",
        "    plt.title ('Importancia de los features ', fontsize=16)\n",
        "    plt.title ('Feature Importances para ' + str(n_star+1) + ' stars', fontsize=16)\n",
        "plt.show()"
      ],
      "execution_count": null,
      "outputs": [
        {
          "output_type": "display_data",
          "data": {
            "image/png": "[encoded data removed]",
            "text/plain": [
              "<Figure size 1296x1584 with 5 Axes>"
            ]
          },
          "metadata": {
            "tags": [],
            "needs_background": "light"
          }
        }
      ]
    }
  ]
}